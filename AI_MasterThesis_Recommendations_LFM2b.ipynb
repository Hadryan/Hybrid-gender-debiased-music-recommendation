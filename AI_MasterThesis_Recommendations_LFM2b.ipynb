{
  "cells": [
    {
      "cell_type": "markdown",
      "metadata": {
        "id": "view-in-github",
        "colab_type": "text"
      },
      "source": [
        "<a href=\"https://colab.research.google.com/github/Katrin-Leberfinger/Hybrid-gender-debiased-music-recommendation/blob/main/AI_MasterThesis_Recommendations_LFM2b.ipynb\" target=\"_parent\"><img src=\"https://colab.research.google.com/assets/colab-badge.svg\" alt=\"Open In Colab\"/></a>"
      ]
    },
    {
      "cell_type": "code",
      "execution_count": 1,
      "metadata": {
        "colab": {
          "base_uri": "https://localhost:8080/"
        },
        "id": "RWHMmzSHaV4j",
        "outputId": "c02ad584-e29b-4fd1-d45a-0eb1a423e204"
      },
      "outputs": [
        {
          "output_type": "stream",
          "name": "stdout",
          "text": [
            "Collecting transformers\n",
            "  Downloading transformers-4.18.0-py3-none-any.whl (4.0 MB)\n",
            "\u001b[K     |████████████████████████████████| 4.0 MB 5.2 MB/s \n",
            "\u001b[?25hCollecting tokenizers!=0.11.3,<0.13,>=0.11.1\n",
            "  Downloading tokenizers-0.12.1-cp37-cp37m-manylinux_2_12_x86_64.manylinux2010_x86_64.whl (6.6 MB)\n",
            "\u001b[K     |████████████████████████████████| 6.6 MB 49.8 MB/s \n",
            "\u001b[?25hRequirement already satisfied: numpy>=1.17 in /usr/local/lib/python3.7/dist-packages (from transformers) (1.21.6)\n",
            "Requirement already satisfied: tqdm>=4.27 in /usr/local/lib/python3.7/dist-packages (from transformers) (4.64.0)\n",
            "Collecting huggingface-hub<1.0,>=0.1.0\n",
            "  Downloading huggingface_hub-0.5.1-py3-none-any.whl (77 kB)\n",
            "\u001b[K     |████████████████████████████████| 77 kB 7.0 MB/s \n",
            "\u001b[?25hRequirement already satisfied: filelock in /usr/local/lib/python3.7/dist-packages (from transformers) (3.6.0)\n",
            "Requirement already satisfied: regex!=2019.12.17 in /usr/local/lib/python3.7/dist-packages (from transformers) (2019.12.20)\n",
            "Requirement already satisfied: requests in /usr/local/lib/python3.7/dist-packages (from transformers) (2.23.0)\n",
            "Collecting pyyaml>=5.1\n",
            "  Downloading PyYAML-6.0-cp37-cp37m-manylinux_2_5_x86_64.manylinux1_x86_64.manylinux_2_12_x86_64.manylinux2010_x86_64.whl (596 kB)\n",
            "\u001b[K     |████████████████████████████████| 596 kB 71.0 MB/s \n",
            "\u001b[?25hCollecting sacremoses\n",
            "  Downloading sacremoses-0.0.53.tar.gz (880 kB)\n",
            "\u001b[K     |████████████████████████████████| 880 kB 70.3 MB/s \n",
            "\u001b[?25hRequirement already satisfied: packaging>=20.0 in /usr/local/lib/python3.7/dist-packages (from transformers) (21.3)\n",
            "Requirement already satisfied: importlib-metadata in /usr/local/lib/python3.7/dist-packages (from transformers) (4.11.3)\n",
            "Requirement already satisfied: typing-extensions>=3.7.4.3 in /usr/local/lib/python3.7/dist-packages (from huggingface-hub<1.0,>=0.1.0->transformers) (4.2.0)\n",
            "Requirement already satisfied: pyparsing!=3.0.5,>=2.0.2 in /usr/local/lib/python3.7/dist-packages (from packaging>=20.0->transformers) (3.0.8)\n",
            "Requirement already satisfied: zipp>=0.5 in /usr/local/lib/python3.7/dist-packages (from importlib-metadata->transformers) (3.8.0)\n",
            "Requirement already satisfied: certifi>=2017.4.17 in /usr/local/lib/python3.7/dist-packages (from requests->transformers) (2021.10.8)\n",
            "Requirement already satisfied: idna<3,>=2.5 in /usr/local/lib/python3.7/dist-packages (from requests->transformers) (2.10)\n",
            "Requirement already satisfied: chardet<4,>=3.0.2 in /usr/local/lib/python3.7/dist-packages (from requests->transformers) (3.0.4)\n",
            "Requirement already satisfied: urllib3!=1.25.0,!=1.25.1,<1.26,>=1.21.1 in /usr/local/lib/python3.7/dist-packages (from requests->transformers) (1.24.3)\n",
            "Requirement already satisfied: six in /usr/local/lib/python3.7/dist-packages (from sacremoses->transformers) (1.15.0)\n",
            "Requirement already satisfied: click in /usr/local/lib/python3.7/dist-packages (from sacremoses->transformers) (7.1.2)\n",
            "Requirement already satisfied: joblib in /usr/local/lib/python3.7/dist-packages (from sacremoses->transformers) (1.1.0)\n",
            "Building wheels for collected packages: sacremoses\n",
            "  Building wheel for sacremoses (setup.py) ... \u001b[?25l\u001b[?25hdone\n",
            "  Created wheel for sacremoses: filename=sacremoses-0.0.53-py3-none-any.whl size=895260 sha256=0cbf29d4efc218e4f89606b7a62540e9594f80aca0ba60b979416004d4c735c0\n",
            "  Stored in directory: /root/.cache/pip/wheels/87/39/dd/a83eeef36d0bf98e7a4d1933a4ad2d660295a40613079bafc9\n",
            "Successfully built sacremoses\n",
            "Installing collected packages: pyyaml, tokenizers, sacremoses, huggingface-hub, transformers\n",
            "  Attempting uninstall: pyyaml\n",
            "    Found existing installation: PyYAML 3.13\n",
            "    Uninstalling PyYAML-3.13:\n",
            "      Successfully uninstalled PyYAML-3.13\n",
            "Successfully installed huggingface-hub-0.5.1 pyyaml-6.0 sacremoses-0.0.53 tokenizers-0.12.1 transformers-4.18.0\n"
          ]
        }
      ],
      "source": [
        "!pip install transformers"
      ]
    },
    {
      "cell_type": "code",
      "execution_count": 2,
      "metadata": {
        "id": "L9D-5zOmltBw"
      },
      "outputs": [],
      "source": [
        "import torch\n",
        "import numpy as np\n",
        "import torch.nn as nn\n",
        "from torch.autograd import Variable\n",
        "from transformers import BertConfig, BertPreTrainedModel, BertModel, BertForSequenceClassification\n",
        "import pandas as pd\n",
        "import torch\n",
        "from sklearn.model_selection import train_test_split\n",
        "from transformers import BertTokenizer, BertModel, AdamW\n",
        "from torch import nn\n",
        "from transformers import BertModel\n",
        "from sklearn.metrics import f1_score\n",
        "from sklearn.metrics import recall_score\n",
        "from sklearn.utils import shuffle\n",
        "import matplotlib.pyplot as plt\n",
        "import gc                                                                                                                                                                                                                                                                                                                                                                                                                                                                                                                                                                                                                                                                                                                                                                                                                                                                                                                                                                                                                                                                                                                                                                                                                                                                                                                                                                                                                                                                                                                                                                                                                                                                                                                                                                                                                                                                                                                                                                                                                                                                                                                                                                                                                                                                                                                                                                                                                                                                                                                                                                                                                                                                                                                                                                                                                                                                                                                                                                                                                                                                                                                                                                                                                                                                                                                                                                                                                                                                                                                                                                                                                                                                                                                                                                                                                                                                                                                                                                                                                                                                                                                                                                                                                                                                                                                                                                                                                                                                                                                                                                                                                                                                                                                                                                                                                                                                                                                                                                                                                                                                                                                                                                                                                                                                                                                                                                                                                                                                                                                                                                                                                                                                                                                                                                                                                                                                                                                                                                                                                                                                                                                                                                                                                                                                                                                                                                                                                                                                                                                                                                                                                                                                                                                                                                                                                                                                                                                                                                                                                                                                                                                                                                                                                                                                                                                                                                                                                                                                                                                                                                                                                                                                                                                                                                                                                                                                                                                                                                                                                                                                                                                                                                                                                                                                                                                                                                                                                                                                                                                                                                                                                                                                                                                                                                                                                                                                                                                                                                                                                                                                                                                                                                                                                                                                                                                                                                                                                                                                                                                                                                                                                                                                                                                                                                                                                                                                                                                                                                                                                                                                                                                                                                                                                                                                                                                                                                                                                                                                                                                                                                                                                                                                                                                                                                                                                                                                                                                                                                                                                                                                                                                                                                                                                                                                                                                                                                                                                                                                                                                                                                                                                                                                                                                                                                                                                                                                                                                                                                                                                                                                                                                                                                                                                                                                                                                                                                                                                                                                                                                                                                                                                                                                                                                                                                                                                                                                                                                                                                         "
      ]
    },
    {
      "cell_type": "markdown",
      "metadata": {
        "id": "sXEH2KDKXjCM"
      },
      "source": [
        "# Read Data"
      ]
    },
    {
      "cell_type": "markdown",
      "source": [
        "## Datasets"
      ],
      "metadata": {
        "id": "xrv1WB2C6l-f"
      }
    },
    {
      "cell_type": "code",
      "execution_count": 121,
      "metadata": {
        "id": "XlA7ckWp1_mg"
      },
      "outputs": [],
      "source": [
        "from torch.utils.data import Dataset\n",
        "from torch.utils.data import DataLoader\n",
        "\n",
        "class LFM2bDataset(Dataset):\n",
        "    def __init__(self, data_all,tokenizer,max_length, text_col, item2pos, user2id):\n",
        "        super(LFM2bDataset, self).__init__()\n",
        "        self.data_all = data_all\n",
        "        self.max_length = max_length\n",
        "        self.tokenizer = tokenizer\n",
        "        self.text_col = text_col\n",
        "        self.item2pos = item2pos\n",
        "        self.user2id = user2id\n",
        "        \n",
        "    def __len__(self):\n",
        "        return len(self.data_all)\n",
        "    \n",
        "    def __getitem__(self, index):\n",
        "        \n",
        "        text1 = self.data_all.iloc[index][self.text_col]\n",
        "        user_id = self.user2id[ self.data_all.iloc[index]['user_id']]\n",
        "        track_id = self.item2pos[ self.data_all.iloc[index]['track_id']]\n",
        "        \n",
        "        # inputs = tokenizer.encode_plus(\n",
        "        #     text1, \n",
        "        #     None,\n",
        "        #     add_special_tokens=True,\n",
        "        #     max_length = self.max_length,\n",
        "        #     pad_to_max_length=True   \n",
        "        #)\n",
        "\n",
        "        inputs = tokenizer.encode_plus(\n",
        "                text1, \n",
        "                add_special_tokens=True,\n",
        "                padding='max_length',\n",
        "                max_length = self.max_length,\n",
        "                return_tensors='pt',\n",
        "                truncation=True,\n",
        "                return_attention_mask=True\n",
        "                )\n",
        "        ids = inputs[\"input_ids\"]\n",
        "        mask = inputs[\"attention_mask\"]\n",
        "\n",
        "        return {\n",
        "            'input_ids_lyrics': ids.flatten(),\n",
        "            'attention_mask_lyrics': mask.flatten(),\n",
        "            'user_id': torch.tensor(user_id, dtype=torch.long),\n",
        "             'track_id': torch.tensor(track_id, dtype=torch.long),\n",
        "            'target': torch.tensor(self.data_all.iloc[index]['count'], dtype=torch.float)\n",
        "            }\n"
      ]
    },
    {
      "cell_type": "code",
      "execution_count": 122,
      "metadata": {
        "id": "r5XACwlUqC9Z"
      },
      "outputs": [],
      "source": [
        "from torch.utils.data import Dataset\n",
        "from torch.utils.data import DataLoader\n",
        "\n",
        "class LFM2bDatasetMulitpleText(Dataset):\n",
        "    def __init__(self, data_all,tokenizer,max_length, item2pos, user2id):\n",
        "        super(LFM2bDatasetMulitpleText, self).__init__()\n",
        "        self.data_all = data_all\n",
        "        self.max_length = max_length\n",
        "        self.tokenizer = tokenizer\n",
        "        self.item2pos = item2pos\n",
        "        self.user2id = user2id\n",
        "        \n",
        "    def __len__(self):\n",
        "        return len(self.data_all)\n",
        "    \n",
        "    def __getitem__(self, index):\n",
        "        \n",
        "        text1 = self.data_all.iloc[index]['lyrics_cleaned']\n",
        "        text2 = self.data_all.iloc[index]['tags']\n",
        "        text3 = self.data_all.iloc[index]['abstract']\n",
        "        user_id = self.user2id[ self.data_all.iloc[index]['user_id']]\n",
        "        track_id = self.item2pos[ self.data_all.iloc[index]['track_id']]\n",
        "        \n",
        "        inputs1 = tokenizer.encode_plus(\n",
        "            text1, \n",
        "            None,\n",
        "            add_special_tokens=True,\n",
        "            max_length = self.max_length,\n",
        "            pad_to_max_length=True\n",
        "            \n",
        "        )\n",
        "        ids1 = inputs1[\"input_ids\"]\n",
        "        mask1 = inputs1[\"attention_mask\"]\n",
        "\n",
        "        inputs2 = tokenizer.encode_plus(\n",
        "            text2, \n",
        "            None,\n",
        "            add_special_tokens=True,\n",
        "            max_length = self.max_length,\n",
        "            pad_to_max_length=True\n",
        "            \n",
        "        )\n",
        "        ids2 = inputs2[\"input_ids\"]\n",
        "        mask2 = inputs2[\"attention_mask\"]\n",
        "\n",
        "        inputs3 = tokenizer.encode_plus(\n",
        "            text3, \n",
        "            None,\n",
        "            add_special_tokens=True,\n",
        "            max_length = self.max_length,\n",
        "            pad_to_max_length=True\n",
        "            \n",
        "        )\n",
        "        ids3 = inputs1[\"input_ids\"]\n",
        "        mask3 = inputs1[\"attention_mask\"]\n",
        "\n",
        "        return {\n",
        "            'input_ids_lyrics': torch.tensor(ids1, dtype=torch.long),\n",
        "            'attention_mask_lyrics': torch.tensor(mask1, dtype=torch.long),\n",
        "            'input_ids_tags': torch.tensor(ids2, dtype=torch.long),\n",
        "            'attention_mask_tags': torch.tensor(mask2, dtype=torch.long),\n",
        "            'input_ids_abstract': torch.tensor(ids3, dtype=torch.long),\n",
        "            'attention_mask_abstract': torch.tensor(mask3, dtype=torch.long),\n",
        "            'user_id': torch.tensor(user_id, dtype=torch.long),\n",
        "            'track_id': torch.tensor(track_id, dtype=torch.long),\n",
        "            'target': torch.tensor(self.data_all.iloc[index]['count'], dtype=torch.float)\n",
        "            }\n"
      ]
    },
    {
      "cell_type": "code",
      "execution_count": 123,
      "metadata": {
        "colab": {
          "base_uri": "https://localhost:8080/"
        },
        "id": "GzTFm7XWXmXv",
        "outputId": "ad5544de-03b8-4ded-8a02-8e25b56a3417"
      },
      "outputs": [
        {
          "output_type": "stream",
          "name": "stdout",
          "text": [
            "Drive already mounted at /content/drive; to attempt to forcibly remount, call drive.mount(\"/content/drive\", force_remount=True).\n"
          ]
        }
      ],
      "source": [
        "from google.colab import drive\n",
        "drive.mount('/content/drive')"
      ]
    },
    {
      "cell_type": "code",
      "execution_count": 124,
      "metadata": {
        "colab": {
          "base_uri": "https://localhost:8080/"
        },
        "id": "iWWKtwJxXmQC",
        "outputId": "e0b2af5e-14f8-4cef-88c8-4202ec8ec82a"
      },
      "outputs": [
        {
          "output_type": "stream",
          "name": "stdout",
          "text": [
            "/content/drive/MyDrive/Master Thesis/data\n"
          ]
        }
      ],
      "source": [
        "%cd /content/drive/MyDrive/Master\\ Thesis/data"
      ]
    },
    {
      "cell_type": "markdown",
      "metadata": {
        "id": "Vf103qDF0cNv"
      },
      "source": [
        "## Read Data: Lyrics "
      ]
    },
    {
      "cell_type": "code",
      "execution_count": 7,
      "metadata": {
        "id": "lTSGXhgqhfXI"
      },
      "outputs": [],
      "source": [
        "# data_tracks_lyrics = pd.read_csv(\"music/data_tracks_lyrics.txt\", sep=\"\\t\").drop(['Unnamed: 0'],axis=1).dropna()\n",
        "# data_tracks_tags_lyrics = pd.read_csv(\"music/data_tracks_tags_lyrics.txt\", sep=\"\\t\").drop(['Unnamed: 0'],axis=1).dropna().drop_duplicates('track_id')\n",
        "# data_bio = pd.read_csv(\"music/data_artists_biography.txt\", sep=\",\").drop(['Unnamed: 0'],axis=1).dropna()\n",
        "# data_interaction = pd.read_csv(\"music/data_user_track_interaction_old.txt\", sep=\"\\t\").drop(['Unnamed: 0'],axis=1)\n",
        "\n",
        "# data_tracks_tags_lyrics = data_tracks_tags_lyrics.merge(data_bio)\n",
        "# data_interaction = data_interaction.merge(data_tracks_tags_lyrics[['track_id']].drop_duplicates(), on = 'track_id', how = 'inner').drop_duplicates()\n",
        "# data_tracks_tags_lyrics = data_tracks_tags_lyrics.merge(data_interaction[['track_id']], on = 'track_id', how = 'inner').drop_duplicates()\n",
        "\n",
        "# data_user = pd.read_csv(\"music/data_user.txt\", sep=\"\\t\").drop(['Unnamed: 0'],axis=1)"
      ]
    },
    {
      "cell_type": "code",
      "source": [
        "data_movies = pd.read_csv(\"movies/movies_abstracts.csv\").drop(['Unnamed: 0'],axis=1).dropna()\n",
        "data_interaction = pd.read_csv(\"movies/ratings.csv\").drop(['timestamp'],axis=1)\n",
        "\n",
        "data_movies = pd.merge(data_movies, data_interaction[['movieId']], 'inner').drop_duplicates()\n",
        "data_interaction = pd.merge(data_interaction, data_movies[['movieId']], 'inner')\n",
        "\n",
        "data_movies.columns = ['track_id', 'lyrics_cleaned', 'tags', 'abstract']\n",
        "data_tracks_tags_lyrics = data_movies\n",
        "\n",
        "data_interaction.columns = ['user_id', 'track_id', 'count']"
      ],
      "metadata": {
        "id": "vjrZjQCIzTKn"
      },
      "execution_count": 129,
      "outputs": []
    },
    {
      "cell_type": "code",
      "execution_count": 12,
      "metadata": {
        "colab": {
          "base_uri": "https://localhost:8080/",
          "height": 351
        },
        "id": "TtZh4wlvnLGy",
        "outputId": "6af9ce80-b3f1-4ca6-d21d-437843ecfa86"
      },
      "outputs": [
        {
          "output_type": "stream",
          "name": "stderr",
          "text": [
            "/usr/local/lib/python3.7/dist-packages/seaborn/distributions.py:1699: FutureWarning: The `bw` parameter is deprecated in favor of `bw_method` and `bw_adjust`. Using 0.5 for `bw_method`, but please see the docs for the new parameters and update your code.\n",
            "  warnings.warn(msg, FutureWarning)\n"
          ]
        },
        {
          "output_type": "execute_result",
          "data": {
            "text/plain": [
              "<matplotlib.axes._subplots.AxesSubplot at 0x7ff9b09978d0>"
            ]
          },
          "metadata": {},
          "execution_count": 12
        },
        {
          "output_type": "display_data",
          "data": {
            "text/plain": [
              "<Figure size 432x288 with 1 Axes>"
            ],
            "image/png": "[encoded data removed]"
          },
          "metadata": {}
        }
      ],
      "source": [
        "# import seaborn as sns\n",
        "# sns.set_style('whitegrid')\n",
        "# sns.kdeplot(data_interaction['count'], bw=0.5)"
      ]
    },
    {
      "cell_type": "code",
      "execution_count": 13,
      "metadata": {
        "id": "ZLT9a8oHXhwr"
      },
      "outputs": [],
      "source": [
        "# # filter out playcount 1\n",
        "# data_interaction = data_interaction[data_interaction['count'] != 1]\n",
        "\n",
        "# data_interaction.loc[data_interaction['count']<2., 'count'] = 0.\n",
        "# data_interaction.loc[data_interaction['count']>=2., 'count'] = 1."
      ]
    },
    {
      "cell_type": "code",
      "source": [
        "data_interaction.loc[data_interaction['count']<4., 'count'] = 0.\n",
        "data_interaction.loc[data_interaction['count']>=4., 'count'] = 1."
      ],
      "metadata": {
        "id": "M6Kgjib426p4"
      },
      "execution_count": 130,
      "outputs": []
    },
    {
      "cell_type": "markdown",
      "metadata": {
        "id": "ylBY96MuqFyc"
      },
      "source": [
        "## CV and balance data set"
      ]
    },
    {
      "cell_type": "code",
      "source": [
        "# # remove user with too little playcount\n",
        "# # add negative samples\n",
        "# selected_items = []\n",
        "# for track_id,df in data_interaction.groupby('track_id'):\n",
        "#   if len(df) >= 5:\n",
        "#     selected_items.append(track_id)\n",
        "# data_interaction = data_interaction.loc[(data_interaction.track_id.isin(selected_items))]\n",
        "\n",
        "# import random\n",
        "# random.seed(123)\n",
        "# data_interaction_new = pd.DataFrame(columns = data_interaction.columns)\n",
        "# for user_id,df in data_interaction.groupby('user_id'):\n",
        "#   if len(df) >= 15:\n",
        "#     n_diff = len(df[df['count'] == 1]) - len(df[df['count'] == 0])\n",
        "#     if n_diff > 2:\n",
        "#       df_tmp = df.merge(data_interaction[['track_id']], how = 'right')\n",
        "#       neg_list = random.sample(list(df_tmp[np.isnan(df_tmp.user_id)].track_id.values), n_diff)\n",
        "#       df_neg = pd.DataFrame({'user_id': user_id, 'track_id':neg_list, 'count':0})\n",
        "#       data_interaction_new=data_interaction_new.append(df)\n",
        "#       data_interaction_new=data_interaction_new.append(df_neg)\n",
        "#     else:\n",
        "#       data_interaction_new = data_interaction_new.append(df)\n",
        "\n",
        "# data_interaction_new = shuffle(data_interaction_new)"
      ],
      "metadata": {
        "id": "xQxTlqXGZqYo"
      },
      "execution_count": 127,
      "outputs": []
    },
    {
      "cell_type": "code",
      "source": [
        "data_interaction_new = data_interaction\n",
        "data_interaction_new = shuffle(data_interaction_new)"
      ],
      "metadata": {
        "id": "ORDXqILwhCc4"
      },
      "execution_count": 163,
      "outputs": []
    },
    {
      "cell_type": "code",
      "execution_count": 164,
      "metadata": {
        "id": "vgNXpip-7pN6"
      },
      "outputs": [],
      "source": [
        "data_interaction_new = data_interaction_new.merge(data_tracks_tags_lyrics[['track_id', 'lyrics_cleaned', 'tags', 'abstract']]).drop_duplicates()"
      ]
    },
    {
      "cell_type": "code",
      "execution_count": 165,
      "metadata": {
        "id": "n2XOZyN3LZte"
      },
      "outputs": [],
      "source": [
        "data_tracks_tags_lyrics = data_tracks_tags_lyrics.merge(data_interaction_new[['track_id']]).drop_duplicates()"
      ]
    },
    {
      "cell_type": "code",
      "source": [
        "rating_col = 'count'\n",
        "item_col = 'track_id'\n",
        "user_col = 'user_id'\n",
        "data_items_eval = data_tracks_tags_lyrics"
      ],
      "metadata": {
        "id": "rsThv-mXkAEv"
      },
      "execution_count": 166,
      "outputs": []
    },
    {
      "cell_type": "code",
      "execution_count": 180,
      "metadata": {
        "id": "MR65uPJ6qE9R"
      },
      "outputs": [],
      "source": [
        "np.random.seed(123)\n",
        "data_interaction_new['fold'] = np.random.randint(1, 6, data_interaction_new.shape[0])\n",
        "\n",
        "test_fold = 1\n",
        "val_fold = 2\n",
        "\n",
        "\n",
        "data_interaction_train = data_interaction_new.loc[((data_interaction_new.fold != test_fold) & (data_interaction_new.fold != val_fold)), ['user_id', 'track_id', 'count', 'lyrics_cleaned', 'tags', 'abstract']]\n",
        "data_interaction_test = data_interaction_new.loc[data_interaction_new.fold == test_fold, ['user_id', 'track_id', 'count', 'lyrics_cleaned', 'tags', 'abstract']]\n",
        "data_interaction_val = data_interaction_new.loc[data_interaction_new.fold == val_fold,  ['user_id', 'track_id', 'count', 'lyrics_cleaned', 'tags', 'abstract']]"
      ]
    },
    {
      "cell_type": "code",
      "source": [
        "len(data_interaction_test)"
      ],
      "metadata": {
        "colab": {
          "base_uri": "https://localhost:8080/"
        },
        "id": "z5kbbLcf-3p0",
        "outputId": "39dc78f7-f56d-46cc-a033-849cafcc6e47"
      },
      "execution_count": 181,
      "outputs": [
        {
          "output_type": "execute_result",
          "data": {
            "text/plain": [
              "13882"
            ]
          },
          "metadata": {},
          "execution_count": 181
        }
      ]
    },
    {
      "cell_type": "code",
      "execution_count": 200,
      "metadata": {
        "id": "kVsfyhSr7IcO"
      },
      "outputs": [],
      "source": [
        "# itermin solution (maybe change later)\n",
        "selected_user = []\n",
        "for user_id,df in data_interaction_test.groupby('user_id'):\n",
        "  df_tmp = df.merge(data_tracks_tags_lyrics[['track_id']].drop_duplicates(), how = 'right').drop_duplicates()\n",
        "  items_to_ignore = data_interaction_train[data_interaction_train[user_col] == user_id][item_col].values\n",
        "  df_tmp = df_tmp[~df_tmp['track_id'].isin(items_to_ignore)]\n",
        "  neg_list = list(set(df_tmp.loc[df_tmp.isna().any(axis=1),].track_id.values))\n",
        "  df_neg = pd.DataFrame({'user_id': user_id, 'track_id':neg_list, 'count':0})\n",
        "  if df['count'].sum() >= 10:\n",
        "    data_interaction_test=data_interaction_test.append(df_neg)\n",
        "    selected_user.append(user_id)\n",
        "  \n",
        "data_interaction_test = data_interaction_test[['user_id', 'track_id', 'count']].merge(data_tracks_tags_lyrics[['track_id', 'lyrics_cleaned', 'tags', 'abstract']], on = 'track_id', how = 'left').drop_duplicates()\n",
        "data_interaction_test = data_interaction_test.loc[(data_interaction_test.user_id.isin(selected_user))]\n",
        "data_interaction_test = shuffle(data_interaction_test)"
      ]
    },
    {
      "cell_type": "code",
      "source": [
        "len(data_interaction_test)"
      ],
      "metadata": {
        "colab": {
          "base_uri": "https://localhost:8080/"
        },
        "id": "rSfsuabtbI-l",
        "outputId": "4ca883f6-6ba8-4d8d-cb15-19b036ed40cc"
      },
      "execution_count": 201,
      "outputs": [
        {
          "output_type": "execute_result",
          "data": {
            "text/plain": [
              "1183689"
            ]
          },
          "metadata": {},
          "execution_count": 201
        }
      ]
    },
    {
      "cell_type": "code",
      "execution_count": 202,
      "metadata": {
        "id": "YzaZogbavPo7"
      },
      "outputs": [],
      "source": [
        "data_interaction_test[['track_id']] = data_interaction_test[['track_id']].astype(int)"
      ]
    },
    {
      "cell_type": "code",
      "execution_count": 203,
      "metadata": {
        "id": "MMZko0cZAAL9"
      },
      "outputs": [],
      "source": [
        "pos2item = {i:v for i, v in enumerate(data_tracks_tags_lyrics.track_id.sort_values().unique())}\n",
        "item2pos = {v:i for i, v in enumerate(data_tracks_tags_lyrics.track_id.sort_values().unique())}\n",
        "\n",
        "id2user = {i:v for i, v in enumerate(data_interaction.user_id.sort_values().unique())}\n",
        "user2id = {v:i for i, v in enumerate(data_interaction.user_id.sort_values().unique())}"
      ]
    },
    {
      "cell_type": "markdown",
      "metadata": {
        "id": "H1VnHcVWBFIP"
      },
      "source": [
        "# Ask Me Anything Rating\n",
        "\n",
        "Code source: https://github.com/nlp-deepcbrs/amar"
      ]
    },
    {
      "cell_type": "code",
      "source": [
        "def get_ndcg(df, rel_pred, k):\n",
        "\n",
        "  rel_true = np.zeros(len(df))\n",
        "  rel_true[:k] = 1\n",
        "\n",
        "  def _dcg(rel):\n",
        "    i = np.arange(1, len(rel_pred)+ 1)\n",
        "    denom = np.log2(i + 1)\n",
        "    dcg = np.sum(rel / denom)\n",
        "    return dcg\n",
        "\n",
        "  return _dcg(rel_pred) / _dcg(rel_true)\n"
      ],
      "metadata": {
        "id": "RNyclnHsnMMm"
      },
      "execution_count": 33,
      "outputs": []
    },
    {
      "cell_type": "markdown",
      "metadata": {
        "id": "rbf_Xg4sE_gu"
      },
      "source": [
        "## **BERT Model**"
      ]
    },
    {
      "cell_type": "code",
      "execution_count": 34,
      "metadata": {
        "id": "p_Vn354IdSzX"
      },
      "outputs": [],
      "source": [
        "class AMARBase(nn.Module):\n",
        "  \"\"\"Model with LT tables for user and items.\"\"\"\n",
        "  def __init__(self, hidden_dense_layer_size, item_embeddings_size, user_embeddings_size, num_users, num_items):\n",
        "      super(AMARBase, self).__init__()\n",
        "\n",
        "      self.hidden_dense_layer_size = hidden_dense_layer_size\n",
        "      self.item_embeddings_size = item_embeddings_size\n",
        "      self.user_embeddings_size = user_embeddings_size\n",
        "      self.num_items = num_items\n",
        "      self.num_users = num_users\n",
        "\n",
        "      self.model1_layer1 = nn.Embedding(self.num_items, self.item_embeddings_size, max_norm = 1.)\n",
        "      nn.init.uniform_(self.model1_layer1.weight, a=-0.05, b=0.05)\n",
        "\n",
        "      self.model2_layer1 = nn.Embedding(self.num_users, self.user_embeddings_size, max_norm = 1.)\n",
        "      nn.init.uniform_(self.model2_layer1.weight, a=-0.05, b=0.05)\n",
        "\n",
        "      self.linear1 = nn.Linear(self.hidden_dense_layer_size, 128)\n",
        "\n",
        "      self.relu = nn.ReLU()\n",
        "      \n",
        "      self.linear2 = nn.Linear(128, 1)\n",
        "\n",
        "      self.drop =  nn.Dropout(p=0.2)\n",
        "      self.sigmoid = nn.Sigmoid()\n",
        "      \n",
        "  def forward(self, x):\n",
        "      y1 = self.model1_layer1(x[0])\n",
        "      \n",
        "      y2 = self.model2_layer1(x[2])\n",
        "\n",
        "      y = torch.cat((y1, y2), 1) \n",
        "      # Matrix factorization: https://blog.fastforwardlabs.com/2018/04/10/pytorch-for-recommenders-101.html\n",
        "    #  y = (y1*y2).sum(1)\n",
        "      y = self.linear1(y)\n",
        "      y = self.relu(y)\n",
        "      y = self.linear2(y)\n",
        "      return self.sigmoid(y)\n"
      ]
    },
    {
      "cell_type": "code",
      "source": [
        "from transformers import AutoConfig, AutoModel, AutoTokenizer\n",
        "MODEL_NAME = 'distilbert-base-uncased'\n",
        "config = AutoConfig.from_pretrained(MODEL_NAME, num_labels = 2)\n",
        "\n",
        "hidden_dense_layer_size=778\n",
        "\n",
        "MODEL_NAME = 'prajjwal1/bert-tiny'\n",
        "#MODEL_NAME = 'bert-base-uncased'"
      ],
      "metadata": {
        "id": "Im1yGgNA0RZX"
      },
      "execution_count": 141,
      "outputs": []
    },
    {
      "cell_type": "code",
      "execution_count": 142,
      "metadata": {
        "id": "GHWjCxuHb6cX"
      },
      "outputs": [],
      "source": [
        "# class AMARBert(nn.Module):\n",
        "#     def __init__(self, hidden_dense_layer_size, item_embeddings_size, user_embeddings_size, item_text_embeddings_size, num_users, num_items):\n",
        "#         super(AMARBert, self).__init__()\n",
        "\n",
        "#         self.hidden_dense_layer_size = hidden_dense_layer_size\n",
        "#         self.item_embeddings_size = item_embeddings_size\n",
        "#         self.user_embeddings_size = user_embeddings_size\n",
        "#         self.item_text_embeddings_size = item_text_embeddings_size\n",
        "#         self.num_items = num_items\n",
        "#         self.num_users = num_users\n",
        "        \n",
        "#         self.model1_layer2 = BertModel.from_pretrained(MODEL_NAME)\n",
        "#         #self.model1_layer2 = AutoModel.from_pretrained(MODEL_NAME, config=config)\n",
        "#         self.model1_layer3 = nn.Dropout(p=0.2)\n",
        "\n",
        "#         self.model2_layer1 = nn.Embedding(self.num_users, self.user_embeddings_size)\n",
        "#         nn.init.uniform_(self.model2_layer1.weight, a=0.0, b=0.05)\n",
        "\n",
        "#         self.model3_layer1 = nn.Embedding(self.num_items, self.item_embeddings_size)\n",
        "#         nn.init.uniform_(self.model3_layer1.weight, a=0.0, b=0.05)\n",
        "        \n",
        "#         self.linear1 = nn.Linear(self.hidden_dense_layer_size, 1)\n",
        "#         nn.init.xavier_uniform(self.linear1.weight)\n",
        "#         self.linear1.bias.data.fill_(0.01)\n",
        "\n",
        "#         self.sigmoid = nn.Sigmoid()\n",
        "        \n",
        "#     def forward(self, x):\n",
        "#         output = self.model1_layer2(x[1], attention_mask = x[3])\n",
        "#         y1 = output[0]\n",
        "#         y1 = y1.mean(axis=2) # alterantive to CLS token, combine with y1[:,0,:] possible\n",
        "#         #y1 = y1[:,0,:]\n",
        "#         # \"Since BERT is transformer based contextual model, the idea is [CLS] token would have captured the entire context and would be sufficient for simple downstream tasks such as classification.\"\n",
        "#         y1 = self.model1_layer3(y1)\n",
        "        \n",
        "#         y2 = self.model2_layer1(x[2])\n",
        "\n",
        "#         y3 = self.model3_layer1(x[0])\n",
        "\n",
        "#         y = torch.cat([y1, y2, y3], 1)\n",
        "#         y = self.linear1(y)\n",
        "#         return self.sigmoid(y)\n"
      ]
    },
    {
      "cell_type": "code",
      "source": [
        "# class AMARBertMultiple(nn.Module):\n",
        "#     def __init__(self, hidden_dense_layer_size, item_embeddings_size, user_embeddings_size, item_text_embeddings_size, num_users, num_items):\n",
        "#         super(AMARBertMultiple, self).__init__()\n",
        "\n",
        "#         self.hidden_dense_layer_size = hidden_dense_layer_size\n",
        "#         self.item_embeddings_size = item_embeddings_size\n",
        "#         self.user_embeddings_size = user_embeddings_size\n",
        "#         self.item_text_embeddings_size = item_text_embeddings_size\n",
        "#         self.num_items = num_items\n",
        "#         self.num_users = num_users\n",
        "        \n",
        "#         self.model1_layer2 = BertModel.from_pretrained('prajjwal1/bert-tiny')\n",
        "#         self.model1_layer3 = nn.Dropout(p=0.2)\n",
        "\n",
        "#         self.model4_layer2 = BertModel.from_pretrained('prajjwal1/bert-tiny')\n",
        "#         self.model4_layer3 = nn.Dropout(p=0.2)\n",
        "\n",
        "#         self.model2_layer1 = nn.Embedding(self.num_users, self.user_embeddings_size, max_norm = 1.)\n",
        "#         nn.init.uniform_(self.model2_layer1.weight, a=0.0, b=0.05)\n",
        "\n",
        "#         self.model3_layer1 = nn.Embedding(self.num_items, self.item_embeddings_size, max_norm = 1.)\n",
        "#         nn.init.uniform_(self.model3_layer1.weight, a=0.0, b=0.05)\n",
        "        \n",
        "#         self.linear1 = nn.Linear(self.hidden_dense_layer_size, 1)\n",
        "\n",
        "#         self.relu = nn.ReLU()\n",
        "\n",
        "#         self.linear2 = nn.Linear(128, 1)\n",
        "#         self.sigmoid = nn.Sigmoid()\n",
        "        \n",
        "#     def forward(self, x):\n",
        "#         output = self.model1_layer2(x[1], attention_mask = x[3])\n",
        "#         y1 = output[0]\n",
        "#         y1 = y1.mean(axis=2) # alterantive to CLS token, combine with y1[:,0,:] possible\n",
        "#         #y1 = y1[:,0,:]\n",
        "#         # \"Since BERT is transformer based contextual model, the idea is [CLS] token would have captured the entire context and would be sufficient for simple downstream tasks such as classification.\"\n",
        "#         y1 = self.model1_layer3(y1)\n",
        "\n",
        "#         output = self.model1_layer2(x[4], attention_mask = x[5])\n",
        "#         y4 = output[0]\n",
        "#         #y1 = y1.mean(axis=2) # alterantive to CLS token, combine with y1[:,0,:] possible\n",
        "#         y4 = y4[:,0,:]\n",
        "#         # \"Since BERT is transformer based contextual model, the idea is [CLS] token would have captured the entire context and would be sufficient for simple downstream tasks such as classification.\"\n",
        "#         y4 = self.model4_layer3(y4)\n",
        "        \n",
        "#         y2 = self.model2_layer1(x[2])\n",
        "\n",
        "#         y3 = self.model3_layer1(x[0])\n",
        "\n",
        "#         y = torch.cat([y1, y2, y3, y4], 1)\n",
        "#         y = self.linear1(y)\n",
        "#         #y = self.relu(y)\n",
        "#         #y = self.linear2(y)\n",
        "#         return self.sigmoid(y)\n"
      ],
      "metadata": {
        "id": "63hOMXmqD85X"
      },
      "execution_count": 37,
      "outputs": []
    },
    {
      "cell_type": "code",
      "source": [
        "\n",
        "\n",
        "class AMARBert(nn.Module):\n",
        "    def __init__(self, hidden_dense_layer_size, item_embeddings_size, num_users):\n",
        "        super(AMARBert, self).__init__()\n",
        "        self.model1_layer2 = BertModel.from_pretrained('prajjwal1/bert-tiny')\n",
        "        self.model1_layer3 = nn.Dropout(p=0.2)\n",
        "\n",
        "        self.model2_layer1 = nn.Embedding(num_users, user_embeddings_size)\n",
        "        nn.init.uniform_(self.model2_layer1.weight, a=0.0, b=0.05)\n",
        "        \n",
        "        self.linear = nn.Linear(hidden_dense_layer_size, 1)\n",
        "        self.sigmoid = nn.Sigmoid()\n",
        "\n",
        "        \n",
        "        \n",
        "    def forward(self, x):\n",
        "        output = self.model1_layer2(x[1], attention_mask = x[3])\n",
        "        y1 = output[0]\n",
        "        y1 = y1.mean(axis=2) # alterantive to CLS token, combine with y1[:,0,:] possible\n",
        "        #y1 = y1[:, 0, :]\n",
        "        # pooled_output (=y1) is the output of the CLS token\n",
        "        # \"Since BERT is transformer based contextual model, the idea is [CLS] token would have captured the entire context and would be sufficient for simple downstream tasks such as classification.\"\n",
        "        # https://stackoverflow.com/questions/63673511/how-to-use-the-outputs-of-bert-model?rq=1\n",
        "        # https://towardsdatascience.com/bert-to-the-rescue-17671379687f\n",
        "        y1 = self.model1_layer3(y1)\n",
        "        \n",
        "        y2 = self.model2_layer1(x[2])\n",
        "\n",
        "        y = torch.cat([y1, y2], 1)\n",
        "        y = self.linear(y)\n",
        "        return self.sigmoid(y)"
      ],
      "metadata": {
        "id": "WPEV5kKOhI8h"
      },
      "execution_count": 172,
      "outputs": []
    },
    {
      "cell_type": "code",
      "execution_count": 174,
      "metadata": {
        "colab": {
          "base_uri": "https://localhost:8080/"
        },
        "id": "OJdsCzCuqzHQ",
        "outputId": "20c13ee9-0e88-401f-97ef-19f426e89036"
      },
      "outputs": [
        {
          "output_type": "stream",
          "name": "stderr",
          "text": [
            "Some weights of the model checkpoint at prajjwal1/bert-tiny were not used when initializing BertModel: ['cls.seq_relationship.weight', 'cls.predictions.decoder.bias', 'cls.predictions.transform.LayerNorm.weight', 'cls.predictions.transform.dense.weight', 'cls.predictions.bias', 'cls.predictions.decoder.weight', 'cls.seq_relationship.bias', 'cls.predictions.transform.dense.bias', 'cls.predictions.transform.LayerNorm.bias']\n",
            "- This IS expected if you are initializing BertModel from the checkpoint of a model trained on another task or with another architecture (e.g. initializing a BertForSequenceClassification model from a BertForPreTraining model).\n",
            "- This IS NOT expected if you are initializing BertModel from the checkpoint of a model that you expect to be exactly identical (initializing a BertForSequenceClassification model from a BertForSequenceClassification model).\n"
          ]
        }
      ],
      "source": [
        "device = 'cuda'\n",
        "\n",
        "import numpy as np\n",
        "item_text_embeddings_size = 128\n",
        "user_embeddings_size = 10\n",
        "item_embeddings_size = 10#128\n",
        "text_col = 'lyrics_cleaned'#abstract'\n",
        "\n",
        "\n",
        "tokenizer = BertTokenizer.from_pretrained(MODEL_NAME) \n",
        "#tokenizer = AutoTokenizer.from_pretrained(MODEL_NAME)\n",
        "dataset_train= LFM2bDataset(data_interaction_train,tokenizer,item_text_embeddings_size, text_col,  item2pos, user2id)\n",
        "dataset_val= LFM2bDataset(data_interaction_val,tokenizer,item_text_embeddings_size, text_col,  item2pos, user2id)\n",
        "\n",
        "# dataset_train= LFM2bDatasetMulitpleText(data_interaction_train,tokenizer,item_text_embeddings_size,  item2pos, user2id)\n",
        "# dataset_val= LFM2bDatasetMulitpleText(data_interaction_val,tokenizer,item_text_embeddings_size,  item2pos, user2id)\n",
        "\n",
        "num_users = len(data_interaction[user_col].drop_duplicates())\n",
        "num_items = len(pos2item)\n",
        "\n",
        "# hidden_dense_layer_size_base = item_embeddings_size + user_embeddings_size\n",
        "# model_base = AMARBase(hidden_dense_layer_size_base, item_embeddings_size, user_embeddings_size, num_users, num_items)\n",
        "\n",
        "# hidden_dense_layer_size_bert = item_embeddings_size + 2 * item_text_embeddings_size + user_embeddings_size\n",
        "# model_bert = AMARBertMultiple( hidden_dense_layer_size_bert, item_embeddings_size, user_embeddings_size, item_text_embeddings_size, num_users, num_items)\n",
        "\n",
        "# hidden_dense_layer_size_bert = item_embeddings_size + item_text_embeddings_size + user_embeddings_size\n",
        "# model_bert = AMARBert( hidden_dense_layer_size_bert, item_embeddings_size, user_embeddings_size, item_text_embeddings_size, num_users, num_items)\n",
        "\n",
        "hidden_dense_layer_size_bert = item_text_embeddings_size + user_embeddings_size\n",
        "model = AMARBert(hidden_dense_layer_size_bert, user_embeddings_size, num_users)\n"
      ]
    },
    {
      "cell_type": "code",
      "source": [
        "model_dir = f\"./model_input_{text_col}_optim_rms_model_{MODEL_NAME}/\"\n",
        "#model_dir = f\"./model_input_base_optim_rms/\"\n",
        "import os\n",
        "os.makedirs(model_dir, exist_ok=True)"
      ],
      "metadata": {
        "id": "WADY4G4HNmrP"
      },
      "execution_count": 41,
      "outputs": []
    },
    {
      "cell_type": "code",
      "execution_count": null,
      "metadata": {
        "id": "FJz9Z9f38MQ4"
      },
      "outputs": [],
      "source": [
        "from transformers import get_linear_schedule_with_warmup\n",
        "gc.collect()\n",
        "torch.cuda.empty_cache()\n",
        "\n",
        "model = model.to(device)\n",
        "\n",
        "num_epochs=2\n",
        "batch_size=32\n",
        "\n",
        "dataloader_train=DataLoader(dataset=dataset_train,batch_size=batch_size, num_workers=4)\n",
        "dataloader_val=DataLoader(dataset=dataset_val,batch_size=batch_size, num_workers=4)\n",
        "\n",
        "criterion = nn.BCELoss()\n",
        "lr = 2e-5#1e-3\n",
        "num_total_steps = len(dataset_train) * num_epochs\n",
        "num_warmup_steps = 0#100\n",
        "warmup_proportion = float(num_warmup_steps) / float(num_total_steps)  \n",
        "#optimizer =  torch.optim.RMSprop(model.parameters(), lr= lr, alpha=0.9)\n",
        "optimizer = torch.optim.AdamW(model.parameters(), lr=lr)#, correct_bias=False)  \n",
        "\n",
        "# lrlast = .001\n",
        "# lrmain = .00001\n",
        "# optimizer = torch.optim.Adam(\n",
        "#     [\n",
        "#         {\"params\":model.model1_layer2.parameters(),\"lr\": lrmain},\n",
        "#         {\"params\":model.model2_layer1.parameters(), \"lr\": lrlast},\n",
        "#         {\"params\":model.model3_layer1.parameters(), \"lr\": lrlast},   \n",
        "#      {\"params\":model.linear1.parameters(), \"lr\": lrlast},       \n",
        "#    ])\n",
        "\n",
        "lr = 1e-3\n",
        "num_total_steps = 1000\n",
        "num_warmup_steps = 100\n",
        "warmup_proportion = float(num_warmup_steps) / float(num_total_steps)  \n",
        "optimizer = torch.optim.RMSprop(model.parameters(), lr= 1e-3, alpha=0.9)\n",
        "\n",
        "scheduler = get_linear_schedule_with_warmup(\n",
        "   optimizer,\n",
        "   num_warmup_steps=num_warmup_steps,\n",
        "   num_training_steps=num_total_steps\n",
        ")\n",
        "\n",
        "\n",
        "loss_train = []\n",
        "loss_val = []\n",
        "ndcg_val = []\n",
        "\n",
        "best_ndcg = 0\n",
        "cnt = 0\n",
        "\n",
        "for e in range(num_epochs):\n",
        "\n",
        "    losses_train = []\n",
        "\n",
        "    model.train()\n",
        "\n",
        "    for data_train in dataloader_train:\n",
        "        gc.collect()\n",
        "        torch.cuda.empty_cache()\n",
        "        model.zero_grad()\n",
        "        #items positions\n",
        "        curr_items_ids_batch = data_train['track_id']\n",
        "        # items descriptions\n",
        "        curr_items_batch = data_train['input_ids_lyrics']\n",
        "        curr_attentions_batch = data_train['attention_mask_lyrics']\n",
        "\n",
        "        # additional items descriptions\n",
        "        # curr_items_batch1 = data_train['input_ids_tags']\n",
        "        # curr_attentions_batch1 = data_train['attention_mask_tags']\n",
        "        \n",
        "        # users ids\n",
        "        curr_users_batch =data_train['user_id']\n",
        "\n",
        "        # model inputs\n",
        "        inputs = [curr_items_ids_batch.type(torch.LongTensor).to(device), curr_items_batch.type(torch.LongTensor).to(device), \n",
        "                  curr_users_batch.type(torch.LongTensor).to(device), curr_attentions_batch.type(torch.LongTensor).to(device),\n",
        "                  #curr_items_batch1.type(torch.LongTensor).to(device),  curr_attentions_batch1.type(torch.LongTensor).to(device)\n",
        "                  ]\n",
        "\n",
        "        # model targets\n",
        "        targets = data_train['target'].reshape(-1,1)\n",
        "\n",
        "        # backward propagation\n",
        "        outputs = model(inputs)\n",
        "\n",
        "        loss = criterion(outputs, targets.to(device))\n",
        "        optimizer.zero_grad()\n",
        "        loss.backward()\n",
        "        #nn.utils.clip_grad_norm_(model.parameters(), max_norm=1.0)\n",
        "        optimizer.step()\n",
        "        scheduler.step()\n",
        "        \n",
        "        # evaluate current loss function value\n",
        "        losses_train.append(loss.item())\n",
        "\n",
        "    # compute loss on validation set\n",
        "   # model.eval()\n",
        "\n",
        "    losses_val = []\n",
        "\n",
        "    res = pd.DataFrame(columns = ['user_id', 'track_id', 'count'])\n",
        "    for data_val in dataloader_val:\n",
        "      gc.collect()\n",
        "      torch.cuda.empty_cache()\n",
        "      #items positions\n",
        "      curr_items_ids_batch = data_val['track_id']\n",
        "      # items descriptions\n",
        "      curr_items_batch = data_val['input_ids_lyrics']\n",
        "      curr_attentions_batch = data_val['attention_mask_lyrics']\n",
        "\n",
        "      # additional items descriptions\n",
        "      # curr_items_batch1 = data_val['input_ids_tags']\n",
        "      # curr_attentions_batch1 = data_val['attention_mask_tags']\n",
        "      \n",
        "      # users ids\n",
        "      curr_users_batch =data_val['user_id']\n",
        "\n",
        "      # model inputs\n",
        "      inputs = [curr_items_ids_batch.type(torch.LongTensor).to(device), \n",
        "                curr_items_batch.type(torch.LongTensor).to(device), \n",
        "                curr_users_batch.type(torch.LongTensor).to(device), \n",
        "                curr_attentions_batch.type(torch.LongTensor).to(device),\n",
        "                # curr_items_batch1.type(torch.LongTensor).to(device), \n",
        "                # curr_attentions_batch1.type(torch.LongTensor).to(device)\n",
        "                ]\n",
        "\n",
        "      # model targets\n",
        "      targets = data_val['target'].reshape(-1,1)\n",
        "\n",
        "      with torch.no_grad():        \n",
        "        outputs_val = model(inputs)\n",
        "\n",
        "      loss = criterion(outputs_val, targets.to(device))\n",
        "      losses_val.append(loss.item())\n",
        "\n",
        "      for i in range(outputs_val.shape[0]):\n",
        "        res = res.append(pd.DataFrame({'user_id': id2user[curr_users_batch[i].item()], 'track_id': pos2item[curr_items_ids_batch[i].item()], 'count':  outputs_val[i].item()} , index=[0]))\n",
        "\n",
        "    # compute ndcg for each user\n",
        "    ndcg = []\n",
        "    for user, df in res.groupby(user_col):\n",
        "      df = df.drop_duplicates(subset=item_col).sort_values('count', ascending=False)\n",
        "      y_true_sorted = data_interaction_val.loc[data_interaction_val[user_col] == user].sort_values(rating_col, ascending=False).drop_duplicates()\n",
        "      rel = pd.merge(df[[item_col]], y_true_sorted[[item_col, rating_col]].drop_duplicates(), 'left').fillna(0)['count'].values\n",
        "      ndcg.append(get_ndcg(df, rel, 10))\n",
        "\n",
        "    ndcg_e = np.mean(ndcg)\n",
        "    \n",
        "    # save best model based on ndcg\n",
        "    if ndcg_e > best_ndcg:\n",
        "      best_ndcg = ndcg_e\n",
        "      print(f\"\\nSaving best model for epoch: {e}\\n\")\n",
        "      # torch.save({\n",
        "      #     'epoch': e,\n",
        "      #     'model_state_dict': model.state_dict(),\n",
        "      #     'optimizer_state_dict': optimizer.state_dict(),\n",
        "      #     'loss': criterion,\n",
        "      #     }, 'best_model.pth')\n",
        "      torch.save(model.state_dict(), model_dir + 'best_model.pth')\n",
        "    else:\n",
        "      cnt = cnt+1\n",
        "    if cnt > 4:\n",
        "      break\n",
        "\n",
        "    average_los_val = np.mean(losses_val)\n",
        "    loss_val.append(average_los_val.item())    \n",
        "    ndcg_val.append(ndcg_e)\n",
        "   \n",
        "    # evaluate average cost per epoch\n",
        "    average_loss_train = np.mean(losses_train)\n",
        "    loss_train.append(average_loss_train.item())\n",
        "    print(f\"Epoch {e} | Average loss per epoch: Train: {average_loss_train.item()} , Val: {average_los_val.item()}, NDCG: {ndcg_e}\")\n"
      ]
    },
    {
      "cell_type": "code",
      "execution_count": 42,
      "metadata": {
        "colab": {
          "base_uri": "https://localhost:8080/",
          "height": 281
        },
        "id": "CfR4uzskpgFt",
        "outputId": "5938f24e-c475-4184-d66a-ed15c5387ea1"
      },
      "outputs": [
        {
          "output_type": "display_data",
          "data": {
            "text/plain": [
              "<Figure size 432x288 with 1 Axes>"
            ],
            "image/png": "[encoded data removed]"
          },
          "metadata": {}
        }
      ],
      "source": [
        "plt.plot(ndcg_val)\n",
        "plt.title(\"Validation NDCG@10\")\n",
        "\n",
        "#from google.colab import files\n",
        "plt.savefig(model_dir + \"ndcg.png\")\n",
        "#files.download(model_dir + \"ndcg.png\") "
      ]
    },
    {
      "cell_type": "code",
      "source": [
        "plt.plot(loss_train, label='train')\n",
        "plt.plot(loss_val, label='val')\n",
        "plt.legend()\n",
        "plt.title(\"Training and Validation Loss\")\n",
        "\n",
        "#from google.colab import files\n",
        "plt.savefig(model_dir + \"loss.png\")\n",
        "#files.download(model_dir + \"loss.png\") "
      ],
      "metadata": {
        "colab": {
          "base_uri": "https://localhost:8080/",
          "height": 281
        },
        "id": "ol3t_0CLJ0jj",
        "outputId": "ca2d9c0f-235b-48f3-c58e-77e2d2c8e46e"
      },
      "execution_count": 43,
      "outputs": [
        {
          "output_type": "display_data",
          "data": {
            "text/plain": [
              "<Figure size 432x288 with 1 Axes>"
            ],
            "image/png": "[encoded data removed]"
          },
          "metadata": {}
        }
      ]
    },
    {
      "cell_type": "markdown",
      "metadata": {
        "id": "SH1Njid6OwL8"
      },
      "source": [
        "## **BERT**: Get predictions"
      ]
    },
    {
      "cell_type": "code",
      "execution_count": 205,
      "metadata": {
        "id": "KWP35qY4K6vX"
      },
      "outputs": [],
      "source": [
        "data_interaction_test = data_interaction_test.loc[data_interaction_test.user_id.isin([45, 332])]"
      ]
    },
    {
      "cell_type": "code",
      "execution_count": 206,
      "metadata": {
        "id": "LCUid5ff91xI"
      },
      "outputs": [],
      "source": [
        "batch_size= 32\n",
        "res = pd.DataFrame(columns = ['user_id', 'track_id', 'count'])\n",
        "dataset_test= LFM2bDataset(data_interaction_test,tokenizer,item_text_embeddings_size, text_col,  item2pos, user2id)\n",
        "#dataset_test= LFM2bDatasetMulitpleText(data_interaction_test,tokenizer,item_text_embeddings_size,  item2pos, user2id)\n",
        "dataloader_test=DataLoader(dataset=dataset_test,batch_size=batch_size, num_workers=4)\n",
        "\n",
        "#model = AMARBert( hidden_dense_layer_size_bert, item_embeddings_size, user_embeddings_size, item_text_embeddings_size, num_users, num_items)\n",
        "#model.load_state_dict(torch.load(model_dir + 'best_model.pth'))\n",
        "#model.to(device)\n",
        "model.eval()\n",
        "\n",
        "\n",
        "for data in dataloader_test:\n",
        "      gc.collect()\n",
        "      torch.cuda.empty_cache()\n",
        "      #items positions\n",
        "      curr_items_ids_batch = data['track_id']\n",
        "      # items descriptions\n",
        "      curr_items_batch = data['input_ids_lyrics']\n",
        "      curr_attentions_batch = data['attention_mask_lyrics']\n",
        "\n",
        "      # additional items descriptions\n",
        "      # curr_items_batch1 = data['input_ids_tags']\n",
        "      # curr_attentions_batch1 = data['attention_mask_tags']\n",
        "      \n",
        "      # users ids\n",
        "      curr_users_batch =data['user_id']\n",
        "\n",
        "      # model inputs\n",
        "      inputs = [curr_items_ids_batch.type(torch.LongTensor).to(device), \n",
        "                curr_items_batch.type(torch.LongTensor).to(device), \n",
        "                curr_users_batch.type(torch.LongTensor).to(device), \n",
        "                curr_attentions_batch.type(torch.LongTensor).to(device),\n",
        "                # curr_items_batch1.type(torch.LongTensor).to(device), \n",
        "                # curr_attentions_batch1.type(torch.LongTensor).to(device),\n",
        "                ]\n",
        "\n",
        "\n",
        "      with torch.no_grad():\n",
        "        outputs = model(inputs)\n",
        "\n",
        "\n",
        "      # save prediction for each user\n",
        "      for i in range(outputs.shape[0]):\n",
        "\n",
        "        res = res.append(pd.DataFrame({'user_id': id2user[curr_users_batch[i].item()], 'track_id': pos2item[curr_items_ids_batch[i].item()], 'count':  outputs[i].item()} , index=[0]))\n",
        "        "
      ]
    },
    {
      "cell_type": "code",
      "execution_count": 207,
      "metadata": {
        "id": "Fg8zOdRZC-dh",
        "outputId": "7be2ac10-0f72-4b86-f24a-30cdb63706f6",
        "colab": {
          "base_uri": "https://localhost:8080/",
          "height": 424
        }
      },
      "outputs": [
        {
          "output_type": "execute_result",
          "data": {
            "text/plain": [
              "   user_id track_id     count\n",
              "0       45     8189  0.592548\n",
              "0       45     4708  0.592408\n",
              "0       45    40478  0.592261\n",
              "0       45     7303  0.592163\n",
              "0       45     7833  0.592005\n",
              "..     ...      ...       ...\n",
              "0       45      520  0.452450\n",
              "0       45    49220  0.452412\n",
              "0       45     4154  0.452126\n",
              "0       45     5347  0.451725\n",
              "0       45     6614  0.451677\n",
              "\n",
              "[6276 rows x 3 columns]"
            ],
            "text/html": [
              "\n",
              "  <div id=\"df-9bb01922-b455-4104-b48c-8eb1a4b7aad1\">\n",
              "    <div class=\"colab-df-container\">\n",
              "      <div>\n",
              "<style scoped>\n",
              "    .dataframe tbody tr th:only-of-type {\n",
              "        vertical-align: middle;\n",
              "    }\n",
              "\n",
              "    .dataframe tbody tr th {\n",
              "        vertical-align: top;\n",
              "    }\n",
              "\n",
              "    .dataframe thead th {\n",
              "        text-align: right;\n",
              "    }\n",
              "</style>\n",
              "<table border=\"1\" class=\"dataframe\">\n",
              "  <thead>\n",
              "    <tr style=\"text-align: right;\">\n",
              "      <th></th>\n",
              "      <th>user_id</th>\n",
              "      <th>track_id</th>\n",
              "      <th>count</th>\n",
              "    </tr>\n",
              "  </thead>\n",
              "  <tbody>\n",
              "    <tr>\n",
              "      <th>0</th>\n",
              "      <td>45</td>\n",
              "      <td>8189</td>\n",
              "      <td>0.592548</td>\n",
              "    </tr>\n",
              "    <tr>\n",
              "      <th>0</th>\n",
              "      <td>45</td>\n",
              "      <td>4708</td>\n",
              "      <td>0.592408</td>\n",
              "    </tr>\n",
              "    <tr>\n",
              "      <th>0</th>\n",
              "      <td>45</td>\n",
              "      <td>40478</td>\n",
              "      <td>0.592261</td>\n",
              "    </tr>\n",
              "    <tr>\n",
              "      <th>0</th>\n",
              "      <td>45</td>\n",
              "      <td>7303</td>\n",
              "      <td>0.592163</td>\n",
              "    </tr>\n",
              "    <tr>\n",
              "      <th>0</th>\n",
              "      <td>45</td>\n",
              "      <td>7833</td>\n",
              "      <td>0.592005</td>\n",
              "    </tr>\n",
              "    <tr>\n",
              "      <th>...</th>\n",
              "      <td>...</td>\n",
              "      <td>...</td>\n",
              "      <td>...</td>\n",
              "    </tr>\n",
              "    <tr>\n",
              "      <th>0</th>\n",
              "      <td>45</td>\n",
              "      <td>520</td>\n",
              "      <td>0.452450</td>\n",
              "    </tr>\n",
              "    <tr>\n",
              "      <th>0</th>\n",
              "      <td>45</td>\n",
              "      <td>49220</td>\n",
              "      <td>0.452412</td>\n",
              "    </tr>\n",
              "    <tr>\n",
              "      <th>0</th>\n",
              "      <td>45</td>\n",
              "      <td>4154</td>\n",
              "      <td>0.452126</td>\n",
              "    </tr>\n",
              "    <tr>\n",
              "      <th>0</th>\n",
              "      <td>45</td>\n",
              "      <td>5347</td>\n",
              "      <td>0.451725</td>\n",
              "    </tr>\n",
              "    <tr>\n",
              "      <th>0</th>\n",
              "      <td>45</td>\n",
              "      <td>6614</td>\n",
              "      <td>0.451677</td>\n",
              "    </tr>\n",
              "  </tbody>\n",
              "</table>\n",
              "<p>6276 rows × 3 columns</p>\n",
              "</div>\n",
              "      <button class=\"colab-df-convert\" onclick=\"convertToInteractive('df-9bb01922-b455-4104-b48c-8eb1a4b7aad1')\"\n",
              "              title=\"Convert this dataframe to an interactive table.\"\n",
              "              style=\"display:none;\">\n",
              "        \n",
              "  <svg xmlns=\"http://www.w3.org/2000/svg\" height=\"24px\"viewBox=\"0 0 24 24\"\n",
              "       width=\"24px\">\n",
              "    <path d=\"M0 0h24v24H0V0z\" fill=\"none\"/>\n",
              "    <path d=\"M18.56 5.44l.94 2.06.94-2.06 2.06-.94-2.06-.94-.94-2.06-.94 2.06-2.06.94zm-11 1L8.5 8.5l.94-2.06 2.06-.94-2.06-.94L8.5 2.5l-.94 2.06-2.06.94zm10 10l.94 2.06.94-2.06 2.06-.94-2.06-.94-.94-2.06-.94 2.06-2.06.94z\"/><path d=\"M17.41 7.96l-1.37-1.37c-.4-.4-.92-.59-1.43-.59-.52 0-1.04.2-1.43.59L10.3 9.45l-7.72 7.72c-.78.78-.78 2.05 0 2.83L4 21.41c.39.39.9.59 1.41.59.51 0 1.02-.2 1.41-.59l7.78-7.78 2.81-2.81c.8-.78.8-2.07 0-2.86zM5.41 20L4 18.59l7.72-7.72 1.47 1.35L5.41 20z\"/>\n",
              "  </svg>\n",
              "      </button>\n",
              "      \n",
              "  <style>\n",
              "    .colab-df-container {\n",
              "      display:flex;\n",
              "      flex-wrap:wrap;\n",
              "      gap: 12px;\n",
              "    }\n",
              "\n",
              "    .colab-df-convert {\n",
              "      background-color: #E8F0FE;\n",
              "      border: none;\n",
              "      border-radius: 50%;\n",
              "      cursor: pointer;\n",
              "      display: none;\n",
              "      fill: #1967D2;\n",
              "      height: 32px;\n",
              "      padding: 0 0 0 0;\n",
              "      width: 32px;\n",
              "    }\n",
              "\n",
              "    .colab-df-convert:hover {\n",
              "      background-color: #E2EBFA;\n",
              "      box-shadow: 0px 1px 2px rgba(60, 64, 67, 0.3), 0px 1px 3px 1px rgba(60, 64, 67, 0.15);\n",
              "      fill: #174EA6;\n",
              "    }\n",
              "\n",
              "    [theme=dark] .colab-df-convert {\n",
              "      background-color: #3B4455;\n",
              "      fill: #D2E3FC;\n",
              "    }\n",
              "\n",
              "    [theme=dark] .colab-df-convert:hover {\n",
              "      background-color: #434B5C;\n",
              "      box-shadow: 0px 1px 3px 1px rgba(0, 0, 0, 0.15);\n",
              "      filter: drop-shadow(0px 1px 2px rgba(0, 0, 0, 0.3));\n",
              "      fill: #FFFFFF;\n",
              "    }\n",
              "  </style>\n",
              "\n",
              "      <script>\n",
              "        const buttonEl =\n",
              "          document.querySelector('#df-9bb01922-b455-4104-b48c-8eb1a4b7aad1 button.colab-df-convert');\n",
              "        buttonEl.style.display =\n",
              "          google.colab.kernel.accessAllowed ? 'block' : 'none';\n",
              "\n",
              "        async function convertToInteractive(key) {\n",
              "          const element = document.querySelector('#df-9bb01922-b455-4104-b48c-8eb1a4b7aad1');\n",
              "          const dataTable =\n",
              "            await google.colab.kernel.invokeFunction('convertToInteractive',\n",
              "                                                     [key], {});\n",
              "          if (!dataTable) return;\n",
              "\n",
              "          const docLinkHtml = 'Like what you see? Visit the ' +\n",
              "            '<a target=\"_blank\" href=https://colab.research.google.com/notebooks/data_table.ipynb>data table notebook</a>'\n",
              "            + ' to learn more about interactive tables.';\n",
              "          element.innerHTML = '';\n",
              "          dataTable['output_type'] = 'display_data';\n",
              "          await google.colab.output.renderOutput(dataTable, element);\n",
              "          const docLink = document.createElement('div');\n",
              "          docLink.innerHTML = docLinkHtml;\n",
              "          element.appendChild(docLink);\n",
              "        }\n",
              "      </script>\n",
              "    </div>\n",
              "  </div>\n",
              "  "
            ]
          },
          "metadata": {},
          "execution_count": 207
        }
      ],
      "source": [
        "res[(res.user_id == 45)].sort_values('count', ascending = False)#.head(10)"
      ]
    },
    {
      "cell_type": "code",
      "execution_count": 208,
      "metadata": {
        "id": "E4js443_OgVB",
        "outputId": "7e256e84-e1e5-4d87-b9ac-a5dcbc9a6f13",
        "colab": {
          "base_uri": "https://localhost:8080/",
          "height": 424
        }
      },
      "outputs": [
        {
          "output_type": "execute_result",
          "data": {
            "text/plain": [
              "   user_id track_id     count\n",
              "0      332     8189  0.533291\n",
              "0      332     4708  0.533146\n",
              "0      332    40478  0.532995\n",
              "0      332     7303  0.532894\n",
              "0      332     7833  0.532731\n",
              "..     ...      ...       ...\n",
              "0      332    49220  0.393630\n",
              "0      332     1042  0.393366\n",
              "0      332     4154  0.393354\n",
              "0      332     5347  0.392968\n",
              "0      332     6614  0.392922\n",
              "\n",
              "[6351 rows x 3 columns]"
            ],
            "text/html": [
              "\n",
              "  <div id=\"df-f15d2e94-fb80-4864-8da6-e445ab96e55a\">\n",
              "    <div class=\"colab-df-container\">\n",
              "      <div>\n",
              "<style scoped>\n",
              "    .dataframe tbody tr th:only-of-type {\n",
              "        vertical-align: middle;\n",
              "    }\n",
              "\n",
              "    .dataframe tbody tr th {\n",
              "        vertical-align: top;\n",
              "    }\n",
              "\n",
              "    .dataframe thead th {\n",
              "        text-align: right;\n",
              "    }\n",
              "</style>\n",
              "<table border=\"1\" class=\"dataframe\">\n",
              "  <thead>\n",
              "    <tr style=\"text-align: right;\">\n",
              "      <th></th>\n",
              "      <th>user_id</th>\n",
              "      <th>track_id</th>\n",
              "      <th>count</th>\n",
              "    </tr>\n",
              "  </thead>\n",
              "  <tbody>\n",
              "    <tr>\n",
              "      <th>0</th>\n",
              "      <td>332</td>\n",
              "      <td>8189</td>\n",
              "      <td>0.533291</td>\n",
              "    </tr>\n",
              "    <tr>\n",
              "      <th>0</th>\n",
              "      <td>332</td>\n",
              "      <td>4708</td>\n",
              "      <td>0.533146</td>\n",
              "    </tr>\n",
              "    <tr>\n",
              "      <th>0</th>\n",
              "      <td>332</td>\n",
              "      <td>40478</td>\n",
              "      <td>0.532995</td>\n",
              "    </tr>\n",
              "    <tr>\n",
              "      <th>0</th>\n",
              "      <td>332</td>\n",
              "      <td>7303</td>\n",
              "      <td>0.532894</td>\n",
              "    </tr>\n",
              "    <tr>\n",
              "      <th>0</th>\n",
              "      <td>332</td>\n",
              "      <td>7833</td>\n",
              "      <td>0.532731</td>\n",
              "    </tr>\n",
              "    <tr>\n",
              "      <th>...</th>\n",
              "      <td>...</td>\n",
              "      <td>...</td>\n",
              "      <td>...</td>\n",
              "    </tr>\n",
              "    <tr>\n",
              "      <th>0</th>\n",
              "      <td>332</td>\n",
              "      <td>49220</td>\n",
              "      <td>0.393630</td>\n",
              "    </tr>\n",
              "    <tr>\n",
              "      <th>0</th>\n",
              "      <td>332</td>\n",
              "      <td>1042</td>\n",
              "      <td>0.393366</td>\n",
              "    </tr>\n",
              "    <tr>\n",
              "      <th>0</th>\n",
              "      <td>332</td>\n",
              "      <td>4154</td>\n",
              "      <td>0.393354</td>\n",
              "    </tr>\n",
              "    <tr>\n",
              "      <th>0</th>\n",
              "      <td>332</td>\n",
              "      <td>5347</td>\n",
              "      <td>0.392968</td>\n",
              "    </tr>\n",
              "    <tr>\n",
              "      <th>0</th>\n",
              "      <td>332</td>\n",
              "      <td>6614</td>\n",
              "      <td>0.392922</td>\n",
              "    </tr>\n",
              "  </tbody>\n",
              "</table>\n",
              "<p>6351 rows × 3 columns</p>\n",
              "</div>\n",
              "      <button class=\"colab-df-convert\" onclick=\"convertToInteractive('df-f15d2e94-fb80-4864-8da6-e445ab96e55a')\"\n",
              "              title=\"Convert this dataframe to an interactive table.\"\n",
              "              style=\"display:none;\">\n",
              "        \n",
              "  <svg xmlns=\"http://www.w3.org/2000/svg\" height=\"24px\"viewBox=\"0 0 24 24\"\n",
              "       width=\"24px\">\n",
              "    <path d=\"M0 0h24v24H0V0z\" fill=\"none\"/>\n",
              "    <path d=\"M18.56 5.44l.94 2.06.94-2.06 2.06-.94-2.06-.94-.94-2.06-.94 2.06-2.06.94zm-11 1L8.5 8.5l.94-2.06 2.06-.94-2.06-.94L8.5 2.5l-.94 2.06-2.06.94zm10 10l.94 2.06.94-2.06 2.06-.94-2.06-.94-.94-2.06-.94 2.06-2.06.94z\"/><path d=\"M17.41 7.96l-1.37-1.37c-.4-.4-.92-.59-1.43-.59-.52 0-1.04.2-1.43.59L10.3 9.45l-7.72 7.72c-.78.78-.78 2.05 0 2.83L4 21.41c.39.39.9.59 1.41.59.51 0 1.02-.2 1.41-.59l7.78-7.78 2.81-2.81c.8-.78.8-2.07 0-2.86zM5.41 20L4 18.59l7.72-7.72 1.47 1.35L5.41 20z\"/>\n",
              "  </svg>\n",
              "      </button>\n",
              "      \n",
              "  <style>\n",
              "    .colab-df-container {\n",
              "      display:flex;\n",
              "      flex-wrap:wrap;\n",
              "      gap: 12px;\n",
              "    }\n",
              "\n",
              "    .colab-df-convert {\n",
              "      background-color: #E8F0FE;\n",
              "      border: none;\n",
              "      border-radius: 50%;\n",
              "      cursor: pointer;\n",
              "      display: none;\n",
              "      fill: #1967D2;\n",
              "      height: 32px;\n",
              "      padding: 0 0 0 0;\n",
              "      width: 32px;\n",
              "    }\n",
              "\n",
              "    .colab-df-convert:hover {\n",
              "      background-color: #E2EBFA;\n",
              "      box-shadow: 0px 1px 2px rgba(60, 64, 67, 0.3), 0px 1px 3px 1px rgba(60, 64, 67, 0.15);\n",
              "      fill: #174EA6;\n",
              "    }\n",
              "\n",
              "    [theme=dark] .colab-df-convert {\n",
              "      background-color: #3B4455;\n",
              "      fill: #D2E3FC;\n",
              "    }\n",
              "\n",
              "    [theme=dark] .colab-df-convert:hover {\n",
              "      background-color: #434B5C;\n",
              "      box-shadow: 0px 1px 3px 1px rgba(0, 0, 0, 0.15);\n",
              "      filter: drop-shadow(0px 1px 2px rgba(0, 0, 0, 0.3));\n",
              "      fill: #FFFFFF;\n",
              "    }\n",
              "  </style>\n",
              "\n",
              "      <script>\n",
              "        const buttonEl =\n",
              "          document.querySelector('#df-f15d2e94-fb80-4864-8da6-e445ab96e55a button.colab-df-convert');\n",
              "        buttonEl.style.display =\n",
              "          google.colab.kernel.accessAllowed ? 'block' : 'none';\n",
              "\n",
              "        async function convertToInteractive(key) {\n",
              "          const element = document.querySelector('#df-f15d2e94-fb80-4864-8da6-e445ab96e55a');\n",
              "          const dataTable =\n",
              "            await google.colab.kernel.invokeFunction('convertToInteractive',\n",
              "                                                     [key], {});\n",
              "          if (!dataTable) return;\n",
              "\n",
              "          const docLinkHtml = 'Like what you see? Visit the ' +\n",
              "            '<a target=\"_blank\" href=https://colab.research.google.com/notebooks/data_table.ipynb>data table notebook</a>'\n",
              "            + ' to learn more about interactive tables.';\n",
              "          element.innerHTML = '';\n",
              "          dataTable['output_type'] = 'display_data';\n",
              "          await google.colab.output.renderOutput(dataTable, element);\n",
              "          const docLink = document.createElement('div');\n",
              "          docLink.innerHTML = docLinkHtml;\n",
              "          element.appendChild(docLink);\n",
              "        }\n",
              "      </script>\n",
              "    </div>\n",
              "  </div>\n",
              "  "
            ]
          },
          "metadata": {},
          "execution_count": 208
        }
      ],
      "source": [
        "res[res.user_id == 332].sort_values('count', ascending = False)#.head(10) "
      ]
    },
    {
      "cell_type": "code",
      "execution_count": null,
      "metadata": {
        "id": "rFCptP7OEtI5"
      },
      "outputs": [],
      "source": [
        "topn=100\n",
        "results = []\n",
        "results_df = pd.DataFrame(columns = [user_col, item_col, rating_col])\n",
        "\n",
        "for user, user_prediction in res.groupby('user_id'):\n",
        "    results_df = results_df.append(user_prediction.sort_values('count', ascending=False).head(topn))\n",
        "    "
      ]
    },
    {
      "cell_type": "code",
      "source": [
        "from google.colab import files\n",
        "\n",
        "results_df.to_csv(model_dir + 'predictions.csv', encoding = 'utf-8-sig') \n",
        "#files.download(f'predictions_{text_col}.csv')\n"
      ],
      "metadata": {
        "id": "D-dWSMgqNu_2"
      },
      "execution_count": null,
      "outputs": []
    },
    {
      "cell_type": "markdown",
      "metadata": {
        "id": "0c67LS6n1Y-A"
      },
      "source": [
        "# Most popular recommendation\n"
      ]
    },
    {
      "cell_type": "code",
      "execution_count": 202,
      "metadata": {
        "id": "JyWJBqGz1blh"
      },
      "outputs": [],
      "source": [
        "topn = 100\n",
        "\n",
        "item_popularity_df = data_interaction_test.groupby(item_col)[rating_col].sum().sort_values(ascending=False).reset_index()\n",
        "\n",
        "predictions = {}\n",
        "\n",
        "for real_user_id in data_interaction_test.user_id.unique():\n",
        "    predictions[real_user_id] = []\n",
        "    items_to_ignore = data_interaction_train[data_interaction_train[user_col] == real_user_id]['track_id'].values\n",
        "    item_popularity_df_user = item_popularity_df[~item_popularity_df[item_col].isin(items_to_ignore)]\n",
        "    predictions[real_user_id].append(item_popularity_df_user.head(topn)[item_col].values.tolist())"
      ]
    },
    {
      "cell_type": "code",
      "execution_count": 200,
      "metadata": {
        "id": "qQ51-oYe1djY"
      },
      "outputs": [],
      "source": [
        "results = []\n",
        "results_df = pd.DataFrame(columns = [user_col, item_col, rating_col])\n",
        "\n",
        "for user in predictions:\n",
        "    user_prediction = predictions[user][0]\n",
        "    for item in user_prediction:\n",
        "        rating = 1.\n",
        "        results_df = pd.concat((results_df, pd.DataFrame(data={user_col:[user],item_col:[item],rating_col:[rating]})))\n",
        "        results.append([user, item, rating])"
      ]
    },
    {
      "cell_type": "markdown",
      "metadata": {
        "id": "K-A_VQKP1hFS"
      },
      "source": [
        "# Random recommendation"
      ]
    },
    {
      "cell_type": "code",
      "execution_count": 94,
      "metadata": {
        "id": "68Z2iimV1pAk"
      },
      "outputs": [],
      "source": [
        "topn = 100\n",
        "\n",
        "predictions = {}\n",
        "\n",
        "for real_user_id in data_interaction_test.user_id.unique():\n",
        "    predictions[real_user_id] = []\n",
        "    items_to_ignore = data_interaction_train[data_interaction_train[user_col] == real_user_id][item_col].values\n",
        "    item_df_user = data_interaction_test[~data_interaction_test[item_col].isin(items_to_ignore)]\n",
        "    predictions[real_user_id].append(random.sample(set(item_df_user['track_id'].values), topn))"
      ]
    },
    {
      "cell_type": "code",
      "execution_count": 95,
      "metadata": {
        "id": "T6xHh03Y1qFu"
      },
      "outputs": [],
      "source": [
        "results = []\n",
        "results_df = pd.DataFrame(columns = [user_col, item_col, rating_col])\n",
        "\n",
        "for user in predictions:\n",
        "    user_prediction = predictions[user][0]\n",
        "    for item in user_prediction:\n",
        "        rating = 1.\n",
        "        results_df = pd.concat((results_df, pd.DataFrame(data={user_col:[user],item_col:[item],rating_col:[rating]})))\n",
        "        results.append([user, item, rating])"
      ]
    },
    {
      "cell_type": "markdown",
      "metadata": {
        "id": "RxzLZWaLAhUZ"
      },
      "source": [
        "# Evaluate predictions\n",
        "\n",
        "Scores: F1@10, ndcg@k, recall@k"
      ]
    },
    {
      "cell_type": "code",
      "source": [
        "topn=100"
      ],
      "metadata": {
        "id": "XS-AQqs-iXDP"
      },
      "execution_count": null,
      "outputs": []
    },
    {
      "cell_type": "code",
      "execution_count": null,
      "metadata": {
        "id": "z-T1kV_Wk5as"
      },
      "outputs": [],
      "source": [
        "#results_df = pd.read_csv(model_dir + \"predictions.csv\").drop([\"Unnamed: 0\"], axis=1)"
      ]
    },
    {
      "cell_type": "code",
      "execution_count": null,
      "metadata": {
        "id": "8DTstEsi72xS"
      },
      "outputs": [],
      "source": [
        "f1_scores = []\n",
        "recall_scores = []\n",
        "ndcg_scores = []\n",
        "\n",
        "for user, df in results_df.groupby(user_col):\n",
        "  df = df.drop_duplicates(subset=item_col)\n",
        "\n",
        "  y_true_sorted = data_interaction_test.loc[data_interaction_test[user_col] == user].sort_values(rating_col, ascending=False).drop_duplicates()\n",
        "  rel = pd.merge(df[[item_col]], y_true_sorted[[item_col, rating_col]].drop_duplicates(), 'left').fillna(0)['count'].values\n",
        "  y_true_df = pd.merge(data_items_eval[[item_col]].drop_duplicates(), y_true_sorted[[item_col, rating_col]].drop_duplicates(), 'left').fillna(0)\n",
        "  y_true_ndcg = y_true_df[rating_col].values\n",
        "  y_true_df.loc[y_true_df[rating_col] > 0, rating_col] = 1\n",
        "  y_true = y_true_df[rating_col].values\n",
        "\n",
        "  y_pred_df = pd.merge(data_items_eval[[item_col]].drop_duplicates(), df[[item_col, rating_col]], 'left').fillna(0)\n",
        "  y_pred_ndcg = y_pred_df[rating_col].values\n",
        "  y_pred_df.loc[y_pred_df[rating_col] > 0, rating_col] = 1\n",
        "  y_pred = y_pred_df[rating_col].values\n",
        "\n",
        "  if y_true.sum() >= 1:\n",
        "    f1_scores.append(f1_score(y_true, y_pred))\n",
        "    recall_scores.append(recall_score(y_true, y_pred))\n",
        "    ndcg_scores.append(get_ndcg(df, rel, topn))\n",
        "\n",
        "print(\"F1 Score: \", np.mean(f1_scores))\n",
        "print(\"Recall Score: \", np.mean(recall_scores))\n",
        "print(\"NDCG Score: \", np.mean(ndcg_scores))"
      ]
    },
    {
      "cell_type": "code",
      "source": [
        "pd.DataFrame({\"f1_score\": [np.mean(f1_scores)], 'recall': [np.mean(recall_scores)], 'ndcg': [np.mean(ndcg_scores)]}).to_csv(model_dir + 'evaluation_result.csv', encoding = 'utf-8-sig') "
      ],
      "metadata": {
        "id": "FVnaLOPiPmsC"
      },
      "execution_count": null,
      "outputs": []
    },
    {
      "cell_type": "markdown",
      "metadata": {
        "id": "UaONzUp8rsKH"
      },
      "source": [
        "# Interpretability of Gender Bias\n",
        "\n",
        "- Find correlations between user gender and item gender (Pearsons correlation)\n",
        "- For each track get proportion of female/male user => compare train and recommendataion data\n",
        "- Check if genderness increased/decreased in recommendations (in comparision to training data) \n",
        "- Compare distribution of genderness between history and recommendations \n",
        "  - \"Delta Metric of Genderness\" (https://arxiv.org/pdf/2108.06973.pdf)\n",
        "  - Proportion tests: Fisher exact test, Chi-Square\n",
        "\n"
      ]
    },
    {
      "cell_type": "markdown",
      "source": [
        "# Get feature vectors"
      ],
      "metadata": {
        "id": "0oWwJyvwn2z9"
      }
    },
    {
      "cell_type": "code",
      "source": [
        "def get_feature_vector(model, inputs, batch_size):\n",
        "\n",
        "  layer = model._modules.get('model1_layer3')\n",
        "\n",
        "  embedding = torch.zeros((batch_size, 128))\n",
        "  def copy_data(m, i, o):\n",
        "          embedding.copy_(o.data)\n",
        "  h = layer.register_forward_hook(copy_data)\n",
        "  model(inputs)\n",
        "  h.remove()\n",
        "  return embedding"
      ],
      "metadata": {
        "id": "9qoYc5VwgnWL"
      },
      "execution_count": 107,
      "outputs": []
    },
    {
      "cell_type": "code",
      "source": [
        "model._modules.get('model1_layer2').embeddings.word_embeddings(dataset_test[4]['input_ids_lyrics']"
      ],
      "metadata": {
        "colab": {
          "base_uri": "https://localhost:8080/"
        },
        "id": "cNfT70BvjQz5",
        "outputId": "3ddebc79-6315-4e6f-f949-f6ee59e9a5d6"
      },
      "execution_count": 106,
      "outputs": [
        {
          "output_type": "execute_result",
          "data": {
            "text/plain": [
              "tensor([-0.0015,  0.0037, -0.0133, -0.0152, -0.0010, -0.0076, -0.0076, -0.0095,\n",
              "        -0.0029,  0.0014,  0.0008, -0.0029, -0.0028, -0.0014, -0.0106, -0.0149,\n",
              "         0.0073,  0.0058, -0.0029, -0.0028,  0.0044, -0.0121, -0.0149, -0.0152,\n",
              "        -0.0006,  0.0037, -0.0133, -0.0152, -0.0010, -0.0076, -0.0076, -0.0095,\n",
              "        -0.0029,  0.0014,  0.0008, -0.0141,  0.0053,  0.0016, -0.0058,  0.0028,\n",
              "        -0.0113,  0.0073, -0.0068,  0.0037, -0.0058, -0.0145, -0.0016, -0.0115,\n",
              "        -0.0003,  0.0002,  0.0080,  0.0080,  0.0080,  0.0080,  0.0080,  0.0080,\n",
              "         0.0080,  0.0080,  0.0080,  0.0080,  0.0080,  0.0080,  0.0080,  0.0080,\n",
              "         0.0080,  0.0080,  0.0080,  0.0080,  0.0080,  0.0080,  0.0080,  0.0080,\n",
              "         0.0080,  0.0080,  0.0080,  0.0080,  0.0080,  0.0080,  0.0080,  0.0080,\n",
              "         0.0080,  0.0080,  0.0080,  0.0080,  0.0080,  0.0080,  0.0080,  0.0080,\n",
              "         0.0080,  0.0080,  0.0080,  0.0080,  0.0080,  0.0080,  0.0080,  0.0080,\n",
              "         0.0080,  0.0080,  0.0080,  0.0080,  0.0080,  0.0080,  0.0080,  0.0080,\n",
              "         0.0080,  0.0080,  0.0080,  0.0080,  0.0080,  0.0080,  0.0080,  0.0080,\n",
              "         0.0080,  0.0080,  0.0080,  0.0080,  0.0080,  0.0080,  0.0080,  0.0080,\n",
              "         0.0080,  0.0080,  0.0080,  0.0080,  0.0080,  0.0080,  0.0080,  0.0080],\n",
              "       device='cuda:0', grad_fn=<MeanBackward1>)"
            ]
          },
          "metadata": {},
          "execution_count": 106
        }
      ]
    },
    {
      "cell_type": "code",
      "source": [
        "model._modules.get('model1_layer2').embeddings.word_embeddings(dataset_test[1]['input_ids_lyrics']"
      ],
      "metadata": {
        "colab": {
          "base_uri": "https://localhost:8080/"
        },
        "id": "4zq7-pM4iggK",
        "outputId": "d0d58abc-8d4b-4069-c596-3916bf1af5fb"
      },
      "execution_count": 105,
      "outputs": [
        {
          "output_type": "execute_result",
          "data": {
            "text/plain": [
              "tensor([-0.0015, -0.0078,  0.0053, -0.0180, -0.0078,  0.0028, -0.0078,  0.0053,\n",
              "        -0.0180, -0.0078,  0.0053,  0.0018, -0.0017, -0.0029,  0.0097,  0.0041,\n",
              "        -0.0113, -0.0078,  0.0053,  0.0018, -0.0017, -0.0029,  0.0097,  0.0041,\n",
              "        -0.0113, -0.0078,  0.0053,  0.0018, -0.0017, -0.0029,  0.0097,  0.0041,\n",
              "        -0.0113, -0.0078,  0.0053,  0.0018, -0.0017, -0.0029,  0.0097,  0.0041,\n",
              "        -0.0113, -0.0078,  0.0053, -0.0032,  0.0024,  0.0018, -0.0059, -0.0013,\n",
              "        -0.0032,  0.0024,  0.0018, -0.0059, -0.0013, -0.0032,  0.0024,  0.0018,\n",
              "        -0.0059, -0.0013, -0.0032,  0.0024,  0.0018, -0.0059, -0.0013, -0.0078,\n",
              "         0.0053, -0.0180, -0.0078,  0.0028, -0.0078,  0.0053, -0.0180, -0.0078,\n",
              "         0.0028,  0.0018, -0.0017, -0.0029,  0.0097,  0.0041, -0.0113, -0.0078,\n",
              "         0.0053,  0.0018, -0.0017, -0.0029,  0.0097,  0.0041, -0.0113, -0.0078,\n",
              "         0.0053,  0.0018, -0.0017, -0.0029,  0.0097,  0.0041, -0.0113, -0.0078,\n",
              "         0.0053,  0.0018, -0.0017, -0.0029,  0.0097,  0.0041, -0.0113, -0.0078,\n",
              "         0.0053, -0.0032,  0.0024,  0.0018, -0.0059, -0.0013, -0.0032,  0.0024,\n",
              "         0.0018, -0.0059, -0.0013, -0.0032,  0.0024,  0.0018, -0.0059, -0.0013,\n",
              "        -0.0032,  0.0024,  0.0018, -0.0059, -0.0013,  0.0002,  0.0080,  0.0080],\n",
              "       device='cuda:0', grad_fn=<MeanBackward1>)"
            ]
          },
          "metadata": {},
          "execution_count": 105
        }
      ]
    },
    {
      "cell_type": "code",
      "source": [
        "feature_vectors = pd.DataFrame()\n",
        "batch_size= 12\n",
        "dataset_test= LFM2bDataset(data_interaction_test,tokenizer,item_text_embeddings_size, text_col,  item2pos, user2id)\n",
        "#dataset_test= LFM2bDatasetMulitpleText(data_interaction_test,tokenizer,item_text_embeddings_size,  item2pos, user2id)\n",
        "dataloader_test=DataLoader(dataset=dataset_test,batch_size=batch_size, num_workers=4)\n",
        "\n",
        "#model = AMARBert( hidden_dense_layer_size_bert, item_embeddings_size, user_embeddings_size, item_text_embeddings_size, num_users, num_items)\n",
        "#model.load_state_dict(torch.load(model_dir + 'best_model.pth'))\n",
        "#model.to(device)\n",
        "model.eval()\n",
        "\n",
        "\n",
        "for data in dataloader_test:\n",
        "  #items positions\n",
        "  curr_items_ids_batch = data['track_id']\n",
        "  # items descriptions\n",
        "  curr_items_batch = data['input_ids_lyrics']\n",
        "  curr_attentions_batch = data['attention_mask_lyrics']\n",
        "\n",
        "  # additional items descriptions\n",
        "  # curr_items_batch1 = data['input_ids_tags']\n",
        "  # curr_attentions_batch1 = data['attention_mask_tags']\n",
        "\n",
        "  # users ids\n",
        "  curr_users_batch =data['user_id']\n",
        "\n",
        "  # model inputs\n",
        "  inputs = [curr_items_ids_batch.type(torch.LongTensor).to(device), \n",
        "            curr_items_batch.type(torch.LongTensor).to(device), \n",
        "            curr_users_batch.type(torch.LongTensor).to(device), \n",
        "            curr_attentions_batch.type(torch.LongTensor).to(device),\n",
        "            # curr_items_batch1.type(torch.LongTensor).to(device), \n",
        "            # curr_attentions_batch1.type(torch.LongTensor).to(device),\n",
        "            ]\n",
        "\n",
        "\n",
        "  with torch.no_grad():\n",
        "    outputs = model(inputs)\n",
        "\n",
        "    \n",
        "  # save embedding layer for each item\n",
        "\n",
        "  # save prediction for each user\n",
        "  item_list=[]\n",
        "  for i in range(outputs.shape[0]):\n",
        "    item_list.append(pos2item[curr_items_ids_batch[i].item()])\n",
        "    \n",
        "  feature_vector = get_feature_vector(model, inputs, batch_size)\n",
        "  fv = pd.DataFrame(feature_vector)\n",
        "  fv.index = item_list\n",
        "  feature_vectors = feature_vectors.append(fv)\n",
        "  break\n",
        "      "
      ],
      "metadata": {
        "id": "jcBP8cIYn2Tq"
      },
      "execution_count": 118,
      "outputs": []
    },
    {
      "cell_type": "code",
      "source": [
        "feature_vectors"
      ],
      "metadata": {
        "colab": {
          "base_uri": "https://localhost:8080/",
          "height": 519
        },
        "id": "aMtoySmyiBw1",
        "outputId": "ef7eca5f-9752-437e-db54-3b5d3c8138eb"
      },
      "execution_count": 119,
      "outputs": [
        {
          "output_type": "execute_result",
          "data": {
            "text/plain": [
              "                     0                1                2                3    \\\n",
              "7181836  tensor(-0.9593)  tensor(-0.9564)  tensor(-0.2631)  tensor(-0.6188)   \n",
              "7181836  tensor(-0.9593)  tensor(-0.9564)  tensor(-0.2631)  tensor(-0.6188)   \n",
              "5535776  tensor(-0.8295)  tensor(-1.0451)  tensor(-0.2393)  tensor(-0.6284)   \n",
              "4639854  tensor(-0.5844)  tensor(-0.9787)  tensor(-0.2250)  tensor(-0.5449)   \n",
              "5091428  tensor(-0.9551)  tensor(-0.8495)  tensor(-0.2438)  tensor(-0.7153)   \n",
              "5370862  tensor(-0.7373)  tensor(-1.0910)  tensor(-0.2242)  tensor(-0.6785)   \n",
              "4967154  tensor(-0.9158)  tensor(-0.8307)  tensor(-0.3312)  tensor(-0.6444)   \n",
              "4083259  tensor(-0.8931)  tensor(-0.9003)  tensor(-0.1996)  tensor(-0.6670)   \n",
              "6858175  tensor(-0.8527)  tensor(-0.8429)  tensor(-0.2720)  tensor(-0.7719)   \n",
              "3260786  tensor(-0.8765)  tensor(-0.8900)  tensor(-0.3294)  tensor(-0.7750)   \n",
              "4267705  tensor(-1.0465)  tensor(-0.8756)  tensor(-0.2451)  tensor(-0.7037)   \n",
              "5089604  tensor(-0.8256)  tensor(-0.8842)  tensor(-0.2996)  tensor(-0.7232)   \n",
              "\n",
              "                     4               5                6               7    \\\n",
              "7181836  tensor(-0.0909)  tensor(2.9929)  tensor(-0.2303)  tensor(1.0155)   \n",
              "7181836  tensor(-0.0909)  tensor(2.9929)  tensor(-0.2303)  tensor(1.0155)   \n",
              "5535776  tensor(-0.3259)  tensor(2.8092)  tensor(-0.3594)  tensor(0.9218)   \n",
              "4639854  tensor(-0.1729)  tensor(3.0936)  tensor(-0.3469)  tensor(1.1304)   \n",
              "5091428  tensor(-0.1354)  tensor(3.2219)  tensor(-0.0375)  tensor(1.0253)   \n",
              "5370862  tensor(-0.3688)  tensor(3.0624)  tensor(-0.2591)  tensor(1.0759)   \n",
              "4967154  tensor(-0.1918)  tensor(3.0853)  tensor(-0.0609)  tensor(1.1651)   \n",
              "4083259  tensor(-0.1202)  tensor(3.0824)  tensor(-0.1430)  tensor(1.1670)   \n",
              "6858175   tensor(0.0350)  tensor(2.9121)  tensor(-0.0942)  tensor(1.1287)   \n",
              "3260786  tensor(-0.1682)  tensor(2.9903)  tensor(-0.1942)  tensor(0.9300)   \n",
              "4267705  tensor(-0.1226)  tensor(3.1479)  tensor(-0.1604)  tensor(1.0924)   \n",
              "5089604  tensor(-0.1747)  tensor(3.2510)  tensor(-0.1893)  tensor(1.0328)   \n",
              "\n",
              "                     8               9    ...              118  \\\n",
              "7181836  tensor(-0.2628)  tensor(0.2371)  ...  tensor(-0.2805)   \n",
              "7181836  tensor(-0.2628)  tensor(0.2371)  ...  tensor(-0.2805)   \n",
              "5535776  tensor(-0.0845)  tensor(0.3300)  ...  tensor(-0.3745)   \n",
              "4639854  tensor(-0.4127)  tensor(0.2935)  ...  tensor(-0.0138)   \n",
              "5091428  tensor(-0.1935)  tensor(0.3082)  ...  tensor(-0.1991)   \n",
              "5370862  tensor(-0.1179)  tensor(0.1674)  ...  tensor(-0.2093)   \n",
              "4967154  tensor(-0.1460)  tensor(0.3332)  ...  tensor(-0.1690)   \n",
              "4083259  tensor(-0.2710)  tensor(0.3102)  ...  tensor(-0.0833)   \n",
              "6858175  tensor(-0.2868)  tensor(0.2632)  ...  tensor(-0.1253)   \n",
              "3260786  tensor(-0.0924)  tensor(0.3712)  ...  tensor(-0.2995)   \n",
              "4267705  tensor(-0.2579)  tensor(0.2766)  ...  tensor(-0.1537)   \n",
              "5089604  tensor(-0.1472)  tensor(0.1549)  ...  tensor(-0.1683)   \n",
              "\n",
              "                     119             120             121             122  \\\n",
              "7181836  tensor(-0.4343)  tensor(0.2655)  tensor(1.3080)  tensor(0.1545)   \n",
              "7181836  tensor(-0.4343)  tensor(0.2655)  tensor(1.3080)  tensor(0.1545)   \n",
              "5535776  tensor(-0.1710)  tensor(0.2476)  tensor(1.0182)  tensor(0.1669)   \n",
              "4639854  tensor(-0.2925)  tensor(0.2143)  tensor(1.0135)  tensor(0.3513)   \n",
              "5091428  tensor(-0.0455)  tensor(0.3045)  tensor(1.1789)  tensor(0.3833)   \n",
              "5370862  tensor(-0.2922)  tensor(0.3841)  tensor(0.8870)  tensor(0.1628)   \n",
              "4967154  tensor(-0.2460)  tensor(0.2113)  tensor(1.0323)  tensor(0.3238)   \n",
              "4083259  tensor(-0.3216)  tensor(0.1405)  tensor(1.1581)  tensor(0.1870)   \n",
              "6858175  tensor(-0.2737)  tensor(0.0019)  tensor(1.0889)  tensor(0.2285)   \n",
              "3260786  tensor(-0.2625)  tensor(0.1407)  tensor(0.9889)  tensor(0.0236)   \n",
              "4267705  tensor(-0.1715)  tensor(0.1717)  tensor(1.1165)  tensor(0.1152)   \n",
              "5089604  tensor(-0.2515)  tensor(0.3352)  tensor(1.1287)  tensor(0.0671)   \n",
              "\n",
              "                     123              124              125              126  \\\n",
              "7181836  tensor(-0.2446)  tensor(-0.3638)  tensor(-0.4562)  tensor(-0.3153)   \n",
              "7181836  tensor(-0.2446)  tensor(-0.3638)  tensor(-0.4562)  tensor(-0.3153)   \n",
              "5535776  tensor(-0.3138)  tensor(-0.3958)  tensor(-0.4156)  tensor(-0.4366)   \n",
              "4639854  tensor(-0.4988)  tensor(-0.0934)  tensor(-0.6427)  tensor(-0.2104)   \n",
              "5091428  tensor(-0.5899)  tensor(-0.7586)  tensor(-0.4749)  tensor(-0.1032)   \n",
              "5370862  tensor(-0.4264)  tensor(-0.3822)  tensor(-0.4631)  tensor(-0.3250)   \n",
              "4967154  tensor(-0.5161)  tensor(-0.3837)  tensor(-0.2755)  tensor(-0.0709)   \n",
              "4083259  tensor(-0.4553)  tensor(-0.3499)  tensor(-0.4060)  tensor(-0.1087)   \n",
              "6858175  tensor(-0.4603)  tensor(-0.2836)  tensor(-0.4493)  tensor(-0.0269)   \n",
              "3260786  tensor(-0.3401)  tensor(-0.2951)  tensor(-0.5115)  tensor(-0.3492)   \n",
              "4267705  tensor(-0.4570)  tensor(-0.4964)  tensor(-0.3853)  tensor(-0.0540)   \n",
              "5089604  tensor(-0.4484)  tensor(-0.5037)  tensor(-0.3723)  tensor(-0.2588)   \n",
              "\n",
              "                    127  \n",
              "7181836  tensor(1.6932)  \n",
              "7181836  tensor(1.6932)  \n",
              "5535776  tensor(1.6423)  \n",
              "4639854  tensor(1.3427)  \n",
              "5091428  tensor(1.4633)  \n",
              "5370862  tensor(1.5382)  \n",
              "4967154  tensor(1.6676)  \n",
              "4083259  tensor(1.5800)  \n",
              "6858175  tensor(1.6497)  \n",
              "3260786  tensor(1.4995)  \n",
              "4267705  tensor(1.6330)  \n",
              "5089604  tensor(1.4470)  \n",
              "\n",
              "[12 rows x 128 columns]"
            ],
            "text/html": [
              "\n",
              "  <div id=\"df-4c7af10d-8b09-4a53-8b4c-53b87ccaaf5c\">\n",
              "    <div class=\"colab-df-container\">\n",
              "      <div>\n",
              "<style scoped>\n",
              "    .dataframe tbody tr th:only-of-type {\n",
              "        vertical-align: middle;\n",
              "    }\n",
              "\n",
              "    .dataframe tbody tr th {\n",
              "        vertical-align: top;\n",
              "    }\n",
              "\n",
              "    .dataframe thead th {\n",
              "        text-align: right;\n",
              "    }\n",
              "</style>\n",
              "<table border=\"1\" class=\"dataframe\">\n",
              "  <thead>\n",
              "    <tr style=\"text-align: right;\">\n",
              "      <th></th>\n",
              "      <th>0</th>\n",
              "      <th>1</th>\n",
              "      <th>2</th>\n",
              "      <th>3</th>\n",
              "      <th>4</th>\n",
              "      <th>5</th>\n",
              "      <th>6</th>\n",
              "      <th>7</th>\n",
              "      <th>8</th>\n",
              "      <th>9</th>\n",
              "      <th>...</th>\n",
              "      <th>118</th>\n",
              "      <th>119</th>\n",
              "      <th>120</th>\n",
              "      <th>121</th>\n",
              "      <th>122</th>\n",
              "      <th>123</th>\n",
              "      <th>124</th>\n",
              "      <th>125</th>\n",
              "      <th>126</th>\n",
              "      <th>127</th>\n",
              "    </tr>\n",
              "  </thead>\n",
              "  <tbody>\n",
              "    <tr>\n",
              "      <th>7181836</th>\n",
              "      <td>tensor(-0.9593)</td>\n",
              "      <td>tensor(-0.9564)</td>\n",
              "      <td>tensor(-0.2631)</td>\n",
              "      <td>tensor(-0.6188)</td>\n",
              "      <td>tensor(-0.0909)</td>\n",
              "      <td>tensor(2.9929)</td>\n",
              "      <td>tensor(-0.2303)</td>\n",
              "      <td>tensor(1.0155)</td>\n",
              "      <td>tensor(-0.2628)</td>\n",
              "      <td>tensor(0.2371)</td>\n",
              "      <td>...</td>\n",
              "      <td>tensor(-0.2805)</td>\n",
              "      <td>tensor(-0.4343)</td>\n",
              "      <td>tensor(0.2655)</td>\n",
              "      <td>tensor(1.3080)</td>\n",
              "      <td>tensor(0.1545)</td>\n",
              "      <td>tensor(-0.2446)</td>\n",
              "      <td>tensor(-0.3638)</td>\n",
              "      <td>tensor(-0.4562)</td>\n",
              "      <td>tensor(-0.3153)</td>\n",
              "      <td>tensor(1.6932)</td>\n",
              "    </tr>\n",
              "    <tr>\n",
              "      <th>7181836</th>\n",
              "      <td>tensor(-0.9593)</td>\n",
              "      <td>tensor(-0.9564)</td>\n",
              "      <td>tensor(-0.2631)</td>\n",
              "      <td>tensor(-0.6188)</td>\n",
              "      <td>tensor(-0.0909)</td>\n",
              "      <td>tensor(2.9929)</td>\n",
              "      <td>tensor(-0.2303)</td>\n",
              "      <td>tensor(1.0155)</td>\n",
              "      <td>tensor(-0.2628)</td>\n",
              "      <td>tensor(0.2371)</td>\n",
              "      <td>...</td>\n",
              "      <td>tensor(-0.2805)</td>\n",
              "      <td>tensor(-0.4343)</td>\n",
              "      <td>tensor(0.2655)</td>\n",
              "      <td>tensor(1.3080)</td>\n",
              "      <td>tensor(0.1545)</td>\n",
              "      <td>tensor(-0.2446)</td>\n",
              "      <td>tensor(-0.3638)</td>\n",
              "      <td>tensor(-0.4562)</td>\n",
              "      <td>tensor(-0.3153)</td>\n",
              "      <td>tensor(1.6932)</td>\n",
              "    </tr>\n",
              "    <tr>\n",
              "      <th>5535776</th>\n",
              "      <td>tensor(-0.8295)</td>\n",
              "      <td>tensor(-1.0451)</td>\n",
              "      <td>tensor(-0.2393)</td>\n",
              "      <td>tensor(-0.6284)</td>\n",
              "      <td>tensor(-0.3259)</td>\n",
              "      <td>tensor(2.8092)</td>\n",
              "      <td>tensor(-0.3594)</td>\n",
              "      <td>tensor(0.9218)</td>\n",
              "      <td>tensor(-0.0845)</td>\n",
              "      <td>tensor(0.3300)</td>\n",
              "      <td>...</td>\n",
              "      <td>tensor(-0.3745)</td>\n",
              "      <td>tensor(-0.1710)</td>\n",
              "      <td>tensor(0.2476)</td>\n",
              "      <td>tensor(1.0182)</td>\n",
              "      <td>tensor(0.1669)</td>\n",
              "      <td>tensor(-0.3138)</td>\n",
              "      <td>tensor(-0.3958)</td>\n",
              "      <td>tensor(-0.4156)</td>\n",
              "      <td>tensor(-0.4366)</td>\n",
              "      <td>tensor(1.6423)</td>\n",
              "    </tr>\n",
              "    <tr>\n",
              "      <th>4639854</th>\n",
              "      <td>tensor(-0.5844)</td>\n",
              "      <td>tensor(-0.9787)</td>\n",
              "      <td>tensor(-0.2250)</td>\n",
              "      <td>tensor(-0.5449)</td>\n",
              "      <td>tensor(-0.1729)</td>\n",
              "      <td>tensor(3.0936)</td>\n",
              "      <td>tensor(-0.3469)</td>\n",
              "      <td>tensor(1.1304)</td>\n",
              "      <td>tensor(-0.4127)</td>\n",
              "      <td>tensor(0.2935)</td>\n",
              "      <td>...</td>\n",
              "      <td>tensor(-0.0138)</td>\n",
              "      <td>tensor(-0.2925)</td>\n",
              "      <td>tensor(0.2143)</td>\n",
              "      <td>tensor(1.0135)</td>\n",
              "      <td>tensor(0.3513)</td>\n",
              "      <td>tensor(-0.4988)</td>\n",
              "      <td>tensor(-0.0934)</td>\n",
              "      <td>tensor(-0.6427)</td>\n",
              "      <td>tensor(-0.2104)</td>\n",
              "      <td>tensor(1.3427)</td>\n",
              "    </tr>\n",
              "    <tr>\n",
              "      <th>5091428</th>\n",
              "      <td>tensor(-0.9551)</td>\n",
              "      <td>tensor(-0.8495)</td>\n",
              "      <td>tensor(-0.2438)</td>\n",
              "      <td>tensor(-0.7153)</td>\n",
              "      <td>tensor(-0.1354)</td>\n",
              "      <td>tensor(3.2219)</td>\n",
              "      <td>tensor(-0.0375)</td>\n",
              "      <td>tensor(1.0253)</td>\n",
              "      <td>tensor(-0.1935)</td>\n",
              "      <td>tensor(0.3082)</td>\n",
              "      <td>...</td>\n",
              "      <td>tensor(-0.1991)</td>\n",
              "      <td>tensor(-0.0455)</td>\n",
              "      <td>tensor(0.3045)</td>\n",
              "      <td>tensor(1.1789)</td>\n",
              "      <td>tensor(0.3833)</td>\n",
              "      <td>tensor(-0.5899)</td>\n",
              "      <td>tensor(-0.7586)</td>\n",
              "      <td>tensor(-0.4749)</td>\n",
              "      <td>tensor(-0.1032)</td>\n",
              "      <td>tensor(1.4633)</td>\n",
              "    </tr>\n",
              "    <tr>\n",
              "      <th>5370862</th>\n",
              "      <td>tensor(-0.7373)</td>\n",
              "      <td>tensor(-1.0910)</td>\n",
              "      <td>tensor(-0.2242)</td>\n",
              "      <td>tensor(-0.6785)</td>\n",
              "      <td>tensor(-0.3688)</td>\n",
              "      <td>tensor(3.0624)</td>\n",
              "      <td>tensor(-0.2591)</td>\n",
              "      <td>tensor(1.0759)</td>\n",
              "      <td>tensor(-0.1179)</td>\n",
              "      <td>tensor(0.1674)</td>\n",
              "      <td>...</td>\n",
              "      <td>tensor(-0.2093)</td>\n",
              "      <td>tensor(-0.2922)</td>\n",
              "      <td>tensor(0.3841)</td>\n",
              "      <td>tensor(0.8870)</td>\n",
              "      <td>tensor(0.1628)</td>\n",
              "      <td>tensor(-0.4264)</td>\n",
              "      <td>tensor(-0.3822)</td>\n",
              "      <td>tensor(-0.4631)</td>\n",
              "      <td>tensor(-0.3250)</td>\n",
              "      <td>tensor(1.5382)</td>\n",
              "    </tr>\n",
              "    <tr>\n",
              "      <th>4967154</th>\n",
              "      <td>tensor(-0.9158)</td>\n",
              "      <td>tensor(-0.8307)</td>\n",
              "      <td>tensor(-0.3312)</td>\n",
              "      <td>tensor(-0.6444)</td>\n",
              "      <td>tensor(-0.1918)</td>\n",
              "      <td>tensor(3.0853)</td>\n",
              "      <td>tensor(-0.0609)</td>\n",
              "      <td>tensor(1.1651)</td>\n",
              "      <td>tensor(-0.1460)</td>\n",
              "      <td>tensor(0.3332)</td>\n",
              "      <td>...</td>\n",
              "      <td>tensor(-0.1690)</td>\n",
              "      <td>tensor(-0.2460)</td>\n",
              "      <td>tensor(0.2113)</td>\n",
              "      <td>tensor(1.0323)</td>\n",
              "      <td>tensor(0.3238)</td>\n",
              "      <td>tensor(-0.5161)</td>\n",
              "      <td>tensor(-0.3837)</td>\n",
              "      <td>tensor(-0.2755)</td>\n",
              "      <td>tensor(-0.0709)</td>\n",
              "      <td>tensor(1.6676)</td>\n",
              "    </tr>\n",
              "    <tr>\n",
              "      <th>4083259</th>\n",
              "      <td>tensor(-0.8931)</td>\n",
              "      <td>tensor(-0.9003)</td>\n",
              "      <td>tensor(-0.1996)</td>\n",
              "      <td>tensor(-0.6670)</td>\n",
              "      <td>tensor(-0.1202)</td>\n",
              "      <td>tensor(3.0824)</td>\n",
              "      <td>tensor(-0.1430)</td>\n",
              "      <td>tensor(1.1670)</td>\n",
              "      <td>tensor(-0.2710)</td>\n",
              "      <td>tensor(0.3102)</td>\n",
              "      <td>...</td>\n",
              "      <td>tensor(-0.0833)</td>\n",
              "      <td>tensor(-0.3216)</td>\n",
              "      <td>tensor(0.1405)</td>\n",
              "      <td>tensor(1.1581)</td>\n",
              "      <td>tensor(0.1870)</td>\n",
              "      <td>tensor(-0.4553)</td>\n",
              "      <td>tensor(-0.3499)</td>\n",
              "      <td>tensor(-0.4060)</td>\n",
              "      <td>tensor(-0.1087)</td>\n",
              "      <td>tensor(1.5800)</td>\n",
              "    </tr>\n",
              "    <tr>\n",
              "      <th>6858175</th>\n",
              "      <td>tensor(-0.8527)</td>\n",
              "      <td>tensor(-0.8429)</td>\n",
              "      <td>tensor(-0.2720)</td>\n",
              "      <td>tensor(-0.7719)</td>\n",
              "      <td>tensor(0.0350)</td>\n",
              "      <td>tensor(2.9121)</td>\n",
              "      <td>tensor(-0.0942)</td>\n",
              "      <td>tensor(1.1287)</td>\n",
              "      <td>tensor(-0.2868)</td>\n",
              "      <td>tensor(0.2632)</td>\n",
              "      <td>...</td>\n",
              "      <td>tensor(-0.1253)</td>\n",
              "      <td>tensor(-0.2737)</td>\n",
              "      <td>tensor(0.0019)</td>\n",
              "      <td>tensor(1.0889)</td>\n",
              "      <td>tensor(0.2285)</td>\n",
              "      <td>tensor(-0.4603)</td>\n",
              "      <td>tensor(-0.2836)</td>\n",
              "      <td>tensor(-0.4493)</td>\n",
              "      <td>tensor(-0.0269)</td>\n",
              "      <td>tensor(1.6497)</td>\n",
              "    </tr>\n",
              "    <tr>\n",
              "      <th>3260786</th>\n",
              "      <td>tensor(-0.8765)</td>\n",
              "      <td>tensor(-0.8900)</td>\n",
              "      <td>tensor(-0.3294)</td>\n",
              "      <td>tensor(-0.7750)</td>\n",
              "      <td>tensor(-0.1682)</td>\n",
              "      <td>tensor(2.9903)</td>\n",
              "      <td>tensor(-0.1942)</td>\n",
              "      <td>tensor(0.9300)</td>\n",
              "      <td>tensor(-0.0924)</td>\n",
              "      <td>tensor(0.3712)</td>\n",
              "      <td>...</td>\n",
              "      <td>tensor(-0.2995)</td>\n",
              "      <td>tensor(-0.2625)</td>\n",
              "      <td>tensor(0.1407)</td>\n",
              "      <td>tensor(0.9889)</td>\n",
              "      <td>tensor(0.0236)</td>\n",
              "      <td>tensor(-0.3401)</td>\n",
              "      <td>tensor(-0.2951)</td>\n",
              "      <td>tensor(-0.5115)</td>\n",
              "      <td>tensor(-0.3492)</td>\n",
              "      <td>tensor(1.4995)</td>\n",
              "    </tr>\n",
              "    <tr>\n",
              "      <th>4267705</th>\n",
              "      <td>tensor(-1.0465)</td>\n",
              "      <td>tensor(-0.8756)</td>\n",
              "      <td>tensor(-0.2451)</td>\n",
              "      <td>tensor(-0.7037)</td>\n",
              "      <td>tensor(-0.1226)</td>\n",
              "      <td>tensor(3.1479)</td>\n",
              "      <td>tensor(-0.1604)</td>\n",
              "      <td>tensor(1.0924)</td>\n",
              "      <td>tensor(-0.2579)</td>\n",
              "      <td>tensor(0.2766)</td>\n",
              "      <td>...</td>\n",
              "      <td>tensor(-0.1537)</td>\n",
              "      <td>tensor(-0.1715)</td>\n",
              "      <td>tensor(0.1717)</td>\n",
              "      <td>tensor(1.1165)</td>\n",
              "      <td>tensor(0.1152)</td>\n",
              "      <td>tensor(-0.4570)</td>\n",
              "      <td>tensor(-0.4964)</td>\n",
              "      <td>tensor(-0.3853)</td>\n",
              "      <td>tensor(-0.0540)</td>\n",
              "      <td>tensor(1.6330)</td>\n",
              "    </tr>\n",
              "    <tr>\n",
              "      <th>5089604</th>\n",
              "      <td>tensor(-0.8256)</td>\n",
              "      <td>tensor(-0.8842)</td>\n",
              "      <td>tensor(-0.2996)</td>\n",
              "      <td>tensor(-0.7232)</td>\n",
              "      <td>tensor(-0.1747)</td>\n",
              "      <td>tensor(3.2510)</td>\n",
              "      <td>tensor(-0.1893)</td>\n",
              "      <td>tensor(1.0328)</td>\n",
              "      <td>tensor(-0.1472)</td>\n",
              "      <td>tensor(0.1549)</td>\n",
              "      <td>...</td>\n",
              "      <td>tensor(-0.1683)</td>\n",
              "      <td>tensor(-0.2515)</td>\n",
              "      <td>tensor(0.3352)</td>\n",
              "      <td>tensor(1.1287)</td>\n",
              "      <td>tensor(0.0671)</td>\n",
              "      <td>tensor(-0.4484)</td>\n",
              "      <td>tensor(-0.5037)</td>\n",
              "      <td>tensor(-0.3723)</td>\n",
              "      <td>tensor(-0.2588)</td>\n",
              "      <td>tensor(1.4470)</td>\n",
              "    </tr>\n",
              "  </tbody>\n",
              "</table>\n",
              "<p>12 rows × 128 columns</p>\n",
              "</div>\n",
              "      <button class=\"colab-df-convert\" onclick=\"convertToInteractive('df-4c7af10d-8b09-4a53-8b4c-53b87ccaaf5c')\"\n",
              "              title=\"Convert this dataframe to an interactive table.\"\n",
              "              style=\"display:none;\">\n",
              "        \n",
              "  <svg xmlns=\"http://www.w3.org/2000/svg\" height=\"24px\"viewBox=\"0 0 24 24\"\n",
              "       width=\"24px\">\n",
              "    <path d=\"M0 0h24v24H0V0z\" fill=\"none\"/>\n",
              "    <path d=\"M18.56 5.44l.94 2.06.94-2.06 2.06-.94-2.06-.94-.94-2.06-.94 2.06-2.06.94zm-11 1L8.5 8.5l.94-2.06 2.06-.94-2.06-.94L8.5 2.5l-.94 2.06-2.06.94zm10 10l.94 2.06.94-2.06 2.06-.94-2.06-.94-.94-2.06-.94 2.06-2.06.94z\"/><path d=\"M17.41 7.96l-1.37-1.37c-.4-.4-.92-.59-1.43-.59-.52 0-1.04.2-1.43.59L10.3 9.45l-7.72 7.72c-.78.78-.78 2.05 0 2.83L4 21.41c.39.39.9.59 1.41.59.51 0 1.02-.2 1.41-.59l7.78-7.78 2.81-2.81c.8-.78.8-2.07 0-2.86zM5.41 20L4 18.59l7.72-7.72 1.47 1.35L5.41 20z\"/>\n",
              "  </svg>\n",
              "      </button>\n",
              "      \n",
              "  <style>\n",
              "    .colab-df-container {\n",
              "      display:flex;\n",
              "      flex-wrap:wrap;\n",
              "      gap: 12px;\n",
              "    }\n",
              "\n",
              "    .colab-df-convert {\n",
              "      background-color: #E8F0FE;\n",
              "      border: none;\n",
              "      border-radius: 50%;\n",
              "      cursor: pointer;\n",
              "      display: none;\n",
              "      fill: #1967D2;\n",
              "      height: 32px;\n",
              "      padding: 0 0 0 0;\n",
              "      width: 32px;\n",
              "    }\n",
              "\n",
              "    .colab-df-convert:hover {\n",
              "      background-color: #E2EBFA;\n",
              "      box-shadow: 0px 1px 2px rgba(60, 64, 67, 0.3), 0px 1px 3px 1px rgba(60, 64, 67, 0.15);\n",
              "      fill: #174EA6;\n",
              "    }\n",
              "\n",
              "    [theme=dark] .colab-df-convert {\n",
              "      background-color: #3B4455;\n",
              "      fill: #D2E3FC;\n",
              "    }\n",
              "\n",
              "    [theme=dark] .colab-df-convert:hover {\n",
              "      background-color: #434B5C;\n",
              "      box-shadow: 0px 1px 3px 1px rgba(0, 0, 0, 0.15);\n",
              "      filter: drop-shadow(0px 1px 2px rgba(0, 0, 0, 0.3));\n",
              "      fill: #FFFFFF;\n",
              "    }\n",
              "  </style>\n",
              "\n",
              "      <script>\n",
              "        const buttonEl =\n",
              "          document.querySelector('#df-4c7af10d-8b09-4a53-8b4c-53b87ccaaf5c button.colab-df-convert');\n",
              "        buttonEl.style.display =\n",
              "          google.colab.kernel.accessAllowed ? 'block' : 'none';\n",
              "\n",
              "        async function convertToInteractive(key) {\n",
              "          const element = document.querySelector('#df-4c7af10d-8b09-4a53-8b4c-53b87ccaaf5c');\n",
              "          const dataTable =\n",
              "            await google.colab.kernel.invokeFunction('convertToInteractive',\n",
              "                                                     [key], {});\n",
              "          if (!dataTable) return;\n",
              "\n",
              "          const docLinkHtml = 'Like what you see? Visit the ' +\n",
              "            '<a target=\"_blank\" href=https://colab.research.google.com/notebooks/data_table.ipynb>data table notebook</a>'\n",
              "            + ' to learn more about interactive tables.';\n",
              "          element.innerHTML = '';\n",
              "          dataTable['output_type'] = 'display_data';\n",
              "          await google.colab.output.renderOutput(dataTable, element);\n",
              "          const docLink = document.createElement('div');\n",
              "          docLink.innerHTML = docLinkHtml;\n",
              "          element.appendChild(docLink);\n",
              "        }\n",
              "      </script>\n",
              "    </div>\n",
              "  </div>\n",
              "  "
            ]
          },
          "metadata": {},
          "execution_count": 119
        }
      ]
    },
    {
      "cell_type": "markdown",
      "metadata": {
        "id": "jc6rPo1eHeca"
      },
      "source": [
        "## Data"
      ]
    },
    {
      "cell_type": "code",
      "source": [
        "%cd /content/drive/MyDrive/Master\\ Thesis/data"
      ],
      "metadata": {
        "id": "dsKX_3D7mLY2"
      },
      "execution_count": null,
      "outputs": []
    },
    {
      "cell_type": "code",
      "source": [
        "data_predictions = pd.read_csv(\"predictions_lyrics_tags.csv\").drop(['Unnamed: 0'],axis=1)\n",
        "topn=100\n",
        "results = []\n",
        "results_df = pd.DataFrame(columns = [user_col, item_col, rating_col])\n",
        "\n",
        "for user, user_prediction in data_predictions.groupby('user_id'):\n",
        "    results_df = results_df.append(user_prediction.sort_values('count', ascending=False).head(topn))\n",
        "    "
      ],
      "metadata": {
        "id": "PEoc663Hhm44"
      },
      "execution_count": 62,
      "outputs": []
    },
    {
      "cell_type": "code",
      "execution_count": 66,
      "metadata": {
        "id": "_1AXovkyepH2"
      },
      "outputs": [],
      "source": [
        "data_interaction_new = results_df.merge(data_items_eval, on = 'track_id')"
      ]
    },
    {
      "cell_type": "code",
      "execution_count": 67,
      "metadata": {
        "colab": {
          "base_uri": "https://localhost:8080/",
          "height": 641
        },
        "id": "EkwEcnpNe-Tp",
        "outputId": "f8fa8b99-f0b0-43c7-f038-819f4933d9f4"
      },
      "outputs": [
        {
          "output_type": "execute_result",
          "data": {
            "text/plain": [
              "      user_id track_id     count           track_artist  \\\n",
              "213    119741  3981360  0.847441  oneohtrix point never   \n",
              "443    119741  4499794  0.817704                 divine   \n",
              "673    119741  6450105  0.804637              midge ure   \n",
              "901    119741  3406057  0.797154            kishi bashi   \n",
              "1121   119741  3985740  0.798931                 mayhem   \n",
              "...       ...      ...       ...                    ...   \n",
              "21376  119741  6118320  0.756475            leroy smart   \n",
              "21847  119741  3247416  0.749432             brenda lee   \n",
              "22545  119741  4849832  0.747796                 sun ra   \n",
              "22610  119741  6420826  0.749894        darlene zschech   \n",
              "23012  119741  6152332  0.746943        dizzy gillespie   \n",
              "\n",
              "                       track_name  \\\n",
              "213                        age of   \n",
              "443                  alphabet rap   \n",
              "673                        become   \n",
              "901                a song for you   \n",
              "1121                 agenda ignis   \n",
              "...                           ...   \n",
              "21376            ballistic affair   \n",
              "21847  a good man is hard to find   \n",
              "22545   angels and demons at play   \n",
              "22610           beautiful saviour   \n",
              "23012                   bang bang   \n",
              "\n",
              "                                            track_lyrics  \\\n",
              "213    Blow the wind southerly\\nBlow the wind souther...   \n",
              "443    (A, B, C, D\\nA\\nA)\\n\\nA, B, C, D, E, F, G\\nH, ...   \n",
              "673    Come stand beside me\\nCome gather 'round me\\nC...   \n",
              "901    A song for you\\nI wrote in memory\\nAs faint as...   \n",
              "1121   Burned alive\\nIn purgatory flames\\nBuried aliv...   \n",
              "...                                                  ...   \n",
              "21376  Ballistic affair\\nBallistic affair\\n\\nWe used ...   \n",
              "21847  A good man is hard to find\\nYou always get the...   \n",
              "22545  Angels, demons, play (Angels, demons, play)\\nD...   \n",
              "22610  All my days I will sing the song of gladness\\n...   \n",
              "23012  Bang bang bang\\nBang bang bang\\nIs it the way ...   \n",
              "\n",
              "                                          lyrics_cleaned language  \\\n",
              "213    blow the wind southerly blow the wind southerl...       en   \n",
              "443     a b c d a a a b c d e f g h i j k elementary ...       en   \n",
              "673    come stand beside me come gather round me come...       en   \n",
              "901    a song for you i wrote in memory as faint as a...       en   \n",
              "1121   burned alive in purgatory flames buried alive ...       en   \n",
              "...                                                  ...      ...   \n",
              "21376  ballistic affair ballistic affair we used to l...       en   \n",
              "21847  a good man is hard to find you always get the ...       en   \n",
              "22545  angels demons play demons angels sing a rare r...       en   \n",
              "22610  all my days i will sing the song of gladness g...       en   \n",
              "23012  bang bang bang bang bang bang is it the way th...       en   \n",
              "\n",
              "                                               track_tag  \\\n",
              "213    {'goosebumps': 100, 'neo-renaissance': 100, 'i...   \n",
              "443    {'dance': 100, 'male vocalists': 100, 'swearin...   \n",
              "673    {'pop': 100, 'british': 100, 'Scottish': 100, ...   \n",
              "901                                         {'fip': 100}   \n",
              "1121                   {'black metal': 100, 'metal': 50}   \n",
              "...                                                  ...   \n",
              "21376  {'reggae': 100, 'roots reggae': 42, 'Ballistic...   \n",
              "21847  {'oldies': 100, 'Brenda Lee': 67, 'female': 34...   \n",
              "22545  {'jazz': 100, 'free jazz': 50, 'june 2006 bere...   \n",
              "22610  {'pop': 100, 'christian': 50, 'hymns': 50, 'He...   \n",
              "23012  {'jazz': 100, 'West Wing': 50, '60s': 25, 'tru...   \n",
              "\n",
              "                                                    tags  \\\n",
              "213       goosebumps neo-renaissance industrial roccoco    \n",
              "443    dance male vocalists swearing Hi-NRG expletive...   \n",
              "673    pop british Scottish 2014 2014 single hyperten...   \n",
              "901                                                 fip    \n",
              "1121                                  black metal metal    \n",
              "...                                                  ...   \n",
              "21376  reggae roots reggae Ballistic Affair Riddim ba...   \n",
              "21847  oldies Brenda Lee female 60s Fizzy Cocktails i...   \n",
              "22545  jazz free jazz june 2006 berep tag pre1960s tr...   \n",
              "22610  pop christian hymns Heavenly Manna Christian P...   \n",
              "23012  jazz West Wing 60s trumpet cover bebop fip lat...   \n",
              "\n",
              "                                                abstract  \n",
              "213    daniel lopatin , best known by the recording a...  \n",
              "443    chaos divine is a progressive metal band from ...  \n",
              "673    james ure obe  is a scottish musician, singer-...  \n",
              "901    kaoru ishibashi , who performs as kishi bashi,...  \n",
              "1121   natalie ann cohen  known by her stage name as ...  \n",
              "...                                                  ...  \n",
              "21376      leroy smart  is a reggae singer and producer.  \n",
              "21847  brenda lee eager  is an american soul singer, ...  \n",
              "22545  le sony'r ra , better known as sun ra, was an ...  \n",
              "22610  darlene joyce zschech  is an australian pentec...  \n",
              "23012  john birks \"dizzy\" gillespie  was an american ...  \n",
              "\n",
              "[100 rows x 11 columns]"
            ],
            "text/html": [
              "\n",
              "  <div id=\"df-593a65e2-ca93-4bca-98fc-bc605598ec6e\">\n",
              "    <div class=\"colab-df-container\">\n",
              "      <div>\n",
              "<style scoped>\n",
              "    .dataframe tbody tr th:only-of-type {\n",
              "        vertical-align: middle;\n",
              "    }\n",
              "\n",
              "    .dataframe tbody tr th {\n",
              "        vertical-align: top;\n",
              "    }\n",
              "\n",
              "    .dataframe thead th {\n",
              "        text-align: right;\n",
              "    }\n",
              "</style>\n",
              "<table border=\"1\" class=\"dataframe\">\n",
              "  <thead>\n",
              "    <tr style=\"text-align: right;\">\n",
              "      <th></th>\n",
              "      <th>user_id</th>\n",
              "      <th>track_id</th>\n",
              "      <th>count</th>\n",
              "      <th>track_artist</th>\n",
              "      <th>track_name</th>\n",
              "      <th>track_lyrics</th>\n",
              "      <th>lyrics_cleaned</th>\n",
              "      <th>language</th>\n",
              "      <th>track_tag</th>\n",
              "      <th>tags</th>\n",
              "      <th>abstract</th>\n",
              "    </tr>\n",
              "  </thead>\n",
              "  <tbody>\n",
              "    <tr>\n",
              "      <th>213</th>\n",
              "      <td>119741</td>\n",
              "      <td>3981360</td>\n",
              "      <td>0.847441</td>\n",
              "      <td>oneohtrix point never</td>\n",
              "      <td>age of</td>\n",
              "      <td>Blow the wind southerly\\nBlow the wind souther...</td>\n",
              "      <td>blow the wind southerly blow the wind southerl...</td>\n",
              "      <td>en</td>\n",
              "      <td>{'goosebumps': 100, 'neo-renaissance': 100, 'i...</td>\n",
              "      <td>goosebumps neo-renaissance industrial roccoco</td>\n",
              "      <td>daniel lopatin , best known by the recording a...</td>\n",
              "    </tr>\n",
              "    <tr>\n",
              "      <th>443</th>\n",
              "      <td>119741</td>\n",
              "      <td>4499794</td>\n",
              "      <td>0.817704</td>\n",
              "      <td>divine</td>\n",
              "      <td>alphabet rap</td>\n",
              "      <td>(A, B, C, D\\nA\\nA)\\n\\nA, B, C, D, E, F, G\\nH, ...</td>\n",
              "      <td>a b c d a a a b c d e f g h i j k elementary ...</td>\n",
              "      <td>en</td>\n",
              "      <td>{'dance': 100, 'male vocalists': 100, 'swearin...</td>\n",
              "      <td>dance male vocalists swearing Hi-NRG expletive...</td>\n",
              "      <td>chaos divine is a progressive metal band from ...</td>\n",
              "    </tr>\n",
              "    <tr>\n",
              "      <th>673</th>\n",
              "      <td>119741</td>\n",
              "      <td>6450105</td>\n",
              "      <td>0.804637</td>\n",
              "      <td>midge ure</td>\n",
              "      <td>become</td>\n",
              "      <td>Come stand beside me\\nCome gather 'round me\\nC...</td>\n",
              "      <td>come stand beside me come gather round me come...</td>\n",
              "      <td>en</td>\n",
              "      <td>{'pop': 100, 'british': 100, 'Scottish': 100, ...</td>\n",
              "      <td>pop british Scottish 2014 2014 single hyperten...</td>\n",
              "      <td>james ure obe  is a scottish musician, singer-...</td>\n",
              "    </tr>\n",
              "    <tr>\n",
              "      <th>901</th>\n",
              "      <td>119741</td>\n",
              "      <td>3406057</td>\n",
              "      <td>0.797154</td>\n",
              "      <td>kishi bashi</td>\n",
              "      <td>a song for you</td>\n",
              "      <td>A song for you\\nI wrote in memory\\nAs faint as...</td>\n",
              "      <td>a song for you i wrote in memory as faint as a...</td>\n",
              "      <td>en</td>\n",
              "      <td>{'fip': 100}</td>\n",
              "      <td>fip</td>\n",
              "      <td>kaoru ishibashi , who performs as kishi bashi,...</td>\n",
              "    </tr>\n",
              "    <tr>\n",
              "      <th>1121</th>\n",
              "      <td>119741</td>\n",
              "      <td>3985740</td>\n",
              "      <td>0.798931</td>\n",
              "      <td>mayhem</td>\n",
              "      <td>agenda ignis</td>\n",
              "      <td>Burned alive\\nIn purgatory flames\\nBuried aliv...</td>\n",
              "      <td>burned alive in purgatory flames buried alive ...</td>\n",
              "      <td>en</td>\n",
              "      <td>{'black metal': 100, 'metal': 50}</td>\n",
              "      <td>black metal metal</td>\n",
              "      <td>natalie ann cohen  known by her stage name as ...</td>\n",
              "    </tr>\n",
              "    <tr>\n",
              "      <th>...</th>\n",
              "      <td>...</td>\n",
              "      <td>...</td>\n",
              "      <td>...</td>\n",
              "      <td>...</td>\n",
              "      <td>...</td>\n",
              "      <td>...</td>\n",
              "      <td>...</td>\n",
              "      <td>...</td>\n",
              "      <td>...</td>\n",
              "      <td>...</td>\n",
              "      <td>...</td>\n",
              "    </tr>\n",
              "    <tr>\n",
              "      <th>21376</th>\n",
              "      <td>119741</td>\n",
              "      <td>6118320</td>\n",
              "      <td>0.756475</td>\n",
              "      <td>leroy smart</td>\n",
              "      <td>ballistic affair</td>\n",
              "      <td>Ballistic affair\\nBallistic affair\\n\\nWe used ...</td>\n",
              "      <td>ballistic affair ballistic affair we used to l...</td>\n",
              "      <td>en</td>\n",
              "      <td>{'reggae': 100, 'roots reggae': 42, 'Ballistic...</td>\n",
              "      <td>reggae roots reggae Ballistic Affair Riddim ba...</td>\n",
              "      <td>leroy smart  is a reggae singer and producer.</td>\n",
              "    </tr>\n",
              "    <tr>\n",
              "      <th>21847</th>\n",
              "      <td>119741</td>\n",
              "      <td>3247416</td>\n",
              "      <td>0.749432</td>\n",
              "      <td>brenda lee</td>\n",
              "      <td>a good man is hard to find</td>\n",
              "      <td>A good man is hard to find\\nYou always get the...</td>\n",
              "      <td>a good man is hard to find you always get the ...</td>\n",
              "      <td>en</td>\n",
              "      <td>{'oldies': 100, 'Brenda Lee': 67, 'female': 34...</td>\n",
              "      <td>oldies Brenda Lee female 60s Fizzy Cocktails i...</td>\n",
              "      <td>brenda lee eager  is an american soul singer, ...</td>\n",
              "    </tr>\n",
              "    <tr>\n",
              "      <th>22545</th>\n",
              "      <td>119741</td>\n",
              "      <td>4849832</td>\n",
              "      <td>0.747796</td>\n",
              "      <td>sun ra</td>\n",
              "      <td>angels and demons at play</td>\n",
              "      <td>Angels, demons, play (Angels, demons, play)\\nD...</td>\n",
              "      <td>angels demons play demons angels sing a rare r...</td>\n",
              "      <td>en</td>\n",
              "      <td>{'jazz': 100, 'free jazz': 50, 'june 2006 bere...</td>\n",
              "      <td>jazz free jazz june 2006 berep tag pre1960s tr...</td>\n",
              "      <td>le sony'r ra , better known as sun ra, was an ...</td>\n",
              "    </tr>\n",
              "    <tr>\n",
              "      <th>22610</th>\n",
              "      <td>119741</td>\n",
              "      <td>6420826</td>\n",
              "      <td>0.749894</td>\n",
              "      <td>darlene zschech</td>\n",
              "      <td>beautiful saviour</td>\n",
              "      <td>All my days I will sing the song of gladness\\n...</td>\n",
              "      <td>all my days i will sing the song of gladness g...</td>\n",
              "      <td>en</td>\n",
              "      <td>{'pop': 100, 'christian': 50, 'hymns': 50, 'He...</td>\n",
              "      <td>pop christian hymns Heavenly Manna Christian P...</td>\n",
              "      <td>darlene joyce zschech  is an australian pentec...</td>\n",
              "    </tr>\n",
              "    <tr>\n",
              "      <th>23012</th>\n",
              "      <td>119741</td>\n",
              "      <td>6152332</td>\n",
              "      <td>0.746943</td>\n",
              "      <td>dizzy gillespie</td>\n",
              "      <td>bang bang</td>\n",
              "      <td>Bang bang bang\\nBang bang bang\\nIs it the way ...</td>\n",
              "      <td>bang bang bang bang bang bang is it the way th...</td>\n",
              "      <td>en</td>\n",
              "      <td>{'jazz': 100, 'West Wing': 50, '60s': 25, 'tru...</td>\n",
              "      <td>jazz West Wing 60s trumpet cover bebop fip lat...</td>\n",
              "      <td>john birks \"dizzy\" gillespie  was an american ...</td>\n",
              "    </tr>\n",
              "  </tbody>\n",
              "</table>\n",
              "<p>100 rows × 11 columns</p>\n",
              "</div>\n",
              "      <button class=\"colab-df-convert\" onclick=\"convertToInteractive('df-593a65e2-ca93-4bca-98fc-bc605598ec6e')\"\n",
              "              title=\"Convert this dataframe to an interactive table.\"\n",
              "              style=\"display:none;\">\n",
              "        \n",
              "  <svg xmlns=\"http://www.w3.org/2000/svg\" height=\"24px\"viewBox=\"0 0 24 24\"\n",
              "       width=\"24px\">\n",
              "    <path d=\"M0 0h24v24H0V0z\" fill=\"none\"/>\n",
              "    <path d=\"M18.56 5.44l.94 2.06.94-2.06 2.06-.94-2.06-.94-.94-2.06-.94 2.06-2.06.94zm-11 1L8.5 8.5l.94-2.06 2.06-.94-2.06-.94L8.5 2.5l-.94 2.06-2.06.94zm10 10l.94 2.06.94-2.06 2.06-.94-2.06-.94-.94-2.06-.94 2.06-2.06.94z\"/><path d=\"M17.41 7.96l-1.37-1.37c-.4-.4-.92-.59-1.43-.59-.52 0-1.04.2-1.43.59L10.3 9.45l-7.72 7.72c-.78.78-.78 2.05 0 2.83L4 21.41c.39.39.9.59 1.41.59.51 0 1.02-.2 1.41-.59l7.78-7.78 2.81-2.81c.8-.78.8-2.07 0-2.86zM5.41 20L4 18.59l7.72-7.72 1.47 1.35L5.41 20z\"/>\n",
              "  </svg>\n",
              "      </button>\n",
              "      \n",
              "  <style>\n",
              "    .colab-df-container {\n",
              "      display:flex;\n",
              "      flex-wrap:wrap;\n",
              "      gap: 12px;\n",
              "    }\n",
              "\n",
              "    .colab-df-convert {\n",
              "      background-color: #E8F0FE;\n",
              "      border: none;\n",
              "      border-radius: 50%;\n",
              "      cursor: pointer;\n",
              "      display: none;\n",
              "      fill: #1967D2;\n",
              "      height: 32px;\n",
              "      padding: 0 0 0 0;\n",
              "      width: 32px;\n",
              "    }\n",
              "\n",
              "    .colab-df-convert:hover {\n",
              "      background-color: #E2EBFA;\n",
              "      box-shadow: 0px 1px 2px rgba(60, 64, 67, 0.3), 0px 1px 3px 1px rgba(60, 64, 67, 0.15);\n",
              "      fill: #174EA6;\n",
              "    }\n",
              "\n",
              "    [theme=dark] .colab-df-convert {\n",
              "      background-color: #3B4455;\n",
              "      fill: #D2E3FC;\n",
              "    }\n",
              "\n",
              "    [theme=dark] .colab-df-convert:hover {\n",
              "      background-color: #434B5C;\n",
              "      box-shadow: 0px 1px 3px 1px rgba(0, 0, 0, 0.15);\n",
              "      filter: drop-shadow(0px 1px 2px rgba(0, 0, 0, 0.3));\n",
              "      fill: #FFFFFF;\n",
              "    }\n",
              "  </style>\n",
              "\n",
              "      <script>\n",
              "        const buttonEl =\n",
              "          document.querySelector('#df-593a65e2-ca93-4bca-98fc-bc605598ec6e button.colab-df-convert');\n",
              "        buttonEl.style.display =\n",
              "          google.colab.kernel.accessAllowed ? 'block' : 'none';\n",
              "\n",
              "        async function convertToInteractive(key) {\n",
              "          const element = document.querySelector('#df-593a65e2-ca93-4bca-98fc-bc605598ec6e');\n",
              "          const dataTable =\n",
              "            await google.colab.kernel.invokeFunction('convertToInteractive',\n",
              "                                                     [key], {});\n",
              "          if (!dataTable) return;\n",
              "\n",
              "          const docLinkHtml = 'Like what you see? Visit the ' +\n",
              "            '<a target=\"_blank\" href=https://colab.research.google.com/notebooks/data_table.ipynb>data table notebook</a>'\n",
              "            + ' to learn more about interactive tables.';\n",
              "          element.innerHTML = '';\n",
              "          dataTable['output_type'] = 'display_data';\n",
              "          await google.colab.output.renderOutput(dataTable, element);\n",
              "          const docLink = document.createElement('div');\n",
              "          docLink.innerHTML = docLinkHtml;\n",
              "          element.appendChild(docLink);\n",
              "        }\n",
              "      </script>\n",
              "    </div>\n",
              "  </div>\n",
              "  "
            ]
          },
          "metadata": {},
          "execution_count": 67
        }
      ],
      "source": [
        "data_interaction_new[data_interaction_new.user_id == 119741]"
      ]
    },
    {
      "cell_type": "code",
      "execution_count": 106,
      "metadata": {
        "id": "E333xxdQfJs2",
        "colab": {
          "base_uri": "https://localhost:8080/",
          "height": 424
        },
        "outputId": "49f138da-ad44-4457-c886-bc836dc511b8"
      },
      "outputs": [
        {
          "output_type": "execute_result",
          "data": {
            "text/plain": [
              "                  track_artist gender_artist  \\\n",
              "0                      aaliyah        female   \n",
              "1                      aaliyah        female   \n",
              "2                abbey lincoln        female   \n",
              "3                abbey lincoln        female   \n",
              "4                abbey lincoln        female   \n",
              "...                        ...           ...   \n",
              "10099    the teardrop explodes          male   \n",
              "10100          the new seekers        female   \n",
              "10101           tony toni toné          male   \n",
              "10102           tony toni toné          male   \n",
              "10103  joel plaskett emergency          male   \n",
              "\n",
              "                                      track_name  \\\n",
              "0                   at your best (you are loved)   \n",
              "1      aaliyah & timberland-we need a resolution   \n",
              "2                        ain't nobody's business   \n",
              "3                                       being me   \n",
              "4                  and how i hoped for your love   \n",
              "...                                          ...   \n",
              "10099                          bent out of shape   \n",
              "10100                           beautiful people   \n",
              "10101                                all my love   \n",
              "10102                                all the way   \n",
              "10103                             blinding light   \n",
              "\n",
              "                                            track_lyrics  \\\n",
              "0      (One-two checka\\nBaby let me know what's up)\\n...   \n",
              "1      Ah, ah\\nI'm tired of arguin', girl\\nI'm tired,...   \n",
              "2      Ain't nobody's business what I do\\nGet me a sh...   \n",
              "3      All along the way there were things to do\\nAlw...   \n",
              "4      And I thought that life\\nWould be so cold\\nI t...   \n",
              "...                                                  ...   \n",
              "10099  All my life I've been bent outta shape\\nCan't ...   \n",
              "10100  Beautiful people\\nYou live in the same world a...   \n",
              "10101  All my love (all my love, yeah)\\nAll my love (...   \n",
              "10102  Ay boys…\\nYes, ma’am\\nIs we gon’ record anothe...   \n",
              "10103  Behind the band\\nThat nobody hears\\nIs a neon ...   \n",
              "\n",
              "                                          lyrics_cleaned language  track_id  \\\n",
              "0       one two checka baby let me know what s up if ...       en   5415248   \n",
              "1      ah ah i m tired of arguin girl i m tired i m t...       en   3630918   \n",
              "2      ain t nobody s business what i do get me a sho...       en   4063721   \n",
              "3      all along the way there were things to do alwa...       en   6553435   \n",
              "4      and i thought that life would be so cold i tho...       en   4757037   \n",
              "...                                                  ...      ...       ...   \n",
              "10099  all my life i ve been bent outta shape can t y...       en   6634365   \n",
              "10100  beautiful people you live in the same world as...       en   6419163   \n",
              "10101  all my love all my love here’s a little thing ...       en   4316933   \n",
              "10102  ay boys… yes ma’am is we gon’ record another a...       en   4400596   \n",
              "10103  behind the band that nobody hears is a neon si...       en   7140866   \n",
              "\n",
              "                                               track_tag  \n",
              "0                       {'whtd-FM': 100, 'wjlb-FM': 100}  \n",
              "1      {'female vocalists': 100, 'rnb': 100, 'bang': ...  \n",
              "2      {'jazz vocal': 100, 'female vocalists': 100, '...  \n",
              "3      {'jazz': 100, 'jazz vocal': 100, 'Blues Bar': ...  \n",
              "4      {'jazz': 100, 'jazz vocal': 100, 'vocal jazz':...  \n",
              "...                                                  ...  \n",
              "10099  {'post-punk': 100, 'Post punk': 100, 'space ro...  \n",
              "10100  {'pop': 100, 'oldies': 100, 'Beautiful Songs':...  \n",
              "10101  {'rnb': 100, '90s Rnb': 50, 'tony toni tone': ...  \n",
              "10102                  {'New Soul - Hip Hop - Rap': 100}  \n",
              "10103  {'folk': 100, 'Canadian': 100, 'lookinto': 100...  \n",
              "\n",
              "[10104 rows x 8 columns]"
            ],
            "text/html": [
              "\n",
              "  <div id=\"df-401d5c33-081d-4757-a104-3a40bafe66dc\">\n",
              "    <div class=\"colab-df-container\">\n",
              "      <div>\n",
              "<style scoped>\n",
              "    .dataframe tbody tr th:only-of-type {\n",
              "        vertical-align: middle;\n",
              "    }\n",
              "\n",
              "    .dataframe tbody tr th {\n",
              "        vertical-align: top;\n",
              "    }\n",
              "\n",
              "    .dataframe thead th {\n",
              "        text-align: right;\n",
              "    }\n",
              "</style>\n",
              "<table border=\"1\" class=\"dataframe\">\n",
              "  <thead>\n",
              "    <tr style=\"text-align: right;\">\n",
              "      <th></th>\n",
              "      <th>track_artist</th>\n",
              "      <th>gender_artist</th>\n",
              "      <th>track_name</th>\n",
              "      <th>track_lyrics</th>\n",
              "      <th>lyrics_cleaned</th>\n",
              "      <th>language</th>\n",
              "      <th>track_id</th>\n",
              "      <th>track_tag</th>\n",
              "    </tr>\n",
              "  </thead>\n",
              "  <tbody>\n",
              "    <tr>\n",
              "      <th>0</th>\n",
              "      <td>aaliyah</td>\n",
              "      <td>female</td>\n",
              "      <td>at your best (you are loved)</td>\n",
              "      <td>(One-two checka\\nBaby let me know what's up)\\n...</td>\n",
              "      <td>one two checka baby let me know what s up if ...</td>\n",
              "      <td>en</td>\n",
              "      <td>5415248</td>\n",
              "      <td>{'whtd-FM': 100, 'wjlb-FM': 100}</td>\n",
              "    </tr>\n",
              "    <tr>\n",
              "      <th>1</th>\n",
              "      <td>aaliyah</td>\n",
              "      <td>female</td>\n",
              "      <td>aaliyah &amp; timberland-we need a resolution</td>\n",
              "      <td>Ah, ah\\nI'm tired of arguin', girl\\nI'm tired,...</td>\n",
              "      <td>ah ah i m tired of arguin girl i m tired i m t...</td>\n",
              "      <td>en</td>\n",
              "      <td>3630918</td>\n",
              "      <td>{'female vocalists': 100, 'rnb': 100, 'bang': ...</td>\n",
              "    </tr>\n",
              "    <tr>\n",
              "      <th>2</th>\n",
              "      <td>abbey lincoln</td>\n",
              "      <td>female</td>\n",
              "      <td>ain't nobody's business</td>\n",
              "      <td>Ain't nobody's business what I do\\nGet me a sh...</td>\n",
              "      <td>ain t nobody s business what i do get me a sho...</td>\n",
              "      <td>en</td>\n",
              "      <td>4063721</td>\n",
              "      <td>{'jazz vocal': 100, 'female vocalists': 100, '...</td>\n",
              "    </tr>\n",
              "    <tr>\n",
              "      <th>3</th>\n",
              "      <td>abbey lincoln</td>\n",
              "      <td>female</td>\n",
              "      <td>being me</td>\n",
              "      <td>All along the way there were things to do\\nAlw...</td>\n",
              "      <td>all along the way there were things to do alwa...</td>\n",
              "      <td>en</td>\n",
              "      <td>6553435</td>\n",
              "      <td>{'jazz': 100, 'jazz vocal': 100, 'Blues Bar': ...</td>\n",
              "    </tr>\n",
              "    <tr>\n",
              "      <th>4</th>\n",
              "      <td>abbey lincoln</td>\n",
              "      <td>female</td>\n",
              "      <td>and how i hoped for your love</td>\n",
              "      <td>And I thought that life\\nWould be so cold\\nI t...</td>\n",
              "      <td>and i thought that life would be so cold i tho...</td>\n",
              "      <td>en</td>\n",
              "      <td>4757037</td>\n",
              "      <td>{'jazz': 100, 'jazz vocal': 100, 'vocal jazz':...</td>\n",
              "    </tr>\n",
              "    <tr>\n",
              "      <th>...</th>\n",
              "      <td>...</td>\n",
              "      <td>...</td>\n",
              "      <td>...</td>\n",
              "      <td>...</td>\n",
              "      <td>...</td>\n",
              "      <td>...</td>\n",
              "      <td>...</td>\n",
              "      <td>...</td>\n",
              "    </tr>\n",
              "    <tr>\n",
              "      <th>10099</th>\n",
              "      <td>the teardrop explodes</td>\n",
              "      <td>male</td>\n",
              "      <td>bent out of shape</td>\n",
              "      <td>All my life I've been bent outta shape\\nCan't ...</td>\n",
              "      <td>all my life i ve been bent outta shape can t y...</td>\n",
              "      <td>en</td>\n",
              "      <td>6634365</td>\n",
              "      <td>{'post-punk': 100, 'Post punk': 100, 'space ro...</td>\n",
              "    </tr>\n",
              "    <tr>\n",
              "      <th>10100</th>\n",
              "      <td>the new seekers</td>\n",
              "      <td>female</td>\n",
              "      <td>beautiful people</td>\n",
              "      <td>Beautiful people\\nYou live in the same world a...</td>\n",
              "      <td>beautiful people you live in the same world as...</td>\n",
              "      <td>en</td>\n",
              "      <td>6419163</td>\n",
              "      <td>{'pop': 100, 'oldies': 100, 'Beautiful Songs':...</td>\n",
              "    </tr>\n",
              "    <tr>\n",
              "      <th>10101</th>\n",
              "      <td>tony toni toné</td>\n",
              "      <td>male</td>\n",
              "      <td>all my love</td>\n",
              "      <td>All my love (all my love, yeah)\\nAll my love (...</td>\n",
              "      <td>all my love all my love here’s a little thing ...</td>\n",
              "      <td>en</td>\n",
              "      <td>4316933</td>\n",
              "      <td>{'rnb': 100, '90s Rnb': 50, 'tony toni tone': ...</td>\n",
              "    </tr>\n",
              "    <tr>\n",
              "      <th>10102</th>\n",
              "      <td>tony toni toné</td>\n",
              "      <td>male</td>\n",
              "      <td>all the way</td>\n",
              "      <td>Ay boys…\\nYes, ma’am\\nIs we gon’ record anothe...</td>\n",
              "      <td>ay boys… yes ma’am is we gon’ record another a...</td>\n",
              "      <td>en</td>\n",
              "      <td>4400596</td>\n",
              "      <td>{'New Soul - Hip Hop - Rap': 100}</td>\n",
              "    </tr>\n",
              "    <tr>\n",
              "      <th>10103</th>\n",
              "      <td>joel plaskett emergency</td>\n",
              "      <td>male</td>\n",
              "      <td>blinding light</td>\n",
              "      <td>Behind the band\\nThat nobody hears\\nIs a neon ...</td>\n",
              "      <td>behind the band that nobody hears is a neon si...</td>\n",
              "      <td>en</td>\n",
              "      <td>7140866</td>\n",
              "      <td>{'folk': 100, 'Canadian': 100, 'lookinto': 100...</td>\n",
              "    </tr>\n",
              "  </tbody>\n",
              "</table>\n",
              "<p>10104 rows × 8 columns</p>\n",
              "</div>\n",
              "      <button class=\"colab-df-convert\" onclick=\"convertToInteractive('df-401d5c33-081d-4757-a104-3a40bafe66dc')\"\n",
              "              title=\"Convert this dataframe to an interactive table.\"\n",
              "              style=\"display:none;\">\n",
              "        \n",
              "  <svg xmlns=\"http://www.w3.org/2000/svg\" height=\"24px\"viewBox=\"0 0 24 24\"\n",
              "       width=\"24px\">\n",
              "    <path d=\"M0 0h24v24H0V0z\" fill=\"none\"/>\n",
              "    <path d=\"M18.56 5.44l.94 2.06.94-2.06 2.06-.94-2.06-.94-.94-2.06-.94 2.06-2.06.94zm-11 1L8.5 8.5l.94-2.06 2.06-.94-2.06-.94L8.5 2.5l-.94 2.06-2.06.94zm10 10l.94 2.06.94-2.06 2.06-.94-2.06-.94-.94-2.06-.94 2.06-2.06.94z\"/><path d=\"M17.41 7.96l-1.37-1.37c-.4-.4-.92-.59-1.43-.59-.52 0-1.04.2-1.43.59L10.3 9.45l-7.72 7.72c-.78.78-.78 2.05 0 2.83L4 21.41c.39.39.9.59 1.41.59.51 0 1.02-.2 1.41-.59l7.78-7.78 2.81-2.81c.8-.78.8-2.07 0-2.86zM5.41 20L4 18.59l7.72-7.72 1.47 1.35L5.41 20z\"/>\n",
              "  </svg>\n",
              "      </button>\n",
              "      \n",
              "  <style>\n",
              "    .colab-df-container {\n",
              "      display:flex;\n",
              "      flex-wrap:wrap;\n",
              "      gap: 12px;\n",
              "    }\n",
              "\n",
              "    .colab-df-convert {\n",
              "      background-color: #E8F0FE;\n",
              "      border: none;\n",
              "      border-radius: 50%;\n",
              "      cursor: pointer;\n",
              "      display: none;\n",
              "      fill: #1967D2;\n",
              "      height: 32px;\n",
              "      padding: 0 0 0 0;\n",
              "      width: 32px;\n",
              "    }\n",
              "\n",
              "    .colab-df-convert:hover {\n",
              "      background-color: #E2EBFA;\n",
              "      box-shadow: 0px 1px 2px rgba(60, 64, 67, 0.3), 0px 1px 3px 1px rgba(60, 64, 67, 0.15);\n",
              "      fill: #174EA6;\n",
              "    }\n",
              "\n",
              "    [theme=dark] .colab-df-convert {\n",
              "      background-color: #3B4455;\n",
              "      fill: #D2E3FC;\n",
              "    }\n",
              "\n",
              "    [theme=dark] .colab-df-convert:hover {\n",
              "      background-color: #434B5C;\n",
              "      box-shadow: 0px 1px 3px 1px rgba(0, 0, 0, 0.15);\n",
              "      filter: drop-shadow(0px 1px 2px rgba(0, 0, 0, 0.3));\n",
              "      fill: #FFFFFF;\n",
              "    }\n",
              "  </style>\n",
              "\n",
              "      <script>\n",
              "        const buttonEl =\n",
              "          document.querySelector('#df-401d5c33-081d-4757-a104-3a40bafe66dc button.colab-df-convert');\n",
              "        buttonEl.style.display =\n",
              "          google.colab.kernel.accessAllowed ? 'block' : 'none';\n",
              "\n",
              "        async function convertToInteractive(key) {\n",
              "          const element = document.querySelector('#df-401d5c33-081d-4757-a104-3a40bafe66dc');\n",
              "          const dataTable =\n",
              "            await google.colab.kernel.invokeFunction('convertToInteractive',\n",
              "                                                     [key], {});\n",
              "          if (!dataTable) return;\n",
              "\n",
              "          const docLinkHtml = 'Like what you see? Visit the ' +\n",
              "            '<a target=\"_blank\" href=https://colab.research.google.com/notebooks/data_table.ipynb>data table notebook</a>'\n",
              "            + ' to learn more about interactive tables.';\n",
              "          element.innerHTML = '';\n",
              "          dataTable['output_type'] = 'display_data';\n",
              "          await google.colab.output.renderOutput(dataTable, element);\n",
              "          const docLink = document.createElement('div');\n",
              "          docLink.innerHTML = docLinkHtml;\n",
              "          element.appendChild(docLink);\n",
              "        }\n",
              "      </script>\n",
              "    </div>\n",
              "  </div>\n",
              "  "
            ]
          },
          "metadata": {},
          "execution_count": 106
        }
      ],
      "source": [
        "data_all_info = pd.read_csv(\"music/data_all_info.txt\", sep=\"\\t\").drop(['Unnamed: 0'],axis=1)\n"
      ]
    },
    {
      "cell_type": "code",
      "source": [
        "data_all_info = data_all_info[['track_artist', 'gender_artist', 'track_id']]"
      ],
      "metadata": {
        "id": "nq6IgVRlmhb3"
      },
      "execution_count": null,
      "outputs": []
    },
    {
      "cell_type": "code",
      "execution_count": 69,
      "metadata": {
        "id": "Wx9d2jqQfZ6M"
      },
      "outputs": [],
      "source": [
        "data_user = pd.read_csv(\"data_user.txt\", sep=\"\\t\").drop(['Unnamed: 0'],axis=1)\n",
        "data_user.columns = ['user_id', 'gender_user']"
      ]
    },
    {
      "cell_type": "code",
      "source": [
        "data_classification = data_all_info\n",
        "replace_dict1 = {'m' : 0, 'f' : 1}\n",
        "replace_dict2 = {'male' : 0, 'female' : 1}\n",
        "#data_classification['gender_user'] = data_classification['gender_user'].replace(replace_dict1)\n",
        "data_classification['gender_artist'] = data_classification['gender_artist'].replace(replace_dict2)\n",
        "data_classification = data_classification.merge(data_tracks_tags_lyrics[['track_id', 'tags', 'abstract']], on = 'track_id')\n",
        "data_classification"
      ],
      "metadata": {
        "colab": {
          "base_uri": "https://localhost:8080/",
          "height": 641
        },
        "id": "qc96JC7pl0sJ",
        "outputId": "8728009b-8193-4d9d-ddab-3f934587c2ab"
      },
      "execution_count": 119,
      "outputs": [
        {
          "output_type": "execute_result",
          "data": {
            "text/plain": [
              "         track_artist  gender_artist  \\\n",
              "0             aaliyah              1   \n",
              "1             aaliyah              1   \n",
              "2       abbey lincoln              1   \n",
              "3       abbey lincoln              1   \n",
              "4       abbey lincoln              1   \n",
              "...               ...            ...   \n",
              "4094       some girls              0   \n",
              "4095       some girls              0   \n",
              "4096   circus maximus              0   \n",
              "4097    monster movie              0   \n",
              "4098  ellen mcilwaine              1   \n",
              "\n",
              "                                     track_name  \\\n",
              "0                  at your best (you are loved)   \n",
              "1     aaliyah & timberland-we need a resolution   \n",
              "2                       ain't nobody's business   \n",
              "3                                      being me   \n",
              "4                 and how i hoped for your love   \n",
              "...                                         ...   \n",
              "4094             all my friends are going death   \n",
              "4095                             beautiful rune   \n",
              "4096                       architect of fortune   \n",
              "4097                   a place in the mountains   \n",
              "4098                                 all to you   \n",
              "\n",
              "                                           track_lyrics  \\\n",
              "0     (One-two checka\\nBaby let me know what's up)\\n...   \n",
              "1     Ah, ah\\nI'm tired of arguin', girl\\nI'm tired,...   \n",
              "2     Ain't nobody's business what I do\\nGet me a sh...   \n",
              "3     All along the way there were things to do\\nAlw...   \n",
              "4     And I thought that life\\nWould be so cold\\nI t...   \n",
              "...                                                 ...   \n",
              "4094  All my friends are going death\\nAnd breathing'...   \n",
              "4095  As sun and dove devr bat and moon-\\nIf we stay...   \n",
              "4096  Conscious all day\\nCautious in my own way\\nCoi...   \n",
              "4097  Crushed into the ground\\nI don't know if it's ...   \n",
              "4098  Come down off your throne\\nAnd leave your body...   \n",
              "\n",
              "                                         lyrics_cleaned language track_id  \\\n",
              "0      one two checka baby let me know what s up if ...       en  5415248   \n",
              "1     ah ah i m tired of arguin girl i m tired i m t...       en  3630918   \n",
              "2     ain t nobody s business what i do get me a sho...       en  4063721   \n",
              "3     all along the way there were things to do alwa...       en  6553435   \n",
              "4     and i thought that life would be so cold i tho...       en  4757037   \n",
              "...                                                 ...      ...      ...   \n",
              "4094  all my friends are going death and breathing s...       en  4314247   \n",
              "4095  as sun and dove devr bat and moon if we stay o...       en  6420589   \n",
              "4096  conscious all day cautious in my own way coinc...       en  5150508   \n",
              "4097  crushed into the ground i don t know if it s g...       en  3361068   \n",
              "4098  come down off your throne and leave your body ...       en  4369943   \n",
              "\n",
              "                                              track_tag  \\\n",
              "0                      {'whtd-FM': 100, 'wjlb-FM': 100}   \n",
              "1     {'female vocalists': 100, 'rnb': 100, 'bang': ...   \n",
              "2     {'jazz vocal': 100, 'female vocalists': 100, '...   \n",
              "3     {'jazz': 100, 'jazz vocal': 100, 'Blues Bar': ...   \n",
              "4     {'jazz': 100, 'jazz vocal': 100, 'vocal jazz':...   \n",
              "...                                                 ...   \n",
              "4094  {'screamo': 100, 'hardcore': 34, 'mathcore': 3...   \n",
              "4095  {'grindcore': 100, 'hardcore': 50, 'mathcore':...   \n",
              "4096  {'Progressive metal': 100, 'epic': 67, 'metal'...   \n",
              "4097                        {'indie': 100, 'favs': 100}   \n",
              "4098                                      {'rock': 100}   \n",
              "\n",
              "                                                   tags  \\\n",
              "0                                      whtd-FM wjlb-FM    \n",
              "1                  female vocalists rnb bang Timbaland    \n",
              "2     jazz vocal female vocalists jazz vocals 50s le...   \n",
              "3     jazz jazz vocal Blues Bar jazzy women love is ...   \n",
              "4         jazz jazz vocal vocal jazz fip abbey lincoln    \n",
              "...                                                 ...   \n",
              "4094  screamo hardcore mathcore Good Stuff less than...   \n",
              "4095  grindcore hardcore mathcore noisecore religion...   \n",
              "4096  Progressive metal epic metal norwegian 6 of 10...   \n",
              "4097                                        indie favs    \n",
              "4098                                              rock    \n",
              "\n",
              "                                               abstract  \n",
              "0     aaliyah dana haughton , known mononymously as ...  \n",
              "1     aaliyah dana haughton , known mononymously as ...  \n",
              "2     anna marie wooldridge , known professionally a...  \n",
              "3     anna marie wooldridge , known professionally a...  \n",
              "4     anna marie wooldridge , known professionally a...  \n",
              "...                                                 ...  \n",
              "4094  some girls was an american hardcore punk band ...  \n",
              "4095  some girls was an american hardcore punk band ...  \n",
              "4096  circus maximus is a norwegian progressive meta...  \n",
              "4097  monster movie is a british dream pop band orig...  \n",
              "4098  ellen mcilwaine  was an american-born singer-s...  \n",
              "\n",
              "[4099 rows x 10 columns]"
            ],
            "text/html": [
              "\n",
              "  <div id=\"df-4a16cb99-23e6-4c0b-82df-dccb9babad10\">\n",
              "    <div class=\"colab-df-container\">\n",
              "      <div>\n",
              "<style scoped>\n",
              "    .dataframe tbody tr th:only-of-type {\n",
              "        vertical-align: middle;\n",
              "    }\n",
              "\n",
              "    .dataframe tbody tr th {\n",
              "        vertical-align: top;\n",
              "    }\n",
              "\n",
              "    .dataframe thead th {\n",
              "        text-align: right;\n",
              "    }\n",
              "</style>\n",
              "<table border=\"1\" class=\"dataframe\">\n",
              "  <thead>\n",
              "    <tr style=\"text-align: right;\">\n",
              "      <th></th>\n",
              "      <th>track_artist</th>\n",
              "      <th>gender_artist</th>\n",
              "      <th>track_name</th>\n",
              "      <th>track_lyrics</th>\n",
              "      <th>lyrics_cleaned</th>\n",
              "      <th>language</th>\n",
              "      <th>track_id</th>\n",
              "      <th>track_tag</th>\n",
              "      <th>tags</th>\n",
              "      <th>abstract</th>\n",
              "    </tr>\n",
              "  </thead>\n",
              "  <tbody>\n",
              "    <tr>\n",
              "      <th>0</th>\n",
              "      <td>aaliyah</td>\n",
              "      <td>1</td>\n",
              "      <td>at your best (you are loved)</td>\n",
              "      <td>(One-two checka\\nBaby let me know what's up)\\n...</td>\n",
              "      <td>one two checka baby let me know what s up if ...</td>\n",
              "      <td>en</td>\n",
              "      <td>5415248</td>\n",
              "      <td>{'whtd-FM': 100, 'wjlb-FM': 100}</td>\n",
              "      <td>whtd-FM wjlb-FM</td>\n",
              "      <td>aaliyah dana haughton , known mononymously as ...</td>\n",
              "    </tr>\n",
              "    <tr>\n",
              "      <th>1</th>\n",
              "      <td>aaliyah</td>\n",
              "      <td>1</td>\n",
              "      <td>aaliyah &amp; timberland-we need a resolution</td>\n",
              "      <td>Ah, ah\\nI'm tired of arguin', girl\\nI'm tired,...</td>\n",
              "      <td>ah ah i m tired of arguin girl i m tired i m t...</td>\n",
              "      <td>en</td>\n",
              "      <td>3630918</td>\n",
              "      <td>{'female vocalists': 100, 'rnb': 100, 'bang': ...</td>\n",
              "      <td>female vocalists rnb bang Timbaland</td>\n",
              "      <td>aaliyah dana haughton , known mononymously as ...</td>\n",
              "    </tr>\n",
              "    <tr>\n",
              "      <th>2</th>\n",
              "      <td>abbey lincoln</td>\n",
              "      <td>1</td>\n",
              "      <td>ain't nobody's business</td>\n",
              "      <td>Ain't nobody's business what I do\\nGet me a sh...</td>\n",
              "      <td>ain t nobody s business what i do get me a sho...</td>\n",
              "      <td>en</td>\n",
              "      <td>4063721</td>\n",
              "      <td>{'jazz vocal': 100, 'female vocalists': 100, '...</td>\n",
              "      <td>jazz vocal female vocalists jazz vocals 50s le...</td>\n",
              "      <td>anna marie wooldridge , known professionally a...</td>\n",
              "    </tr>\n",
              "    <tr>\n",
              "      <th>3</th>\n",
              "      <td>abbey lincoln</td>\n",
              "      <td>1</td>\n",
              "      <td>being me</td>\n",
              "      <td>All along the way there were things to do\\nAlw...</td>\n",
              "      <td>all along the way there were things to do alwa...</td>\n",
              "      <td>en</td>\n",
              "      <td>6553435</td>\n",
              "      <td>{'jazz': 100, 'jazz vocal': 100, 'Blues Bar': ...</td>\n",
              "      <td>jazz jazz vocal Blues Bar jazzy women love is ...</td>\n",
              "      <td>anna marie wooldridge , known professionally a...</td>\n",
              "    </tr>\n",
              "    <tr>\n",
              "      <th>4</th>\n",
              "      <td>abbey lincoln</td>\n",
              "      <td>1</td>\n",
              "      <td>and how i hoped for your love</td>\n",
              "      <td>And I thought that life\\nWould be so cold\\nI t...</td>\n",
              "      <td>and i thought that life would be so cold i tho...</td>\n",
              "      <td>en</td>\n",
              "      <td>4757037</td>\n",
              "      <td>{'jazz': 100, 'jazz vocal': 100, 'vocal jazz':...</td>\n",
              "      <td>jazz jazz vocal vocal jazz fip abbey lincoln</td>\n",
              "      <td>anna marie wooldridge , known professionally a...</td>\n",
              "    </tr>\n",
              "    <tr>\n",
              "      <th>...</th>\n",
              "      <td>...</td>\n",
              "      <td>...</td>\n",
              "      <td>...</td>\n",
              "      <td>...</td>\n",
              "      <td>...</td>\n",
              "      <td>...</td>\n",
              "      <td>...</td>\n",
              "      <td>...</td>\n",
              "      <td>...</td>\n",
              "      <td>...</td>\n",
              "    </tr>\n",
              "    <tr>\n",
              "      <th>4094</th>\n",
              "      <td>some girls</td>\n",
              "      <td>0</td>\n",
              "      <td>all my friends are going death</td>\n",
              "      <td>All my friends are going death\\nAnd breathing'...</td>\n",
              "      <td>all my friends are going death and breathing s...</td>\n",
              "      <td>en</td>\n",
              "      <td>4314247</td>\n",
              "      <td>{'screamo': 100, 'hardcore': 34, 'mathcore': 3...</td>\n",
              "      <td>screamo hardcore mathcore Good Stuff less than...</td>\n",
              "      <td>some girls was an american hardcore punk band ...</td>\n",
              "    </tr>\n",
              "    <tr>\n",
              "      <th>4095</th>\n",
              "      <td>some girls</td>\n",
              "      <td>0</td>\n",
              "      <td>beautiful rune</td>\n",
              "      <td>As sun and dove devr bat and moon-\\nIf we stay...</td>\n",
              "      <td>as sun and dove devr bat and moon if we stay o...</td>\n",
              "      <td>en</td>\n",
              "      <td>6420589</td>\n",
              "      <td>{'grindcore': 100, 'hardcore': 50, 'mathcore':...</td>\n",
              "      <td>grindcore hardcore mathcore noisecore religion...</td>\n",
              "      <td>some girls was an american hardcore punk band ...</td>\n",
              "    </tr>\n",
              "    <tr>\n",
              "      <th>4096</th>\n",
              "      <td>circus maximus</td>\n",
              "      <td>0</td>\n",
              "      <td>architect of fortune</td>\n",
              "      <td>Conscious all day\\nCautious in my own way\\nCoi...</td>\n",
              "      <td>conscious all day cautious in my own way coinc...</td>\n",
              "      <td>en</td>\n",
              "      <td>5150508</td>\n",
              "      <td>{'Progressive metal': 100, 'epic': 67, 'metal'...</td>\n",
              "      <td>Progressive metal epic metal norwegian 6 of 10...</td>\n",
              "      <td>circus maximus is a norwegian progressive meta...</td>\n",
              "    </tr>\n",
              "    <tr>\n",
              "      <th>4097</th>\n",
              "      <td>monster movie</td>\n",
              "      <td>0</td>\n",
              "      <td>a place in the mountains</td>\n",
              "      <td>Crushed into the ground\\nI don't know if it's ...</td>\n",
              "      <td>crushed into the ground i don t know if it s g...</td>\n",
              "      <td>en</td>\n",
              "      <td>3361068</td>\n",
              "      <td>{'indie': 100, 'favs': 100}</td>\n",
              "      <td>indie favs</td>\n",
              "      <td>monster movie is a british dream pop band orig...</td>\n",
              "    </tr>\n",
              "    <tr>\n",
              "      <th>4098</th>\n",
              "      <td>ellen mcilwaine</td>\n",
              "      <td>1</td>\n",
              "      <td>all to you</td>\n",
              "      <td>Come down off your throne\\nAnd leave your body...</td>\n",
              "      <td>come down off your throne and leave your body ...</td>\n",
              "      <td>en</td>\n",
              "      <td>4369943</td>\n",
              "      <td>{'rock': 100}</td>\n",
              "      <td>rock</td>\n",
              "      <td>ellen mcilwaine  was an american-born singer-s...</td>\n",
              "    </tr>\n",
              "  </tbody>\n",
              "</table>\n",
              "<p>4099 rows × 10 columns</p>\n",
              "</div>\n",
              "      <button class=\"colab-df-convert\" onclick=\"convertToInteractive('df-4a16cb99-23e6-4c0b-82df-dccb9babad10')\"\n",
              "              title=\"Convert this dataframe to an interactive table.\"\n",
              "              style=\"display:none;\">\n",
              "        \n",
              "  <svg xmlns=\"http://www.w3.org/2000/svg\" height=\"24px\"viewBox=\"0 0 24 24\"\n",
              "       width=\"24px\">\n",
              "    <path d=\"M0 0h24v24H0V0z\" fill=\"none\"/>\n",
              "    <path d=\"M18.56 5.44l.94 2.06.94-2.06 2.06-.94-2.06-.94-.94-2.06-.94 2.06-2.06.94zm-11 1L8.5 8.5l.94-2.06 2.06-.94-2.06-.94L8.5 2.5l-.94 2.06-2.06.94zm10 10l.94 2.06.94-2.06 2.06-.94-2.06-.94-.94-2.06-.94 2.06-2.06.94z\"/><path d=\"M17.41 7.96l-1.37-1.37c-.4-.4-.92-.59-1.43-.59-.52 0-1.04.2-1.43.59L10.3 9.45l-7.72 7.72c-.78.78-.78 2.05 0 2.83L4 21.41c.39.39.9.59 1.41.59.51 0 1.02-.2 1.41-.59l7.78-7.78 2.81-2.81c.8-.78.8-2.07 0-2.86zM5.41 20L4 18.59l7.72-7.72 1.47 1.35L5.41 20z\"/>\n",
              "  </svg>\n",
              "      </button>\n",
              "      \n",
              "  <style>\n",
              "    .colab-df-container {\n",
              "      display:flex;\n",
              "      flex-wrap:wrap;\n",
              "      gap: 12px;\n",
              "    }\n",
              "\n",
              "    .colab-df-convert {\n",
              "      background-color: #E8F0FE;\n",
              "      border: none;\n",
              "      border-radius: 50%;\n",
              "      cursor: pointer;\n",
              "      display: none;\n",
              "      fill: #1967D2;\n",
              "      height: 32px;\n",
              "      padding: 0 0 0 0;\n",
              "      width: 32px;\n",
              "    }\n",
              "\n",
              "    .colab-df-convert:hover {\n",
              "      background-color: #E2EBFA;\n",
              "      box-shadow: 0px 1px 2px rgba(60, 64, 67, 0.3), 0px 1px 3px 1px rgba(60, 64, 67, 0.15);\n",
              "      fill: #174EA6;\n",
              "    }\n",
              "\n",
              "    [theme=dark] .colab-df-convert {\n",
              "      background-color: #3B4455;\n",
              "      fill: #D2E3FC;\n",
              "    }\n",
              "\n",
              "    [theme=dark] .colab-df-convert:hover {\n",
              "      background-color: #434B5C;\n",
              "      box-shadow: 0px 1px 3px 1px rgba(0, 0, 0, 0.15);\n",
              "      filter: drop-shadow(0px 1px 2px rgba(0, 0, 0, 0.3));\n",
              "      fill: #FFFFFF;\n",
              "    }\n",
              "  </style>\n",
              "\n",
              "      <script>\n",
              "        const buttonEl =\n",
              "          document.querySelector('#df-4a16cb99-23e6-4c0b-82df-dccb9babad10 button.colab-df-convert');\n",
              "        buttonEl.style.display =\n",
              "          google.colab.kernel.accessAllowed ? 'block' : 'none';\n",
              "\n",
              "        async function convertToInteractive(key) {\n",
              "          const element = document.querySelector('#df-4a16cb99-23e6-4c0b-82df-dccb9babad10');\n",
              "          const dataTable =\n",
              "            await google.colab.kernel.invokeFunction('convertToInteractive',\n",
              "                                                     [key], {});\n",
              "          if (!dataTable) return;\n",
              "\n",
              "          const docLinkHtml = 'Like what you see? Visit the ' +\n",
              "            '<a target=\"_blank\" href=https://colab.research.google.com/notebooks/data_table.ipynb>data table notebook</a>'\n",
              "            + ' to learn more about interactive tables.';\n",
              "          element.innerHTML = '';\n",
              "          dataTable['output_type'] = 'display_data';\n",
              "          await google.colab.output.renderOutput(dataTable, element);\n",
              "          const docLink = document.createElement('div');\n",
              "          docLink.innerHTML = docLinkHtml;\n",
              "          element.appendChild(docLink);\n",
              "        }\n",
              "      </script>\n",
              "    </div>\n",
              "  </div>\n",
              "  "
            ]
          },
          "metadata": {},
          "execution_count": 119
        }
      ]
    },
    {
      "cell_type": "code",
      "execution_count": 70,
      "metadata": {
        "id": "hXxzbJOlgRhp"
      },
      "outputs": [],
      "source": [
        "df_tmp = pd.merge(data_interaction_train, data_user, 'inner')\n",
        "df_all = pd.merge(df_tmp, data_all_info, on = 'track_id').drop_duplicates()\n",
        "\n",
        "replace_dict1 = {'m' : 0, 'f' : 1}\n",
        "replace_dict2 = {'male' : 0, 'female' : 1}\n",
        "df_all['gender_user'] = df_all['gender_user'].replace(replace_dict1)\n",
        "df_all['gender_artist'] = df_all['gender_artist'].replace(replace_dict2)\n",
        "\n",
        "df_train = df_all[df_all['count'] == 1]"
      ]
    },
    {
      "cell_type": "code",
      "execution_count": 71,
      "metadata": {
        "id": "dewGb1xmPBXN"
      },
      "outputs": [],
      "source": [
        "df_tmp = pd.merge(data_interaction_test, data_user, 'inner')\n",
        "df_all = pd.merge(df_tmp, data_all_info, on = 'track_id').drop_duplicates()\n",
        "\n",
        "replace_dict1 = {'m' : 0, 'f' : 1}\n",
        "replace_dict2 = {'male' : 0, 'female' : 1}\n",
        "df_all['gender_user'] = df_all['gender_user'].replace(replace_dict1)\n",
        "df_all['gender_artist'] = df_all['gender_artist'].replace(replace_dict2)\n",
        "\n",
        "df_test = df_all[df_all['count'] == 1]"
      ]
    },
    {
      "cell_type": "code",
      "execution_count": 72,
      "metadata": {
        "id": "7WYe_kSEhSTl"
      },
      "outputs": [],
      "source": [
        "df_tmp = pd.merge(results_df, data_user, 'inner')\n",
        "df_all = pd.merge(df_tmp, data_all_info, on = 'track_id').drop_duplicates()\n",
        "\n",
        "replace_dict1 = {'m' : 0, 'f' : 1}\n",
        "replace_dict2 = {'male' : 0, 'female' : 1}\n",
        "df_all['gender_user'] = df_all['gender_user'].replace(replace_dict1)\n",
        "df_all['gender_artist'] = df_all['gender_artist'].replace(replace_dict2)\n",
        "\n",
        "df_rec = df_all"
      ]
    },
    {
      "cell_type": "markdown",
      "metadata": {
        "id": "MfJvYiuFjQ54"
      },
      "source": [
        "## Distribution of gender"
      ]
    },
    {
      "cell_type": "code",
      "execution_count": 73,
      "metadata": {
        "colab": {
          "base_uri": "https://localhost:8080/"
        },
        "id": "ty8fFzv_jQiN",
        "outputId": "7e4007d6-9ecf-4ea1-f008-28e8e446b747"
      },
      "outputs": [
        {
          "output_type": "stream",
          "name": "stdout",
          "text": [
            "In the history data, 24.71 % female items were consumed.\n",
            "In the test data, 23.28 % female items were consumed.\n",
            "In the recommendation data, 31.72 % female items were recommended.\n"
          ]
        }
      ],
      "source": [
        "print(f\"In the history data, {round(df_train.gender_artist.sum() / len(df_train) * 100, 2)} % female items were consumed.\")\n",
        "print(f\"In the test data, {round(df_test.gender_artist.sum() / len(df_test) * 100, 2)} % female items were consumed.\")\n",
        "print(f\"In the recommendation data, {round(df_rec.gender_artist.sum() / len(df_rec) * 100, 2)} % female items were recommended.\")"
      ]
    },
    {
      "cell_type": "markdown",
      "metadata": {
        "id": "hgDbgyUFYVPF"
      },
      "source": [
        "## Correlation between user and item gender"
      ]
    },
    {
      "cell_type": "code",
      "execution_count": 74,
      "metadata": {
        "colab": {
          "base_uri": "https://localhost:8080/"
        },
        "id": "D4aOub4YUaga",
        "outputId": "00726121-8a2e-45a0-f4ee-656f494b9598"
      },
      "outputs": [
        {
          "output_type": "stream",
          "name": "stdout",
          "text": [
            "In the history data, all female users listen to 37.56 % female items.\n",
            "In the history data, all male users listen to 22.76 % female items.\n",
            "The attributes gender_user and gender_artist show a correlation of  0.11613795067442945\n"
          ]
        }
      ],
      "source": [
        "# Proportion of female items in all female user\n",
        "prop_female = 0\n",
        "# Proportion of female items in all male user\n",
        "prop_male = 0\n",
        "for group, df in df_train.groupby('gender_user'):\n",
        "  if group == 0:\n",
        "    prop_male = df.gender_artist.sum() / len(df)\n",
        "  else:\n",
        "    prop_female = df.gender_artist.sum() / len(df)\n",
        "\n",
        "print(f'In the history data, all female users listen to {round(prop_female*100, 2)} % female items.')\n",
        "print(f'In the history data, all male users listen to {round(prop_male*100, 2)} % female items.')\n",
        "\n",
        "# Phi correlation (http://web.pdx.edu/~newsomj/pa551/lectur15.htm)\n",
        "print('The attributes gender_user and gender_artist show a correlation of ', df_train.gender_user.corr(df_train.gender_artist))"
      ]
    },
    {
      "cell_type": "code",
      "execution_count": 75,
      "metadata": {
        "colab": {
          "base_uri": "https://localhost:8080/"
        },
        "id": "0eFAQadph9Yz",
        "outputId": "adc0a932-2403-44d8-a6ec-ba2a0f8d2427"
      },
      "outputs": [
        {
          "output_type": "stream",
          "name": "stdout",
          "text": [
            "In the recommendation data, to all female users 31.26 % female items are recommended.\n",
            "In the recommendation data, to all male users 31.77 % female items are recommended.\n",
            "The attributes gender_user and gender_artist show a correlation of  -0.002958289047425267\n"
          ]
        }
      ],
      "source": [
        "# Proportion of female items in all female user\n",
        "prop_female = 0\n",
        "# Proportion of female items in all male user\n",
        "prop_male = 0\n",
        "for group, df in df_rec.groupby('gender_user'):\n",
        "  if group == 0:\n",
        "    prop_male = df.gender_artist.sum() / len(df)\n",
        "  else:\n",
        "    prop_female = df.gender_artist.sum() / len(df)\n",
        "\n",
        "print(f'In the recommendation data, to all female users {round(prop_female*100, 2)} % female items are recommended.')\n",
        "print(f'In the recommendation data, to all male users {round(prop_male*100, 2)} % female items are recommended.')\n",
        "\n",
        "# Phi correlation\n",
        "print('The attributes gender_user and gender_artist show a correlation of ', df_rec.gender_user.corr(df_rec.gender_artist))"
      ]
    },
    {
      "cell_type": "markdown",
      "metadata": {
        "id": "UEiaFN1bYdFE"
      },
      "source": [
        "## Delta metric of genderness\n",
        "\n",
        " For user u_i: (prop_female(rec) - prop_female(history)) / prop_female(history)\n",
        "\n",
        " If positive: more female tracks are recommended to the user"
      ]
    },
    {
      "cell_type": "code",
      "execution_count": 76,
      "metadata": {
        "colab": {
          "base_uri": "https://localhost:8080/"
        },
        "id": "JP_j3yQgd6Gx",
        "outputId": "f1b87eae-fac9-48b5-a06f-bc24016b6b71"
      },
      "outputs": [
        {
          "output_type": "stream",
          "name": "stdout",
          "text": [
            "The value of delta is 0.2836 and therefore more female tracks are recommended to user.\n"
          ]
        }
      ],
      "source": [
        "prop_female_rec = df_rec.gender_artist.sum() / len(df_rec)\n",
        "prop_female_history = df_train.gender_artist.sum() / len(df_train)\n",
        "delta = (prop_female_rec - prop_female_history) / prop_female_history\n",
        "\n",
        "if delta > 0:\n",
        "  print(f'The value of delta is {round(delta, 4)} and therefore more female tracks are recommended to user.')\n",
        "else:\n",
        "  print(f'The value of delta is {round(delta, 4)} and therefore more male tracks are recommended to user.')"
      ]
    },
    {
      "cell_type": "markdown",
      "metadata": {
        "id": "_W5yg61kZJOV"
      },
      "source": [
        "## Proportion distribution"
      ]
    },
    {
      "cell_type": "code",
      "execution_count": 77,
      "metadata": {
        "colab": {
          "base_uri": "https://localhost:8080/"
        },
        "id": "IV5pBGTjYfsO",
        "outputId": "5489219a-34bc-4e3f-9e2f-a8f89cbd6b58"
      },
      "outputs": [
        {
          "output_type": "stream",
          "name": "stdout",
          "text": [
            "In the history data, there were on average 24.64 % female items consumed.\n",
            "In the history data, among all male users there were on average 22.58 % female items consumed.\n",
            "In the history data, among all female users there were on average 36.93 % female items consumed.\n"
          ]
        }
      ],
      "source": [
        "prop_all = []\n",
        "prop_male = []\n",
        "prop_female = []\n",
        "for user, df in df_train.groupby('user_id'):\n",
        "  p = df.gender_artist.sum() / len(df)\n",
        "  prop_all.append(p)\n",
        "  if (df.gender_user).all() == 0:\n",
        "    prop_male.append(p)\n",
        "  else: prop_female.append(p)\n",
        "\n",
        "print(f\"In the history data, there were on average {round(np.mean(prop_all)*100, 2)} % female items consumed.\")\n",
        "print(f\"In the history data, among all male users there were on average {round(np.mean(prop_male)*100, 2)} % female items consumed.\")\n",
        "print(f\"In the history data, among all female users there were on average {round(np.mean(prop_female)*100, 2)} % female items consumed.\")"
      ]
    },
    {
      "cell_type": "code",
      "execution_count": 78,
      "metadata": {
        "colab": {
          "base_uri": "https://localhost:8080/"
        },
        "id": "ikI_8GX1k2lI",
        "outputId": "92cec80d-74da-49d9-e996-d4a0dddba8f4"
      },
      "outputs": [
        {
          "output_type": "stream",
          "name": "stdout",
          "text": [
            "In the recommendation data, there are on average 31.72 % female items recommended.\n",
            "In the recommendation data, among all male users there are on average 31.77 % female items recommended.\n",
            "In the recommendation data, among all female users there are on average 31.26 % female items recommended.\n"
          ]
        }
      ],
      "source": [
        "prop_all = []\n",
        "prop_male = []\n",
        "prop_female = []\n",
        "for user, df in df_rec.groupby('user_id'):\n",
        "  p = df.gender_artist.sum() / len(df)\n",
        "  prop_all.append(p)\n",
        "  if (df.gender_user).all() == 0:\n",
        "    prop_male.append(p)\n",
        "  else: prop_female.append(p)\n",
        "\n",
        "print(f\"In the recommendation data, there are on average {round(np.mean(prop_all)*100, 2)} % female items recommended.\")\n",
        "print(f\"In the recommendation data, among all male users there are on average {round(np.mean(prop_male)*100, 2)} % female items recommended.\")\n",
        "print(f\"In the recommendation data, among all female users there are on average {round(np.mean(prop_female)*100, 2)} % female items recommended.\")"
      ]
    },
    {
      "cell_type": "markdown",
      "metadata": {
        "id": "xjjmSaKW-99W"
      },
      "source": [
        "# BERT classification model"
      ]
    },
    {
      "cell_type": "code",
      "execution_count": 79,
      "metadata": {
        "colab": {
          "base_uri": "https://localhost:8080/"
        },
        "id": "kF1vpMAVGwwQ",
        "outputId": "a157c3eb-8867-412f-a17f-5657b9160477"
      },
      "outputs": [
        {
          "output_type": "stream",
          "name": "stdout",
          "text": [
            "/content/drive/MyDrive/Colab Notebooks\n"
          ]
        }
      ],
      "source": [
        "%cd /content/drive/MyDrive/Colab\\ Notebooks"
      ]
    },
    {
      "cell_type": "code",
      "execution_count": 80,
      "metadata": {
        "id": "zj90aXI0_BYc"
      },
      "outputs": [],
      "source": [
        "import pickle\n",
        "import pandas as pd\n",
        "\n",
        "\n",
        "from smooth_gradient import SmoothGradient\n",
        "from integrated_gradient import IntegratedGradient\n",
        "\n",
        "import torch\n",
        "from torch import nn\n",
        "from torch.utils.data import DataLoader\n",
        "from transformers import DistilBertConfig, DistilBertTokenizer\n",
        "from transformers import BertTokenizer, BertModel, AdamW\n",
        "\n",
        "from IPython.display import display, HTML"
      ]
    },
    {
      "cell_type": "code",
      "execution_count": 81,
      "metadata": {
        "id": "SR_66w52_s_4"
      },
      "outputs": [],
      "source": [
        "from torch.utils.data import Dataset\n",
        "from torch.utils.data import DataLoader\n",
        "\n",
        "class ArtistDataset(Dataset):\n",
        "    def __init__(self, data_all,tokenizer,max_length, text_col):\n",
        "        super(ArtistDataset, self).__init__()\n",
        "        self.data_all = data_all\n",
        "        self.max_length = max_length\n",
        "        self.tokenizer = tokenizer\n",
        "        self.text_col = text_col\n",
        "        \n",
        "    def __len__(self):\n",
        "        return len(self.data_all)\n",
        "    \n",
        "    def __getitem__(self, index):\n",
        "        \n",
        "        text1 = self.data_all.iloc[index][self.text_col]\n",
        "        \n",
        "        inputs = tokenizer.encode_plus(\n",
        "            text1, \n",
        "            None,\n",
        "            add_special_tokens=True,\n",
        "            max_length = self.max_length,\n",
        "            pad_to_max_length=True\n",
        "            \n",
        "        )\n",
        "        ids = inputs[\"input_ids\"]\n",
        "        token_type_ids = inputs[\"token_type_ids\"]\n",
        "        mask = inputs[\"attention_mask\"]\n",
        "\n",
        "        return {\n",
        "            'input_ids': torch.tensor(ids, dtype=torch.long),\n",
        "            'attention_mask': torch.tensor(mask, dtype=torch.long),\n",
        "            'token_type_ids': torch.tensor(token_type_ids, dtype=torch.long),\n",
        "            'target': torch.tensor(self.data_all.iloc[index]['gender_artist'], dtype=torch.float)\n",
        "            }\n"
      ]
    },
    {
      "cell_type": "code",
      "execution_count": 154,
      "metadata": {
        "id": "bJyXCdXwSd_D"
      },
      "outputs": [],
      "source": [
        "class SentimentClassifier(nn.Module):\n",
        "  def __init__(self, n_classes=2):\n",
        "    super(SentimentClassifier, self).__init__()\n",
        "    self.bert = BertModel.from_pretrained('prajjwal1/bert-tiny')\n",
        "    self.drop = nn.Dropout(p=0.3)\n",
        "    self.out = nn.Linear(self.bert.config.hidden_size, n_classes)\n",
        "\n",
        "  def forward(self, input_ids, attention_mask):\n",
        "    y, pooled_output = self.bert(\n",
        "      input_ids=input_ids,\n",
        "      attention_mask=attention_mask, return_dict=False\n",
        "    )\n",
        "    pooled_output = y[:,0,:]\n",
        "    output = self.drop(pooled_output)\n",
        "    return self.out(output)"
      ]
    },
    {
      "cell_type": "code",
      "execution_count": 83,
      "metadata": {
        "id": "YWIGzeWVSpea"
      },
      "outputs": [],
      "source": [
        "import torch\n",
        "from torch.nn.functional import softmax\n",
        "\n",
        "import matplotlib\n",
        "import matplotlib.pyplot as plt\n",
        "\n",
        "\n",
        "class SaliencyInterpreter:\n",
        "    def __init__(self,\n",
        "                 model,\n",
        "                 criterion,\n",
        "                 tokenizer,\n",
        "                 show_progress=True,\n",
        "                 **kwargs):\n",
        "\n",
        "        \"\"\"\n",
        "        :param model: nn.Module object - can be HuggingFace's model or custom one.\n",
        "        :param criterion: torch criterion used to train your model.\n",
        "        :param tokenizer: HuggingFace's tokenizer.\n",
        "        :param show_progress: bool flag to show tqdm progress bar.\n",
        "        :param kwargs:\n",
        "            encoder: string indicates the HuggingFace's encoder, that has 'embeddings' attribute. Used\n",
        "                if your model doesn't have 'get_input_embeddings' method to get access to encoder embeddings\n",
        "        \"\"\"\n",
        "\n",
        "        self.device = torch.device('cuda' if torch.cuda.is_available() else 'cpu')\n",
        "        self.model = model.to(self.device)\n",
        "        self.model.eval()\n",
        "        self.criterion = criterion\n",
        "        self.tokenizer = tokenizer\n",
        "        self.show_progress = show_progress\n",
        "        self.kwargs = kwargs\n",
        "        # to save outputs in saliency_interpret\n",
        "        self.batch_output = None\n",
        "\n",
        "    def _get_gradients(self, batch):\n",
        "        # set requires_grad to true for all parameters, but save original values to\n",
        "        # restore them later\n",
        "        original_param_name_to_requires_grad_dict = {}\n",
        "        for param_name, param in self.model.named_parameters():\n",
        "            original_param_name_to_requires_grad_dict[param_name] = param.requires_grad\n",
        "            param.requires_grad = True\n",
        "        embedding_gradients = []\n",
        "        hooks = self._register_embedding_gradient_hooks(embedding_gradients)\n",
        "\n",
        "        loss = self.forward_step(batch)\n",
        "\n",
        "        self.model.zero_grad()\n",
        "        loss.backward()\n",
        "\n",
        "        for hook in hooks:\n",
        "            hook.remove()\n",
        "\n",
        "        # restore the original requires_grad values of the parameters\n",
        "        for param_name, param in self.model.named_parameters():\n",
        "            param.requires_grad = original_param_name_to_requires_grad_dict[param_name]\n",
        "\n",
        "        return embedding_gradients[0]\n",
        "\n",
        "    def _register_embedding_gradient_hooks(self, embedding_gradients):\n",
        "        \"\"\"\n",
        "        Registers a backward hook on the\n",
        "        Used to save the gradients of the embeddings for use in get_gradients()\n",
        "        When there are multiple inputs (e.g., a passage and question), the hook\n",
        "        will be called multiple times. We append all the embeddings gradients\n",
        "        to a list.\n",
        "        \"\"\"\n",
        "\n",
        "        def hook_layers(module, grad_in, grad_out):\n",
        "            embedding_gradients.append(grad_out[0])\n",
        "\n",
        "        backward_hooks = []\n",
        "        embedding_layer = self.get_embeddings_layer()\n",
        "        backward_hooks.append(embedding_layer.register_backward_hook(hook_layers))\n",
        "        return backward_hooks\n",
        "\n",
        "    def get_embeddings_layer(self):\n",
        "        if hasattr(self.model, \"get_input_embeddings\"):\n",
        "            embedding_layer = self.model.get_input_embeddings()\n",
        "        else:\n",
        "            encoder_attribute = self.kwargs.get(\"encoder\")\n",
        "            assert encoder_attribute, \"Your model doesn't have 'get_input_embeddings' method, thus you \" \\\n",
        "                \"have provide 'encoder' key argument while initializing SaliencyInterpreter object\"\n",
        "            embedding_layer = getattr(self.model, encoder_attribute).embeddings\n",
        "        return embedding_layer\n",
        "\n",
        "    def colorize(self, instance, skip_special_tokens=False):\n",
        "\n",
        "        special_tokens = self.special_tokens\n",
        "\n",
        "        word_cmap = matplotlib.cm.Blues\n",
        "        prob_cmap = matplotlib.cm.Greens\n",
        "        template = '<span class=\"barcode\"; style=\"color: black; background-color: {}\">{}</span>'\n",
        "        colored_string = ''\n",
        "        # Use a matplotlib normalizer in order to make clearer the difference between values\n",
        "        normalized_and_mapped = matplotlib.cm.ScalarMappable(cmap=word_cmap).to_rgba(instance['grad'])\n",
        "        for word, color in zip(instance['tokens'], normalized_and_mapped):\n",
        "            if word in special_tokens and skip_special_tokens:\n",
        "                continue\n",
        "            # handle wordpieces\n",
        "            word = word.replace(\"##\", \"\") if \"##\" in word else ' ' + word\n",
        "            color = matplotlib.colors.rgb2hex(color[:3])\n",
        "            colored_string += template.format(color, word)\n",
        "        colored_string += template.format(0, \"    Label: {} |\".format(instance['label']))\n",
        "        prob = instance['prob']\n",
        "        color = matplotlib.colors.rgb2hex(prob_cmap(prob)[:3])\n",
        "        colored_string += template.format(color, \"{:.2f}%\".format(instance['prob']*100)) + '|'\n",
        "        return colored_string\n",
        "\n",
        "    @property\n",
        "    def special_tokens(self):\n",
        "        \"\"\"\n",
        "        Some tokenizers don't have 'eos_token' and 'bos_token' attributes.\n",
        "        So needed we some trick to get them.\n",
        "        \"\"\"\n",
        "        if self.tokenizer.bos_token is None or self.tokenizer.eos_token is None:\n",
        "            special_tokens = self.tokenizer.build_inputs_with_special_tokens([])\n",
        "            special_tokens_ids = self.tokenizer.convert_ids_to_tokens(special_tokens)\n",
        "            self.tokenizer.bos_token, self.tokenizer.eos_token = special_tokens_ids\n",
        "\n",
        "        special_tokens = self.tokenizer.eos_token, self.tokenizer.bos_token\n",
        "        return special_tokens\n",
        "\n",
        "    def forward_step(self, batch):\n",
        "        \"\"\"\n",
        "        If your model receive inputs in another way or you computing not\n",
        "         like in this example simply override this method. It should return the batch loss\n",
        "        :param batch: batch returned by dataloader\n",
        "        :return: torch.Tensor: batch loss\n",
        "        \"\"\"\n",
        "        input_ids = batch.get('input_ids').to(self.device)\n",
        "        attention_mask = batch.get(\"attention_mask\").to(self.device)\n",
        "        outputs = self.model(input_ids=input_ids, attention_mask=attention_mask)\n",
        "\n",
        "        label = torch.argmax(outputs, dim=1)\n",
        "        batch_losses = self.criterion(outputs, label)\n",
        "        loss = torch.mean(batch_losses)\n",
        "\n",
        "        self.batch_output = [input_ids, outputs]\n",
        "\n",
        "        return loss\n",
        "\n",
        "    def update_output(self):\n",
        "        \"\"\"\n",
        "        You can also override this method if you want to change the format\n",
        "         of outputs. (e.g. store just gradients)\n",
        "        :return: batch_output\n",
        "        \"\"\"\n",
        "\n",
        "        input_ids, outputs, grads = self.batch_output\n",
        "\n",
        "        probs = softmax(outputs, dim=-1)\n",
        "        probs, labels = torch.max(probs, dim=-1)\n",
        "\n",
        "        tokens = [\n",
        "            self.tokenizer.convert_ids_to_tokens(input_ids_)\n",
        "            for input_ids_ in input_ids\n",
        "        ]\n",
        "\n",
        "        embedding_grads = grads.sum(dim=2)\n",
        "        # norm for each sequence\n",
        "        norms = torch.norm(embedding_grads, dim=1, p=1)\n",
        "        # normalizing\n",
        "        for i, norm in enumerate(norms):\n",
        "            embedding_grads[i] = torch.abs(embedding_grads[i]) / norm\n",
        "\n",
        "        batch_output = []\n",
        "\n",
        "        iterator = zip(tokens, probs, embedding_grads, labels)\n",
        "\n",
        "        for example_tokens, example_prob, example_grad, example_label in iterator:\n",
        "            example_dict = dict()\n",
        "            # as we do it by batches we has a padding so we need to remove it\n",
        "            example_tokens = [t for t in example_tokens if t != self.tokenizer.pad_token]\n",
        "            example_dict['tokens'] = example_tokens\n",
        "            example_dict['grad'] = example_grad.cpu().tolist()[:len(example_tokens)]\n",
        "            example_dict['label'] = example_label.item()\n",
        "            example_dict['prob'] = example_prob.item()\n",
        "            batch_output.append(example_dict)\n",
        "        return batch_output\n",
        "\n",
        "import torch\n",
        "\n",
        "from tqdm import tqdm\n",
        "\n",
        "\n",
        "\n",
        "class SmoothGradient(SaliencyInterpreter):\n",
        "    \"\"\"\n",
        "    Interprets the prediction using SmoothGrad (https://arxiv.org/abs/1706.03825)\n",
        "    Registered as a `SaliencyInterpreter` with name \"smooth-gradient\".\n",
        "    \"\"\"\n",
        "    def __init__(self,\n",
        "                 model,\n",
        "                 criterion,\n",
        "                 tokenizer,\n",
        "                 stdev=0.01,\n",
        "                 num_samples=20,\n",
        "                 show_progress=True,\n",
        "                 **kwargs):\n",
        "        super().__init__(model, criterion, tokenizer, show_progress, **kwargs)\n",
        "        # Hyperparameters\n",
        "        self.stdev = stdev\n",
        "        self.num_samples = num_samples\n",
        "\n",
        "    def saliency_interpret(self, test_dataloader):\n",
        "\n",
        "        instances_with_grads = []\n",
        "        iterator = tqdm(test_dataloader) if self.show_progress else test_dataloader\n",
        "\n",
        "        for batch in iterator:\n",
        "\n",
        "            # we will store there batch outputs such as gradients, probability, tokens\n",
        "            # so as each of them are used in different places, for convenience we will create\n",
        "            # it as attribute:\n",
        "            self.batch_output = []\n",
        "            self._smooth_grads(batch)\n",
        "            batch_output = self.update_output()\n",
        "            instances_with_grads.extend(batch_output)\n",
        "\n",
        "        return instances_with_grads\n",
        "\n",
        "    def _register_forward_hook(self, stdev: float):\n",
        "        \"\"\"\n",
        "        Register a forward hook on the embedding layer which adds random noise to every embedding.\n",
        "        Used for one term in the SmoothGrad sum.\n",
        "        \"\"\"\n",
        "\n",
        "        def forward_hook(module, inputs, output):\n",
        "            # Random noise = N(0, stdev * (max-min))\n",
        "            scale = output.detach().max() - output.detach().min()\n",
        "            noise = torch.randn(output.shape).to(output.device) * stdev * scale\n",
        "\n",
        "            # Add the random noise\n",
        "            output.add_(noise)\n",
        "\n",
        "        # Register the hook\n",
        "        embedding_layer = self.get_embeddings_layer()\n",
        "        handle = embedding_layer.register_forward_hook(forward_hook)\n",
        "        return handle\n",
        "\n",
        "    def _smooth_grads(self, batch):\n",
        "        total_gradients = None\n",
        "        for _ in range(self.num_samples):\n",
        "            handle = self._register_forward_hook(self.stdev)\n",
        "            grads = self._get_gradients(batch)\n",
        "            handle.remove()\n",
        "\n",
        "            # Sum gradients\n",
        "            if total_gradients is None:\n",
        "                total_gradients = grads\n",
        "            else:\n",
        "                total_gradients = total_gradients + grads\n",
        "\n",
        "        total_gradients /= self.num_samples\n",
        "\n",
        "        self.batch_output.append(total_gradients)"
      ]
    },
    {
      "cell_type": "code",
      "execution_count": 120,
      "metadata": {
        "id": "fKATY80EQhcn"
      },
      "outputs": [],
      "source": [
        "data_classification = data_classification.drop_duplicates()\n",
        "\n",
        "class_0 = data_classification[data_classification['gender_artist'] == 0]\n",
        "class_1 = data_classification[data_classification['gender_artist'] == 1]\n",
        "class_count_0, class_count_1 = data_classification['gender_artist'].value_counts()\n",
        "\n",
        "class_0_under = class_0.sample(class_count_1)\n",
        "test_under = pd.concat([class_0_under, class_1], axis=0)"
      ]
    },
    {
      "cell_type": "code",
      "execution_count": 175,
      "metadata": {
        "id": "FmkX_fFg_vyD"
      },
      "outputs": [],
      "source": [
        "tokenizer = BertTokenizer.from_pretrained('bert-base-uncased') \n",
        "\n",
        "dataset_train= ArtistDataset(test_under,tokenizer, 128, 'lyrics_cleaned')\n",
        "\n",
        "dataloader_train=DataLoader(dataset=dataset_train,batch_size=32)"
      ]
    },
    {
      "cell_type": "code",
      "execution_count": 176,
      "metadata": {
        "colab": {
          "base_uri": "https://localhost:8080/"
        },
        "id": "NbhJiB2DcyPg",
        "outputId": "996b49a7-f7d3-4882-ec04-0fd8df4e23bd"
      },
      "outputs": [
        {
          "output_type": "execute_result",
          "data": {
            "text/plain": [
              "16694"
            ]
          },
          "metadata": {},
          "execution_count": 176
        }
      ],
      "source": [
        "import gc\n",
        "\n",
        "gc.collect()"
      ]
    },
    {
      "cell_type": "code",
      "source": [
        "device = 'cuda'"
      ],
      "metadata": {
        "id": "wgnJxoT5n77x"
      },
      "execution_count": 126,
      "outputs": []
    },
    {
      "cell_type": "code",
      "execution_count": 177,
      "metadata": {
        "colab": {
          "base_uri": "https://localhost:8080/"
        },
        "id": "-O0hGQ33_yCm",
        "outputId": "73b9d8b7-f352-46f7-b4fc-7985b9551323"
      },
      "outputs": [
        {
          "output_type": "stream",
          "name": "stderr",
          "text": [
            "Some weights of the model checkpoint at prajjwal1/bert-tiny were not used when initializing BertModel: ['cls.predictions.bias', 'cls.predictions.transform.LayerNorm.weight', 'cls.predictions.transform.dense.weight', 'cls.predictions.decoder.bias', 'cls.predictions.transform.LayerNorm.bias', 'cls.predictions.decoder.weight', 'cls.predictions.transform.dense.bias', 'cls.seq_relationship.weight', 'cls.seq_relationship.bias']\n",
            "- This IS expected if you are initializing BertModel from the checkpoint of a model trained on another task or with another architecture (e.g. initializing a BertForSequenceClassification model from a BertForPreTraining model).\n",
            "- This IS NOT expected if you are initializing BertModel from the checkpoint of a model that you expect to be exactly identical (initializing a BertForSequenceClassification model from a BertForSequenceClassification model).\n"
          ]
        }
      ],
      "source": [
        "from transformers import BertForSequenceClassification, AdamW, BertConfig\n",
        "\n",
        "# model = BertForSequenceClassification.from_pretrained(\n",
        "#     'bert-base-uncased', \n",
        "#     num_labels = 2, \n",
        "#     output_attentions = False, \n",
        "#     output_hidden_states = False, \n",
        "# ).to(device)\n",
        "model = SentimentClassifier().to('cuda')"
      ]
    },
    {
      "cell_type": "code",
      "execution_count": 178,
      "metadata": {
        "colab": {
          "base_uri": "https://localhost:8080/"
        },
        "id": "plJ9-b0g_0Rn",
        "outputId": "fd9385be-166e-4d00-f5d1-19c777e598f5"
      },
      "outputs": [
        {
          "output_type": "stream",
          "name": "stderr",
          "text": [
            "/usr/local/lib/python3.7/dist-packages/transformers/optimization.py:309: FutureWarning: This implementation of AdamW is deprecated and will be removed in a future version. Use the PyTorch implementation torch.optim.AdamW instead, or set `no_deprecation_warning=True` to disable this warning\n",
            "  FutureWarning,\n",
            "Truncation was not explicitly activated but `max_length` is provided a specific value, please use `truncation=True` to explicitly truncate examples to max length. Defaulting to 'longest_first' truncation strategy. If you encode pairs of sequences (GLUE-style) with the tokenizer you can select this strategy more precisely by providing a specific strategy to `truncation`.\n",
            "/usr/local/lib/python3.7/dist-packages/transformers/tokenization_utils_base.py:2269: FutureWarning: The `pad_to_max_length` argument is deprecated and will be removed in a future version, use `padding=True` or `padding='longest'` to pad to the longest sequence in the batch, or use `padding='max_length'` to pad to a max length. In this case, you can give a specific length with `max_length` (e.g. `max_length=45`) or leave max_length to None to pad to the maximal input size of the model (e.g. 512 for Bert).\n",
            "  FutureWarning,\n"
          ]
        },
        {
          "output_type": "stream",
          "name": "stdout",
          "text": [
            "Epoch 0, Loss 1.8226519579119567\n",
            "Epoch 1, Loss 1.4044270931728302\n",
            "Epoch 2, Loss 0.9796884651221927\n",
            "Epoch 3, Loss 0.8873458116773575\n",
            "Epoch 4, Loss 0.8482603662543826\n",
            "Epoch 5, Loss 0.8135024578798384\n",
            "Epoch 6, Loss 0.7910786299478441\n",
            "Epoch 7, Loss 0.7970680925581191\n",
            "Epoch 8, Loss 0.7825117939048343\n",
            "Epoch 9, Loss 0.7684355704557329\n",
            "Epoch 10, Loss 0.7669789687035575\n",
            "Epoch 11, Loss 0.7592805723349253\n",
            "Epoch 12, Loss 0.7567148605982462\n",
            "Epoch 13, Loss 0.7556627771211049\n",
            "Epoch 14, Loss 0.7291213028014653\n",
            "Epoch 15, Loss 0.7358230219946967\n",
            "Epoch 16, Loss 0.7315578583687071\n",
            "Epoch 17, Loss 0.7226460647015345\n",
            "Epoch 18, Loss 0.7287267068075756\n",
            "Epoch 19, Loss 0.721786609244725\n"
          ]
        }
      ],
      "source": [
        "from transformers import get_linear_schedule_with_warmup\n",
        "\n",
        "optimizer = AdamW(model.parameters(), lr=2e-5, correct_bias=False)\n",
        "epochs = 20\n",
        "loss_fn = nn.CrossEntropyLoss().to(device)\n",
        "total_steps = len(dataloader_train) * epochs\n",
        "scheduler = get_linear_schedule_with_warmup(optimizer, \n",
        "                                            num_warmup_steps = 0, \n",
        "                                            num_training_steps = total_steps)\n",
        "\n",
        "for epoch_i in range(0, epochs):\n",
        "    \n",
        "    losses = []\n",
        "    model.train()\n",
        "\n",
        "    for step, batch in enumerate(dataloader_train):\n",
        "\n",
        "        b_input_ids = batch['input_ids'].to(device)\n",
        "        b_input_mask = batch['attention_mask'].to(device)\n",
        "        b_labels = batch['target'].type(torch.LongTensor).to(device)\n",
        "    \n",
        "\n",
        "        outputs = model(\n",
        "          input_ids=b_input_ids,\n",
        "          attention_mask=b_input_mask\n",
        "        )#['logits']\n",
        "\n",
        "        _, preds = torch.max(outputs, dim=1)\n",
        "\n",
        "        loss = loss_fn(outputs, b_labels)\n",
        "\n",
        "        losses.append(loss.item())\n",
        "\n",
        "        loss.backward()\n",
        "\n",
        "        torch.nn.utils.clip_grad_norm_(model.parameters(), 1.0)\n",
        "\n",
        "        optimizer.step()\n",
        "        \n",
        "        scheduler.step()\n",
        "\n",
        "        optimizer.zero_grad()\n",
        "    print(f\"Epoch {epoch_i}, Loss {np.mean(losses)}\")\n"
      ]
    },
    {
      "cell_type": "code",
      "source": [
        "outputs"
      ],
      "metadata": {
        "colab": {
          "base_uri": "https://localhost:8080/"
        },
        "id": "acrNzDUDoqEw",
        "outputId": "f62aea1c-cf35-44b1-b241-4558479c59da"
      },
      "execution_count": 179,
      "outputs": [
        {
          "output_type": "execute_result",
          "data": {
            "text/plain": [
              "tensor([[-0.2258,  0.0396],\n",
              "        [-0.3182,  0.0189],\n",
              "        [-1.1384,  0.0472],\n",
              "        [-0.1277,  0.3587],\n",
              "        [-0.7447, -0.2248],\n",
              "        [-0.2408, -0.5658],\n",
              "        [-0.1476,  0.0341],\n",
              "        [ 0.0417, -0.0049],\n",
              "        [-1.3692, -0.1323],\n",
              "        [-0.1685,  0.2825],\n",
              "        [ 0.2048,  0.3669],\n",
              "        [ 0.0093, -0.2663],\n",
              "        [-0.6821,  0.4564],\n",
              "        [-0.9747, -0.3152]], device='cuda:0', grad_fn=<AddmmBackward0>)"
            ]
          },
          "metadata": {},
          "execution_count": 179
        }
      ]
    },
    {
      "cell_type": "code",
      "execution_count": 180,
      "metadata": {
        "colab": {
          "base_uri": "https://localhost:8080/"
        },
        "id": "k0Nd2qnP_5lv",
        "outputId": "3de5d4a7-508d-4c56-c44a-45a3d1b96654"
      },
      "outputs": [
        {
          "output_type": "stream",
          "name": "stderr",
          "text": [
            "/usr/local/lib/python3.7/dist-packages/transformers/tokenization_utils_base.py:2269: FutureWarning: The `pad_to_max_length` argument is deprecated and will be removed in a future version, use `padding=True` or `padding='longest'` to pad to the longest sequence in the batch, or use `padding='max_length'` to pad to a max length. In this case, you can give a specific length with `max_length` (e.g. `max_length=45`) or leave max_length to None to pad to the maximal input size of the model (e.g. 512 for Bert).\n",
            "  FutureWarning,\n",
            "/usr/local/lib/python3.7/dist-packages/torch/nn/modules/module.py:1033: UserWarning: Using a non-full backward hook when the forward contains multiple autograd Nodes is deprecated and will be removed in future versions. This hook will be missing some grad_input. Please use register_full_backward_hook to get the documented behavior.\n",
            "  warnings.warn(\"Using a non-full backward hook when the forward contains multiple autograd Nodes \"\n"
          ]
        }
      ],
      "source": [
        "integrated_grad = SmoothGradient(\n",
        "    model, \n",
        "    loss_fn, \n",
        "    tokenizer, \n",
        "    show_progress=False,\n",
        "    encoder=\"bert\"\n",
        ")\n",
        "instances = integrated_grad.saliency_interpret(dataloader_train)\n"
      ]
    },
    {
      "cell_type": "code",
      "execution_count": 181,
      "metadata": {
        "id": "sacNXcd0KEpV"
      },
      "outputs": [],
      "source": [
        "words_male = []\n",
        "words_female = []\n",
        "for i in range(len(instances)):\n",
        "  idx = np.argsort(instances[i]['grad'])[::-1][:10]\n",
        "  if instances[i]['label'] == 0:\n",
        "    words_male = words_male + [instances[i]['tokens'][val] for val in idx]\n",
        "  else: \n",
        "    words_female = words_female + [instances[i]['tokens'][val] for val in idx]\n",
        "\n",
        "words_male = [ elem for elem in words_male if elem not in ['[SEP]', '[CLS]']]\n",
        "words_female = [ elem for elem in words_female if elem not in ['[SEP]', '[CLS]']]"
      ]
    },
    {
      "cell_type": "code",
      "execution_count": 182,
      "metadata": {
        "colab": {
          "base_uri": "https://localhost:8080/"
        },
        "id": "V-iwKmY9dyT0",
        "outputId": "55fd8bc1-e6e7-4bb6-b726-098bb1bd3812"
      },
      "outputs": [
        {
          "output_type": "execute_result",
          "data": {
            "text/plain": [
              "161"
            ]
          },
          "metadata": {},
          "execution_count": 182
        }
      ],
      "source": [
        "len(words_male)"
      ]
    },
    {
      "cell_type": "code",
      "execution_count": 183,
      "metadata": {
        "colab": {
          "base_uri": "https://localhost:8080/",
          "height": 86
        },
        "id": "3CPgQBRS_7ms",
        "outputId": "32578841-e25b-4633-bf6f-26313e8d9af5"
      },
      "outputs": [
        {
          "output_type": "stream",
          "name": "stderr",
          "text": [
            "Using bos_token, but it is not set yet.\n"
          ]
        },
        {
          "output_type": "display_data",
          "data": {
            "text/plain": [
              "<IPython.core.display.HTML object>"
            ],
            "text/html": [
              "<span class=\"barcode\"; style=\"color: black; background-color: #8cc0dd\"> [CLS]</span><span class=\"barcode\"; style=\"color: black; background-color: #f2f8fd\"> be</span><span class=\"barcode\"; style=\"color: black; background-color: #f6faff\"> still</span><span class=\"barcode\"; style=\"color: black; background-color: #f7fbff\"> my</span><span class=\"barcode\"; style=\"color: black; background-color: #2e7ebc\"> soul</span><span class=\"barcode\"; style=\"color: black; background-color: #f3f8fe\"> the</span><span class=\"barcode\"; style=\"color: black; background-color: #e5eff9\"> lord</span><span class=\"barcode\"; style=\"color: black; background-color: #e3eef8\"> is</span><span class=\"barcode\"; style=\"color: black; background-color: #f0f6fd\"> on</span><span class=\"barcode\"; style=\"color: black; background-color: #eef5fc\"> thy</span><span class=\"barcode\"; style=\"color: black; background-color: #eff6fc\"> side</span><span class=\"barcode\"; style=\"color: black; background-color: #eff6fc\"> bear</span><span class=\"barcode\"; style=\"color: black; background-color: #d7e6f5\"> patiently</span><span class=\"barcode\"; style=\"color: black; background-color: #f3f8fe\"> the</span><span class=\"barcode\"; style=\"color: black; background-color: #edf4fc\"> cross</span><span class=\"barcode\"; style=\"color: black; background-color: #eef5fc\"> of</span><span class=\"barcode\"; style=\"color: black; background-color: #e0ecf8\"> grief</span><span class=\"barcode\"; style=\"color: black; background-color: #f4f9fe\"> or</span><span class=\"barcode\"; style=\"color: black; background-color: #f4f9fe\"> pain</span><span class=\"barcode\"; style=\"color: black; background-color: #f5fafe\"> leave</span><span class=\"barcode\"; style=\"color: black; background-color: #f5fafe\"> to</span><span class=\"barcode\"; style=\"color: black; background-color: #eaf3fb\"> thy</span><span class=\"barcode\"; style=\"color: black; background-color: #f2f8fd\"> god</span><span class=\"barcode\"; style=\"color: black; background-color: #f6faff\"> to</span><span class=\"barcode\"; style=\"color: black; background-color: #f1f7fd\"> order</span><span class=\"barcode\"; style=\"color: black; background-color: #f4f9fe\"> and</span><span class=\"barcode\"; style=\"color: black; background-color: #f0f6fd\"> provide</span><span class=\"barcode\"; style=\"color: black; background-color: #f4f9fe\"> in</span><span class=\"barcode\"; style=\"color: black; background-color: #f5f9fe\"> every</span><span class=\"barcode\"; style=\"color: black; background-color: #f1f7fd\"> change</span><span class=\"barcode\"; style=\"color: black; background-color: #f3f8fe\"> he</span><span class=\"barcode\"; style=\"color: black; background-color: #e3eef9\"> faithful</span><span class=\"barcode\"; style=\"color: black; background-color: #f5fafe\"> will</span><span class=\"barcode\"; style=\"color: black; background-color: #eff6fc\"> remain</span><span class=\"barcode\"; style=\"color: black; background-color: #f2f8fd\"> be</span><span class=\"barcode\"; style=\"color: black; background-color: #f7fbff\"> still</span><span class=\"barcode\"; style=\"color: black; background-color: #f4f9fe\"> my</span><span class=\"barcode\"; style=\"color: black; background-color: #d2e3f3\"> soul</span><span class=\"barcode\"; style=\"color: black; background-color: #f1f7fd\"> thy</span><span class=\"barcode\"; style=\"color: black; background-color: #f2f8fd\"> best</span><span class=\"barcode\"; style=\"color: black; background-color: #edf4fc\"> thy</span><span class=\"barcode\"; style=\"color: black; background-color: #ecf4fb\"> heavenly</span><span class=\"barcode\"; style=\"color: black; background-color: #eef5fc\"> friend</span><span class=\"barcode\"; style=\"color: black; background-color: #f4f9fe\"> through</span><span class=\"barcode\"; style=\"color: black; background-color: #f1f7fd\"> thorn</span><span class=\"barcode\"; style=\"color: black; background-color: #eef5fc\">y</span><span class=\"barcode\"; style=\"color: black; background-color: #f5f9fe\"> ways</span><span class=\"barcode\"; style=\"color: black; background-color: #e4eff9\"> leads</span><span class=\"barcode\"; style=\"color: black; background-color: #f5fafe\"> to</span><span class=\"barcode\"; style=\"color: black; background-color: #f6faff\"> a</span><span class=\"barcode\"; style=\"color: black; background-color: #f1f7fd\"> joy</span><span class=\"barcode\"; style=\"color: black; background-color: #eef5fc\">ful</span><span class=\"barcode\"; style=\"color: black; background-color: #f5f9fe\"> end</span><span class=\"barcode\"; style=\"color: black; background-color: #f2f8fd\"> be</span><span class=\"barcode\"; style=\"color: black; background-color: #f6faff\"> still</span><span class=\"barcode\"; style=\"color: black; background-color: #f6faff\"> my</span><span class=\"barcode\"; style=\"color: black; background-color: #c4daee\"> soul</span><span class=\"barcode\"; style=\"color: black; background-color: #f4f9fe\"> when</span><span class=\"barcode\"; style=\"color: black; background-color: #f0f6fd\"> dear</span><span class=\"barcode\"; style=\"color: black; background-color: #f6faff\">est</span><span class=\"barcode\"; style=\"color: black; background-color: #eaf2fb\"> friends</span><span class=\"barcode\"; style=\"color: black; background-color: #e8f1fa\"> depart</span><span class=\"barcode\"; style=\"color: black; background-color: #f4f9fe\"> and</span><span class=\"barcode\"; style=\"color: black; background-color: #f7fbff\"> all</span><span class=\"barcode\"; style=\"color: black; background-color: #eaf2fb\"> is</span><span class=\"barcode\"; style=\"color: black; background-color: #f7fbff\"> darkened</span><span class=\"barcode\"; style=\"color: black; background-color: #f5f9fe\"> in</span><span class=\"barcode\"; style=\"color: black; background-color: #f5f9fe\"> the</span><span class=\"barcode\"; style=\"color: black; background-color: #f3f8fe\"> vale</span><span class=\"barcode\"; style=\"color: black; background-color: #f1f7fd\"> of</span><span class=\"barcode\"; style=\"color: black; background-color: #f4f9fe\"> tears</span><span class=\"barcode\"; style=\"color: black; background-color: #f7fbff\"> then</span><span class=\"barcode\"; style=\"color: black; background-color: #f2f8fd\"> sha</span><span class=\"barcode\"; style=\"color: black; background-color: #ebf3fb\">lt</span><span class=\"barcode\"; style=\"color: black; background-color: #eef5fc\"> thou</span><span class=\"barcode\"; style=\"color: black; background-color: #f6faff\"> better</span><span class=\"barcode\"; style=\"color: black; background-color: #f5f9fe\"> know</span><span class=\"barcode\"; style=\"color: black; background-color: #f7fbff\"> his</span><span class=\"barcode\"; style=\"color: black; background-color: #f5f9fe\"> love</span><span class=\"barcode\"; style=\"color: black; background-color: #f6faff\"> his</span><span class=\"barcode\"; style=\"color: black; background-color: #f5fafe\"> heart</span><span class=\"barcode\"; style=\"color: black; background-color: #f5fafe\"> who</span><span class=\"barcode\"; style=\"color: black; background-color: #f2f8fd\"> comes</span><span class=\"barcode\"; style=\"color: black; background-color: #f6faff\"> to</span><span class=\"barcode\"; style=\"color: black; background-color: #f6faff\"> soothe</span><span class=\"barcode\"; style=\"color: black; background-color: #eef5fc\"> thy</span><span class=\"barcode\"; style=\"color: black; background-color: #dfecf7\"> sorrow</span><span class=\"barcode\"; style=\"color: black; background-color: #f4f9fe\"> and</span><span class=\"barcode\"; style=\"color: black; background-color: #eef5fc\"> thy</span><span class=\"barcode\"; style=\"color: black; background-color: #edf4fc\"> fears</span><span class=\"barcode\"; style=\"color: black; background-color: #f4f9fe\"> be</span><span class=\"barcode\"; style=\"color: black; background-color: #f6faff\"> still</span><span class=\"barcode\"; style=\"color: black; background-color: #f6faff\"> my</span><span class=\"barcode\"; style=\"color: black; background-color: #dce9f6\"> soul</span><span class=\"barcode\"; style=\"color: black; background-color: #f5fafe\"> the</span><span class=\"barcode\"; style=\"color: black; background-color: #edf4fc\"> waves</span><span class=\"barcode\"; style=\"color: black; background-color: #f5f9fe\"> and</span><span class=\"barcode\"; style=\"color: black; background-color: #ebf3fb\"> winds</span><span class=\"barcode\"; style=\"color: black; background-color: #d4e4f4\"> shall</span><span class=\"barcode\"; style=\"color: black; background-color: #f5fafe\"> know</span><span class=\"barcode\"; style=\"color: black; background-color: #f7fbff\"> his</span><span class=\"barcode\"; style=\"color: black; background-color: #f5f9fe\"> voice</span><span class=\"barcode\"; style=\"color: black; background-color: #f4f9fe\"> who</span><span class=\"barcode\"; style=\"color: black; background-color: #eaf2fb\"> ruled</span><span class=\"barcode\"; style=\"color: black; background-color: #f6faff\"> them</span><span class=\"barcode\"; style=\"color: black; background-color: #f2f8fd\"> while</span><span class=\"barcode\"; style=\"color: black; background-color: #f4f9fe\"> he</span><span class=\"barcode\"; style=\"color: black; background-color: #f6faff\"> d</span><span class=\"barcode\"; style=\"color: black; background-color: #f5f9fe\">we</span><span class=\"barcode\"; style=\"color: black; background-color: #f1f7fd\">lt</span><span class=\"barcode\"; style=\"color: black; background-color: #f5fafe\"> below</span><span class=\"barcode\"; style=\"color: black; background-color: #f4f9fe\"> be</span><span class=\"barcode\"; style=\"color: black; background-color: #f7fbff\"> still</span><span class=\"barcode\"; style=\"color: black; background-color: #f5fafe\"> my</span><span class=\"barcode\"; style=\"color: black; background-color: #eff6fc\"> soul</span><span class=\"barcode\"; style=\"color: black; background-color: #f6faff\"> the</span><span class=\"barcode\"; style=\"color: black; background-color: #f2f8fd\"> hour</span><span class=\"barcode\"; style=\"color: black; background-color: #edf4fc\"> is</span><span class=\"barcode\"; style=\"color: black; background-color: #f5fafe\"> haste</span><span class=\"barcode\"; style=\"color: black; background-color: #eef5fc\">ning</span><span class=\"barcode\"; style=\"color: black; background-color: #f6faff\"> on</span><span class=\"barcode\"; style=\"color: black; background-color: #f7fbff\"> when</span><span class=\"barcode\"; style=\"color: black; background-color: #eef5fc\"> we</span><span class=\"barcode\"; style=\"color: black; background-color: #f5fafe\"> shall</span><span class=\"barcode\"; style=\"color: black; background-color: #f6faff\"> be</span><span class=\"barcode\"; style=\"color: black; background-color: #f2f7fd\"> forever</span><span class=\"barcode\"; style=\"color: black; background-color: #f5fafe\"> with</span><span class=\"barcode\"; style=\"color: black; background-color: #08306b\"> [SEP]</span><span class=\"barcode\"; style=\"color: black; background-color: 0\">    Label: 1 |</span><span class=\"barcode\"; style=\"color: black; background-color: #46ae60\">60.99%</span>|"
            ]
          },
          "metadata": {}
        }
      ],
      "source": [
        "coloder_string = integrated_grad.colorize(instances[1])\n",
        "display(HTML(coloder_string))"
      ]
    },
    {
      "cell_type": "code",
      "execution_count": 184,
      "metadata": {
        "colab": {
          "base_uri": "https://localhost:8080/",
          "height": 486
        },
        "id": "YnwG--ONLiLM",
        "outputId": "4d73c3fd-edd3-4453-9e6c-d22a7696b44b"
      },
      "outputs": [
        {
          "output_type": "display_data",
          "data": {
            "text/plain": [
              "<Figure size 1080x576 with 1 Axes>"
            ],
            "image/png": "[encoded data removed]"
          },
          "metadata": {}
        },
        {
          "output_type": "stream",
          "name": "stdout",
          "text": [
            "dict_keys(['baby baby', 'love', 'song', 'dream', 'girl', 'world', 'life', 'love love', 'street', 'boy', 'lie', 'heart', 'black black', 'man', 'gga gga', 'tree', 'lonely', 'bird', 'feel', 'name', 'gonna', 'fire', 'black', 'cause', 'blue', 'game', 'loved', 'blood', 'house', 'angel', 'er', 'makes', 'show', 'book', 'star', 'sky', 'girl girl', 'war', 'play', 'woman', 'bird bird', 'town', 'will', 'road', 'dead', 'lord lord', 'born', 'story', 'ball', 'bone', 'fool', 'city', 'light', 'oh oh', 'dance dance', 'burn', 'darkness', 'shit', 'grace grace', 'battle', 'bitch', 'live', 'know', 'gga ni', 'angel angel', 'york york', 'goes', 'death', 'sun', 'christmas christmas', 'music', 'dance', 'moon', 'day', 'skies', 'boy boy', 'blame', 'bad', 'water', 'evil', 'paper', 'people', 'soul', 'bar', 'sea', 'car', 'shadow', 'life life', 'alive', 'ride', 'fight', 'gotta', 'wrote', 'stone', 'big', 'friend', 'money', 'kill', 'river', 'rock', 'rose', 'keep', 'dog dog', 'na na', 'man man', 'sunshine sunshine', 'sunshine ain', 'american american', 'believe', 'won', 'used', 'beauty', 'crime', 'cloud', 'grow', 'brother', 'horse', 'night night', 'fuck fuck', 'lord jesus', 'wanna wanna', 'sorrow', 'smoke', 'lover', 'fuck', 'darling', 'wing', 'flower', 'shoe', 'kid', 'fire fire', 'chicken chicken', 'jesus lord', 'beautiful beautiful', 'hill', 'comes', 'company', 'mountain', 'spirit', 'yo', 'soldier', 'wife', 'cry', 'king', 'satan', 'chair', 'says', 'turns', 'hell', 'hate', 'fall', 'line', 'show show', 'bitch bitch', 'midnight midnight', 'blow', 'today', 'rain', 'fear', 'earth', 'island', 'scream', 'beat', 'farm', 'land', 'flow', 'rainbow', 'apple', 'want', 'wheel', 'sleep', 'tear', 'world world', 'goes goes', 'house house', 'alberta alberta', 'billy billy', 'devil devil', 'pin', 'slow', 'vision', 'pain', 'god', 'ain', 'look', 'card', 'dear', 'praise', 'wanna', 'body', 'ad', 'blessed', 'walk', 'wall', 'soul soul', 'moon moon', 'bout bout', 'bang bang', 'ba ba', 'thrill thrill'])\n"
          ]
        }
      ],
      "source": [
        "import matplotlib.pyplot as plt\n",
        "from wordcloud import WordCloud\n",
        "\n",
        "#convert list to string and generate\n",
        "unique_string=(\" \").join(words_female)\n",
        "wordcloud = WordCloud(width = 1000, height = 500).generate(unique_string)\n",
        "plt.figure(figsize=(15,8))\n",
        "plt.imshow(wordcloud)\n",
        "plt.axis(\"off\")\n",
        "plt.show()\n",
        "\n",
        "print(wordcloud.words_.keys())"
      ]
    },
    {
      "cell_type": "code",
      "execution_count": 185,
      "metadata": {
        "colab": {
          "base_uri": "https://localhost:8080/",
          "height": 486
        },
        "id": "hFWzsRuNXLYd",
        "outputId": "42ee0a6a-1e69-4b81-e2c4-f921c1fad4c6"
      },
      "outputs": [
        {
          "output_type": "display_data",
          "data": {
            "text/plain": [
              "<Figure size 1080x576 with 1 Axes>"
            ],
            "image/png": "[encoded data removed]"
          },
          "metadata": {}
        },
        {
          "output_type": "stream",
          "name": "stdout",
          "text": [
            "dict_keys(['stars', 'osa', 'motorcycle', 'behold', 'boo', 'erly', 'assyrian', 'code', 'chaos', 'avenge', 'toxic', 'car', 'excel', 'lo', 'tools', 'ar', 'mounds', 'iko', 'def', 'orestation', 'skulls', 'historic', 'breeds', 'blood', 'dreams', 'stir', 'gods', 'shadows', 'org', 'reign', 'ies', 'hell', 'slaves', 'serves', 'ulation', 'rule', 'ers', 'foundation', 'slain', 'timor', 'fia', 'vince', 'rman', 'uti', 'ord', 'mp', 'sis', 'rider', 'stampede', 'named', 'medication', 'cise', 'tility', 'angry', 'omega', 'attracts', 'warfare', 'sites', 'lust', 'ranges', 'missile', 'classic', 'desert', 'ashe', 'caress', 'silhouette', 'ter', 'horizon', 'hands', 'vinyl', 'ak', 'dai', 'point', 'darkness', 'heart', 'squeezed', 'ity', 'su', 'pie', 'south', 'dom', 'bourbon', 'bohemian', 'building', 'manhattan', 'register', 'landmark', 'news', 'bad', 'zimbabwe', 'zodiac', 'zambia', 'zulu', 'rated', 'leaders'])\n"
          ]
        }
      ],
      "source": [
        "import matplotlib.pyplot as plt\n",
        "from wordcloud import WordCloud\n",
        "\n",
        "#convert list to string and generate\n",
        "unique_string=(\" \").join(words_male)\n",
        "wordcloud = WordCloud(width = 1000, height = 500).generate(unique_string)\n",
        "plt.figure(figsize=(15,8))\n",
        "plt.imshow(wordcloud)\n",
        "plt.axis(\"off\")\n",
        "plt.show()\n",
        "\n",
        "print(wordcloud.words_.keys())"
      ]
    },
    {
      "cell_type": "markdown",
      "metadata": {
        "id": "NtIQzQEH2vhy"
      },
      "source": [
        "# Predict artist gender"
      ]
    },
    {
      "cell_type": "code",
      "execution_count": null,
      "metadata": {
        "id": "o_NzF7QQ3J6Z"
      },
      "outputs": [],
      "source": [
        "from sklearn.model_selection import train_test_split\n",
        "from sklearn.tree import DecisionTreeClassifier\n",
        "from sklearn import metrics"
      ]
    },
    {
      "cell_type": "code",
      "execution_count": null,
      "metadata": {
        "id": "FducXCFxKURy"
      },
      "outputs": [],
      "source": [
        "data_all_info = pd.read_csv(\"music/data_all_info.txt\", sep=\"\\t\").drop(['Unnamed: 0'],axis=1).dropna()\n",
        "data_all_info = data_all_info.loc[data_all_info.artist_gender != 'other' ]"
      ]
    },
    {
      "cell_type": "code",
      "execution_count": null,
      "metadata": {
        "id": "8XV1iDFGB0mF"
      },
      "outputs": [],
      "source": [
        "input = feature_vectors"
      ]
    },
    {
      "cell_type": "code",
      "execution_count": null,
      "metadata": {
        "id": "Zv1QvFM3I22n"
      },
      "outputs": [],
      "source": [
        "df_features = pd.DataFrame()\n",
        "id_col = []\n",
        "\n",
        "for id in data_interaction_test[item_col].unique():\n",
        "  id_col.append(id)\n",
        "  df_features = df_features.append(pd.DataFrame(input[id][0].detach().numpy()))\n",
        "\n",
        "df_features[item_col] = id_col"
      ]
    },
    {
      "cell_type": "code",
      "execution_count": null,
      "metadata": {
        "id": "EBOE0G_TJ28n"
      },
      "outputs": [],
      "source": [
        "df_features = pd.merge(df_features, data_all_info)"
      ]
    },
    {
      "cell_type": "code",
      "execution_count": null,
      "metadata": {
        "id": "YOQ6VKT_IVyg"
      },
      "outputs": [],
      "source": [
        "df_features.loc[df_features.artist_gender == 'female', 'artist_gender'] = 0\n",
        "df_features.loc[df_features.artist_gender == 'male', 'artist_gender'] = 1\n",
        "df_features.artist_gender = df_features.artist_gender.astype('int')"
      ]
    },
    {
      "cell_type": "code",
      "execution_count": null,
      "metadata": {
        "id": "2ic2xa382unN"
      },
      "outputs": [],
      "source": [
        "X = df_features.iloc[:,:128]\n",
        "y = df_features.artist_gender\n",
        "X_train, X_test, y_train, y_test = train_test_split(\n",
        "    X, y, test_size=0.4, random_state=42\n",
        ")"
      ]
    },
    {
      "cell_type": "code",
      "execution_count": null,
      "metadata": {
        "id": "h50TBcLs3G7l"
      },
      "outputs": [],
      "source": [
        "#clf = RandomForestClassifier(max_depth=5, n_estimators=10, max_features=1)\n",
        "clf = DecisionTreeClassifier()\n",
        "clf.fit(X_train, y_train)\n",
        "y_pred=clf.predict(X_test)\n",
        "\n",
        "print(\"Accuracy:\", metrics.accuracy_score(y_test.values, y_pred))\n",
        "print(\"Balanced Accuracy:\", metrics.balanced_accuracy_score(y_test.values, y_pred))\n",
        "print(\"Recall: \", metrics.recall_score(y_test.values, y_pred))\n",
        "print(\"Precision: \", metrics.precision_score(y_test.values, y_pred))"
      ]
    },
    {
      "cell_type": "code",
      "execution_count": null,
      "metadata": {
        "id": "XQSgoDfe4Cc4"
      },
      "outputs": [],
      "source": [
        "import pandas as pd\n",
        "feature_imp = pd.Series(clf.feature_importances_,index=X.columns).sort_values(ascending=False)\n",
        "feature_imp.head(10)"
      ]
    }
  ],
  "metadata": {
    "accelerator": "GPU",
    "colab": {
      "collapsed_sections": [
        "0c67LS6n1Y-A",
        "K-A_VQKP1hFS",
        "jc6rPo1eHeca",
        "hgDbgyUFYVPF",
        "UEiaFN1bYdFE",
        "_W5yg61kZJOV",
        "xjjmSaKW-99W",
        "NtIQzQEH2vhy"
      ],
      "machine_shape": "hm",
      "name": "AI_MasterThesis_Recommendations.ipynb",
      "provenance": [],
      "mount_file_id": "1oLwqD4kIwkhfA4JSXv2yb_2VYFXGEB35",
      "authorship_tag": "ABX9TyPmCcTR+zDVNMD+T6RVv/py",
      "include_colab_link": true
    },
    "kernelspec": {
      "display_name": "Python 3",
      "name": "python3"
    },
    "language_info": {
      "name": "python"
    }
  },
  "nbformat": 4,
  "nbformat_minor": 0
}