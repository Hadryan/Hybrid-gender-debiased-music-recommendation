{
  "cells": [
    {
      "cell_type": "markdown",
      "metadata": {
        "id": "view-in-github",
        "colab_type": "text"
      },
      "source": [
        "<a href=\"https://colab.research.google.com/github/Katrin-Leberfinger/Hybrid-gender-debiased-music-recommendation/blob/main/002_analyze_embeddings.ipynb\" target=\"_parent\"><img src=\"https://colab.research.google.com/assets/colab-badge.svg\" alt=\"Open In Colab\"/></a>"
      ]
    },
    {
      "cell_type": "code",
      "execution_count": 1,
      "metadata": {
        "colab": {
          "base_uri": "https://localhost:8080/"
        },
        "id": "RWHMmzSHaV4j",
        "outputId": "c1f09d09-dfb7-4c80-ac00-28ae36ebf271"
      },
      "outputs": [
        {
          "output_type": "stream",
          "name": "stdout",
          "text": [
            "Looking in indexes: https://pypi.org/simple, https://us-python.pkg.dev/colab-wheels/public/simple/\n",
            "Collecting transformers\n",
            "  Downloading transformers-4.19.2-py3-none-any.whl (4.2 MB)\n",
            "\u001b[K     |████████████████████████████████| 4.2 MB 5.4 MB/s \n",
            "\u001b[?25hRequirement already satisfied: importlib-metadata in /usr/local/lib/python3.7/dist-packages (from transformers) (4.11.3)\n",
            "Collecting pyyaml>=5.1\n",
            "  Downloading PyYAML-6.0-cp37-cp37m-manylinux_2_5_x86_64.manylinux1_x86_64.manylinux_2_12_x86_64.manylinux2010_x86_64.whl (596 kB)\n",
            "\u001b[K     |████████████████████████████████| 596 kB 38.0 MB/s \n",
            "\u001b[?25hRequirement already satisfied: requests in /usr/local/lib/python3.7/dist-packages (from transformers) (2.23.0)\n",
            "Collecting tokenizers!=0.11.3,<0.13,>=0.11.1\n",
            "  Downloading tokenizers-0.12.1-cp37-cp37m-manylinux_2_12_x86_64.manylinux2010_x86_64.whl (6.6 MB)\n",
            "\u001b[K     |████████████████████████████████| 6.6 MB 41.4 MB/s \n",
            "\u001b[?25hRequirement already satisfied: tqdm>=4.27 in /usr/local/lib/python3.7/dist-packages (from transformers) (4.64.0)\n",
            "Requirement already satisfied: packaging>=20.0 in /usr/local/lib/python3.7/dist-packages (from transformers) (21.3)\n",
            "Requirement already satisfied: regex!=2019.12.17 in /usr/local/lib/python3.7/dist-packages (from transformers) (2019.12.20)\n",
            "Requirement already satisfied: numpy>=1.17 in /usr/local/lib/python3.7/dist-packages (from transformers) (1.21.6)\n",
            "Requirement already satisfied: filelock in /usr/local/lib/python3.7/dist-packages (from transformers) (3.7.0)\n",
            "Collecting huggingface-hub<1.0,>=0.1.0\n",
            "  Downloading huggingface_hub-0.7.0-py3-none-any.whl (86 kB)\n",
            "\u001b[K     |████████████████████████████████| 86 kB 4.9 MB/s \n",
            "\u001b[?25hRequirement already satisfied: typing-extensions>=3.7.4.3 in /usr/local/lib/python3.7/dist-packages (from huggingface-hub<1.0,>=0.1.0->transformers) (4.2.0)\n",
            "Requirement already satisfied: pyparsing!=3.0.5,>=2.0.2 in /usr/local/lib/python3.7/dist-packages (from packaging>=20.0->transformers) (3.0.9)\n",
            "Requirement already satisfied: zipp>=0.5 in /usr/local/lib/python3.7/dist-packages (from importlib-metadata->transformers) (3.8.0)\n",
            "Requirement already satisfied: chardet<4,>=3.0.2 in /usr/local/lib/python3.7/dist-packages (from requests->transformers) (3.0.4)\n",
            "Requirement already satisfied: idna<3,>=2.5 in /usr/local/lib/python3.7/dist-packages (from requests->transformers) (2.10)\n",
            "Requirement already satisfied: urllib3!=1.25.0,!=1.25.1,<1.26,>=1.21.1 in /usr/local/lib/python3.7/dist-packages (from requests->transformers) (1.24.3)\n",
            "Requirement already satisfied: certifi>=2017.4.17 in /usr/local/lib/python3.7/dist-packages (from requests->transformers) (2022.5.18.1)\n",
            "Installing collected packages: pyyaml, tokenizers, huggingface-hub, transformers\n",
            "  Attempting uninstall: pyyaml\n",
            "    Found existing installation: PyYAML 3.13\n",
            "    Uninstalling PyYAML-3.13:\n",
            "      Successfully uninstalled PyYAML-3.13\n",
            "Successfully installed huggingface-hub-0.7.0 pyyaml-6.0 tokenizers-0.12.1 transformers-4.19.2\n"
          ]
        }
      ],
      "source": [
        "!pip install transformers"
      ]
    },
    {
      "cell_type": "code",
      "source": [
        "!pip install umap-learn"
      ],
      "metadata": {
        "colab": {
          "base_uri": "https://localhost:8080/"
        },
        "id": "wAKb-pu66SwD",
        "outputId": "54a341f8-bcbc-421a-90e7-2af589f62e29"
      },
      "execution_count": 43,
      "outputs": [
        {
          "output_type": "stream",
          "name": "stdout",
          "text": [
            "Looking in indexes: https://pypi.org/simple, https://us-python.pkg.dev/colab-wheels/public/simple/\n",
            "Collecting umap-learn\n",
            "  Downloading umap-learn-0.5.3.tar.gz (88 kB)\n",
            "\u001b[K     |████████████████████████████████| 88 kB 3.4 MB/s \n",
            "\u001b[?25hRequirement already satisfied: numpy>=1.17 in /usr/local/lib/python3.7/dist-packages (from umap-learn) (1.21.6)\n",
            "Requirement already satisfied: scikit-learn>=0.22 in /usr/local/lib/python3.7/dist-packages (from umap-learn) (1.0.2)\n",
            "Requirement already satisfied: scipy>=1.0 in /usr/local/lib/python3.7/dist-packages (from umap-learn) (1.4.1)\n",
            "Requirement already satisfied: numba>=0.49 in /usr/local/lib/python3.7/dist-packages (from umap-learn) (0.51.2)\n",
            "Collecting pynndescent>=0.5\n",
            "  Downloading pynndescent-0.5.7.tar.gz (1.1 MB)\n",
            "\u001b[K     |████████████████████████████████| 1.1 MB 16.1 MB/s \n",
            "\u001b[?25hRequirement already satisfied: tqdm in /usr/local/lib/python3.7/dist-packages (from umap-learn) (4.64.0)\n",
            "Requirement already satisfied: setuptools in /usr/local/lib/python3.7/dist-packages (from numba>=0.49->umap-learn) (57.4.0)\n",
            "Requirement already satisfied: llvmlite<0.35,>=0.34.0.dev0 in /usr/local/lib/python3.7/dist-packages (from numba>=0.49->umap-learn) (0.34.0)\n",
            "Requirement already satisfied: joblib>=0.11 in /usr/local/lib/python3.7/dist-packages (from pynndescent>=0.5->umap-learn) (1.1.0)\n",
            "Requirement already satisfied: threadpoolctl>=2.0.0 in /usr/local/lib/python3.7/dist-packages (from scikit-learn>=0.22->umap-learn) (3.1.0)\n",
            "Building wheels for collected packages: umap-learn, pynndescent\n",
            "  Building wheel for umap-learn (setup.py) ... \u001b[?25l\u001b[?25hdone\n",
            "  Created wheel for umap-learn: filename=umap_learn-0.5.3-py3-none-any.whl size=82829 sha256=018f35c333ee56d5695f1e514f4eeef4ec75035424bf5fba4d885c2c700db6b9\n",
            "  Stored in directory: /root/.cache/pip/wheels/b3/52/a5/1fd9e3e76a7ab34f134c07469cd6f16e27ef3a37aeff1fe821\n",
            "  Building wheel for pynndescent (setup.py) ... \u001b[?25l\u001b[?25hdone\n",
            "  Created wheel for pynndescent: filename=pynndescent-0.5.7-py3-none-any.whl size=54286 sha256=988ff09ca06bd70dad363625c09fecdfa85921738e83119d66a8d5f1fb4c588d\n",
            "  Stored in directory: /root/.cache/pip/wheels/7f/2a/f8/7bd5dcec71bd5c669f6f574db3113513696b98f3f9b51f496c\n",
            "Successfully built umap-learn pynndescent\n",
            "Installing collected packages: pynndescent, umap-learn\n",
            "Successfully installed pynndescent-0.5.7 umap-learn-0.5.3\n"
          ]
        }
      ]
    },
    {
      "cell_type": "code",
      "source": [
        "!pip install gensim"
      ],
      "metadata": {
        "colab": {
          "base_uri": "https://localhost:8080/"
        },
        "id": "U-UI8nhm967a",
        "outputId": "fdd1b394-654f-44f7-a43b-19e0da8d197c"
      },
      "execution_count": 118,
      "outputs": [
        {
          "output_type": "stream",
          "name": "stdout",
          "text": [
            "Looking in indexes: https://pypi.org/simple, https://us-python.pkg.dev/colab-wheels/public/simple/\n",
            "Requirement already satisfied: gensim in /usr/local/lib/python3.7/dist-packages (3.6.0)\n",
            "Requirement already satisfied: six>=1.5.0 in /usr/local/lib/python3.7/dist-packages (from gensim) (1.15.0)\n",
            "Requirement already satisfied: numpy>=1.11.3 in /usr/local/lib/python3.7/dist-packages (from gensim) (1.21.6)\n",
            "Requirement already satisfied: smart-open>=1.2.1 in /usr/local/lib/python3.7/dist-packages (from gensim) (6.0.0)\n",
            "Requirement already satisfied: scipy>=0.18.1 in /usr/local/lib/python3.7/dist-packages (from gensim) (1.4.1)\n"
          ]
        }
      ]
    },
    {
      "cell_type": "code",
      "execution_count": 2,
      "metadata": {
        "id": "L9D-5zOmltBw"
      },
      "outputs": [],
      "source": [
        "import torch\n",
        "import numpy as np\n",
        "import torch.nn as nn\n",
        "from torch.autograd import Variable\n",
        "from transformers import BertConfig, BertPreTrainedModel, BertModel, BertForSequenceClassification\n",
        "import pandas as pd\n",
        "import torch\n",
        "from sklearn.model_selection import train_test_split\n",
        "from transformers import BertTokenizer, BertModel, AdamW\n",
        "from torch import nn\n",
        "from transformers import BertModel\n",
        "from sklearn.metrics import f1_score\n",
        "from sklearn.metrics import recall_score\n",
        "from sklearn.utils import shuffle\n",
        "import matplotlib.pyplot as plt\n",
        "import gc                                                                                                                                                                                                                                                                                                                                                                                                                                                                                                                                                                                                                                                                                                                                                                                                                                                                                                                                                                                                                                                                                                                                                                                                                                                                                                                                                                                                                                                                                                                                                                                                                                                                                                                                                                                                                                                                                                                                                                                                                                                                                                                                                                                                                                                                                                                                                                                                                                                                                                                                                                                                                                                                                                                                                                                                                                                                                                                                                                                                                                                                                                                                                                                                                                                                                                                                                                                                                                                                                                                                                                                                                                                                                                                                                                                                                                                                                                                                                                                                                                                                                                                                                                                                                                                                                                                                                                                                                                                                                                                                                                                                                                                                                                                                                                                                                                                                                                                                                                                                                                                                                                                                                                                                                                                                                                                                                                                                                                                                                                                                                                                                                                                                                                                                                                                                                                                                                                                                                                                                                                                                                                                                                                                                                                                                                                                                                                                                                                                                                                                                                                                                                                                                                                                                                                                                                                                                                                                                                                                                                                                                                                                                                                                                                                                                                                                                                                                                                                                                                                                                                                                                                                                                                                                                                                                                                                                                                                                                                                                                                                                                                                                                                                                                                                                                                                                                                                                                                                                                                                                                                                                                                                                                                                                                                                                                                                                                                                                                                                                                                                                                                                                                                                                                                                                                                                                                                                                                                                                                                                                                                                                                                                                                                                                                                                                                                                                                                                                                                                                                                                                                                                                                                                                                                                                                                                                                                                                                                                                                                                                                                                                                                                                                                                                                                                                                                                                                                                                                                                                                                                                                                                                                                                                                                                                                                                                                                                                                                                                                                                                                                                                                                                                                                                                                                                                                                                                                                                                                                                                                                                                                                                                                                                                                                                                                                                                                                                                                                                                                                                                                                                                                                                                                                                                                                                                                                                                                                                                                                                         "
      ]
    },
    {
      "cell_type": "markdown",
      "metadata": {
        "id": "sXEH2KDKXjCM"
      },
      "source": [
        "# Read Data"
      ]
    },
    {
      "cell_type": "markdown",
      "source": [
        "## Datasets"
      ],
      "metadata": {
        "id": "xrv1WB2C6l-f"
      }
    },
    {
      "cell_type": "code",
      "execution_count": 3,
      "metadata": {
        "id": "XlA7ckWp1_mg"
      },
      "outputs": [],
      "source": [
        "from torch.utils.data import Dataset\n",
        "from torch.utils.data import DataLoader\n",
        "\n",
        "class LFM2bDataset(Dataset):\n",
        "    def __init__(self, data_all,tokenizer,max_length, text_col, item2pos, user2id):\n",
        "        super(LFM2bDataset, self).__init__()\n",
        "        self.data_all = data_all\n",
        "        self.max_length = max_length\n",
        "        self.tokenizer = tokenizer\n",
        "        self.text_col = text_col\n",
        "        self.item2pos = item2pos\n",
        "        self.user2id = user2id\n",
        "        \n",
        "    def __len__(self):\n",
        "        return len(self.data_all)\n",
        "    \n",
        "    def __getitem__(self, index):\n",
        "        \n",
        "        text1 = self.data_all.iloc[index][self.text_col]\n",
        "        user_id = self.user2id[ self.data_all.iloc[index]['user_id']]\n",
        "        track_id = self.item2pos[ self.data_all.iloc[index]['track_id']]\n",
        "        \n",
        "        inputs = tokenizer.encode_plus(\n",
        "                text1, \n",
        "                add_special_tokens=True,\n",
        "                padding='max_length',\n",
        "                max_length = self.max_length,\n",
        "                return_tensors='pt',\n",
        "                truncation=True,\n",
        "                return_attention_mask=True\n",
        "                )\n",
        "        ids = inputs[\"input_ids\"]\n",
        "        mask = inputs[\"attention_mask\"]\n",
        "\n",
        "        return {\n",
        "            'input_ids_lyrics': ids.flatten(),\n",
        "            'attention_mask_lyrics': mask.flatten(),\n",
        "            'user_id': torch.tensor(user_id, dtype=torch.long),\n",
        "             'track_id': torch.tensor(track_id, dtype=torch.long),\n",
        "            'target': torch.tensor(self.data_all.iloc[index]['count'], dtype=torch.float)\n",
        "            }\n"
      ]
    },
    {
      "cell_type": "code",
      "execution_count": 4,
      "metadata": {
        "id": "r5XACwlUqC9Z"
      },
      "outputs": [],
      "source": [
        "from torch.utils.data import Dataset\n",
        "from torch.utils.data import DataLoader\n",
        "\n",
        "class LFM2bDatasetMulitpleText(Dataset):\n",
        "    def __init__(self, data_all,tokenizer,max_length, item2pos, user2id):\n",
        "        super(LFM2bDatasetMulitpleText, self).__init__()\n",
        "        self.data_all = data_all\n",
        "        self.max_length = max_length\n",
        "        self.tokenizer = tokenizer\n",
        "        self.item2pos = item2pos\n",
        "        self.user2id = user2id\n",
        "        \n",
        "    def __len__(self):\n",
        "        return len(self.data_all)\n",
        "    \n",
        "    def __getitem__(self, index):\n",
        "        \n",
        "        text1 = self.data_all.iloc[index]['lyrics_cleaned']\n",
        "        text2 = self.data_all.iloc[index]['tags']\n",
        "        text3 = self.data_all.iloc[index]['abstract']\n",
        "        user_id = self.user2id[ self.data_all.iloc[index]['user_id']]\n",
        "        track_id = self.item2pos[ self.data_all.iloc[index]['track_id']]\n",
        "        \n",
        "        inputs1 = tokenizer.encode_plus(\n",
        "            text1, \n",
        "            add_special_tokens=True,\n",
        "            padding='max_length',\n",
        "            max_length = self.max_length,\n",
        "            return_tensors='pt',\n",
        "            truncation=True,\n",
        "            return_attention_mask=True\n",
        "            \n",
        "        )\n",
        "        ids1 = inputs1[\"input_ids\"]\n",
        "        mask1 = inputs1[\"attention_mask\"]\n",
        "\n",
        "        inputs2 = tokenizer.encode_plus(\n",
        "            text2, \n",
        "            add_special_tokens=True,\n",
        "            padding='max_length',\n",
        "            max_length = self.max_length,\n",
        "            return_tensors='pt',\n",
        "            truncation=True,\n",
        "            return_attention_mask=True\n",
        "            \n",
        "        )\n",
        "        ids2 = inputs2[\"input_ids\"]\n",
        "        mask2 = inputs2[\"attention_mask\"]\n",
        "\n",
        "        inputs3 = tokenizer.encode_plus(\n",
        "            text3, \n",
        "            add_special_tokens=True,\n",
        "            padding='max_length',\n",
        "            max_length = self.max_length,\n",
        "            return_tensors='pt',\n",
        "            truncation=True,\n",
        "            return_attention_mask=True\n",
        "            \n",
        "        )\n",
        "        ids3 = inputs1[\"input_ids\"]\n",
        "        mask3 = inputs1[\"attention_mask\"]\n",
        "\n",
        "        return {\n",
        "            'input_ids_lyrics': torch.tensor(ids1, dtype=torch.long),\n",
        "            'attention_mask_lyrics': torch.tensor(mask1, dtype=torch.long),\n",
        "            'input_ids_tags': torch.tensor(ids2, dtype=torch.long),\n",
        "            'attention_mask_tags': torch.tensor(mask2, dtype=torch.long),\n",
        "            'input_ids_abstract': torch.tensor(ids3, dtype=torch.long),\n",
        "            'attention_mask_abstract': torch.tensor(mask3, dtype=torch.long),\n",
        "            'user_id': torch.tensor(user_id, dtype=torch.long),\n",
        "            'track_id': torch.tensor(track_id, dtype=torch.long),\n",
        "            'target': torch.tensor(self.data_all.iloc[index]['count'], dtype=torch.float)\n",
        "            }\n"
      ]
    },
    {
      "cell_type": "code",
      "execution_count": 5,
      "metadata": {
        "colab": {
          "base_uri": "https://localhost:8080/"
        },
        "id": "GzTFm7XWXmXv",
        "outputId": "bb53bd8e-2087-4056-bc25-be718df617a6"
      },
      "outputs": [
        {
          "output_type": "stream",
          "name": "stdout",
          "text": [
            "Mounted at /content/drive\n"
          ]
        }
      ],
      "source": [
        "from google.colab import drive\n",
        "drive.mount('/content/drive')"
      ]
    },
    {
      "cell_type": "code",
      "execution_count": 6,
      "metadata": {
        "colab": {
          "base_uri": "https://localhost:8080/"
        },
        "id": "iWWKtwJxXmQC",
        "outputId": "ae702ae9-3690-4211-e384-c6ff454b504b"
      },
      "outputs": [
        {
          "output_type": "stream",
          "name": "stdout",
          "text": [
            "/content/drive/MyDrive/Master Thesis/data\n"
          ]
        }
      ],
      "source": [
        "%cd /content/drive/MyDrive/Master\\ Thesis/data"
      ]
    },
    {
      "cell_type": "markdown",
      "metadata": {
        "id": "Vf103qDF0cNv"
      },
      "source": [
        "## Read preprocessed data"
      ]
    },
    {
      "cell_type": "code",
      "source": [
        "dir = \"preprocessed_data/\"\n",
        "\n",
        "data_interaction = pd.read_csv(dir + \"data_interaction.csv\").drop(['Unnamed: 0'],axis=1)\n",
        "data_tracks_tags_lyrics = pd.read_csv(dir + \"data_tracks_tags_lyrics.csv\").drop(['Unnamed: 0'],axis=1)\n",
        "data_interaction_test = pd.read_csv(dir + \"data_interaction_test.csv\").drop(['Unnamed: 0'],axis=1)\n",
        "data_interaction_train = pd.read_csv(dir + \"data_interaction_train.csv\").drop(['Unnamed: 0'],axis=1)\n",
        "data_interaction_val = pd.read_csv(dir + \"data_interaction_val.csv\").drop(['Unnamed: 0'],axis=1)"
      ],
      "metadata": {
        "id": "8h4Ae744Xrha"
      },
      "execution_count": 7,
      "outputs": []
    },
    {
      "cell_type": "code",
      "execution_count": 9,
      "metadata": {
        "id": "MMZko0cZAAL9"
      },
      "outputs": [],
      "source": [
        "pos2item = {i:v for i, v in enumerate(data_tracks_tags_lyrics.track_id.sort_values().unique())}\n",
        "item2pos = {v:i for i, v in enumerate(data_tracks_tags_lyrics.track_id.sort_values().unique())}\n",
        "\n",
        "id2user = {i:v for i, v in enumerate(data_interaction.user_id.sort_values().unique())}\n",
        "user2id = {v:i for i, v in enumerate(data_interaction.user_id.sort_values().unique())}"
      ]
    },
    {
      "cell_type": "code",
      "source": [
        "data_all_info = pd.read_csv(\"music/data_all_info.txt\", sep=\"\\t\").drop(['Unnamed: 0'],axis=1)\n",
        "data_all_info = data_all_info[['track_artist', 'gender_artist', 'track_id']]\n",
        "\n",
        "replace_dict1 = {'m' : 0, 'f' : 1}\n",
        "replace_dict2 = {'male' : 0, 'female' : 1}\n",
        "data_all_info['gender_artist'] = data_all_info['gender_artist'].replace(replace_dict2)\n",
        "data_all_info = data_all_info.merge(data_tracks_tags_lyrics[['track_id', 'tags', 'abstract', 'lyrics_cleaned']], on = 'track_id')\n",
        "data_all_info"
      ],
      "metadata": {
        "id": "8uiB22fIZAhS"
      },
      "execution_count": null,
      "outputs": []
    },
    {
      "cell_type": "code",
      "source": [
        "data_all_info"
      ],
      "metadata": {
        "colab": {
          "base_uri": "https://localhost:8080/",
          "height": 424
        },
        "id": "R9MnU81H94PJ",
        "outputId": "1fe212b1-56b8-407b-96fc-6c12bd5e3e52"
      },
      "execution_count": 147,
      "outputs": [
        {
          "output_type": "execute_result",
          "data": {
            "text/plain": [
              "          track_artist  gender_artist  track_id  \\\n",
              "0              aaliyah              1   3630918   \n",
              "1        abbey lincoln              1   6553435   \n",
              "2        abbey lincoln              1   4757037   \n",
              "3     abigail washburn              1   3237470   \n",
              "4     agnetha fältskog              1   5944429   \n",
              "...                ...            ...       ...   \n",
              "2525    the gothsicles              0   6721907   \n",
              "2526      dirge within              0   5311065   \n",
              "2527          peccatum              1   7186391   \n",
              "2528        some girls              0   6420589   \n",
              "2529     monster movie              0   3361068   \n",
              "\n",
              "                                                   tags  \\\n",
              "0                  female vocalists rnb bang Timbaland    \n",
              "1     jazz jazz vocal Blues Bar jazzy women love is ...   \n",
              "2         jazz jazz vocal vocal jazz fip abbey lincoln    \n",
              "3         Awesome banjo cloudy day colorado cloudy day    \n",
              "4     pop swedish diva 10s 2010s abba agnetha faltskog    \n",
              "...                                                 ...   \n",
              "2525                         electronic 8-bit chiptune    \n",
              "2526                                         metalcore    \n",
              "2527  cover metal scandinavian symphonic metal cover...   \n",
              "2528  grindcore hardcore mathcore noisecore religion...   \n",
              "2529                                        indie favs    \n",
              "\n",
              "                                               abstract  \\\n",
              "0     aaliyah dana haughton , known mononymously as ...   \n",
              "1     anna marie wooldridge , known professionally a...   \n",
              "2     anna marie wooldridge , known professionally a...   \n",
              "3     abigail washburn  is an american clawhammer ba...   \n",
              "4     agneta åse fältskog , known as agnetha fältsko...   \n",
              "...                                                 ...   \n",
              "2525  the gothsicles is an american industrial and e...   \n",
              "2526  dirge within  was an american heavy metal band...   \n",
              "2527  peccatum was an avant-garde metal band from no...   \n",
              "2528  some girls was an american hardcore punk band ...   \n",
              "2529  monster movie is a british dream pop band orig...   \n",
              "\n",
              "                                         lyrics_cleaned  \n",
              "0     ah ah i m tired of arguin girl i m tired i m t...  \n",
              "1     all along the way there were things to do alwa...  \n",
              "2     and i thought that life would be so cold i tho...  \n",
              "3     dark sky s here no one s near except i think i...  \n",
              "4     are you picking up my signals again back on yo...  \n",
              "...                                                 ...  \n",
              "2525  better versions by other people bigger beats a...  \n",
              "2526  carry out my sentence with urgency so i cannot...  \n",
              "2527  as the sun goes down i move around keeping to ...  \n",
              "2528  as sun and dove devr bat and moon if we stay o...  \n",
              "2529  crushed into the ground i don t know if it s g...  \n",
              "\n",
              "[2530 rows x 6 columns]"
            ],
            "text/html": [
              "\n",
              "  <div id=\"df-3fcd0c59-24d9-422b-9eab-039718eb316f\">\n",
              "    <div class=\"colab-df-container\">\n",
              "      <div>\n",
              "<style scoped>\n",
              "    .dataframe tbody tr th:only-of-type {\n",
              "        vertical-align: middle;\n",
              "    }\n",
              "\n",
              "    .dataframe tbody tr th {\n",
              "        vertical-align: top;\n",
              "    }\n",
              "\n",
              "    .dataframe thead th {\n",
              "        text-align: right;\n",
              "    }\n",
              "</style>\n",
              "<table border=\"1\" class=\"dataframe\">\n",
              "  <thead>\n",
              "    <tr style=\"text-align: right;\">\n",
              "      <th></th>\n",
              "      <th>track_artist</th>\n",
              "      <th>gender_artist</th>\n",
              "      <th>track_id</th>\n",
              "      <th>tags</th>\n",
              "      <th>abstract</th>\n",
              "      <th>lyrics_cleaned</th>\n",
              "    </tr>\n",
              "  </thead>\n",
              "  <tbody>\n",
              "    <tr>\n",
              "      <th>0</th>\n",
              "      <td>aaliyah</td>\n",
              "      <td>1</td>\n",
              "      <td>3630918</td>\n",
              "      <td>female vocalists rnb bang Timbaland</td>\n",
              "      <td>aaliyah dana haughton , known mononymously as ...</td>\n",
              "      <td>ah ah i m tired of arguin girl i m tired i m t...</td>\n",
              "    </tr>\n",
              "    <tr>\n",
              "      <th>1</th>\n",
              "      <td>abbey lincoln</td>\n",
              "      <td>1</td>\n",
              "      <td>6553435</td>\n",
              "      <td>jazz jazz vocal Blues Bar jazzy women love is ...</td>\n",
              "      <td>anna marie wooldridge , known professionally a...</td>\n",
              "      <td>all along the way there were things to do alwa...</td>\n",
              "    </tr>\n",
              "    <tr>\n",
              "      <th>2</th>\n",
              "      <td>abbey lincoln</td>\n",
              "      <td>1</td>\n",
              "      <td>4757037</td>\n",
              "      <td>jazz jazz vocal vocal jazz fip abbey lincoln</td>\n",
              "      <td>anna marie wooldridge , known professionally a...</td>\n",
              "      <td>and i thought that life would be so cold i tho...</td>\n",
              "    </tr>\n",
              "    <tr>\n",
              "      <th>3</th>\n",
              "      <td>abigail washburn</td>\n",
              "      <td>1</td>\n",
              "      <td>3237470</td>\n",
              "      <td>Awesome banjo cloudy day colorado cloudy day</td>\n",
              "      <td>abigail washburn  is an american clawhammer ba...</td>\n",
              "      <td>dark sky s here no one s near except i think i...</td>\n",
              "    </tr>\n",
              "    <tr>\n",
              "      <th>4</th>\n",
              "      <td>agnetha fältskog</td>\n",
              "      <td>1</td>\n",
              "      <td>5944429</td>\n",
              "      <td>pop swedish diva 10s 2010s abba agnetha faltskog</td>\n",
              "      <td>agneta åse fältskog , known as agnetha fältsko...</td>\n",
              "      <td>are you picking up my signals again back on yo...</td>\n",
              "    </tr>\n",
              "    <tr>\n",
              "      <th>...</th>\n",
              "      <td>...</td>\n",
              "      <td>...</td>\n",
              "      <td>...</td>\n",
              "      <td>...</td>\n",
              "      <td>...</td>\n",
              "      <td>...</td>\n",
              "    </tr>\n",
              "    <tr>\n",
              "      <th>2525</th>\n",
              "      <td>the gothsicles</td>\n",
              "      <td>0</td>\n",
              "      <td>6721907</td>\n",
              "      <td>electronic 8-bit chiptune</td>\n",
              "      <td>the gothsicles is an american industrial and e...</td>\n",
              "      <td>better versions by other people bigger beats a...</td>\n",
              "    </tr>\n",
              "    <tr>\n",
              "      <th>2526</th>\n",
              "      <td>dirge within</td>\n",
              "      <td>0</td>\n",
              "      <td>5311065</td>\n",
              "      <td>metalcore</td>\n",
              "      <td>dirge within  was an american heavy metal band...</td>\n",
              "      <td>carry out my sentence with urgency so i cannot...</td>\n",
              "    </tr>\n",
              "    <tr>\n",
              "      <th>2527</th>\n",
              "      <td>peccatum</td>\n",
              "      <td>1</td>\n",
              "      <td>7186391</td>\n",
              "      <td>cover metal scandinavian symphonic metal cover...</td>\n",
              "      <td>peccatum was an avant-garde metal band from no...</td>\n",
              "      <td>as the sun goes down i move around keeping to ...</td>\n",
              "    </tr>\n",
              "    <tr>\n",
              "      <th>2528</th>\n",
              "      <td>some girls</td>\n",
              "      <td>0</td>\n",
              "      <td>6420589</td>\n",
              "      <td>grindcore hardcore mathcore noisecore religion...</td>\n",
              "      <td>some girls was an american hardcore punk band ...</td>\n",
              "      <td>as sun and dove devr bat and moon if we stay o...</td>\n",
              "    </tr>\n",
              "    <tr>\n",
              "      <th>2529</th>\n",
              "      <td>monster movie</td>\n",
              "      <td>0</td>\n",
              "      <td>3361068</td>\n",
              "      <td>indie favs</td>\n",
              "      <td>monster movie is a british dream pop band orig...</td>\n",
              "      <td>crushed into the ground i don t know if it s g...</td>\n",
              "    </tr>\n",
              "  </tbody>\n",
              "</table>\n",
              "<p>2530 rows × 6 columns</p>\n",
              "</div>\n",
              "      <button class=\"colab-df-convert\" onclick=\"convertToInteractive('df-3fcd0c59-24d9-422b-9eab-039718eb316f')\"\n",
              "              title=\"Convert this dataframe to an interactive table.\"\n",
              "              style=\"display:none;\">\n",
              "        \n",
              "  <svg xmlns=\"http://www.w3.org/2000/svg\" height=\"24px\"viewBox=\"0 0 24 24\"\n",
              "       width=\"24px\">\n",
              "    <path d=\"M0 0h24v24H0V0z\" fill=\"none\"/>\n",
              "    <path d=\"M18.56 5.44l.94 2.06.94-2.06 2.06-.94-2.06-.94-.94-2.06-.94 2.06-2.06.94zm-11 1L8.5 8.5l.94-2.06 2.06-.94-2.06-.94L8.5 2.5l-.94 2.06-2.06.94zm10 10l.94 2.06.94-2.06 2.06-.94-2.06-.94-.94-2.06-.94 2.06-2.06.94z\"/><path d=\"M17.41 7.96l-1.37-1.37c-.4-.4-.92-.59-1.43-.59-.52 0-1.04.2-1.43.59L10.3 9.45l-7.72 7.72c-.78.78-.78 2.05 0 2.83L4 21.41c.39.39.9.59 1.41.59.51 0 1.02-.2 1.41-.59l7.78-7.78 2.81-2.81c.8-.78.8-2.07 0-2.86zM5.41 20L4 18.59l7.72-7.72 1.47 1.35L5.41 20z\"/>\n",
              "  </svg>\n",
              "      </button>\n",
              "      \n",
              "  <style>\n",
              "    .colab-df-container {\n",
              "      display:flex;\n",
              "      flex-wrap:wrap;\n",
              "      gap: 12px;\n",
              "    }\n",
              "\n",
              "    .colab-df-convert {\n",
              "      background-color: #E8F0FE;\n",
              "      border: none;\n",
              "      border-radius: 50%;\n",
              "      cursor: pointer;\n",
              "      display: none;\n",
              "      fill: #1967D2;\n",
              "      height: 32px;\n",
              "      padding: 0 0 0 0;\n",
              "      width: 32px;\n",
              "    }\n",
              "\n",
              "    .colab-df-convert:hover {\n",
              "      background-color: #E2EBFA;\n",
              "      box-shadow: 0px 1px 2px rgba(60, 64, 67, 0.3), 0px 1px 3px 1px rgba(60, 64, 67, 0.15);\n",
              "      fill: #174EA6;\n",
              "    }\n",
              "\n",
              "    [theme=dark] .colab-df-convert {\n",
              "      background-color: #3B4455;\n",
              "      fill: #D2E3FC;\n",
              "    }\n",
              "\n",
              "    [theme=dark] .colab-df-convert:hover {\n",
              "      background-color: #434B5C;\n",
              "      box-shadow: 0px 1px 3px 1px rgba(0, 0, 0, 0.15);\n",
              "      filter: drop-shadow(0px 1px 2px rgba(0, 0, 0, 0.3));\n",
              "      fill: #FFFFFF;\n",
              "    }\n",
              "  </style>\n",
              "\n",
              "      <script>\n",
              "        const buttonEl =\n",
              "          document.querySelector('#df-3fcd0c59-24d9-422b-9eab-039718eb316f button.colab-df-convert');\n",
              "        buttonEl.style.display =\n",
              "          google.colab.kernel.accessAllowed ? 'block' : 'none';\n",
              "\n",
              "        async function convertToInteractive(key) {\n",
              "          const element = document.querySelector('#df-3fcd0c59-24d9-422b-9eab-039718eb316f');\n",
              "          const dataTable =\n",
              "            await google.colab.kernel.invokeFunction('convertToInteractive',\n",
              "                                                     [key], {});\n",
              "          if (!dataTable) return;\n",
              "\n",
              "          const docLinkHtml = 'Like what you see? Visit the ' +\n",
              "            '<a target=\"_blank\" href=https://colab.research.google.com/notebooks/data_table.ipynb>data table notebook</a>'\n",
              "            + ' to learn more about interactive tables.';\n",
              "          element.innerHTML = '';\n",
              "          dataTable['output_type'] = 'display_data';\n",
              "          await google.colab.output.renderOutput(dataTable, element);\n",
              "          const docLink = document.createElement('div');\n",
              "          docLink.innerHTML = docLinkHtml;\n",
              "          element.appendChild(docLink);\n",
              "        }\n",
              "      </script>\n",
              "    </div>\n",
              "  </div>\n",
              "  "
            ]
          },
          "metadata": {},
          "execution_count": 147
        }
      ]
    },
    {
      "cell_type": "markdown",
      "source": [
        "# Analyze embeddings"
      ],
      "metadata": {
        "id": "p9mWL0EAYizy"
      }
    },
    {
      "cell_type": "code",
      "source": [
        "MODEL_NAME = 'prajjwal1/bert-tiny'\n",
        "#MODEL_NAME = \"bert-base-cased\"\n",
        "tokenizer = BertTokenizer.from_pretrained(MODEL_NAME) "
      ],
      "metadata": {
        "colab": {
          "base_uri": "https://localhost:8080/",
          "height": 113,
          "referenced_widgets": [
            "820a0c89c84b4484a3fe4dba97c1e13d",
            "fb84c241147848abb86517421e45e512",
            "ca12cda6e6d84446bf7f50092582b89c",
            "f9e54bdb6f8c48c1868527a71d9dc2d8",
            "a2af0719083748e395f91b58770cef6e",
            "61793b004c89411b8b7c4d5b0f59de24",
            "f94130ee49f94481b2bff801b0c2cdc3",
            "c9160c529baa428eae8ac210045368ac",
            "383a7dcea1444687a9fb1071c71fe4b5",
            "0671f34efabc4ec7a3b54bd13e095c1f",
            "d19816bcd8d348e08236cb1c3bc28d2c",
            "05c4a9a5749d4e739b435426bec87103",
            "9888dc40014f4dd6b651713ef0a161fa",
            "958884cd2857490c99f94c521ffd4af7",
            "d2e6163154b3417a918c80f44ab63d83",
            "92a56fc8ca8745ed8c2a9df334c10f00",
            "9f9729eb04ab4841afb0a90fb119e632",
            "21106d4bd3df44e6a817f9488f61be54",
            "8836ec19c4724f96b8706c38299ec7e5",
            "cd153358945d4344b41d33058fe72bf2",
            "b646cbfb88aa4f6b8909ad7b065191ed",
            "e0080af653a946d4ae6e157264bdc539",
            "3ccf0ae208a847e99c726bb2c7d77880",
            "f014d5ede39e41108cfd16dd5d7820ba",
            "5f2a7466423648fa874c01d8911e0046",
            "94b20375048842e9b3cb3edf48ddcd54",
            "eda0b2957daa470baa19a270297f3367",
            "01a86d0c26174703b13bc044e68b6cb9",
            "8cba1d887fdd45c2804a460003e27b19",
            "074bd36bf981454c9cbab1ec4a3b9b1f",
            "76bcf596fcd34da8b33fb02dd706e4d0",
            "39b17dc512f7423ab6cf911f91b6a27b",
            "2eea639659fd4e78bda3d0cfda4473bc"
          ]
        },
        "id": "n_40AbnxZReW",
        "outputId": "76cd92a7-99cf-4f76-a742-9f0c3408152e"
      },
      "execution_count": 139,
      "outputs": [
        {
          "output_type": "display_data",
          "data": {
            "text/plain": [
              "Downloading:   0%|          | 0.00/208k [00:00<?, ?B/s]"
            ],
            "application/vnd.jupyter.widget-view+json": {
              "version_major": 2,
              "version_minor": 0,
              "model_id": "820a0c89c84b4484a3fe4dba97c1e13d"
            }
          },
          "metadata": {}
        },
        {
          "output_type": "display_data",
          "data": {
            "text/plain": [
              "Downloading:   0%|          | 0.00/29.0 [00:00<?, ?B/s]"
            ],
            "application/vnd.jupyter.widget-view+json": {
              "version_major": 2,
              "version_minor": 0,
              "model_id": "05c4a9a5749d4e739b435426bec87103"
            }
          },
          "metadata": {}
        },
        {
          "output_type": "display_data",
          "data": {
            "text/plain": [
              "Downloading:   0%|          | 0.00/570 [00:00<?, ?B/s]"
            ],
            "application/vnd.jupyter.widget-view+json": {
              "version_major": 2,
              "version_minor": 0,
              "model_id": "3ccf0ae208a847e99c726bb2c7d77880"
            }
          },
          "metadata": {}
        }
      ]
    },
    {
      "cell_type": "code",
      "source": [
        "from torch.utils.data import Dataset\n",
        "from torch.utils.data import DataLoader\n",
        "\n",
        "class ArtistDataset(Dataset):\n",
        "    def __init__(self, data_all,tokenizer,max_length, text_col):\n",
        "        super(ArtistDataset, self).__init__()\n",
        "        self.data_all = data_all\n",
        "        self.max_length = max_length\n",
        "        self.tokenizer = tokenizer\n",
        "        self.text_col = text_col\n",
        "        \n",
        "    def __len__(self):\n",
        "        return len(self.data_all)\n",
        "    \n",
        "    def __getitem__(self, index):\n",
        "        \n",
        "        text1 = self.data_all.iloc[index][self.text_col]\n",
        "        \n",
        "        inputs = tokenizer.encode_plus(\n",
        "            text1, \n",
        "            None,\n",
        "            add_special_tokens=True,\n",
        "            max_length = self.max_length,\n",
        "            pad_to_max_length=True\n",
        "            \n",
        "        )\n",
        "        ids = inputs[\"input_ids\"]\n",
        "        token_type_ids = inputs[\"token_type_ids\"]\n",
        "        mask = inputs[\"attention_mask\"]\n",
        "\n",
        "        return {\n",
        "            'input_ids': torch.tensor(ids, dtype=torch.long),\n",
        "            'attention_mask': torch.tensor(mask, dtype=torch.long),\n",
        "            'token_type_ids': torch.tensor(token_type_ids, dtype=torch.long),\n",
        "            'target': torch.tensor(self.data_all.iloc[index]['gender_artist'], dtype=torch.float)\n",
        "            }\n",
        "\n",
        "dataset= ArtistDataset(data_all_info,tokenizer, 128, 'tags')\n",
        "\n",
        "dataloader = DataLoader(dataset=dataset,batch_size=32)\n"
      ],
      "metadata": {
        "id": "lF7AwKn-YlJf"
      },
      "execution_count": 140,
      "outputs": []
    },
    {
      "cell_type": "markdown",
      "source": [
        "# UMAP and T-SNE on embeddings"
      ],
      "metadata": {
        "id": "0sGEVcc9ar9q"
      }
    },
    {
      "cell_type": "code",
      "source": [
        "embeddings = np.empty(shape = (0, 128))\n",
        "artist_genders = np.empty(shape = (0))\n",
        "for _, batch in enumerate(dataloader):\n",
        "  embedding = batch['input_ids']\n",
        "  artist_gender = batch['target'].type(torch.LongTensor)\n",
        "  embeddings = np.append(embeddings, embedding, axis=0)\n",
        "  artist_genders = np.append(artist_genders, artist_gender, axis=0)"
      ],
      "metadata": {
        "colab": {
          "base_uri": "https://localhost:8080/"
        },
        "id": "9BdqqjfsavQM",
        "outputId": "e4416eb7-9ec1-4729-d35e-60182e9ffca6"
      },
      "execution_count": 141,
      "outputs": [
        {
          "output_type": "stream",
          "name": "stderr",
          "text": [
            "Truncation was not explicitly activated but `max_length` is provided a specific value, please use `truncation=True` to explicitly truncate examples to max length. Defaulting to 'longest_first' truncation strategy. If you encode pairs of sequences (GLUE-style) with the tokenizer you can select this strategy more precisely by providing a specific strategy to `truncation`.\n",
            "/usr/local/lib/python3.7/dist-packages/transformers/tokenization_utils_base.py:2291: FutureWarning: The `pad_to_max_length` argument is deprecated and will be removed in a future version, use `padding=True` or `padding='longest'` to pad to the longest sequence in the batch, or use `padding='max_length'` to pad to a max length. In this case, you can give a specific length with `max_length` (e.g. `max_length=45`) or leave max_length to None to pad to the maximal input size of the model (e.g. 512 for Bert).\n",
            "  FutureWarning,\n"
          ]
        }
      ]
    },
    {
      "cell_type": "code",
      "source": [
        "from umap import UMAP\n",
        "umap = UMAP(n_components=2, init='random', random_state=0)\n",
        "\n",
        "projections_umap = umap.fit_transform(embeddings)\n",
        "plt.scatter(projections_umap[:,0], projections_umap[:,1], c = artist_genders)"
      ],
      "metadata": {
        "colab": {
          "base_uri": "https://localhost:8080/",
          "height": 282
        },
        "id": "9ZqpbJM_6rG3",
        "outputId": "c5d0a943-0d7d-4ad3-970a-110a8d96a825"
      },
      "execution_count": 142,
      "outputs": [
        {
          "output_type": "execute_result",
          "data": {
            "text/plain": [
              "<matplotlib.collections.PathCollection at 0x7fcf080870d0>"
            ]
          },
          "metadata": {},
          "execution_count": 142
        },
        {
          "output_type": "display_data",
          "data": {
            "text/plain": [
              "<Figure size 432x288 with 1 Axes>"
            ],
            "image/png": "[encoded data removed]"
          },
          "metadata": {
            "needs_background": "light"
          }
        }
      ]
    },
    {
      "cell_type": "code",
      "source": [
        "from sklearn.manifold import TSNE\n",
        "\n",
        "tsne = TSNE(n_components=2, random_state=0)\n",
        "projections_tsne = tsne.fit_transform(embeddings)\n",
        "plt.scatter(projections_tsne[:,0], projections_tsne[:,1], c = artist_genders)"
      ],
      "metadata": {
        "colab": {
          "base_uri": "https://localhost:8080/",
          "height": 352
        },
        "id": "R2ES3MYx7E9C",
        "outputId": "ff1a1f20-c120-49e4-9976-980ed5c66b8e"
      },
      "execution_count": 146,
      "outputs": [
        {
          "output_type": "stream",
          "name": "stderr",
          "text": [
            "/usr/local/lib/python3.7/dist-packages/sklearn/manifold/_t_sne.py:783: FutureWarning: The default initialization in TSNE will change from 'random' to 'pca' in 1.2.\n",
            "  FutureWarning,\n",
            "/usr/local/lib/python3.7/dist-packages/sklearn/manifold/_t_sne.py:793: FutureWarning: The default learning rate in TSNE will change from 200.0 to 'auto' in 1.2.\n",
            "  FutureWarning,\n"
          ]
        },
        {
          "output_type": "execute_result",
          "data": {
            "text/plain": [
              "<matplotlib.collections.PathCollection at 0x7fcf9383f5d0>"
            ]
          },
          "metadata": {},
          "execution_count": 146
        },
        {
          "output_type": "display_data",
          "data": {
            "text/plain": [
              "<Figure size 432x288 with 1 Axes>"
            ],
            "image/png": "[encoded data removed]"
          },
          "metadata": {
            "needs_background": "light"
          }
        }
      ]
    },
    {
      "cell_type": "markdown",
      "metadata": {
        "id": "jc6rPo1eHeca"
      },
      "source": [
        "## Data"
      ]
    },
    {
      "cell_type": "code",
      "source": [
        "%cd /content/drive/MyDrive/Master\\ Thesis/data"
      ],
      "metadata": {
        "id": "dsKX_3D7mLY2"
      },
      "execution_count": null,
      "outputs": []
    },
    {
      "cell_type": "code",
      "source": [
        "data_predictions = pd.read_csv(\"predictions_lyrics_tags.csv\").drop(['Unnamed: 0'],axis=1)\n",
        "topn=100\n",
        "results = []\n",
        "results_df = pd.DataFrame(columns = [user_col, item_col, rating_col])\n",
        "\n",
        "for user, user_prediction in data_predictions.groupby('user_id'):\n",
        "    results_df = results_df.append(user_prediction.sort_values('count', ascending=False).head(topn))\n",
        "    "
      ],
      "metadata": {
        "id": "PEoc663Hhm44"
      },
      "execution_count": null,
      "outputs": []
    },
    {
      "cell_type": "code",
      "execution_count": null,
      "metadata": {
        "id": "_1AXovkyepH2"
      },
      "outputs": [],
      "source": [
        "data_interaction_new = results_df.merge(data_items_eval, on = 'track_id')"
      ]
    },
    {
      "cell_type": "code",
      "execution_count": null,
      "metadata": {
        "id": "EkwEcnpNe-Tp"
      },
      "outputs": [],
      "source": [
        "data_interaction_new[data_interaction_new.user_id == 119741]"
      ]
    },
    {
      "cell_type": "code",
      "execution_count": null,
      "metadata": {
        "id": "E333xxdQfJs2"
      },
      "outputs": [],
      "source": [
        "data_all_info = pd.read_csv(\"music/data_all_info.txt\", sep=\"\\t\").drop(['Unnamed: 0'],axis=1)\n"
      ]
    },
    {
      "cell_type": "code",
      "source": [
        "data_all_info = pd.read_csv(\"music/data_all_info.txt\", sep=\"\\t\").drop(['Unnamed: 0'],axis=1)\n",
        "data_all_info = data_all_info[['track_artist', 'gender_artist', 'track_id']]\n",
        "\n",
        "data_classification = data_all_info\n",
        "replace_dict1 = {'m' : 0, 'f' : 1}\n",
        "replace_dict2 = {'male' : 0, 'female' : 1}\n",
        "#data_classification['gender_user'] = data_classification['gender_user'].replace(replace_dict1)\n",
        "data_classification['gender_artist'] = data_classification['gender_artist'].replace(replace_dict2)\n",
        "data_classification = data_classification.merge(data_tracks_tags_lyrics[['track_id', 'tags', 'abstract']], on = 'track_id')\n",
        "data_classification"
      ],
      "metadata": {
        "id": "nq6IgVRlmhb3"
      },
      "execution_count": null,
      "outputs": []
    },
    {
      "cell_type": "code",
      "execution_count": null,
      "metadata": {
        "id": "Wx9d2jqQfZ6M"
      },
      "outputs": [],
      "source": [
        "data_user = pd.read_csv(\"data_user.txt\", sep=\"\\t\").drop(['Unnamed: 0'],axis=1)\n",
        "data_user.columns = ['user_id', 'gender_user']"
      ]
    },
    {
      "cell_type": "code",
      "source": [
        "data_classification = data_all_info\n",
        "replace_dict1 = {'m' : 0, 'f' : 1}\n",
        "replace_dict2 = {'male' : 0, 'female' : 1}\n",
        "#data_classification['gender_user'] = data_classification['gender_user'].replace(replace_dict1)\n",
        "data_classification['gender_artist'] = data_classification['gender_artist'].replace(replace_dict2)\n",
        "data_classification = data_classification.merge(data_tracks_tags_lyrics[['track_id', 'tags', 'abstract']], on = 'track_id')\n",
        "data_classification"
      ],
      "metadata": {
        "id": "qc96JC7pl0sJ"
      },
      "execution_count": null,
      "outputs": []
    },
    {
      "cell_type": "code",
      "execution_count": null,
      "metadata": {
        "id": "hXxzbJOlgRhp"
      },
      "outputs": [],
      "source": [
        "df_tmp = pd.merge(data_interaction_train, data_user, 'inner')\n",
        "df_all = pd.merge(df_tmp, data_all_info, on = 'track_id').drop_duplicates()\n",
        "\n",
        "replace_dict1 = {'m' : 0, 'f' : 1}\n",
        "replace_dict2 = {'male' : 0, 'female' : 1}\n",
        "df_all['gender_user'] = df_all['gender_user'].replace(replace_dict1)\n",
        "df_all['gender_artist'] = df_all['gender_artist'].replace(replace_dict2)\n",
        "\n",
        "df_train = df_all[df_all['count'] == 1]"
      ]
    },
    {
      "cell_type": "code",
      "execution_count": null,
      "metadata": {
        "id": "dewGb1xmPBXN"
      },
      "outputs": [],
      "source": [
        "df_tmp = pd.merge(data_interaction_test, data_user, 'inner')\n",
        "df_all = pd.merge(df_tmp, data_all_info, on = 'track_id').drop_duplicates()\n",
        "\n",
        "replace_dict1 = {'m' : 0, 'f' : 1}\n",
        "replace_dict2 = {'male' : 0, 'female' : 1}\n",
        "df_all['gender_user'] = df_all['gender_user'].replace(replace_dict1)\n",
        "df_all['gender_artist'] = df_all['gender_artist'].replace(replace_dict2)\n",
        "\n",
        "df_test = df_all[df_all['count'] == 1]"
      ]
    },
    {
      "cell_type": "code",
      "execution_count": null,
      "metadata": {
        "id": "7WYe_kSEhSTl"
      },
      "outputs": [],
      "source": [
        "df_tmp = pd.merge(results_df, data_user, 'inner')\n",
        "df_all = pd.merge(df_tmp, data_all_info, on = 'track_id').drop_duplicates()\n",
        "\n",
        "replace_dict1 = {'m' : 0, 'f' : 1}\n",
        "replace_dict2 = {'male' : 0, 'female' : 1}\n",
        "df_all['gender_user'] = df_all['gender_user'].replace(replace_dict1)\n",
        "df_all['gender_artist'] = df_all['gender_artist'].replace(replace_dict2)\n",
        "\n",
        "df_rec = df_all"
      ]
    },
    {
      "cell_type": "markdown",
      "metadata": {
        "id": "xjjmSaKW-99W"
      },
      "source": [
        "# BERT classification model"
      ]
    },
    {
      "cell_type": "code",
      "execution_count": null,
      "metadata": {
        "id": "kF1vpMAVGwwQ"
      },
      "outputs": [],
      "source": [
        "%cd /content/drive/MyDrive/Colab\\ Notebooks"
      ]
    },
    {
      "cell_type": "code",
      "execution_count": null,
      "metadata": {
        "id": "zj90aXI0_BYc"
      },
      "outputs": [],
      "source": [
        "import pickle\n",
        "import pandas as pd\n",
        "\n",
        "\n",
        "from smooth_gradient import SmoothGradient\n",
        "from integrated_gradient import IntegratedGradient\n",
        "\n",
        "import torch\n",
        "from torch import nn\n",
        "from torch.utils.data import DataLoader\n",
        "from transformers import DistilBertConfig, DistilBertTokenizer\n",
        "from transformers import BertTokenizer, BertModel, AdamW\n",
        "\n",
        "from IPython.display import display, HTML"
      ]
    },
    {
      "cell_type": "code",
      "execution_count": null,
      "metadata": {
        "id": "SR_66w52_s_4"
      },
      "outputs": [],
      "source": [
        ""
      ]
    },
    {
      "cell_type": "code",
      "execution_count": null,
      "metadata": {
        "id": "bJyXCdXwSd_D"
      },
      "outputs": [],
      "source": [
        "class SentimentClassifier(nn.Module):\n",
        "  def __init__(self, n_classes=2):\n",
        "    super(SentimentClassifier, self).__init__()\n",
        "    self.bert = BertModel.from_pretrained('prajjwal1/bert-tiny')\n",
        "    self.drop = nn.Dropout(p=0.3)\n",
        "    self.out = nn.Linear(self.bert.config.hidden_size, n_classes)\n",
        "\n",
        "  def forward(self, input_ids, attention_mask):\n",
        "    y, pooled_output = self.bert(\n",
        "      input_ids=input_ids,\n",
        "      attention_mask=attention_mask, return_dict=False\n",
        "    )\n",
        "    pooled_output = y[:,0,:]\n",
        "    output = self.drop(pooled_output)\n",
        "    return self.out(output)"
      ]
    },
    {
      "cell_type": "code",
      "execution_count": null,
      "metadata": {
        "id": "YWIGzeWVSpea"
      },
      "outputs": [],
      "source": [
        "import torch\n",
        "from torch.nn.functional import softmax\n",
        "\n",
        "import matplotlib\n",
        "import matplotlib.pyplot as plt\n",
        "\n",
        "\n",
        "class SaliencyInterpreter:\n",
        "    def __init__(self,\n",
        "                 model,\n",
        "                 criterion,\n",
        "                 tokenizer,\n",
        "                 show_progress=True,\n",
        "                 **kwargs):\n",
        "\n",
        "        \"\"\"\n",
        "        :param model: nn.Module object - can be HuggingFace's model or custom one.\n",
        "        :param criterion: torch criterion used to train your model.\n",
        "        :param tokenizer: HuggingFace's tokenizer.\n",
        "        :param show_progress: bool flag to show tqdm progress bar.\n",
        "        :param kwargs:\n",
        "            encoder: string indicates the HuggingFace's encoder, that has 'embeddings' attribute. Used\n",
        "                if your model doesn't have 'get_input_embeddings' method to get access to encoder embeddings\n",
        "        \"\"\"\n",
        "\n",
        "        self.device = torch.device('cuda' if torch.cuda.is_available() else 'cpu')\n",
        "        self.model = model.to(self.device)\n",
        "        self.model.eval()\n",
        "        self.criterion = criterion\n",
        "        self.tokenizer = tokenizer\n",
        "        self.show_progress = show_progress\n",
        "        self.kwargs = kwargs\n",
        "        # to save outputs in saliency_interpret\n",
        "        self.batch_output = None\n",
        "\n",
        "    def _get_gradients(self, batch):\n",
        "        # set requires_grad to true for all parameters, but save original values to\n",
        "        # restore them later\n",
        "        original_param_name_to_requires_grad_dict = {}\n",
        "        for param_name, param in self.model.named_parameters():\n",
        "            original_param_name_to_requires_grad_dict[param_name] = param.requires_grad\n",
        "            param.requires_grad = True\n",
        "        embedding_gradients = []\n",
        "        hooks = self._register_embedding_gradient_hooks(embedding_gradients)\n",
        "\n",
        "        loss = self.forward_step(batch)\n",
        "\n",
        "        self.model.zero_grad()\n",
        "        loss.backward()\n",
        "\n",
        "        for hook in hooks:\n",
        "            hook.remove()\n",
        "\n",
        "        # restore the original requires_grad values of the parameters\n",
        "        for param_name, param in self.model.named_parameters():\n",
        "            param.requires_grad = original_param_name_to_requires_grad_dict[param_name]\n",
        "\n",
        "        return embedding_gradients[0]\n",
        "\n",
        "    def _register_embedding_gradient_hooks(self, embedding_gradients):\n",
        "        \"\"\"\n",
        "        Registers a backward hook on the\n",
        "        Used to save the gradients of the embeddings for use in get_gradients()\n",
        "        When there are multiple inputs (e.g., a passage and question), the hook\n",
        "        will be called multiple times. We append all the embeddings gradients\n",
        "        to a list.\n",
        "        \"\"\"\n",
        "\n",
        "        def hook_layers(module, grad_in, grad_out):\n",
        "            embedding_gradients.append(grad_out[0])\n",
        "\n",
        "        backward_hooks = []\n",
        "        embedding_layer = self.get_embeddings_layer()\n",
        "        backward_hooks.append(embedding_layer.register_backward_hook(hook_layers))\n",
        "        return backward_hooks\n",
        "\n",
        "    def get_embeddings_layer(self):\n",
        "        if hasattr(self.model, \"get_input_embeddings\"):\n",
        "            embedding_layer = self.model.get_input_embeddings()\n",
        "        else:\n",
        "            encoder_attribute = self.kwargs.get(\"encoder\")\n",
        "            assert encoder_attribute, \"Your model doesn't have 'get_input_embeddings' method, thus you \" \\\n",
        "                \"have provide 'encoder' key argument while initializing SaliencyInterpreter object\"\n",
        "            embedding_layer = getattr(self.model, encoder_attribute).embeddings\n",
        "        return embedding_layer\n",
        "\n",
        "    def colorize(self, instance, skip_special_tokens=False):\n",
        "\n",
        "        special_tokens = self.special_tokens\n",
        "\n",
        "        word_cmap = matplotlib.cm.Blues\n",
        "        prob_cmap = matplotlib.cm.Greens\n",
        "        template = '<span class=\"barcode\"; style=\"color: black; background-color: {}\">{}</span>'\n",
        "        colored_string = ''\n",
        "        # Use a matplotlib normalizer in order to make clearer the difference between values\n",
        "        normalized_and_mapped = matplotlib.cm.ScalarMappable(cmap=word_cmap).to_rgba(instance['grad'])\n",
        "        for word, color in zip(instance['tokens'], normalized_and_mapped):\n",
        "            if word in special_tokens and skip_special_tokens:\n",
        "                continue\n",
        "            # handle wordpieces\n",
        "            word = word.replace(\"##\", \"\") if \"##\" in word else ' ' + word\n",
        "            color = matplotlib.colors.rgb2hex(color[:3])\n",
        "            colored_string += template.format(color, word)\n",
        "        colored_string += template.format(0, \"    Label: {} |\".format(instance['label']))\n",
        "        prob = instance['prob']\n",
        "        color = matplotlib.colors.rgb2hex(prob_cmap(prob)[:3])\n",
        "        colored_string += template.format(color, \"{:.2f}%\".format(instance['prob']*100)) + '|'\n",
        "        return colored_string\n",
        "\n",
        "    @property\n",
        "    def special_tokens(self):\n",
        "        \"\"\"\n",
        "        Some tokenizers don't have 'eos_token' and 'bos_token' attributes.\n",
        "        So needed we some trick to get them.\n",
        "        \"\"\"\n",
        "        if self.tokenizer.bos_token is None or self.tokenizer.eos_token is None:\n",
        "            special_tokens = self.tokenizer.build_inputs_with_special_tokens([])\n",
        "            special_tokens_ids = self.tokenizer.convert_ids_to_tokens(special_tokens)\n",
        "            self.tokenizer.bos_token, self.tokenizer.eos_token = special_tokens_ids\n",
        "\n",
        "        special_tokens = self.tokenizer.eos_token, self.tokenizer.bos_token\n",
        "        return special_tokens\n",
        "\n",
        "    def forward_step(self, batch):\n",
        "        \"\"\"\n",
        "        If your model receive inputs in another way or you computing not\n",
        "         like in this example simply override this method. It should return the batch loss\n",
        "        :param batch: batch returned by dataloader\n",
        "        :return: torch.Tensor: batch loss\n",
        "        \"\"\"\n",
        "        input_ids = batch.get('input_ids').to(self.device)\n",
        "        attention_mask = batch.get(\"attention_mask\").to(self.device)\n",
        "        outputs = self.model(input_ids=input_ids, attention_mask=attention_mask)\n",
        "\n",
        "        label = torch.argmax(outputs, dim=1)\n",
        "        batch_losses = self.criterion(outputs, label)\n",
        "        loss = torch.mean(batch_losses)\n",
        "\n",
        "        self.batch_output = [input_ids, outputs]\n",
        "\n",
        "        return loss\n",
        "\n",
        "    def update_output(self):\n",
        "        \"\"\"\n",
        "        You can also override this method if you want to change the format\n",
        "         of outputs. (e.g. store just gradients)\n",
        "        :return: batch_output\n",
        "        \"\"\"\n",
        "\n",
        "        input_ids, outputs, grads = self.batch_output\n",
        "\n",
        "        probs = softmax(outputs, dim=-1)\n",
        "        probs, labels = torch.max(probs, dim=-1)\n",
        "\n",
        "        tokens = [\n",
        "            self.tokenizer.convert_ids_to_tokens(input_ids_)\n",
        "            for input_ids_ in input_ids\n",
        "        ]\n",
        "\n",
        "        embedding_grads = grads.sum(dim=2)\n",
        "        # norm for each sequence\n",
        "        norms = torch.norm(embedding_grads, dim=1, p=1)\n",
        "        # normalizing\n",
        "        for i, norm in enumerate(norms):\n",
        "            embedding_grads[i] = torch.abs(embedding_grads[i]) / norm\n",
        "\n",
        "        batch_output = []\n",
        "\n",
        "        iterator = zip(tokens, probs, embedding_grads, labels)\n",
        "\n",
        "        for example_tokens, example_prob, example_grad, example_label in iterator:\n",
        "            example_dict = dict()\n",
        "            # as we do it by batches we has a padding so we need to remove it\n",
        "            example_tokens = [t for t in example_tokens if t != self.tokenizer.pad_token]\n",
        "            example_dict['tokens'] = example_tokens\n",
        "            example_dict['grad'] = example_grad.cpu().tolist()[:len(example_tokens)]\n",
        "            example_dict['label'] = example_label.item()\n",
        "            example_dict['prob'] = example_prob.item()\n",
        "            batch_output.append(example_dict)\n",
        "        return batch_output\n",
        "\n",
        "import torch\n",
        "\n",
        "from tqdm import tqdm\n",
        "\n",
        "\n",
        "\n",
        "class SmoothGradient(SaliencyInterpreter):\n",
        "    \"\"\"\n",
        "    Interprets the prediction using SmoothGrad (https://arxiv.org/abs/1706.03825)\n",
        "    Registered as a `SaliencyInterpreter` with name \"smooth-gradient\".\n",
        "    \"\"\"\n",
        "    def __init__(self,\n",
        "                 model,\n",
        "                 criterion,\n",
        "                 tokenizer,\n",
        "                 stdev=0.01,\n",
        "                 num_samples=20,\n",
        "                 show_progress=True,\n",
        "                 **kwargs):\n",
        "        super().__init__(model, criterion, tokenizer, show_progress, **kwargs)\n",
        "        # Hyperparameters\n",
        "        self.stdev = stdev\n",
        "        self.num_samples = num_samples\n",
        "\n",
        "    def saliency_interpret(self, test_dataloader):\n",
        "\n",
        "        instances_with_grads = []\n",
        "        iterator = tqdm(test_dataloader) if self.show_progress else test_dataloader\n",
        "\n",
        "        for batch in iterator:\n",
        "\n",
        "            # we will store there batch outputs such as gradients, probability, tokens\n",
        "            # so as each of them are used in different places, for convenience we will create\n",
        "            # it as attribute:\n",
        "            self.batch_output = []\n",
        "            self._smooth_grads(batch)\n",
        "            batch_output = self.update_output()\n",
        "            instances_with_grads.extend(batch_output)\n",
        "\n",
        "        return instances_with_grads\n",
        "\n",
        "    def _register_forward_hook(self, stdev: float):\n",
        "        \"\"\"\n",
        "        Register a forward hook on the embedding layer which adds random noise to every embedding.\n",
        "        Used for one term in the SmoothGrad sum.\n",
        "        \"\"\"\n",
        "\n",
        "        def forward_hook(module, inputs, output):\n",
        "            # Random noise = N(0, stdev * (max-min))\n",
        "            scale = output.detach().max() - output.detach().min()\n",
        "            noise = torch.randn(output.shape).to(output.device) * stdev * scale\n",
        "\n",
        "            # Add the random noise\n",
        "            output.add_(noise)\n",
        "\n",
        "        # Register the hook\n",
        "        embedding_layer = self.get_embeddings_layer()\n",
        "        handle = embedding_layer.register_forward_hook(forward_hook)\n",
        "        return handle\n",
        "\n",
        "    def _smooth_grads(self, batch):\n",
        "        total_gradients = None\n",
        "        for _ in range(self.num_samples):\n",
        "            handle = self._register_forward_hook(self.stdev)\n",
        "            grads = self._get_gradients(batch)\n",
        "            handle.remove()\n",
        "\n",
        "            # Sum gradients\n",
        "            if total_gradients is None:\n",
        "                total_gradients = grads\n",
        "            else:\n",
        "                total_gradients = total_gradients + grads\n",
        "\n",
        "        total_gradients /= self.num_samples\n",
        "\n",
        "        self.batch_output.append(total_gradients)"
      ]
    },
    {
      "cell_type": "code",
      "execution_count": null,
      "metadata": {
        "id": "fKATY80EQhcn"
      },
      "outputs": [],
      "source": [
        "data_classification = data_classification.drop_duplicates()\n",
        "\n",
        "class_0 = data_classification[data_classification['gender_artist'] == 0]\n",
        "class_1 = data_classification[data_classification['gender_artist'] == 1]\n",
        "class_count_0, class_count_1 = data_classification['gender_artist'].value_counts()\n",
        "\n",
        "class_0_under = class_0.sample(class_count_1)\n",
        "test_under = pd.concat([class_0_under, class_1], axis=0)"
      ]
    },
    {
      "cell_type": "code",
      "execution_count": null,
      "metadata": {
        "id": "FmkX_fFg_vyD"
      },
      "outputs": [],
      "source": [
        "tokenizer = BertTokenizer.from_pretrained('bert-base-uncased') \n",
        "\n",
        "dataset_train= ArtistDataset(test_under,tokenizer, 128, 'lyrics_cleaned')\n",
        "\n",
        "dataloader_train=DataLoader(dataset=dataset_train,batch_size=32)"
      ]
    },
    {
      "cell_type": "code",
      "execution_count": null,
      "metadata": {
        "id": "NbhJiB2DcyPg"
      },
      "outputs": [],
      "source": [
        "import gc\n",
        "\n",
        "gc.collect()"
      ]
    },
    {
      "cell_type": "code",
      "source": [
        "device = 'cuda'"
      ],
      "metadata": {
        "id": "wgnJxoT5n77x"
      },
      "execution_count": null,
      "outputs": []
    },
    {
      "cell_type": "code",
      "execution_count": null,
      "metadata": {
        "id": "-O0hGQ33_yCm"
      },
      "outputs": [],
      "source": [
        "from transformers import BertForSequenceClassification, AdamW, BertConfig\n",
        "\n",
        "# model = BertForSequenceClassification.from_pretrained(\n",
        "#     'bert-base-uncased', \n",
        "#     num_labels = 2, \n",
        "#     output_attentions = False, \n",
        "#     output_hidden_states = False, \n",
        "# ).to(device)\n",
        "model = SentimentClassifier().to('cuda')"
      ]
    },
    {
      "cell_type": "code",
      "execution_count": null,
      "metadata": {
        "id": "plJ9-b0g_0Rn"
      },
      "outputs": [],
      "source": [
        "from transformers import get_linear_schedule_with_warmup\n",
        "\n",
        "optimizer = AdamW(model.parameters(), lr=2e-5, correct_bias=False)\n",
        "epochs = 20\n",
        "loss_fn = nn.CrossEntropyLoss().to(device)\n",
        "total_steps = len(dataloader_train) * epochs\n",
        "scheduler = get_linear_schedule_with_warmup(optimizer, \n",
        "                                            num_warmup_steps = 0, \n",
        "                                            num_training_steps = total_steps)\n",
        "\n",
        "for epoch_i in range(0, epochs):\n",
        "    \n",
        "    losses = []\n",
        "    model.train()\n",
        "\n",
        "    for step, batch in enumerate(dataloader_train):\n",
        "\n",
        "        b_input_ids = batch['input_ids'].to(device)\n",
        "        b_input_mask = batch['attention_mask'].to(device)\n",
        "        b_labels = batch['target'].type(torch.LongTensor).to(device)\n",
        "    \n",
        "\n",
        "        outputs = model(\n",
        "          input_ids=b_input_ids,\n",
        "          attention_mask=b_input_mask\n",
        "        )#['logits']\n",
        "\n",
        "        _, preds = torch.max(outputs, dim=1)\n",
        "\n",
        "        loss = loss_fn(outputs, b_labels)\n",
        "\n",
        "        losses.append(loss.item())\n",
        "\n",
        "        loss.backward()\n",
        "\n",
        "        torch.nn.utils.clip_grad_norm_(model.parameters(), 1.0)\n",
        "\n",
        "        optimizer.step()\n",
        "        \n",
        "        scheduler.step()\n",
        "\n",
        "        optimizer.zero_grad()\n",
        "    print(f\"Epoch {epoch_i}, Loss {np.mean(losses)}\")\n"
      ]
    },
    {
      "cell_type": "code",
      "source": [
        "outputs"
      ],
      "metadata": {
        "id": "acrNzDUDoqEw"
      },
      "execution_count": null,
      "outputs": []
    },
    {
      "cell_type": "code",
      "execution_count": null,
      "metadata": {
        "id": "k0Nd2qnP_5lv"
      },
      "outputs": [],
      "source": [
        "integrated_grad = SmoothGradient(\n",
        "    model, \n",
        "    loss_fn, \n",
        "    tokenizer, \n",
        "    show_progress=False,\n",
        "    encoder=\"bert\"\n",
        ")\n",
        "instances = integrated_grad.saliency_interpret(dataloader_train)\n"
      ]
    },
    {
      "cell_type": "code",
      "execution_count": null,
      "metadata": {
        "id": "sacNXcd0KEpV"
      },
      "outputs": [],
      "source": [
        "words_male = []\n",
        "words_female = []\n",
        "for i in range(len(instances)):\n",
        "  idx = np.argsort(instances[i]['grad'])[::-1][:10]\n",
        "  if instances[i]['label'] == 0:\n",
        "    words_male = words_male + [instances[i]['tokens'][val] for val in idx]\n",
        "  else: \n",
        "    words_female = words_female + [instances[i]['tokens'][val] for val in idx]\n",
        "\n",
        "words_male = [ elem for elem in words_male if elem not in ['[SEP]', '[CLS]']]\n",
        "words_female = [ elem for elem in words_female if elem not in ['[SEP]', '[CLS]']]"
      ]
    },
    {
      "cell_type": "code",
      "execution_count": null,
      "metadata": {
        "id": "V-iwKmY9dyT0"
      },
      "outputs": [],
      "source": [
        "len(words_male)"
      ]
    },
    {
      "cell_type": "code",
      "execution_count": null,
      "metadata": {
        "id": "3CPgQBRS_7ms"
      },
      "outputs": [],
      "source": [
        "coloder_string = integrated_grad.colorize(instances[1])\n",
        "display(HTML(coloder_string))"
      ]
    },
    {
      "cell_type": "code",
      "execution_count": null,
      "metadata": {
        "id": "YnwG--ONLiLM"
      },
      "outputs": [],
      "source": [
        "import matplotlib.pyplot as plt\n",
        "from wordcloud import WordCloud\n",
        "\n",
        "#convert list to string and generate\n",
        "unique_string=(\" \").join(words_female)\n",
        "wordcloud = WordCloud(width = 1000, height = 500).generate(unique_string)\n",
        "plt.figure(figsize=(15,8))\n",
        "plt.imshow(wordcloud)\n",
        "plt.axis(\"off\")\n",
        "plt.show()\n",
        "\n",
        "print(wordcloud.words_.keys())"
      ]
    },
    {
      "cell_type": "code",
      "execution_count": null,
      "metadata": {
        "id": "hFWzsRuNXLYd"
      },
      "outputs": [],
      "source": [
        "import matplotlib.pyplot as plt\n",
        "from wordcloud import WordCloud\n",
        "\n",
        "#convert list to string and generate\n",
        "unique_string=(\" \").join(words_male)\n",
        "wordcloud = WordCloud(width = 1000, height = 500).generate(unique_string)\n",
        "plt.figure(figsize=(15,8))\n",
        "plt.imshow(wordcloud)\n",
        "plt.axis(\"off\")\n",
        "plt.show()\n",
        "\n",
        "print(wordcloud.words_.keys())"
      ]
    },
    {
      "cell_type": "markdown",
      "metadata": {
        "id": "NtIQzQEH2vhy"
      },
      "source": [
        "# Predict artist gender"
      ]
    },
    {
      "cell_type": "code",
      "execution_count": null,
      "metadata": {
        "id": "o_NzF7QQ3J6Z"
      },
      "outputs": [],
      "source": [
        "from sklearn.model_selection import train_test_split\n",
        "from sklearn.tree import DecisionTreeClassifier\n",
        "from sklearn import metrics"
      ]
    },
    {
      "cell_type": "code",
      "execution_count": null,
      "metadata": {
        "id": "FducXCFxKURy"
      },
      "outputs": [],
      "source": [
        "data_all_info = pd.read_csv(\"music/data_all_info.txt\", sep=\"\\t\").drop(['Unnamed: 0'],axis=1).dropna()\n",
        "data_all_info = data_all_info.loc[data_all_info.artist_gender != 'other' ]"
      ]
    },
    {
      "cell_type": "code",
      "execution_count": null,
      "metadata": {
        "id": "8XV1iDFGB0mF"
      },
      "outputs": [],
      "source": [
        "input = feature_vectors"
      ]
    },
    {
      "cell_type": "code",
      "execution_count": null,
      "metadata": {
        "id": "Zv1QvFM3I22n"
      },
      "outputs": [],
      "source": [
        "df_features = pd.DataFrame()\n",
        "id_col = []\n",
        "\n",
        "for id in data_interaction_test[item_col].unique():\n",
        "  id_col.append(id)\n",
        "  df_features = df_features.append(pd.DataFrame(input[id][0].detach().numpy()))\n",
        "\n",
        "df_features[item_col] = id_col"
      ]
    },
    {
      "cell_type": "code",
      "execution_count": null,
      "metadata": {
        "id": "EBOE0G_TJ28n"
      },
      "outputs": [],
      "source": [
        "df_features = pd.merge(df_features, data_all_info)"
      ]
    },
    {
      "cell_type": "code",
      "execution_count": null,
      "metadata": {
        "id": "YOQ6VKT_IVyg"
      },
      "outputs": [],
      "source": [
        "df_features.loc[df_features.artist_gender == 'female', 'artist_gender'] = 0\n",
        "df_features.loc[df_features.artist_gender == 'male', 'artist_gender'] = 1\n",
        "df_features.artist_gender = df_features.artist_gender.astype('int')"
      ]
    },
    {
      "cell_type": "code",
      "execution_count": null,
      "metadata": {
        "id": "2ic2xa382unN"
      },
      "outputs": [],
      "source": [
        "X = df_features.iloc[:,:128]\n",
        "y = df_features.artist_gender\n",
        "X_train, X_test, y_train, y_test = train_test_split(\n",
        "    X, y, test_size=0.4, random_state=42\n",
        ")"
      ]
    },
    {
      "cell_type": "code",
      "execution_count": null,
      "metadata": {
        "id": "h50TBcLs3G7l"
      },
      "outputs": [],
      "source": [
        "#clf = RandomForestClassifier(max_depth=5, n_estimators=10, max_features=1)\n",
        "clf = DecisionTreeClassifier()\n",
        "clf.fit(X_train, y_train)\n",
        "y_pred=clf.predict(X_test)\n",
        "\n",
        "print(\"Accuracy:\", metrics.accuracy_score(y_test.values, y_pred))\n",
        "print(\"Balanced Accuracy:\", metrics.balanced_accuracy_score(y_test.values, y_pred))\n",
        "print(\"Recall: \", metrics.recall_score(y_test.values, y_pred))\n",
        "print(\"Precision: \", metrics.precision_score(y_test.values, y_pred))"
      ]
    },
    {
      "cell_type": "code",
      "execution_count": null,
      "metadata": {
        "id": "XQSgoDfe4Cc4"
      },
      "outputs": [],
      "source": [
        "import pandas as pd\n",
        "feature_imp = pd.Series(clf.feature_importances_,index=X.columns).sort_values(ascending=False)\n",
        "feature_imp.head(10)"
      ]
    }
  ],
  "metadata": {
    "accelerator": "GPU",
    "colab": {
      "collapsed_sections": [
        "0c67LS6n1Y-A",
        "K-A_VQKP1hFS",
        "jc6rPo1eHeca",
        "hgDbgyUFYVPF",
        "UEiaFN1bYdFE",
        "_W5yg61kZJOV",
        "xjjmSaKW-99W",
        "NtIQzQEH2vhy"
      ],
      "machine_shape": "hm",
      "name": "002_analyze_embeddings.ipynb",
      "provenance": [],
      "mount_file_id": "1oLwqD4kIwkhfA4JSXv2yb_2VYFXGEB35",
      "authorship_tag": "ABX9TyP5b+0Ns0nEDrhUpRlzlueX",
      "include_colab_link": true
    },
    "kernelspec": {
      "display_name": "Python 3",
      "name": "python3"
    },
    "language_info": {
      "name": "python"
    },
    "widgets": {
      "application/vnd.jupyter.widget-state+json": {
        "820a0c89c84b4484a3fe4dba97c1e13d": {
          "model_module": "@jupyter-widgets/controls",
          "model_name": "HBoxModel",
          "model_module_version": "1.5.0",
          "state": {
            "_dom_classes": [],
            "_model_module": "@jupyter-widgets/controls",
            "_model_module_version": "1.5.0",
            "_model_name": "HBoxModel",
            "_view_count": null,
            "_view_module": "@jupyter-widgets/controls",
            "_view_module_version": "1.5.0",
            "_view_name": "HBoxView",
            "box_style": "",
            "children": [
              "IPY_MODEL_fb84c241147848abb86517421e45e512",
              "IPY_MODEL_ca12cda6e6d84446bf7f50092582b89c",
              "IPY_MODEL_f9e54bdb6f8c48c1868527a71d9dc2d8"
            ],
            "layout": "IPY_MODEL_a2af0719083748e395f91b58770cef6e"
          }
        },
        "fb84c241147848abb86517421e45e512": {
          "model_module": "@jupyter-widgets/controls",
          "model_name": "HTMLModel",
          "model_module_version": "1.5.0",
          "state": {
            "_dom_classes": [],
            "_model_module": "@jupyter-widgets/controls",
            "_model_module_version": "1.5.0",
            "_model_name": "HTMLModel",
            "_view_count": null,
            "_view_module": "@jupyter-widgets/controls",
            "_view_module_version": "1.5.0",
            "_view_name": "HTMLView",
            "description": "",
            "description_tooltip": null,
            "layout": "IPY_MODEL_61793b004c89411b8b7c4d5b0f59de24",
            "placeholder": "​",
            "style": "IPY_MODEL_f94130ee49f94481b2bff801b0c2cdc3",
            "value": "Downloading: 100%"
          }
        },
        "ca12cda6e6d84446bf7f50092582b89c": {
          "model_module": "@jupyter-widgets/controls",
          "model_name": "FloatProgressModel",
          "model_module_version": "1.5.0",
          "state": {
            "_dom_classes": [],
            "_model_module": "@jupyter-widgets/controls",
            "_model_module_version": "1.5.0",
            "_model_name": "FloatProgressModel",
            "_view_count": null,
            "_view_module": "@jupyter-widgets/controls",
            "_view_module_version": "1.5.0",
            "_view_name": "ProgressView",
            "bar_style": "success",
            "description": "",
            "description_tooltip": null,
            "layout": "IPY_MODEL_c9160c529baa428eae8ac210045368ac",
            "max": 213450,
            "min": 0,
            "orientation": "horizontal",
            "style": "IPY_MODEL_383a7dcea1444687a9fb1071c71fe4b5",
            "value": 213450
          }
        },
        "f9e54bdb6f8c48c1868527a71d9dc2d8": {
          "model_module": "@jupyter-widgets/controls",
          "model_name": "HTMLModel",
          "model_module_version": "1.5.0",
          "state": {
            "_dom_classes": [],
            "_model_module": "@jupyter-widgets/controls",
            "_model_module_version": "1.5.0",
            "_model_name": "HTMLModel",
            "_view_count": null,
            "_view_module": "@jupyter-widgets/controls",
            "_view_module_version": "1.5.0",
            "_view_name": "HTMLView",
            "description": "",
            "description_tooltip": null,
            "layout": "IPY_MODEL_0671f34efabc4ec7a3b54bd13e095c1f",
            "placeholder": "​",
            "style": "IPY_MODEL_d19816bcd8d348e08236cb1c3bc28d2c",
            "value": " 208k/208k [00:00&lt;00:00, 1.51MB/s]"
          }
        },
        "a2af0719083748e395f91b58770cef6e": {
          "model_module": "@jupyter-widgets/base",
          "model_name": "LayoutModel",
          "model_module_version": "1.2.0",
          "state": {
            "_model_module": "@jupyter-widgets/base",
            "_model_module_version": "1.2.0",
            "_model_name": "LayoutModel",
            "_view_count": null,
            "_view_module": "@jupyter-widgets/base",
            "_view_module_version": "1.2.0",
            "_view_name": "LayoutView",
            "align_content": null,
            "align_items": null,
            "align_self": null,
            "border": null,
            "bottom": null,
            "display": null,
            "flex": null,
            "flex_flow": null,
            "grid_area": null,
            "grid_auto_columns": null,
            "grid_auto_flow": null,
            "grid_auto_rows": null,
            "grid_column": null,
            "grid_gap": null,
            "grid_row": null,
            "grid_template_areas": null,
            "grid_template_columns": null,
            "grid_template_rows": null,
            "height": null,
            "justify_content": null,
            "justify_items": null,
            "left": null,
            "margin": null,
            "max_height": null,
            "max_width": null,
            "min_height": null,
            "min_width": null,
            "object_fit": null,
            "object_position": null,
            "order": null,
            "overflow": null,
            "overflow_x": null,
            "overflow_y": null,
            "padding": null,
            "right": null,
            "top": null,
            "visibility": null,
            "width": null
          }
        },
        "61793b004c89411b8b7c4d5b0f59de24": {
          "model_module": "@jupyter-widgets/base",
          "model_name": "LayoutModel",
          "model_module_version": "1.2.0",
          "state": {
            "_model_module": "@jupyter-widgets/base",
            "_model_module_version": "1.2.0",
            "_model_name": "LayoutModel",
            "_view_count": null,
            "_view_module": "@jupyter-widgets/base",
            "_view_module_version": "1.2.0",
            "_view_name": "LayoutView",
            "align_content": null,
            "align_items": null,
            "align_self": null,
            "border": null,
            "bottom": null,
            "display": null,
            "flex": null,
            "flex_flow": null,
            "grid_area": null,
            "grid_auto_columns": null,
            "grid_auto_flow": null,
            "grid_auto_rows": null,
            "grid_column": null,
            "grid_gap": null,
            "grid_row": null,
            "grid_template_areas": null,
            "grid_template_columns": null,
            "grid_template_rows": null,
            "height": null,
            "justify_content": null,
            "justify_items": null,
            "left": null,
            "margin": null,
            "max_height": null,
            "max_width": null,
            "min_height": null,
            "min_width": null,
            "object_fit": null,
            "object_position": null,
            "order": null,
            "overflow": null,
            "overflow_x": null,
            "overflow_y": null,
            "padding": null,
            "right": null,
            "top": null,
            "visibility": null,
            "width": null
          }
        },
        "f94130ee49f94481b2bff801b0c2cdc3": {
          "model_module": "@jupyter-widgets/controls",
          "model_name": "DescriptionStyleModel",
          "model_module_version": "1.5.0",
          "state": {
            "_model_module": "@jupyter-widgets/controls",
            "_model_module_version": "1.5.0",
            "_model_name": "DescriptionStyleModel",
            "_view_count": null,
            "_view_module": "@jupyter-widgets/base",
            "_view_module_version": "1.2.0",
            "_view_name": "StyleView",
            "description_width": ""
          }
        },
        "c9160c529baa428eae8ac210045368ac": {
          "model_module": "@jupyter-widgets/base",
          "model_name": "LayoutModel",
          "model_module_version": "1.2.0",
          "state": {
            "_model_module": "@jupyter-widgets/base",
            "_model_module_version": "1.2.0",
            "_model_name": "LayoutModel",
            "_view_count": null,
            "_view_module": "@jupyter-widgets/base",
            "_view_module_version": "1.2.0",
            "_view_name": "LayoutView",
            "align_content": null,
            "align_items": null,
            "align_self": null,
            "border": null,
            "bottom": null,
            "display": null,
            "flex": null,
            "flex_flow": null,
            "grid_area": null,
            "grid_auto_columns": null,
            "grid_auto_flow": null,
            "grid_auto_rows": null,
            "grid_column": null,
            "grid_gap": null,
            "grid_row": null,
            "grid_template_areas": null,
            "grid_template_columns": null,
            "grid_template_rows": null,
            "height": null,
            "justify_content": null,
            "justify_items": null,
            "left": null,
            "margin": null,
            "max_height": null,
            "max_width": null,
            "min_height": null,
            "min_width": null,
            "object_fit": null,
            "object_position": null,
            "order": null,
            "overflow": null,
            "overflow_x": null,
            "overflow_y": null,
            "padding": null,
            "right": null,
            "top": null,
            "visibility": null,
            "width": null
          }
        },
        "383a7dcea1444687a9fb1071c71fe4b5": {
          "model_module": "@jupyter-widgets/controls",
          "model_name": "ProgressStyleModel",
          "model_module_version": "1.5.0",
          "state": {
            "_model_module": "@jupyter-widgets/controls",
            "_model_module_version": "1.5.0",
            "_model_name": "ProgressStyleModel",
            "_view_count": null,
            "_view_module": "@jupyter-widgets/base",
            "_view_module_version": "1.2.0",
            "_view_name": "StyleView",
            "bar_color": null,
            "description_width": ""
          }
        },
        "0671f34efabc4ec7a3b54bd13e095c1f": {
          "model_module": "@jupyter-widgets/base",
          "model_name": "LayoutModel",
          "model_module_version": "1.2.0",
          "state": {
            "_model_module": "@jupyter-widgets/base",
            "_model_module_version": "1.2.0",
            "_model_name": "LayoutModel",
            "_view_count": null,
            "_view_module": "@jupyter-widgets/base",
            "_view_module_version": "1.2.0",
            "_view_name": "LayoutView",
            "align_content": null,
            "align_items": null,
            "align_self": null,
            "border": null,
            "bottom": null,
            "display": null,
            "flex": null,
            "flex_flow": null,
            "grid_area": null,
            "grid_auto_columns": null,
            "grid_auto_flow": null,
            "grid_auto_rows": null,
            "grid_column": null,
            "grid_gap": null,
            "grid_row": null,
            "grid_template_areas": null,
            "grid_template_columns": null,
            "grid_template_rows": null,
            "height": null,
            "justify_content": null,
            "justify_items": null,
            "left": null,
            "margin": null,
            "max_height": null,
            "max_width": null,
            "min_height": null,
            "min_width": null,
            "object_fit": null,
            "object_position": null,
            "order": null,
            "overflow": null,
            "overflow_x": null,
            "overflow_y": null,
            "padding": null,
            "right": null,
            "top": null,
            "visibility": null,
            "width": null
          }
        },
        "d19816bcd8d348e08236cb1c3bc28d2c": {
          "model_module": "@jupyter-widgets/controls",
          "model_name": "DescriptionStyleModel",
          "model_module_version": "1.5.0",
          "state": {
            "_model_module": "@jupyter-widgets/controls",
            "_model_module_version": "1.5.0",
            "_model_name": "DescriptionStyleModel",
            "_view_count": null,
            "_view_module": "@jupyter-widgets/base",
            "_view_module_version": "1.2.0",
            "_view_name": "StyleView",
            "description_width": ""
          }
        },
        "05c4a9a5749d4e739b435426bec87103": {
          "model_module": "@jupyter-widgets/controls",
          "model_name": "HBoxModel",
          "model_module_version": "1.5.0",
          "state": {
            "_dom_classes": [],
            "_model_module": "@jupyter-widgets/controls",
            "_model_module_version": "1.5.0",
            "_model_name": "HBoxModel",
            "_view_count": null,
            "_view_module": "@jupyter-widgets/controls",
            "_view_module_version": "1.5.0",
            "_view_name": "HBoxView",
            "box_style": "",
            "children": [
              "IPY_MODEL_9888dc40014f4dd6b651713ef0a161fa",
              "IPY_MODEL_958884cd2857490c99f94c521ffd4af7",
              "IPY_MODEL_d2e6163154b3417a918c80f44ab63d83"
            ],
            "layout": "IPY_MODEL_92a56fc8ca8745ed8c2a9df334c10f00"
          }
        },
        "9888dc40014f4dd6b651713ef0a161fa": {
          "model_module": "@jupyter-widgets/controls",
          "model_name": "HTMLModel",
          "model_module_version": "1.5.0",
          "state": {
            "_dom_classes": [],
            "_model_module": "@jupyter-widgets/controls",
            "_model_module_version": "1.5.0",
            "_model_name": "HTMLModel",
            "_view_count": null,
            "_view_module": "@jupyter-widgets/controls",
            "_view_module_version": "1.5.0",
            "_view_name": "HTMLView",
            "description": "",
            "description_tooltip": null,
            "layout": "IPY_MODEL_9f9729eb04ab4841afb0a90fb119e632",
            "placeholder": "​",
            "style": "IPY_MODEL_21106d4bd3df44e6a817f9488f61be54",
            "value": "Downloading: 100%"
          }
        },
        "958884cd2857490c99f94c521ffd4af7": {
          "model_module": "@jupyter-widgets/controls",
          "model_name": "FloatProgressModel",
          "model_module_version": "1.5.0",
          "state": {
            "_dom_classes": [],
            "_model_module": "@jupyter-widgets/controls",
            "_model_module_version": "1.5.0",
            "_model_name": "FloatProgressModel",
            "_view_count": null,
            "_view_module": "@jupyter-widgets/controls",
            "_view_module_version": "1.5.0",
            "_view_name": "ProgressView",
            "bar_style": "success",
            "description": "",
            "description_tooltip": null,
            "layout": "IPY_MODEL_8836ec19c4724f96b8706c38299ec7e5",
            "max": 29,
            "min": 0,
            "orientation": "horizontal",
            "style": "IPY_MODEL_cd153358945d4344b41d33058fe72bf2",
            "value": 29
          }
        },
        "d2e6163154b3417a918c80f44ab63d83": {
          "model_module": "@jupyter-widgets/controls",
          "model_name": "HTMLModel",
          "model_module_version": "1.5.0",
          "state": {
            "_dom_classes": [],
            "_model_module": "@jupyter-widgets/controls",
            "_model_module_version": "1.5.0",
            "_model_name": "HTMLModel",
            "_view_count": null,
            "_view_module": "@jupyter-widgets/controls",
            "_view_module_version": "1.5.0",
            "_view_name": "HTMLView",
            "description": "",
            "description_tooltip": null,
            "layout": "IPY_MODEL_b646cbfb88aa4f6b8909ad7b065191ed",
            "placeholder": "​",
            "style": "IPY_MODEL_e0080af653a946d4ae6e157264bdc539",
            "value": " 29.0/29.0 [00:00&lt;00:00, 665B/s]"
          }
        },
        "92a56fc8ca8745ed8c2a9df334c10f00": {
          "model_module": "@jupyter-widgets/base",
          "model_name": "LayoutModel",
          "model_module_version": "1.2.0",
          "state": {
            "_model_module": "@jupyter-widgets/base",
            "_model_module_version": "1.2.0",
            "_model_name": "LayoutModel",
            "_view_count": null,
            "_view_module": "@jupyter-widgets/base",
            "_view_module_version": "1.2.0",
            "_view_name": "LayoutView",
            "align_content": null,
            "align_items": null,
            "align_self": null,
            "border": null,
            "bottom": null,
            "display": null,
            "flex": null,
            "flex_flow": null,
            "grid_area": null,
            "grid_auto_columns": null,
            "grid_auto_flow": null,
            "grid_auto_rows": null,
            "grid_column": null,
            "grid_gap": null,
            "grid_row": null,
            "grid_template_areas": null,
            "grid_template_columns": null,
            "grid_template_rows": null,
            "height": null,
            "justify_content": null,
            "justify_items": null,
            "left": null,
            "margin": null,
            "max_height": null,
            "max_width": null,
            "min_height": null,
            "min_width": null,
            "object_fit": null,
            "object_position": null,
            "order": null,
            "overflow": null,
            "overflow_x": null,
            "overflow_y": null,
            "padding": null,
            "right": null,
            "top": null,
            "visibility": null,
            "width": null
          }
        },
        "9f9729eb04ab4841afb0a90fb119e632": {
          "model_module": "@jupyter-widgets/base",
          "model_name": "LayoutModel",
          "model_module_version": "1.2.0",
          "state": {
            "_model_module": "@jupyter-widgets/base",
            "_model_module_version": "1.2.0",
            "_model_name": "LayoutModel",
            "_view_count": null,
            "_view_module": "@jupyter-widgets/base",
            "_view_module_version": "1.2.0",
            "_view_name": "LayoutView",
            "align_content": null,
            "align_items": null,
            "align_self": null,
            "border": null,
            "bottom": null,
            "display": null,
            "flex": null,
            "flex_flow": null,
            "grid_area": null,
            "grid_auto_columns": null,
            "grid_auto_flow": null,
            "grid_auto_rows": null,
            "grid_column": null,
            "grid_gap": null,
            "grid_row": null,
            "grid_template_areas": null,
            "grid_template_columns": null,
            "grid_template_rows": null,
            "height": null,
            "justify_content": null,
            "justify_items": null,
            "left": null,
            "margin": null,
            "max_height": null,
            "max_width": null,
            "min_height": null,
            "min_width": null,
            "object_fit": null,
            "object_position": null,
            "order": null,
            "overflow": null,
            "overflow_x": null,
            "overflow_y": null,
            "padding": null,
            "right": null,
            "top": null,
            "visibility": null,
            "width": null
          }
        },
        "21106d4bd3df44e6a817f9488f61be54": {
          "model_module": "@jupyter-widgets/controls",
          "model_name": "DescriptionStyleModel",
          "model_module_version": "1.5.0",
          "state": {
            "_model_module": "@jupyter-widgets/controls",
            "_model_module_version": "1.5.0",
            "_model_name": "DescriptionStyleModel",
            "_view_count": null,
            "_view_module": "@jupyter-widgets/base",
            "_view_module_version": "1.2.0",
            "_view_name": "StyleView",
            "description_width": ""
          }
        },
        "8836ec19c4724f96b8706c38299ec7e5": {
          "model_module": "@jupyter-widgets/base",
          "model_name": "LayoutModel",
          "model_module_version": "1.2.0",
          "state": {
            "_model_module": "@jupyter-widgets/base",
            "_model_module_version": "1.2.0",
            "_model_name": "LayoutModel",
            "_view_count": null,
            "_view_module": "@jupyter-widgets/base",
            "_view_module_version": "1.2.0",
            "_view_name": "LayoutView",
            "align_content": null,
            "align_items": null,
            "align_self": null,
            "border": null,
            "bottom": null,
            "display": null,
            "flex": null,
            "flex_flow": null,
            "grid_area": null,
            "grid_auto_columns": null,
            "grid_auto_flow": null,
            "grid_auto_rows": null,
            "grid_column": null,
            "grid_gap": null,
            "grid_row": null,
            "grid_template_areas": null,
            "grid_template_columns": null,
            "grid_template_rows": null,
            "height": null,
            "justify_content": null,
            "justify_items": null,
            "left": null,
            "margin": null,
            "max_height": null,
            "max_width": null,
            "min_height": null,
            "min_width": null,
            "object_fit": null,
            "object_position": null,
            "order": null,
            "overflow": null,
            "overflow_x": null,
            "overflow_y": null,
            "padding": null,
            "right": null,
            "top": null,
            "visibility": null,
            "width": null
          }
        },
        "cd153358945d4344b41d33058fe72bf2": {
          "model_module": "@jupyter-widgets/controls",
          "model_name": "ProgressStyleModel",
          "model_module_version": "1.5.0",
          "state": {
            "_model_module": "@jupyter-widgets/controls",
            "_model_module_version": "1.5.0",
            "_model_name": "ProgressStyleModel",
            "_view_count": null,
            "_view_module": "@jupyter-widgets/base",
            "_view_module_version": "1.2.0",
            "_view_name": "StyleView",
            "bar_color": null,
            "description_width": ""
          }
        },
        "b646cbfb88aa4f6b8909ad7b065191ed": {
          "model_module": "@jupyter-widgets/base",
          "model_name": "LayoutModel",
          "model_module_version": "1.2.0",
          "state": {
            "_model_module": "@jupyter-widgets/base",
            "_model_module_version": "1.2.0",
            "_model_name": "LayoutModel",
            "_view_count": null,
            "_view_module": "@jupyter-widgets/base",
            "_view_module_version": "1.2.0",
            "_view_name": "LayoutView",
            "align_content": null,
            "align_items": null,
            "align_self": null,
            "border": null,
            "bottom": null,
            "display": null,
            "flex": null,
            "flex_flow": null,
            "grid_area": null,
            "grid_auto_columns": null,
            "grid_auto_flow": null,
            "grid_auto_rows": null,
            "grid_column": null,
            "grid_gap": null,
            "grid_row": null,
            "grid_template_areas": null,
            "grid_template_columns": null,
            "grid_template_rows": null,
            "height": null,
            "justify_content": null,
            "justify_items": null,
            "left": null,
            "margin": null,
            "max_height": null,
            "max_width": null,
            "min_height": null,
            "min_width": null,
            "object_fit": null,
            "object_position": null,
            "order": null,
            "overflow": null,
            "overflow_x": null,
            "overflow_y": null,
            "padding": null,
            "right": null,
            "top": null,
            "visibility": null,
            "width": null
          }
        },
        "e0080af653a946d4ae6e157264bdc539": {
          "model_module": "@jupyter-widgets/controls",
          "model_name": "DescriptionStyleModel",
          "model_module_version": "1.5.0",
          "state": {
            "_model_module": "@jupyter-widgets/controls",
            "_model_module_version": "1.5.0",
            "_model_name": "DescriptionStyleModel",
            "_view_count": null,
            "_view_module": "@jupyter-widgets/base",
            "_view_module_version": "1.2.0",
            "_view_name": "StyleView",
            "description_width": ""
          }
        },
        "3ccf0ae208a847e99c726bb2c7d77880": {
          "model_module": "@jupyter-widgets/controls",
          "model_name": "HBoxModel",
          "model_module_version": "1.5.0",
          "state": {
            "_dom_classes": [],
            "_model_module": "@jupyter-widgets/controls",
            "_model_module_version": "1.5.0",
            "_model_name": "HBoxModel",
            "_view_count": null,
            "_view_module": "@jupyter-widgets/controls",
            "_view_module_version": "1.5.0",
            "_view_name": "HBoxView",
            "box_style": "",
            "children": [
              "IPY_MODEL_f014d5ede39e41108cfd16dd5d7820ba",
              "IPY_MODEL_5f2a7466423648fa874c01d8911e0046",
              "IPY_MODEL_94b20375048842e9b3cb3edf48ddcd54"
            ],
            "layout": "IPY_MODEL_eda0b2957daa470baa19a270297f3367"
          }
        },
        "f014d5ede39e41108cfd16dd5d7820ba": {
          "model_module": "@jupyter-widgets/controls",
          "model_name": "HTMLModel",
          "model_module_version": "1.5.0",
          "state": {
            "_dom_classes": [],
            "_model_module": "@jupyter-widgets/controls",
            "_model_module_version": "1.5.0",
            "_model_name": "HTMLModel",
            "_view_count": null,
            "_view_module": "@jupyter-widgets/controls",
            "_view_module_version": "1.5.0",
            "_view_name": "HTMLView",
            "description": "",
            "description_tooltip": null,
            "layout": "IPY_MODEL_01a86d0c26174703b13bc044e68b6cb9",
            "placeholder": "​",
            "style": "IPY_MODEL_8cba1d887fdd45c2804a460003e27b19",
            "value": "Downloading: 100%"
          }
        },
        "5f2a7466423648fa874c01d8911e0046": {
          "model_module": "@jupyter-widgets/controls",
          "model_name": "FloatProgressModel",
          "model_module_version": "1.5.0",
          "state": {
            "_dom_classes": [],
            "_model_module": "@jupyter-widgets/controls",
            "_model_module_version": "1.5.0",
            "_model_name": "FloatProgressModel",
            "_view_count": null,
            "_view_module": "@jupyter-widgets/controls",
            "_view_module_version": "1.5.0",
            "_view_name": "ProgressView",
            "bar_style": "success",
            "description": "",
            "description_tooltip": null,
            "layout": "IPY_MODEL_074bd36bf981454c9cbab1ec4a3b9b1f",
            "max": 570,
            "min": 0,
            "orientation": "horizontal",
            "style": "IPY_MODEL_76bcf596fcd34da8b33fb02dd706e4d0",
            "value": 570
          }
        },
        "94b20375048842e9b3cb3edf48ddcd54": {
          "model_module": "@jupyter-widgets/controls",
          "model_name": "HTMLModel",
          "model_module_version": "1.5.0",
          "state": {
            "_dom_classes": [],
            "_model_module": "@jupyter-widgets/controls",
            "_model_module_version": "1.5.0",
            "_model_name": "HTMLModel",
            "_view_count": null,
            "_view_module": "@jupyter-widgets/controls",
            "_view_module_version": "1.5.0",
            "_view_name": "HTMLView",
            "description": "",
            "description_tooltip": null,
            "layout": "IPY_MODEL_39b17dc512f7423ab6cf911f91b6a27b",
            "placeholder": "​",
            "style": "IPY_MODEL_2eea639659fd4e78bda3d0cfda4473bc",
            "value": " 570/570 [00:00&lt;00:00, 12.5kB/s]"
          }
        },
        "eda0b2957daa470baa19a270297f3367": {
          "model_module": "@jupyter-widgets/base",
          "model_name": "LayoutModel",
          "model_module_version": "1.2.0",
          "state": {
            "_model_module": "@jupyter-widgets/base",
            "_model_module_version": "1.2.0",
            "_model_name": "LayoutModel",
            "_view_count": null,
            "_view_module": "@jupyter-widgets/base",
            "_view_module_version": "1.2.0",
            "_view_name": "LayoutView",
            "align_content": null,
            "align_items": null,
            "align_self": null,
            "border": null,
            "bottom": null,
            "display": null,
            "flex": null,
            "flex_flow": null,
            "grid_area": null,
            "grid_auto_columns": null,
            "grid_auto_flow": null,
            "grid_auto_rows": null,
            "grid_column": null,
            "grid_gap": null,
            "grid_row": null,
            "grid_template_areas": null,
            "grid_template_columns": null,
            "grid_template_rows": null,
            "height": null,
            "justify_content": null,
            "justify_items": null,
            "left": null,
            "margin": null,
            "max_height": null,
            "max_width": null,
            "min_height": null,
            "min_width": null,
            "object_fit": null,
            "object_position": null,
            "order": null,
            "overflow": null,
            "overflow_x": null,
            "overflow_y": null,
            "padding": null,
            "right": null,
            "top": null,
            "visibility": null,
            "width": null
          }
        },
        "01a86d0c26174703b13bc044e68b6cb9": {
          "model_module": "@jupyter-widgets/base",
          "model_name": "LayoutModel",
          "model_module_version": "1.2.0",
          "state": {
            "_model_module": "@jupyter-widgets/base",
            "_model_module_version": "1.2.0",
            "_model_name": "LayoutModel",
            "_view_count": null,
            "_view_module": "@jupyter-widgets/base",
            "_view_module_version": "1.2.0",
            "_view_name": "LayoutView",
            "align_content": null,
            "align_items": null,
            "align_self": null,
            "border": null,
            "bottom": null,
            "display": null,
            "flex": null,
            "flex_flow": null,
            "grid_area": null,
            "grid_auto_columns": null,
            "grid_auto_flow": null,
            "grid_auto_rows": null,
            "grid_column": null,
            "grid_gap": null,
            "grid_row": null,
            "grid_template_areas": null,
            "grid_template_columns": null,
            "grid_template_rows": null,
            "height": null,
            "justify_content": null,
            "justify_items": null,
            "left": null,
            "margin": null,
            "max_height": null,
            "max_width": null,
            "min_height": null,
            "min_width": null,
            "object_fit": null,
            "object_position": null,
            "order": null,
            "overflow": null,
            "overflow_x": null,
            "overflow_y": null,
            "padding": null,
            "right": null,
            "top": null,
            "visibility": null,
            "width": null
          }
        },
        "8cba1d887fdd45c2804a460003e27b19": {
          "model_module": "@jupyter-widgets/controls",
          "model_name": "DescriptionStyleModel",
          "model_module_version": "1.5.0",
          "state": {
            "_model_module": "@jupyter-widgets/controls",
            "_model_module_version": "1.5.0",
            "_model_name": "DescriptionStyleModel",
            "_view_count": null,
            "_view_module": "@jupyter-widgets/base",
            "_view_module_version": "1.2.0",
            "_view_name": "StyleView",
            "description_width": ""
          }
        },
        "074bd36bf981454c9cbab1ec4a3b9b1f": {
          "model_module": "@jupyter-widgets/base",
          "model_name": "LayoutModel",
          "model_module_version": "1.2.0",
          "state": {
            "_model_module": "@jupyter-widgets/base",
            "_model_module_version": "1.2.0",
            "_model_name": "LayoutModel",
            "_view_count": null,
            "_view_module": "@jupyter-widgets/base",
            "_view_module_version": "1.2.0",
            "_view_name": "LayoutView",
            "align_content": null,
            "align_items": null,
            "align_self": null,
            "border": null,
            "bottom": null,
            "display": null,
            "flex": null,
            "flex_flow": null,
            "grid_area": null,
            "grid_auto_columns": null,
            "grid_auto_flow": null,
            "grid_auto_rows": null,
            "grid_column": null,
            "grid_gap": null,
            "grid_row": null,
            "grid_template_areas": null,
            "grid_template_columns": null,
            "grid_template_rows": null,
            "height": null,
            "justify_content": null,
            "justify_items": null,
            "left": null,
            "margin": null,
            "max_height": null,
            "max_width": null,
            "min_height": null,
            "min_width": null,
            "object_fit": null,
            "object_position": null,
            "order": null,
            "overflow": null,
            "overflow_x": null,
            "overflow_y": null,
            "padding": null,
            "right": null,
            "top": null,
            "visibility": null,
            "width": null
          }
        },
        "76bcf596fcd34da8b33fb02dd706e4d0": {
          "model_module": "@jupyter-widgets/controls",
          "model_name": "ProgressStyleModel",
          "model_module_version": "1.5.0",
          "state": {
            "_model_module": "@jupyter-widgets/controls",
            "_model_module_version": "1.5.0",
            "_model_name": "ProgressStyleModel",
            "_view_count": null,
            "_view_module": "@jupyter-widgets/base",
            "_view_module_version": "1.2.0",
            "_view_name": "StyleView",
            "bar_color": null,
            "description_width": ""
          }
        },
        "39b17dc512f7423ab6cf911f91b6a27b": {
          "model_module": "@jupyter-widgets/base",
          "model_name": "LayoutModel",
          "model_module_version": "1.2.0",
          "state": {
            "_model_module": "@jupyter-widgets/base",
            "_model_module_version": "1.2.0",
            "_model_name": "LayoutModel",
            "_view_count": null,
            "_view_module": "@jupyter-widgets/base",
            "_view_module_version": "1.2.0",
            "_view_name": "LayoutView",
            "align_content": null,
            "align_items": null,
            "align_self": null,
            "border": null,
            "bottom": null,
            "display": null,
            "flex": null,
            "flex_flow": null,
            "grid_area": null,
            "grid_auto_columns": null,
            "grid_auto_flow": null,
            "grid_auto_rows": null,
            "grid_column": null,
            "grid_gap": null,
            "grid_row": null,
            "grid_template_areas": null,
            "grid_template_columns": null,
            "grid_template_rows": null,
            "height": null,
            "justify_content": null,
            "justify_items": null,
            "left": null,
            "margin": null,
            "max_height": null,
            "max_width": null,
            "min_height": null,
            "min_width": null,
            "object_fit": null,
            "object_position": null,
            "order": null,
            "overflow": null,
            "overflow_x": null,
            "overflow_y": null,
            "padding": null,
            "right": null,
            "top": null,
            "visibility": null,
            "width": null
          }
        },
        "2eea639659fd4e78bda3d0cfda4473bc": {
          "model_module": "@jupyter-widgets/controls",
          "model_name": "DescriptionStyleModel",
          "model_module_version": "1.5.0",
          "state": {
            "_model_module": "@jupyter-widgets/controls",
            "_model_module_version": "1.5.0",
            "_model_name": "DescriptionStyleModel",
            "_view_count": null,
            "_view_module": "@jupyter-widgets/base",
            "_view_module_version": "1.2.0",
            "_view_name": "StyleView",
            "description_width": ""
          }
        }
      }
    }
  },
  "nbformat": 4,
  "nbformat_minor": 0
}