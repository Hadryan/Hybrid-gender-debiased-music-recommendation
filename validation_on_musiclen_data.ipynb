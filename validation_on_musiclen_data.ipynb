{
  "cells": [
    {
      "cell_type": "markdown",
      "metadata": {
        "id": "view-in-github",
        "colab_type": "text"
      },
      "source": [
        "<a href=\"https://colab.research.google.com/github/Katrin-Leberfinger/Hybrid-gender-debiased-music-recommendation/blob/main/validation_on_musiclen_data.ipynb\" target=\"_parent\"><img src=\"https://colab.research.google.com/assets/colab-badge.svg\" alt=\"Open In Colab\"/></a>"
      ]
    },
    {
      "cell_type": "markdown",
      "metadata": {
        "id": "MkBFbi9YA_ys"
      },
      "source": [
        "# Model validations\n",
        "\n",
        "Code Source:\n",
        "https://gist.github.com/shubhamagarwal92/37ccb747f7130a35a8e76aa66d60e014\n",
        "\n",
        "Interesting articles\n",
        "https://mccormickml.com/2019/05/14/BERT-word-embeddings-tutorial/#31-running-bert-on-our-text\n",
        "https://www.kaggle.com/hassanamin/bert-pytorch-cola-classification\n"
      ]
    },
    {
      "cell_type": "code",
      "execution_count": 1,
      "metadata": {
        "colab": {
          "base_uri": "https://localhost:8080/"
        },
        "id": "RWHMmzSHaV4j",
        "outputId": "6f6b2650-4d86-4987-fd8f-9fafa465ff51"
      },
      "outputs": [
        {
          "output_type": "stream",
          "name": "stdout",
          "text": [
            "Collecting transformers\n",
            "  Downloading transformers-4.16.2-py3-none-any.whl (3.5 MB)\n",
            "\u001b[K     |████████████████████████████████| 3.5 MB 8.6 MB/s \n",
            "\u001b[?25hRequirement already satisfied: tqdm>=4.27 in /usr/local/lib/python3.7/dist-packages (from transformers) (4.62.3)\n",
            "Collecting tokenizers!=0.11.3,>=0.10.1\n",
            "  Downloading tokenizers-0.11.5-cp37-cp37m-manylinux_2_12_x86_64.manylinux2010_x86_64.whl (6.8 MB)\n",
            "\u001b[K     |████████████████████████████████| 6.8 MB 83.5 MB/s \n",
            "\u001b[?25hRequirement already satisfied: numpy>=1.17 in /usr/local/lib/python3.7/dist-packages (from transformers) (1.21.5)\n",
            "Requirement already satisfied: packaging>=20.0 in /usr/local/lib/python3.7/dist-packages (from transformers) (21.3)\n",
            "Requirement already satisfied: importlib-metadata in /usr/local/lib/python3.7/dist-packages (from transformers) (4.11.0)\n",
            "Requirement already satisfied: requests in /usr/local/lib/python3.7/dist-packages (from transformers) (2.23.0)\n",
            "Requirement already satisfied: regex!=2019.12.17 in /usr/local/lib/python3.7/dist-packages (from transformers) (2019.12.20)\n",
            "Collecting pyyaml>=5.1\n",
            "  Downloading PyYAML-6.0-cp37-cp37m-manylinux_2_5_x86_64.manylinux1_x86_64.manylinux_2_12_x86_64.manylinux2010_x86_64.whl (596 kB)\n",
            "\u001b[K     |████████████████████████████████| 596 kB 90.1 MB/s \n",
            "\u001b[?25hRequirement already satisfied: filelock in /usr/local/lib/python3.7/dist-packages (from transformers) (3.4.2)\n",
            "Collecting huggingface-hub<1.0,>=0.1.0\n",
            "  Downloading huggingface_hub-0.4.0-py3-none-any.whl (67 kB)\n",
            "\u001b[K     |████████████████████████████████| 67 kB 6.4 MB/s \n",
            "\u001b[?25hCollecting sacremoses\n",
            "  Downloading sacremoses-0.0.47-py2.py3-none-any.whl (895 kB)\n",
            "\u001b[K     |████████████████████████████████| 895 kB 95.6 MB/s \n",
            "\u001b[?25hRequirement already satisfied: typing-extensions>=3.7.4.3 in /usr/local/lib/python3.7/dist-packages (from huggingface-hub<1.0,>=0.1.0->transformers) (3.10.0.2)\n",
            "Requirement already satisfied: pyparsing!=3.0.5,>=2.0.2 in /usr/local/lib/python3.7/dist-packages (from packaging>=20.0->transformers) (3.0.7)\n",
            "Requirement already satisfied: zipp>=0.5 in /usr/local/lib/python3.7/dist-packages (from importlib-metadata->transformers) (3.7.0)\n",
            "Requirement already satisfied: certifi>=2017.4.17 in /usr/local/lib/python3.7/dist-packages (from requests->transformers) (2021.10.8)\n",
            "Requirement already satisfied: urllib3!=1.25.0,!=1.25.1,<1.26,>=1.21.1 in /usr/local/lib/python3.7/dist-packages (from requests->transformers) (1.24.3)\n",
            "Requirement already satisfied: idna<3,>=2.5 in /usr/local/lib/python3.7/dist-packages (from requests->transformers) (2.10)\n",
            "Requirement already satisfied: chardet<4,>=3.0.2 in /usr/local/lib/python3.7/dist-packages (from requests->transformers) (3.0.4)\n",
            "Requirement already satisfied: six in /usr/local/lib/python3.7/dist-packages (from sacremoses->transformers) (1.15.0)\n",
            "Requirement already satisfied: click in /usr/local/lib/python3.7/dist-packages (from sacremoses->transformers) (7.1.2)\n",
            "Requirement already satisfied: joblib in /usr/local/lib/python3.7/dist-packages (from sacremoses->transformers) (1.1.0)\n",
            "Installing collected packages: pyyaml, tokenizers, sacremoses, huggingface-hub, transformers\n",
            "  Attempting uninstall: pyyaml\n",
            "    Found existing installation: PyYAML 3.13\n",
            "    Uninstalling PyYAML-3.13:\n",
            "      Successfully uninstalled PyYAML-3.13\n",
            "Successfully installed huggingface-hub-0.4.0 pyyaml-6.0 sacremoses-0.0.47 tokenizers-0.11.5 transformers-4.16.2\n"
          ]
        }
      ],
      "source": [
        "!pip install transformers"
      ]
    },
    {
      "cell_type": "code",
      "execution_count": 2,
      "metadata": {
        "id": "L9D-5zOmltBw"
      },
      "outputs": [],
      "source": [
        "import torch\n",
        "import numpy as np\n",
        "import torch.nn as nn\n",
        "from torch.autograd import Variable\n",
        "from transformers import BertConfig, BertPreTrainedModel, BertModel, BertForSequenceClassification\n",
        "import pandas as pd\n",
        "import torch\n",
        "from sklearn.model_selection import train_test_split\n",
        "from transformers import BertTokenizer, BertModel, AdamW\n",
        "from torch import nn\n",
        "from transformers import BertModel\n",
        "from sklearn.metrics import f1_score\n",
        "import ast\n"
      ]
    },
    {
      "cell_type": "markdown",
      "metadata": {
        "id": "sXEH2KDKXjCM"
      },
      "source": [
        "# Read Data"
      ]
    },
    {
      "cell_type": "code",
      "execution_count": 3,
      "metadata": {
        "id": "lh1zKzGuXlXM"
      },
      "outputs": [],
      "source": [
        "# data: track_artist -\ttrack_name -\ttrack_tag - track_id\n",
        "\n",
        "def read_items_data(data, id_col, text_col):\n",
        "  items = dict()\n",
        "  item2pos = dict()\n",
        "  pos2item = dict()\n",
        "  token2id = dict()\n",
        "  num_items = 1\n",
        "  num_tokens = 1\n",
        "  max_item_len = 0\n",
        "\n",
        "  for index, row in data.iterrows():\n",
        "    # for each item:\n",
        "    item_id = row[id_col]\n",
        "    item_words = []\n",
        "    item2pos[item_id] = num_items\n",
        "    pos2item[num_items] = item_id\n",
        "    \n",
        "    for word in row[text_col].split(' '): \n",
        "    #  for each word:\n",
        "      try:\n",
        "        token2id[word]\n",
        "      except:\n",
        "        token2id[word] = num_tokens\n",
        "        num_tokens = num_tokens + 1\n",
        "    \n",
        "\n",
        "      item_words.append(token2id[word])\n",
        "\n",
        "    if len(item_words) > max_item_len:\n",
        "        max_item_len = len(item_words)\n",
        "\n",
        "    items[item_id] = item_words\n",
        "    num_items = num_items + 1\n",
        "\n",
        "  return items, item2pos, pos2item, token2id, max_item_len"
      ]
    },
    {
      "cell_type": "code",
      "execution_count": 4,
      "metadata": {
        "id": "4wBsH6CFBrhZ"
      },
      "outputs": [],
      "source": [
        "# data: track_artist -\ttrack_name -\ttrack_tag - track_id\n",
        "# NEW VERSION USING BERT\n",
        "\n",
        "def read_items_data_bert(data, id_col, text_col, max_length=512):\n",
        "  tokenizer = BertTokenizer.from_pretrained('prajjwal1/bert-tiny') \n",
        "  items = torch.Tensor([])\n",
        "  attentions = torch.Tensor([])\n",
        "  item2pos = dict()\n",
        "  pos2item = dict()\n",
        "  token2id = dict()\n",
        "  num_items = 0\n",
        "  num_tokens = 0\n",
        "  max_item_len = 0\n",
        "\n",
        "  for index, row in data.iterrows():\n",
        "    # for each item:\n",
        "    item_id = row[id_col]\n",
        "    item_words = []\n",
        "    item2pos[item_id] = num_items\n",
        "    pos2item[num_items] = item_id\n",
        "\n",
        "\n",
        "    inputs = tokenizer.encode_plus(\n",
        "        row[text_col], \n",
        "        None,\n",
        "        add_special_tokens=True,\n",
        "        max_length = max_length,\n",
        "        pad_to_max_length=True\n",
        "        \n",
        "    )\n",
        "\n",
        "    tokens = inputs[\"input_ids\"]\n",
        "    attention = inputs['attention_mask']\n",
        "    tokens=torch.tensor(tokens, dtype=torch.long).unsqueeze(0)\n",
        "    attention=torch.tensor(attention, dtype=torch.long).unsqueeze(0)\n",
        "\n",
        "    items = torch.concat((items, tokens))\n",
        "    attentions = torch.concat((attentions, attention))\n",
        "    num_items = num_items + 1\n",
        "\n",
        "  return items, attentions, item2pos, pos2item, token2id, max_item_len"
      ]
    },
    {
      "cell_type": "code",
      "execution_count": 5,
      "metadata": {
        "id": "MXu90sp8XmdZ"
      },
      "outputs": [],
      "source": [
        "# data: user_id - item_id - rating\n",
        "# playcount: normalize/ binary (>1:1 or <=1:0)\n",
        "\n",
        "def read_ratings_data(data, item2pos, id_col, rating_col, user_col):\n",
        "    ratings = torch.Tensor(len(data), 3)\n",
        "    user2id = dict()\n",
        "    id2user = dict()\n",
        "    num_users = 0\n",
        "    i = 0\n",
        "    for _, row in data.iterrows():\n",
        "        raw_user = row[user_col] \n",
        "\n",
        "        try:\n",
        "          user2id[raw_user]\n",
        "        except:\n",
        "          user2id[raw_user] = num_users\n",
        "          id2user[num_users] = raw_user\n",
        "          num_users = num_users + 1\n",
        "\n",
        "        user = user2id[raw_user]\n",
        "        item = int(item2pos[row[id_col]]) #track_id\n",
        "        rating = int(row[rating_col]) # count\n",
        "\n",
        "        ratings[i][0] = user\n",
        "        ratings[i][1] = item\n",
        "        ratings[i][2] = rating / data[rating_col].max()\n",
        "        i = i+1\n",
        "\n",
        "\n",
        "    return ratings, user2id, id2user\n"
      ]
    },
    {
      "cell_type": "code",
      "execution_count": 6,
      "metadata": {
        "id": "hONctxsSSuKI"
      },
      "outputs": [],
      "source": [
        "def pad_items_data(items, item2pos, max_item_len):\n",
        "    data = torch.zeros(len(items), max_item_len)\n",
        "\n",
        "    for item_id, tokens in enumerate(items):\n",
        "      token = items[tokens]\n",
        "      for i, t in enumerate(token):\n",
        "        data[item_id,i] = t\n",
        "\n",
        "\n",
        "    return data"
      ]
    },
    {
      "cell_type": "code",
      "execution_count": 7,
      "metadata": {
        "colab": {
          "base_uri": "https://localhost:8080/"
        },
        "id": "GzTFm7XWXmXv",
        "outputId": "2f5dfc32-6c6b-4771-93b9-40d22860ac01"
      },
      "outputs": [
        {
          "output_type": "stream",
          "name": "stdout",
          "text": [
            "Mounted at /content/drive\n"
          ]
        }
      ],
      "source": [
        "from google.colab import drive\n",
        "drive.mount('/content/drive')"
      ]
    },
    {
      "cell_type": "code",
      "execution_count": 8,
      "metadata": {
        "colab": {
          "base_uri": "https://localhost:8080/"
        },
        "id": "iWWKtwJxXmQC",
        "outputId": "a8b7a924-9430-471c-a3eb-e45a198d573b"
      },
      "outputs": [
        {
          "output_type": "stream",
          "name": "stdout",
          "text": [
            "/content/drive/MyDrive/Master Thesis/data\n"
          ]
        }
      ],
      "source": [
        "%cd /content/drive/MyDrive/Master\\ Thesis/data"
      ]
    },
    {
      "cell_type": "markdown",
      "metadata": {
        "id": "EFx4YTh70Zik"
      },
      "source": [
        "## Read Data: MovieLen"
      ]
    },
    {
      "cell_type": "code",
      "execution_count": 9,
      "metadata": {
        "id": "G6cBGKTw0gaR"
      },
      "outputs": [],
      "source": [
        "data_movies = pd.read_csv(\"movies/movies_abstracts.csv\").drop(['Unnamed: 0'],axis=1).dropna()\n",
        "data_interaction = pd.read_csv(\"movies/ratings.csv\").drop(['timestamp'],axis=1)\n",
        "\n",
        "data_movies = pd.merge(data_movies, data_interaction[['movieId']], 'inner').drop_duplicates()\n",
        "data_interaction = pd.merge(data_interaction, data_movies[['movieId']], 'inner')\n",
        "\n",
        "rating_col = 'rating'\n",
        "item_col = 'movieId'\n",
        "user_col = 'userId'\n",
        "text_col = 'abstract'\n",
        "data_items_eval = data_movies\n",
        "\n",
        "data_interaction.loc[data_interaction.rating<4., 'rating'] = 0.\n",
        "data_interaction.loc[data_interaction.rating>=4., 'rating'] = 1."
      ]
    },
    {
      "cell_type": "markdown",
      "metadata": {
        "id": "Vf103qDF0cNv"
      },
      "source": [
        "## Read Data: Lyrics "
      ]
    },
    {
      "cell_type": "code",
      "execution_count": 10,
      "metadata": {
        "id": "lTSGXhgqhfXI"
      },
      "outputs": [],
      "source": [
        "# data_tracks_lyrics = pd.read_csv(\"music/data_tracks_lyrics.txt\", sep=\"\\t\").drop(['Unnamed: 0'],axis=1).dropna()\n",
        "# data_tracks_tags_lyrics = pd.read_csv(\"music/data_tracks_tags_lyrics.txt\", sep=\"\\t\").drop(['Unnamed: 0'],axis=1).dropna()\n",
        "# #data_tracks_tags_lyrics=data_tracks_tags_lyrics.iloc[:-1,:]\n",
        "# data_interaction = pd.read_csv(\"music/data_user_track_interaction.txt\", sep=\"\\t\").drop(['Unnamed: 0'],axis=1)\n",
        "# data_user = pd.read_csv(\"music/data_user.txt\", sep=\"\\t\").drop(['Unnamed: 0'],axis=1)\n",
        "\n",
        "# data_interaction.loc[data_interaction['count']<2., 'count'] = 0.\n",
        "# data_interaction.loc[data_interaction['count']>=2., 'count'] = 1.\n",
        "\n",
        "# rating_col = 'count'\n",
        "# item_col = 'track_id'\n",
        "# user_col = 'user_id'\n",
        "# text_col = 'tags'\n",
        "# data_items_eval = data_tracks_tags_lyrics"
      ]
    },
    {
      "cell_type": "code",
      "source": [
        "# import random\n",
        "# selected_user = random.sample(list(data_interaction.user_id.unique()), 1000)\n",
        "# data_interaction = data_interaction.loc[data_interaction.user_id.isin(selected_user)]"
      ],
      "metadata": {
        "id": "g7trIWVG6xUY"
      },
      "execution_count": 11,
      "outputs": []
    },
    {
      "cell_type": "code",
      "source": [
        "l = 0\n",
        "i = 0\n",
        "for d in data_items_eval[text_col]:\n",
        "  l = l+ len(d.split())\n",
        "  i = i+1\n",
        "l/i"
      ],
      "metadata": {
        "id": "lugVF1PfY4Gt",
        "outputId": "1511deba-1c28-4d1e-d3c8-876f32e8153d",
        "colab": {
          "base_uri": "https://localhost:8080/"
        }
      },
      "execution_count": 12,
      "outputs": [
        {
          "output_type": "execute_result",
          "data": {
            "text/plain": [
              "115.02414486921529"
            ]
          },
          "metadata": {},
          "execution_count": 12
        }
      ]
    },
    {
      "cell_type": "markdown",
      "source": [
        "## CV and balance data set"
      ],
      "metadata": {
        "id": "ylBY96MuqFyc"
      }
    },
    {
      "cell_type": "code",
      "source": [
        "data_interaction['fold'] = np.random.randint(1, 6, data_interaction.shape[0])\n",
        "\n",
        "import random\n",
        "random.seed(123)\n",
        "idx = []\n",
        "for _,df in data_interaction.groupby('fold'):\n",
        "  len_pos = len(df[df[rating_col]==1])\n",
        "  len_neg = len(df[df[rating_col]==0])\n",
        "  if len_pos < len_neg:\n",
        "    df = df[df[rating_col]==0].sample(len_pos).append(df[df[rating_col]==1])\n",
        "  elif len_pos > len_neg:\n",
        "    df = df[df[rating_col]==1].sample(len_pos).append(df[df[rating_col]==0])\n",
        "  idx.extend(df.index.values.tolist())\n",
        "\n",
        "test_fold = 1\n",
        "\n",
        "data_interaction_train = data_interaction.loc[data_interaction.fold != test_fold, [user_col, item_col, rating_col]]\n",
        "data_interaction_test = data_interaction.loc[data_interaction.fold == test_fold, [user_col, item_col, rating_col]]"
      ],
      "metadata": {
        "id": "MR65uPJ6qE9R"
      },
      "execution_count": 13,
      "outputs": []
    },
    {
      "cell_type": "markdown",
      "metadata": {
        "id": "H1VnHcVWBFIP"
      },
      "source": [
        "# Ask Me Anything Rating\n",
        "\n",
        "Code source: https://github.com/nlp-deepcbrs/amar"
      ]
    },
    {
      "cell_type": "markdown",
      "metadata": {
        "id": "rbf_Xg4sE_gu"
      },
      "source": [
        "## **BERT Model**"
      ]
    },
    {
      "cell_type": "code",
      "execution_count": 14,
      "metadata": {
        "colab": {
          "base_uri": "https://localhost:8080/",
          "height": 153,
          "referenced_widgets": [
            "ccd2c5d5cece429da651d2cee32147c5",
            "ef2a8d95cd244b20a1170e9f811947e1",
            "5be48dc25d1040a78fd9a6a4419581df",
            "a1e014c509d3427e99942435718a1999",
            "6efa8916c122420f86ab1b4004af2d1c",
            "a1de07bcfe5b4c1798c96a1af4aaaa26",
            "cdf15b44f7204946ac00764f2b48bc0e",
            "c8f4d5c621044919a595ccfc54879ea4",
            "79cd02e7668145aa91cf1ec507efe7f4",
            "4b0debaf179240a5a8af535676e1c87a",
            "ff8fd87bf5854ef484c3a9fd10b2030f",
            "06bf9d5294ed4ce999281bf72cf16f39",
            "ee5a04c92fc04b3789b39193446d8ff3",
            "8ad1a3933cc0481abcaaf43d6d0862df",
            "02d860ca327b4ee78b38e344c62c6164",
            "7c43d052d04c4769bbe7ba6d5bd6e8b2",
            "0f64f795245845ad9c7d1223694d7deb",
            "6828bcf17e774fcda96bdb6e5850f474",
            "946c43b1ca7b4956b5f9e5be4de4fce4",
            "264af716ac4044d18ad770a354d00184",
            "a0127b2b9a664a80a39675ddf709cec1",
            "6d5fb0d514d543a9b003fe15dca06837"
          ]
        },
        "id": "VrDzG95DcA_8",
        "outputId": "44c46133-7beb-4161-c1bc-08a8654b6286"
      },
      "outputs": [
        {
          "output_type": "display_data",
          "data": {
            "application/vnd.jupyter.widget-view+json": {
              "model_id": "ccd2c5d5cece429da651d2cee32147c5",
              "version_minor": 0,
              "version_major": 2
            },
            "text/plain": [
              "Downloading:   0%|          | 0.00/226k [00:00<?, ?B/s]"
            ]
          },
          "metadata": {}
        },
        {
          "output_type": "display_data",
          "data": {
            "application/vnd.jupyter.widget-view+json": {
              "model_id": "06bf9d5294ed4ce999281bf72cf16f39",
              "version_minor": 0,
              "version_major": 2
            },
            "text/plain": [
              "Downloading:   0%|          | 0.00/285 [00:00<?, ?B/s]"
            ]
          },
          "metadata": {}
        },
        {
          "output_type": "stream",
          "name": "stderr",
          "text": [
            "Truncation was not explicitly activated but `max_length` is provided a specific value, please use `truncation=True` to explicitly truncate examples to max length. Defaulting to 'longest_first' truncation strategy. If you encode pairs of sequences (GLUE-style) with the tokenizer you can select this strategy more precisely by providing a specific strategy to `truncation`.\n",
            "/usr/local/lib/python3.7/dist-packages/transformers/tokenization_utils_base.py:2257: FutureWarning: The `pad_to_max_length` argument is deprecated and will be removed in a future version, use `padding=True` or `padding='longest'` to pad to the longest sequence in the batch, or use `padding='max_length'` to pad to a max length. In this case, you can give a specific length with `max_length` (e.g. `max_length=45`) or leave max_length to None to pad to the maximal input size of the model (e.g. 512 for Bert).\n",
            "  FutureWarning,\n"
          ]
        }
      ],
      "source": [
        "items, attentions, item2pos, pos2item, token2id, max_item_len = read_items_data_bert(data_items_eval, item_col, text_col, 128)\n",
        "ratings_train, user2id_train, id2user_train = read_ratings_data(data_interaction_train, item2pos,  item_col, rating_col, user_col)\n",
        "\n",
        "ratings_test, user2id_test, id2user_test = read_ratings_data(data_interaction_test, item2pos,  item_col, rating_col, user_col)"
      ]
    },
    {
      "cell_type": "code",
      "execution_count": 77,
      "metadata": {
        "id": "GHWjCxuHb6cX"
      },
      "outputs": [],
      "source": [
        "class AMARBert(nn.Module):\n",
        "    def __init__(self, hidden_dense_layer_size, item_embeddings_size, num_users):\n",
        "        super(AMARBert, self).__init__()\n",
        "        #self.model1_layer2 = BertModel.from_pretrained('prajjwal1/bert-tiny')#('bert-base-uncased')\n",
        "        self.model1_layer2 = BertModel.from_pretrained('prajjwal1/bert-tiny')\n",
        "        self.model1_layer3 = nn.Dropout(p=0.2)\n",
        "\n",
        "        self.model2_layer1 = nn.Embedding(num_users, user_embeddings_size)\n",
        "        \n",
        "        self.linear = nn.Linear(hidden_dense_layer_size, 1)\n",
        "        self.sigmoid = nn.Sigmoid()\n",
        "        \n",
        "    def forward(self, x):\n",
        "        #_, y1 = self.model1_layer2(x[0], attention_mask = x[2],  return_dict=False)\n",
        "        output, y1 = self.model1_layer2(x[0],  return_dict=False)\n",
        "        #y1 = output[:, 0, :]\n",
        "        # pooled_output (=y1) is the output of the CLS token\n",
        "        # \"Since BERT is transformer based contextual model, the idea is [CLS] token would have captured the entire context and would be sufficient for simple downstream tasks such as classification.\"\n",
        "        # https://stackoverflow.com/questions/63673511/how-to-use-the-outputs-of-bert-model?rq=1\n",
        "        # https://towardsdatascience.com/bert-to-the-rescue-17671379687f\n",
        "        #y1 = self.model1_layer3(y1)\n",
        "        \n",
        "        y2 = self.model2_layer1(x[1])\n",
        "\n",
        "        y = torch.cat([y1, y2], 1)\n",
        "        y = self.linear(y)\n",
        "        return self.sigmoid(y)"
      ]
    },
    {
      "cell_type": "code",
      "execution_count": 78,
      "metadata": {
        "colab": {
          "base_uri": "https://localhost:8080/"
        },
        "id": "OJdsCzCuqzHQ",
        "outputId": "bf9be920-48d4-412e-9275-3ba640aa8d19"
      },
      "outputs": [
        {
          "output_type": "stream",
          "name": "stderr",
          "text": [
            "Some weights of the model checkpoint at prajjwal1/bert-tiny were not used when initializing BertModel: ['cls.predictions.transform.LayerNorm.weight', 'cls.seq_relationship.weight', 'cls.predictions.decoder.bias', 'cls.predictions.transform.LayerNorm.bias', 'cls.predictions.bias', 'cls.seq_relationship.bias', 'cls.predictions.transform.dense.weight', 'cls.predictions.transform.dense.bias', 'cls.predictions.decoder.weight']\n",
            "- This IS expected if you are initializing BertModel from the checkpoint of a model trained on another task or with another architecture (e.g. initializing a BertForSequenceClassification model from a BertForPreTraining model).\n",
            "- This IS NOT expected if you are initializing BertModel from the checkpoint of a model that you expect to be exactly identical (initializing a BertForSequenceClassification model from a BertForSequenceClassification model).\n"
          ]
        }
      ],
      "source": [
        "# Params: items_data, ratings_data, genres_data\n",
        "device = 'cuda'\n",
        "\n",
        "import numpy as np\n",
        "num_examples=ratings_train.size(0)\n",
        "item_embeddings_size = 128\n",
        "user_embeddings_size = 100\n",
        "genre_embeddings_size = 128\n",
        "hidden_dense_layer_size = item_embeddings_size + user_embeddings_size\n",
        "num_tokens = 128\n",
        "num_users = len(data_interaction[user_col].drop_duplicates())\n",
        "\n",
        "model = AMARBert(hidden_dense_layer_size, user_embeddings_size, num_users)"
      ]
    },
    {
      "cell_type": "code",
      "execution_count": 79,
      "metadata": {
        "id": "Vnqy-3XBqQ6p",
        "colab": {
          "base_uri": "https://localhost:8080/"
        },
        "outputId": "277a7e9f-a8da-4900-8855-b7b037a5d6a0"
      },
      "outputs": [
        {
          "output_type": "stream",
          "name": "stderr",
          "text": [
            "/usr/local/lib/python3.7/dist-packages/transformers/optimization.py:309: FutureWarning: This implementation of AdamW is deprecated and will be removed in a future version. Use thePyTorch implementation torch.optim.AdamW instead, or set `no_deprecation_warning=True` to disable this warning\n",
            "  FutureWarning,\n"
          ]
        },
        {
          "output_type": "stream",
          "name": "stdout",
          "text": [
            "Average cost per epoch:  tensor(0.6949, grad_fn=<DivBackward0>)\n",
            "Average cost per epoch:  tensor(0.6932, grad_fn=<DivBackward0>)\n",
            "Average cost per epoch:  tensor(0.6931, grad_fn=<DivBackward0>)\n",
            "Average cost per epoch:  tensor(0.6931, grad_fn=<DivBackward0>)\n",
            "Average cost per epoch:  tensor(0.6931, grad_fn=<DivBackward0>)\n"
          ]
        }
      ],
      "source": [
        "from transformers import get_linear_schedule_with_warmup\n",
        "criterion = nn.BCEWithLogitsLoss() \n",
        "# # https://huggingface.co/transformers/v1.0.0/migration.html\n",
        "lr = 1e-3\n",
        "num_total_steps = 1000\n",
        "num_warmup_steps = 100\n",
        "warmup_proportion = float(num_warmup_steps) / float(num_total_steps)  \n",
        "optimizer = AdamW(model.parameters(), lr=lr, correct_bias=False)  \n",
        "#optimizer = torch.optim.Adam(model.parameters(), lr=0.0001)\n",
        "\n",
        "scheduler = get_linear_schedule_with_warmup(\n",
        "   optimizer,\n",
        "   num_warmup_steps=num_warmup_steps,\n",
        "   num_training_steps=num_total_steps\n",
        ")\n",
        "\n",
        "\n",
        "num_epochs=5\n",
        "batch_size=256 \n",
        "#batch_size=32\n",
        "num_examples=ratings_train.shape[0]\n",
        "\n",
        "cost_per_epoch = []\n",
        "\n",
        "for e in range(num_epochs):\n",
        "    # shuffle and split training examples in batches\n",
        "    indices = torch.randperm(num_examples).split(batch_size)\n",
        "\n",
        "    #remove last element so that all the batches have equal size\n",
        "    indices = indices[:len(indices)-1] \n",
        "\n",
        "    average_cost = 0\n",
        "\n",
        "    for t, v in enumerate(indices):\n",
        "        #items positions\n",
        "        curr_items_ids_batch = ratings_train[v, 1]\n",
        "\n",
        "        # items descriptions\n",
        "        curr_items_batch = items[curr_items_ids_batch.numpy(),:].to(device)\n",
        "        curr_attentions_batch = attentions[curr_items_ids_batch.numpy(),:].to(device)\n",
        "        \n",
        "        # users ids\n",
        "        curr_users_batch = ratings_train[v, 0].to(device)\n",
        "\n",
        "        # model inputs\n",
        "        inputs = [ curr_items_batch.type(torch.LongTensor), curr_users_batch.type(torch.LongTensor), curr_attentions_batch.type(torch.LongTensor)]\n",
        "\n",
        "        # model targets\n",
        "        targets = ratings_train[v, 2]\n",
        "\n",
        "        # callback that does a single batch optimization step\n",
        "        optimizer.zero_grad()\n",
        "\n",
        "        # backward propagation\n",
        "        outputs = model(inputs)\n",
        "        \n",
        "      \n",
        "        outputs = outputs.reshape(-1,)\n",
        "        loss = criterion(outputs, targets)\n",
        "        loss.backward()\n",
        "        optimizer.step()\n",
        "        scheduler.step()\n",
        "        \n",
        "        # evaluate current loss function value\n",
        "        average_cost = average_cost + loss\n",
        "        \n",
        "\n",
        "    # evaluate average cost per epoch\n",
        "    average_cost = average_cost / len(indices)\n",
        "    cost_per_epoch.append(average_cost)\n",
        "    print(\"Average cost per epoch: \", average_cost)\n"
      ]
    },
    {
      "cell_type": "code",
      "source": [
        "outputs.max()"
      ],
      "metadata": {
        "id": "oJahCS4st51Q",
        "outputId": "83452a99-882d-471f-a26f-691a92eba5dc",
        "colab": {
          "base_uri": "https://localhost:8080/"
        }
      },
      "execution_count": 81,
      "outputs": [
        {
          "output_type": "execute_result",
          "data": {
            "text/plain": [
              "tensor(0.0059, grad_fn=<MaxBackward1>)"
            ]
          },
          "metadata": {},
          "execution_count": 81
        }
      ]
    },
    {
      "cell_type": "markdown",
      "metadata": {
        "id": "SH1Njid6OwL8"
      },
      "source": [
        "## **BERT**: Get predictions"
      ]
    },
    {
      "cell_type": "code",
      "execution_count": 74,
      "metadata": {
        "id": "IXOMsdEcOvQ2"
      },
      "outputs": [],
      "source": [
        "indices = torch.arange(0, ratings_test.shape[0]).split(1)\n",
        "predictions = {}\n",
        "feature_vectors = {}\n",
        "weights = {}\n",
        "\n",
        "indices = indices[:len(indices)-1] \n",
        "\n",
        "for t, v in enumerate(indices):\n",
        "\n",
        "  curr_items_ids_batch = ratings_test[v.numpy(), 1]\n",
        "\n",
        "  curr_items_batch = items[curr_items_ids_batch.numpy(),:].to(device)\n",
        "  curr_attentions_batch = attentions[curr_items_ids_batch.numpy(),:].to(device)\n",
        "\n",
        "  curr_users_batch = ratings_test[v.numpy(), 0].to(device)\n",
        "\n",
        "  inputs = [ curr_items_batch.type(torch.LongTensor), curr_users_batch.type(torch.LongTensor), curr_attentions_batch.type(torch.LongTensor)]\n",
        "  \n",
        "\n",
        "  targets = model(inputs)\n",
        "\n",
        "  \n",
        "\n",
        "  # save prediction for each user\n",
        "  real_user_id = id2user_test[curr_users_batch[0].item()]\n",
        "  \n",
        "  try:\n",
        "    predictions[real_user_id] \n",
        "  except:\n",
        "    predictions[real_user_id] = []\n",
        "\n",
        "  predictions[real_user_id].append([pos2item[curr_items_ids_batch.item()], \n",
        "                                    targets[0].item()])\n",
        "  \n",
        "        \n",
        "\n"
      ]
    },
    {
      "cell_type": "code",
      "execution_count": 75,
      "metadata": {
        "id": "epmQfDr0Vvzc"
      },
      "outputs": [],
      "source": [
        "topn=10\n",
        "results = []\n",
        "results_df = pd.DataFrame(columns = [user_col, item_col, rating_col])\n",
        "\n",
        "for user in predictions:\n",
        "    item_list = []\n",
        "    user_prediction = predictions[user]\n",
        "\n",
        "    user_prediction = sorted(user_prediction,key=lambda x: (x[1]), reverse=True)\n",
        "    n = 1\n",
        "    for item, rating in user_prediction:\n",
        "        if item  not in item_list:\n",
        "          item_list.append(item)\n",
        "          results_df = pd.concat((results_df, pd.DataFrame(data={user_col:[user],item_col:[item],rating_col:[rating]})))\n",
        "          results.append([user, item, rating])\n",
        "          if n >= topn:\n",
        "              break\n",
        "          n = n + 1"
      ]
    },
    {
      "cell_type": "markdown",
      "metadata": {
        "id": "Z2mh40ShE7vz"
      },
      "source": [
        "## Models from AMAR paper **SeqLSTM**"
      ]
    },
    {
      "cell_type": "code",
      "execution_count": null,
      "metadata": {
        "id": "7mdKz_-bcDqp"
      },
      "outputs": [],
      "source": [
        "items, item2pos, pos2item, token2id, max_item_len = read_items_data(data_items_eval, item_col, text_col)\n",
        "items = pad_items_data(items, item2pos, max_item_len)\n",
        "\n",
        "ratings, user2id_train, id2user_train = read_ratings_data(data_interaction_train, item2pos,  item_col, rating_col, user_col)\n",
        "\n",
        "ratings_test, user2id_test, id2user_test = read_ratings_data(data_interaction_test, item2pos, item_col, rating_col, user_col)"
      ]
    },
    {
      "cell_type": "code",
      "execution_count": null,
      "metadata": {
        "id": "9PctgDxD2CAr"
      },
      "outputs": [],
      "source": [
        "class AMARSeqLSTM(nn.Module):\n",
        "    def __init__(self, hidden_dense_layer_size, num_tokens, item_embeddings_size, num_users):\n",
        "        super(AMARSeqLSTM, self).__init__()\n",
        "        self.model1_layer1 = nn.EmbeddingBag(num_tokens + 1, item_embeddings_size)\n",
        "        self.model1_layer2 = nn.LSTM(input_size=item_embeddings_size, hidden_size= item_embeddings_size*2,\n",
        "                                num_layers=5, dropout=0.2, batch_first=True)\n",
        "        self.model1_layer3 = nn.AvgPool1d(2) \n",
        "\n",
        "        self.model2_layer1 = nn.Embedding(num_users, user_embeddings_size)\n",
        "        \n",
        "        self.linear = nn.Linear(hidden_dense_layer_size, 1)\n",
        "        self.sigmoid = nn.Sigmoid()\n",
        "        \n",
        "    def forward(self,x):\n",
        "        y1 = self.model1_layer1(x[0].type(torch.LongTensor))\n",
        "        y1, (h, c)  = self.model1_layer2(y1.reshape(y1.shape[0], 1, y1.shape[1]))\n",
        "        y1 = self.model1_layer3(y1)\n",
        "        y1 = y1.reshape(y1.shape[0], y1.shape[-1])\n",
        "        \n",
        "        y2 = self.model2_layer1(x[1])\n",
        "        y = torch.cat([y1, y2], 1)\n",
        "        y = self.linear(y)\n",
        "        return self.sigmoid(y)\n",
        "        "
      ]
    },
    {
      "cell_type": "code",
      "execution_count": null,
      "metadata": {
        "id": "z_DhmDbMBNuY"
      },
      "outputs": [],
      "source": [
        "# Params: items_data, ratings_data, genres_data, batch_size\n",
        "device = 'cuda'\n",
        "\n",
        "import numpy as np\n",
        "num_examples=ratings.size(0)\n",
        "item_embeddings_size = 128\n",
        "user_embeddings_size = 10\n",
        "genre_embeddings_size = 128\n",
        "hidden_dense_layer_size = item_embeddings_size + user_embeddings_size\n",
        "num_tokens = len(token2id)\n",
        "num_users = len(data_interaction[user_col].drop_duplicates())\n",
        "\n",
        "# ADD genre and tags\n",
        "\n",
        "model = AMARSeqLSTM( hidden_dense_layer_size, num_tokens, item_embeddings_size, num_users)"
      ]
    },
    {
      "cell_type": "markdown",
      "metadata": {
        "id": "CmYv23UnZ0Dz"
      },
      "source": [
        "## Train model"
      ]
    },
    {
      "cell_type": "code",
      "execution_count": null,
      "metadata": {
        "colab": {
          "base_uri": "https://localhost:8080/"
        },
        "id": "De6UsBemBNps",
        "outputId": "1c4d5921-e17d-41fd-d9fe-c69484d38d5d"
      },
      "outputs": [
        {
          "output_type": "stream",
          "name": "stdout",
          "text": [
            "Average cost per epoch:  tensor(0.6952, grad_fn=<DivBackward0>)\n",
            "Average cost per epoch:  tensor(0.6911, grad_fn=<DivBackward0>)\n",
            "Average cost per epoch:  tensor(0.6865, grad_fn=<DivBackward0>)\n",
            "Average cost per epoch:  tensor(0.6836, grad_fn=<DivBackward0>)\n",
            "Average cost per epoch:  tensor(0.6827, grad_fn=<DivBackward0>)\n"
          ]
        }
      ],
      "source": [
        "criterion = nn.BCEWithLogitsLoss() \n",
        "#criterion = nn.MSELoss()\n",
        "#criterion = nn.BCEWithLogitsLoss()\n",
        "#optimizer = torch.optim.SGD(model.parameters(), lr=0.001, momentum=0.9)\n",
        "optimizer = torch.optim.Adam(model.parameters(), lr=0.0001)\n",
        "\n",
        "# remove later\n",
        "ratings = ratings[ratings[:,1]<len(items),]\n",
        "ratings = ratings[ratings[:,0]<num_users,]\n",
        "\n",
        "num_epochs=5\n",
        "#batch_size=256 \n",
        "batch_size=32\n",
        "num_examples=ratings.shape[0]\n",
        "\n",
        "cost_per_epoch = []\n",
        "\n",
        "for e in range(num_epochs):\n",
        "    # shuffle and split training examples in batches\n",
        "    indices = torch.randperm(num_examples).split(batch_size)\n",
        "\n",
        "    #remove last element so that all the batches have equal size\n",
        "    indices = indices[:len(indices)-1] \n",
        "\n",
        "    average_cost = 0\n",
        "\n",
        "    for t, v in enumerate(indices):\n",
        "        #items positions\n",
        "        curr_items_ids_batch = ratings_train[v, 1]\n",
        "\n",
        "        # items descriptions\n",
        "        curr_items_batch = items[curr_items_ids_batch.numpy(),:].to(device)\n",
        "        \n",
        "        # users ids\n",
        "        curr_users_batch = ratings_train[v, 0].to(device)\n",
        "\n",
        "        # model inputs\n",
        "        inputs = [ curr_items_batch.type(torch.LongTensor), curr_users_batch.type(torch.LongTensor)]\n",
        "\n",
        "        # model targets\n",
        "        targets = ratings_train[v, 2]\n",
        "\n",
        "        # callback that does a single batch optimization step\n",
        "        optimizer.zero_grad()\n",
        "\n",
        "        # backward propagation\n",
        "        outputs = model(inputs).reshape(-1,)\n",
        "        loss = criterion(outputs, targets)\n",
        "        loss.backward()\n",
        "        optimizer.step()\n",
        "\n",
        "        # evaluate current loss function value\n",
        "        average_cost = average_cost + loss\n",
        "        \n",
        "\n",
        "    # evaluate average cost per epoch\n",
        "    average_cost = average_cost / len(indices)\n",
        "    cost_per_epoch.append(average_cost)\n",
        "    print(\"Average cost per epoch: \", average_cost)\n"
      ]
    },
    {
      "cell_type": "markdown",
      "metadata": {
        "id": "anLiyjhSZ2Jg"
      },
      "source": [
        "## **SeqLSTM**: Get predictions"
      ]
    },
    {
      "cell_type": "code",
      "execution_count": null,
      "metadata": {
        "id": "37UaYOzc_lsn"
      },
      "outputs": [],
      "source": [
        "# Version from github\n",
        "\n",
        "# remove later\n",
        "#ratings_test = ratings_test[ratings_test[:,1]<len(items),]\n",
        "#ratings_test = ratings_test[ratings_test[:,0]<num_users,]\n",
        "topn = 10\n",
        "\n",
        "indices = torch.arange(0, ratings_test.shape[0]).split(batch_size)\n",
        "predictions = {}\n",
        "\n",
        "indices = indices[:len(indices)-1] \n",
        "\n",
        "for t, v in enumerate(indices):\n",
        "\n",
        "  curr_items_ids_batch = ratings_test[v.numpy(), 1]\n",
        "\n",
        "  curr_items_batch = items[curr_items_ids_batch.numpy(),:].to(device)\n",
        "\n",
        "  curr_users_batch = ratings_test[v.numpy(), 0].to(device)\n",
        "\n",
        "  inputs = [ curr_items_batch.type(torch.LongTensor), curr_users_batch.type(torch.LongTensor)]\n",
        "  \n",
        "  #if t == len(indices):\n",
        "  #  last_batch_size = v.shape[0]\n",
        "  #  curr_users_batch = torch.cat(curr_users_batch, torch.zeros(batch_size-v.shape[0], 0).to(device), 0)\n",
        "  #  curr_items_batch = torch.cat(curr_items_batch, torch.zeros(batch_size-v.shape[0], max_item_len).to(device), 0)\n",
        "\n",
        "\n",
        "  targets = model(inputs)\n",
        "\n",
        "  # save prediction for each user\n",
        "\n",
        "  for index in range(targets.shape[0]):\n",
        "      real_user_id = id2user_test[curr_users_batch[index].item()]\n",
        "      try:\n",
        "         predictions[real_user_id] \n",
        "      except:\n",
        "        predictions[real_user_id] = []\n",
        "      predictions[real_user_id].append([pos2item[curr_items_ids_batch[index].item()], \n",
        "                                       targets[index].item()])\n",
        "      \n",
        "\n",
        "\n"
      ]
    },
    {
      "cell_type": "code",
      "source": [
        "# # New version\n",
        "\n",
        "\n",
        "# indices = ratings_test[:,0].unique()\n",
        "# predictions = {}\n",
        "\n",
        "# for curr_users_batch in indices:\n",
        "\n",
        "#   curr_users_batch = curr_users_batch.to(device).reshape(1,)\n",
        "#  # indices_items = ratings_test[ratings_test[:,0] == curr_users_batch.item()][:,1].unique()\n",
        "#   indices_items = ratings_test[:,1].unique()\n",
        "#   for curr_items_ids_batch in indices_items:\n",
        "    \n",
        "#     curr_items_ids_batch = int(curr_items_ids_batch.item())\n",
        "\n",
        "#     curr_items_batch = items[curr_items_ids_batch,:].to(device).reshape(1,-1)\n",
        "\n",
        "    \n",
        "#     inputs = [ curr_items_batch.type(torch.LongTensor), curr_users_batch.type(torch.LongTensor)]\n",
        "    \n",
        "#     outputs = model(inputs).reshape(-1,)\n",
        "#     item_list = []\n",
        "\n",
        "#     real_user_id = id2user_test[curr_users_batch[0].item()]\n",
        "    \n",
        "#     try:\n",
        "#       predictions[real_user_id] \n",
        "#     except:\n",
        "#       predictions[real_user_id] = []\n",
        "\n",
        "#     predictions[real_user_id].append([pos2item[curr_items_ids_batch], \n",
        "#                                       outputs[0].item()])\n",
        "        \n",
        "\n",
        "\n"
      ],
      "metadata": {
        "id": "LAkiUftJ8W7T"
      },
      "execution_count": null,
      "outputs": []
    },
    {
      "cell_type": "code",
      "execution_count": null,
      "metadata": {
        "id": "Mxjg0mbcVse0"
      },
      "outputs": [],
      "source": [
        "results = []\n",
        "results_df = pd.DataFrame(columns = [user_col, item_col, rating_col])\n",
        "\n",
        "for user in predictions:\n",
        "    user_prediction = predictions[user]\n",
        "\n",
        "    user_prediction = sorted(user_prediction,key=lambda x: (x[1]), reverse=True)\n",
        "    n = 1\n",
        "    for item, rating in user_prediction:\n",
        "        results_df = pd.concat((results_df, pd.DataFrame(data={user_col:[user],item_col:[item],rating_col:[rating]})))\n",
        "        results.append([user, item, rating])\n",
        "        if n >= topn:\n",
        "            break\n",
        "        n = n + 1"
      ]
    },
    {
      "cell_type": "markdown",
      "metadata": {
        "id": "vxT5OGjKMDi7"
      },
      "source": [
        "## **Most Popular**: Get Predictions\n",
        "\n",
        "https://www.kaggle.com/gspmoreira/recommender-systems-in-python-101#Popularity-model"
      ]
    },
    {
      "cell_type": "code",
      "source": [
        "topn = 10\n",
        "\n",
        "item_popularity_df = data_interaction.groupby(item_col)[rating_col].sum().sort_values(ascending=False).reset_index()\n",
        "\n",
        "predictions = {}\n",
        "\n",
        "for real_user_id in data_interaction_test.userId:\n",
        "    predictions[real_user_id] = []\n",
        "    items_to_ignore = data_interaction_train[data_interaction_train[user_col] == real_user_id]['movieId'].values\n",
        "    item_popularity_df_user = item_popularity_df[~item_popularity_df[item_col].isin(items_to_ignore)]\n",
        "    predictions[real_user_id].append(item_popularity_df_user.head(topn)[item_col].values.tolist())\n",
        "      "
      ],
      "metadata": {
        "colab": {
          "base_uri": "https://localhost:8080/"
        },
        "id": "s6385-rmtpov",
        "outputId": "dde0ab8b-dd3d-4705-9f5f-8da7a6ecb773"
      },
      "execution_count": null,
      "outputs": [
        {
          "output_type": "error",
          "ename": "KeyboardInterrupt",
          "evalue": "ignored",
          "traceback": [
            "\u001b[0;31m---------------------------------------------------------------------------\u001b[0m",
            "\u001b[0;31mKeyboardInterrupt\u001b[0m                         Traceback (most recent call last)",
            "\u001b[0;32m<ipython-input-251-6d651b8a619b>\u001b[0m in \u001b[0;36m<module>\u001b[0;34m()\u001b[0m\n\u001b[1;32m      8\u001b[0m     \u001b[0mpredictions\u001b[0m\u001b[0;34m[\u001b[0m\u001b[0mreal_user_id\u001b[0m\u001b[0;34m]\u001b[0m \u001b[0;34m=\u001b[0m \u001b[0;34m[\u001b[0m\u001b[0;34m]\u001b[0m\u001b[0;34m\u001b[0m\u001b[0;34m\u001b[0m\u001b[0m\n\u001b[1;32m      9\u001b[0m     \u001b[0mitems_to_ignore\u001b[0m \u001b[0;34m=\u001b[0m \u001b[0mdata_interaction_train\u001b[0m\u001b[0;34m[\u001b[0m\u001b[0mdata_interaction_train\u001b[0m\u001b[0;34m[\u001b[0m\u001b[0muser_col\u001b[0m\u001b[0;34m]\u001b[0m \u001b[0;34m==\u001b[0m \u001b[0mreal_user_id\u001b[0m\u001b[0;34m]\u001b[0m\u001b[0;34m[\u001b[0m\u001b[0;34m'movieId'\u001b[0m\u001b[0;34m]\u001b[0m\u001b[0;34m.\u001b[0m\u001b[0mvalues\u001b[0m\u001b[0;34m\u001b[0m\u001b[0;34m\u001b[0m\u001b[0m\n\u001b[0;32m---> 10\u001b[0;31m     \u001b[0mitem_popularity_df_user\u001b[0m \u001b[0;34m=\u001b[0m \u001b[0mitem_popularity_df\u001b[0m\u001b[0;34m[\u001b[0m\u001b[0;34m~\u001b[0m\u001b[0mitem_popularity_df\u001b[0m\u001b[0;34m[\u001b[0m\u001b[0mitem_col\u001b[0m\u001b[0;34m]\u001b[0m\u001b[0;34m.\u001b[0m\u001b[0misin\u001b[0m\u001b[0;34m(\u001b[0m\u001b[0mitems_to_ignore\u001b[0m\u001b[0;34m)\u001b[0m\u001b[0;34m]\u001b[0m\u001b[0;34m\u001b[0m\u001b[0;34m\u001b[0m\u001b[0m\n\u001b[0m\u001b[1;32m     11\u001b[0m     \u001b[0mpredictions\u001b[0m\u001b[0;34m[\u001b[0m\u001b[0mreal_user_id\u001b[0m\u001b[0;34m]\u001b[0m\u001b[0;34m.\u001b[0m\u001b[0mappend\u001b[0m\u001b[0;34m(\u001b[0m\u001b[0mitem_popularity_df_user\u001b[0m\u001b[0;34m.\u001b[0m\u001b[0mhead\u001b[0m\u001b[0;34m(\u001b[0m\u001b[0mtopn\u001b[0m\u001b[0;34m)\u001b[0m\u001b[0;34m[\u001b[0m\u001b[0mitem_col\u001b[0m\u001b[0;34m]\u001b[0m\u001b[0;34m.\u001b[0m\u001b[0mvalues\u001b[0m\u001b[0;34m.\u001b[0m\u001b[0mtolist\u001b[0m\u001b[0;34m(\u001b[0m\u001b[0;34m)\u001b[0m\u001b[0;34m)\u001b[0m\u001b[0;34m\u001b[0m\u001b[0;34m\u001b[0m\u001b[0m\n\u001b[1;32m     12\u001b[0m \u001b[0;34m\u001b[0m\u001b[0m\n",
            "\u001b[0;32m/usr/local/lib/python3.7/dist-packages/pandas/core/generic.py\u001b[0m in \u001b[0;36m__invert__\u001b[0;34m(self)\u001b[0m\n\u001b[1;32m   1524\u001b[0m         \u001b[0;32mreturn\u001b[0m \u001b[0mself\u001b[0m\u001b[0;34m.\u001b[0m\u001b[0m__array_wrap__\u001b[0m\u001b[0;34m(\u001b[0m\u001b[0marr\u001b[0m\u001b[0;34m)\u001b[0m\u001b[0;34m\u001b[0m\u001b[0;34m\u001b[0m\u001b[0m\n\u001b[1;32m   1525\u001b[0m \u001b[0;34m\u001b[0m\u001b[0m\n\u001b[0;32m-> 1526\u001b[0;31m     \u001b[0;34m@\u001b[0m\u001b[0mfinal\u001b[0m\u001b[0;34m\u001b[0m\u001b[0;34m\u001b[0m\u001b[0m\n\u001b[0m\u001b[1;32m   1527\u001b[0m     \u001b[0;32mdef\u001b[0m \u001b[0m__invert__\u001b[0m\u001b[0;34m(\u001b[0m\u001b[0mself\u001b[0m\u001b[0;34m)\u001b[0m\u001b[0;34m:\u001b[0m\u001b[0;34m\u001b[0m\u001b[0;34m\u001b[0m\u001b[0m\n\u001b[1;32m   1528\u001b[0m         \u001b[0;32mif\u001b[0m \u001b[0;32mnot\u001b[0m \u001b[0mself\u001b[0m\u001b[0;34m.\u001b[0m\u001b[0msize\u001b[0m\u001b[0;34m:\u001b[0m\u001b[0;34m\u001b[0m\u001b[0;34m\u001b[0m\u001b[0m\n",
            "\u001b[0;31mKeyboardInterrupt\u001b[0m: "
          ]
        }
      ]
    },
    {
      "cell_type": "code",
      "execution_count": null,
      "metadata": {
        "id": "cgbk0OCAVDS8"
      },
      "outputs": [],
      "source": [
        "results = []\n",
        "results_df = pd.DataFrame(columns = [user_col, item_col, rating_col])\n",
        "\n",
        "for user in predictions:\n",
        "    user_prediction = predictions[user][0]\n",
        "    for item in user_prediction:\n",
        "        rating = 1.\n",
        "        results_df = pd.concat((results_df, pd.DataFrame(data={user_col:[user],item_col:[item],rating_col:[rating]})))\n",
        "        results.append([user, item, rating])"
      ]
    },
    {
      "cell_type": "markdown",
      "metadata": {
        "id": "RxzLZWaLAhUZ"
      },
      "source": [
        "# Evaluate predictions (for all methods) \n",
        "\n",
        "Scores: F1"
      ]
    },
    {
      "cell_type": "code",
      "execution_count": 70,
      "metadata": {
        "colab": {
          "base_uri": "https://localhost:8080/"
        },
        "id": "8DTstEsi72xS",
        "outputId": "2ca045de-5928-40a0-8b76-ecb93e6ea3fc"
      },
      "outputs": [
        {
          "output_type": "stream",
          "name": "stdout",
          "text": [
            "F1 Score:  0.6116116466860201\n"
          ]
        }
      ],
      "source": [
        "scores = []\n",
        "for user, df in results_df.groupby(user_col):\n",
        "  df = df.drop_duplicates(subset=item_col)\n",
        "  y_true_sorted = data_interaction_test.loc[data_interaction_test[user_col] == user].sort_values(rating_col, ascending=False)\n",
        "  y_true_df = pd.merge(data_items_eval[[item_col]], y_true_sorted[[item_col, rating_col]], 'left').fillna(0)\n",
        "  y_true_ndcg = y_true_df[rating_col].values\n",
        "  y_true_df.loc[y_true_df[rating_col] > 0, rating_col] = 1\n",
        "  y_true = y_true_df[rating_col].values\n",
        "\n",
        "  y_pred_df = pd.merge(data_items_eval[[item_col]], df[[item_col, rating_col]], 'left').fillna(0)\n",
        "  y_pred_ndcg = y_pred_df[rating_col].values\n",
        "  y_pred_df.loc[y_pred_df[rating_col] > 0, rating_col] = 1\n",
        "  y_pred = y_pred_df[rating_col].values\n",
        "\n",
        "  if y_true.sum() >= 1:\n",
        "    score = f1_score(y_true, y_pred)\n",
        "    scores.append(score)\n",
        "\n",
        "print(\"F1 Score: \", np.mean(scores))"
      ]
    },
    {
      "cell_type": "markdown",
      "metadata": {
        "id": "UaONzUp8rsKH"
      },
      "source": [
        "# Interpretability of Bias\n",
        "\n",
        "- Find correlations between user gender and item gender (Pearsons correlation)\n",
        "- For each track get proportion of female/male user => compare train and recommendataion data\n",
        "- Check if genderness increased/decreased in recommendations (in comparision to training data) \n",
        "- Compare distribution of genderness between history and recommendations \n",
        "  - \"Delta Metric of Genderness\" (https://arxiv.org/pdf/2108.06973.pdf)\n",
        "  - Proportion tests: Fisher exact test, Chi-Square\n",
        "\n"
      ]
    },
    {
      "cell_type": "code",
      "execution_count": null,
      "metadata": {
        "id": "oLkaN3VRONj6"
      },
      "outputs": [],
      "source": [
        "data_artists = pd.read_csv(\"data_artists.txt\", sep=\"\\t\").drop(['Unnamed: 0'],axis=1).dropna()\n",
        "data_artists.columns = ['track_artist', 'type', 'gender_artist']\n",
        "data_user_track_interaction = pd.read_csv(\"data_user_track_interaction.txt\", sep=\"\\t\").drop(['Unnamed: 0'],axis=1)\n",
        "data_user = pd.read_csv(\"data_user.txt\", sep=\"\\t\").drop(['Unnamed: 0'],axis=1)\n",
        "data_user.columns = ['user_id', 'gender_user']\n",
        "\n",
        "a = []\n",
        "for i in  data_artists.track_artist.values:\n",
        "  a.append(i.lower())\n",
        "data_artists['track_artist'] = a"
      ]
    },
    {
      "cell_type": "code",
      "execution_count": null,
      "metadata": {
        "id": "dewGb1xmPBXN"
      },
      "outputs": [],
      "source": [
        "df_tmp = pd.merge(data_user_track_interaction, data_user, 'inner')\n",
        "df_all = pd.merge(df_tmp, data_artists, on = 'track_artist').drop_duplicates()\n",
        "df_all = df_all.loc[(df_all['gender_artist'] != 'Unknown') & (df_all['gender_artist'] != 'other')]\n",
        "\n",
        "replace_dict1 = {'m' : 0, 'f' : 1}\n",
        "replace_dict2 = {'male' : 0, 'female' : 1}\n",
        "df_all['gender_user'] = df_all['gender_user'].replace(replace_dict1)\n",
        "df_all['gender_artist'] = df_all['gender_artist'].replace(replace_dict2)"
      ]
    },
    {
      "cell_type": "markdown",
      "metadata": {
        "id": "hgDbgyUFYVPF"
      },
      "source": [
        "## Correlation between user and item gender"
      ]
    },
    {
      "cell_type": "code",
      "execution_count": null,
      "metadata": {
        "colab": {
          "base_uri": "https://localhost:8080/"
        },
        "id": "D4aOub4YUaga",
        "outputId": "1f0213c6-3027-44c5-e687-ff66dcc2ee80"
      },
      "outputs": [
        {
          "name": "stdout",
          "output_type": "stream",
          "text": [
            "In the history data, all female users listen to 8.3 % female itmes.\n",
            "In the history data, all male users listen to 2.67 % female itmes.\n",
            "The attributes gender_user and gender_artist show a correlation of  0.10665398232086548\n"
          ]
        }
      ],
      "source": [
        "# Proportion of female items in all female user\n",
        "prop_female = 0\n",
        "# Proportion of female items in all male user\n",
        "prop_male = 0\n",
        "for group, df in df_all.groupby('gender_user'):\n",
        "  if group == 0:\n",
        "    prop_male = df.gender_artist.sum() / len(df)\n",
        "  else:\n",
        "    prop_female = df.gender_artist.sum() / len(df)\n",
        "\n",
        "print(f'In the history data, all female users listen to {round(prop_female*100, 2)} % female itmes.')\n",
        "print(f'In the history data, all male users listen to {round(prop_male*100, 2)} % female itmes.')\n",
        "\n",
        "# Pearson correlation\n",
        "print('The attributes gender_user and gender_artist show a correlation of ', df_all.gender_user.corr(df_all.gender_artist))"
      ]
    },
    {
      "cell_type": "code",
      "execution_count": null,
      "metadata": {
        "colab": {
          "base_uri": "https://localhost:8080/"
        },
        "id": "r_7r-GujbVZV",
        "outputId": "ca6a1922-b142-4ad9-ad24-e03caec1b036"
      },
      "outputs": [
        {
          "name": "stdout",
          "output_type": "stream",
          "text": [
            "2.1905224050321245e-05\n"
          ]
        }
      ],
      "source": [
        "from scipy.stats import fisher_exact\n",
        "tab = pd.crosstab(df_all.gender_user, df_all.gender_artist)\n",
        "stats, p_value = fisher_exact(tab)\n",
        "print(p_value)\n",
        "# if p-value <= 0.05 => gender_user and gender_artist are independent"
      ]
    },
    {
      "cell_type": "markdown",
      "metadata": {
        "id": "UEiaFN1bYdFE"
      },
      "source": [
        "## Delta metric of genderness\n",
        "\n",
        " For user u_i: (prop_female(rec) - prop_female(history)) / prop_female(history)\n",
        "\n",
        " If positive: more female tracks are recommended to the user"
      ]
    },
    {
      "cell_type": "code",
      "execution_count": null,
      "metadata": {
        "id": "RYomuJrr3Qj_"
      },
      "outputs": [],
      "source": [
        "df_tmp = pd.merge(results_df, data_user, 'inner')\n",
        "df_artists_tmp = pd.merge(df_tmp, data_user_track_interaction[['track_artist', 'track_id']])\n",
        "df_rec = pd.merge(df_artists_tmp, data_artists, on = 'track_artist').drop_duplicates()\n",
        "df_rec = df_rec.loc[(df_rec['gender_artist'] != 'Unknown') & (df_rec['gender_artist'] != 'other')]\n",
        "df_rec['gender_user'] = df_rec['gender_user'].replace(replace_dict1)\n",
        "df_rec['gender_artist'] = df_rec['gender_artist'].replace(replace_dict2)"
      ]
    },
    {
      "cell_type": "code",
      "execution_count": null,
      "metadata": {
        "colab": {
          "base_uri": "https://localhost:8080/"
        },
        "id": "JP_j3yQgd6Gx",
        "outputId": "75eedc37-c1a0-42de-adc8-50b810d53992"
      },
      "outputs": [
        {
          "name": "stdout",
          "output_type": "stream",
          "text": [
            "The value of delta is -1.0 and therefore more male tracks are recommended to user.\n"
          ]
        }
      ],
      "source": [
        "prop_female_rec = df_rec.gender_artist.sum()\n",
        "prop_female_history = df_all.gender_artist.sum()\n",
        "delta = (prop_female_rec - prop_female_history) / prop_female_history\n",
        "\n",
        "if delta > 0:\n",
        "  print(f'The value of delta is {delta} and therefore more female tracks are recommended to user.')\n",
        "else:\n",
        "  print(f'The value of delta is {delta} and therefore more male tracks are recommended to user.')"
      ]
    },
    {
      "cell_type": "markdown",
      "metadata": {
        "id": "_W5yg61kZJOV"
      },
      "source": [
        "## Proportion test"
      ]
    },
    {
      "cell_type": "code",
      "execution_count": null,
      "metadata": {
        "id": "IV5pBGTjYfsO"
      },
      "outputs": [],
      "source": [
        "# Fisher exact test\n",
        "\n",
        "from scipy.stats import fisher_exact\n",
        "tab = pd.crosstab(df_rec.gender_artist, df_all.gender_artist)\n",
        "stats, p_value = fisher_exact(tab)\n",
        "if p_value <= 0.05:\n",
        "  print(f'The attributes gender_artist of the history and recommendation data are significantly independent.')\n",
        "\n",
        "# if p-value <= 0.05 => gender_x and gender_y are independent"
      ]
    },
    {
      "cell_type": "code",
      "execution_count": null,
      "metadata": {
        "colab": {
          "base_uri": "https://localhost:8080/"
        },
        "id": "s-aNSsd8cv6h",
        "outputId": "ed283829-2b4d-4865-f136-f4f439900c17"
      },
      "outputs": [
        {
          "name": "stderr",
          "output_type": "stream",
          "text": [
            "/usr/local/lib/python3.7/dist-packages/statsmodels/stats/proportion.py:824: RuntimeWarning: divide by zero encountered in true_divide\n",
            "  prop = count * 1. / nobs\n",
            "/usr/local/lib/python3.7/dist-packages/statsmodels/stats/proportion.py:840: RuntimeWarning: divide by zero encountered in true_divide\n",
            "  nobs_fact = np.sum(1. / nobs)\n",
            "/usr/local/lib/python3.7/dist-packages/statsmodels/stats/weightstats.py:671: RuntimeWarning: invalid value encountered in double_scalars\n",
            "  zstat = value / std_diff\n"
          ]
        }
      ],
      "source": [
        "# z-test\n",
        "\n",
        "from statsmodels.stats.proportion import proportions_ztest\n",
        "significance = 0.005\n",
        "sample_size_hist = df_all.gender_artist.count()\n",
        "sample_success_hist = df_all.gender_artist.sum()\n",
        "sample_success_rec = df_rec.gender_artist.count()\n",
        "sample_size_rec = df_rec.gender_artist.sum()\n",
        "successes = np.array([sample_success_hist, sample_success_rec])\n",
        "samples = np.array([sample_size_hist, sample_size_rec])\n",
        "stat, p_value = proportions_ztest(count=successes, nobs=samples,  alternative='two-sided')\n",
        "if p_value <= 0.05:\n",
        "  print(f'The proportions of gender_artist of the history and recommendation data are significantly different.')\n",
        "# if p-value <= 0.05 => the proportions are significantly different"
      ]
    },
    {
      "cell_type": "markdown",
      "source": [
        "# Predict artist gender"
      ],
      "metadata": {
        "id": "NtIQzQEH2vhy"
      }
    },
    {
      "cell_type": "code",
      "source": [
        "from sklearn.model_selection import train_test_split\n",
        "from sklearn.ensemble import RandomForestClassifier, AdaBoostClassifier\n",
        "from sklearn.tree import DecisionTreeClassifier\n",
        "from sklearn import metrics"
      ],
      "metadata": {
        "id": "o_NzF7QQ3J6Z"
      },
      "execution_count": null,
      "outputs": []
    },
    {
      "cell_type": "code",
      "source": [
        "data_all_info = pd.read_csv(\"music/data_all_info.txt\", sep=\"\\t\").drop(['Unnamed: 0'],axis=1).dropna()\n",
        "data_all_info = data_all_info.loc[data_all_info.artist_gender != 'other' ]"
      ],
      "metadata": {
        "id": "FducXCFxKURy"
      },
      "execution_count": null,
      "outputs": []
    },
    {
      "cell_type": "code",
      "source": [
        "input = feature_vectors\n",
        "#input = weights"
      ],
      "metadata": {
        "id": "8XV1iDFGB0mF"
      },
      "execution_count": null,
      "outputs": []
    },
    {
      "cell_type": "code",
      "source": [
        "df_features = pd.DataFrame()\n",
        "id_col = []\n",
        "\n",
        "for id in data_interaction_test[item_col].unique():\n",
        "  id_col.append(id)\n",
        "  df_features = df_features.append(pd.DataFrame(input[id][0].detach().numpy()))\n",
        "\n",
        "df_features[item_col] = id_col"
      ],
      "metadata": {
        "id": "Zv1QvFM3I22n"
      },
      "execution_count": null,
      "outputs": []
    },
    {
      "cell_type": "code",
      "source": [
        "df_features = pd.merge(df_features, data_all_info)"
      ],
      "metadata": {
        "id": "EBOE0G_TJ28n"
      },
      "execution_count": null,
      "outputs": []
    },
    {
      "cell_type": "code",
      "source": [
        "df_features.loc[df_features.artist_gender == 'female', 'artist_gender'] = 0\n",
        "df_features.loc[df_features.artist_gender == 'male', 'artist_gender'] = 1\n",
        "df_features.artist_gender = df_features.artist_gender.astype('int')"
      ],
      "metadata": {
        "id": "YOQ6VKT_IVyg"
      },
      "execution_count": null,
      "outputs": []
    },
    {
      "cell_type": "code",
      "source": [
        "X = df_features.iloc[:,:128]\n",
        "y = df_features.artist_gender\n",
        "X_train, X_test, y_train, y_test = train_test_split(\n",
        "    X, y, test_size=0.4, random_state=42\n",
        ")"
      ],
      "metadata": {
        "id": "2ic2xa382unN"
      },
      "execution_count": null,
      "outputs": []
    },
    {
      "cell_type": "code",
      "source": [
        "#clf = RandomForestClassifier(max_depth=5, n_estimators=10, max_features=1)\n",
        "clf = DecisionTreeClassifier()\n",
        "clf.fit(X_train, y_train)\n",
        "y_pred=clf.predict(X_test)\n",
        "\n",
        "print(\"Accuracy:\", metrics.accuracy_score(y_test.values, y_pred))\n",
        "print(\"Balanced Accuracy:\", metrics.balanced_accuracy_score(y_test.values, y_pred))\n",
        "print(\"Recall: \", metrics.recall_score(y_test.values, y_pred))\n",
        "print(\"Precision: \", metrics.precision_score(y_test.values, y_pred))"
      ],
      "metadata": {
        "colab": {
          "base_uri": "https://localhost:8080/"
        },
        "id": "h50TBcLs3G7l",
        "outputId": "6a0f5c73-0cde-43ab-f254-0c7429c0e2bb"
      },
      "execution_count": null,
      "outputs": [
        {
          "output_type": "stream",
          "name": "stdout",
          "text": [
            "Accuracy: 0.7887323943661971\n",
            "Balanced Accuracy: 0.7465686274509804\n",
            "Recall:  0.8431372549019608\n",
            "Precision:  0.86\n"
          ]
        }
      ]
    },
    {
      "cell_type": "code",
      "source": [
        "import pandas as pd\n",
        "feature_imp = pd.Series(clf.feature_importances_,index=X.columns).sort_values(ascending=False)\n",
        "feature_imp.head(10)"
      ],
      "metadata": {
        "colab": {
          "base_uri": "https://localhost:8080/"
        },
        "id": "XQSgoDfe4Cc4",
        "outputId": "d28f5393-a801-4ce2-bd4a-a85e55df7656"
      },
      "execution_count": null,
      "outputs": [
        {
          "output_type": "execute_result",
          "data": {
            "text/plain": [
              "104    0.226804\n",
              "98     0.140306\n",
              "17     0.131687\n",
              "81     0.114796\n",
              "127    0.111745\n",
              "62     0.091315\n",
              "5      0.083488\n",
              "111    0.051955\n",
              "3      0.047903\n",
              "69     0.000000\n",
              "dtype: float64"
            ]
          },
          "metadata": {},
          "execution_count": 42
        }
      ]
    },
    {
      "cell_type": "markdown",
      "metadata": {
        "id": "1d-l5O-0D2dm"
      },
      "source": [
        "---------------------------\n",
        "\n",
        "# Next steps\n",
        "\n",
        "[x] Train test split \n",
        "\n",
        "[x] Implement CV\n",
        "\n",
        "[x] Balance data set (use as many listened as unlistened tracks - randomly chosing them)\n",
        "\n",
        "[x] Use Popularity model as baseline\n",
        "\n",
        "[x] Check index behaviour!!! (pos2item,...)\n",
        "\n",
        "[x] Test/train split (https://colab.research.google.com/github/d2l-ai/d2l-en-colab/blob/master/chapter_recommender-systems/movielens.ipynb)\n",
        "\n",
        "[x] Verify BERT Tokenizer\n",
        "\n",
        "[x] Verify data reading with new movie data\n",
        "\n",
        "[x] Try out gender interpretability\n",
        "\n",
        "[ ] Add tags data (instead of lyrics)\n",
        "\n",
        "[x] Get more data\n",
        "\n",
        "[x] Clean lyrics data (remove non-english ones and repeated parts)\n",
        "\n",
        "[x] Use embedding of model to predict gender of artist\n",
        "\n",
        "[x] Try to find song writer gender (not priority) => tried this out but could not find a general solution\n",
        "\n",
        "[ ] Implement ndcg (https://github.com/Jenniferz28/Collaborative-Filtering-Recommendation/blob/69a2400736a628de34620318abe861cc9a19e621/ndcg.py#L77)\n",
        "\n",
        "[ ] Clean up code and move to repository\n",
        "\n",
        "[ ] Implement evaluation with using all items in dataset\n",
        "\n",
        "[ ] BERT make sure this is correct!\n",
        "\n",
        "[ ] Try out correlation interpretability things (e.g. \"Exploring Artist Gender Bias in Music Recommendation\"\n",
        "\n",
        "[ ] Remove 'important' feature vector from recommendataion model and compare recommendation performance + prediction perforamcne\n",
        "\n"
      ]
    }
  ],
  "metadata": {
    "accelerator": "GPU",
    "colab": {
      "collapsed_sections": [
        "UaONzUp8rsKH",
        "hgDbgyUFYVPF",
        "UEiaFN1bYdFE",
        "_W5yg61kZJOV"
      ],
      "machine_shape": "hm",
      "name": "MasterThesis.ipynb",
      "provenance": [],
      "authorship_tag": "ABX9TyMNeqrrNlenNpCANg1xFbeL",
      "include_colab_link": true
    },
    "kernelspec": {
      "display_name": "Python 3",
      "name": "python3"
    },
    "language_info": {
      "name": "python"
    },
    "widgets": {
      "application/vnd.jupyter.widget-state+json": {
        "ccd2c5d5cece429da651d2cee32147c5": {
          "model_module": "@jupyter-widgets/controls",
          "model_name": "HBoxModel",
          "model_module_version": "1.5.0",
          "state": {
            "_view_name": "HBoxView",
            "_dom_classes": [],
            "_model_name": "HBoxModel",
            "_view_module": "@jupyter-widgets/controls",
            "_model_module_version": "1.5.0",
            "_view_count": null,
            "_view_module_version": "1.5.0",
            "box_style": "",
            "layout": "IPY_MODEL_ef2a8d95cd244b20a1170e9f811947e1",
            "_model_module": "@jupyter-widgets/controls",
            "children": [
              "IPY_MODEL_5be48dc25d1040a78fd9a6a4419581df",
              "IPY_MODEL_a1e014c509d3427e99942435718a1999",
              "IPY_MODEL_6efa8916c122420f86ab1b4004af2d1c"
            ]
          }
        },
        "ef2a8d95cd244b20a1170e9f811947e1": {
          "model_module": "@jupyter-widgets/base",
          "model_name": "LayoutModel",
          "model_module_version": "1.2.0",
          "state": {
            "_view_name": "LayoutView",
            "grid_template_rows": null,
            "right": null,
            "justify_content": null,
            "_view_module": "@jupyter-widgets/base",
            "overflow": null,
            "_model_module_version": "1.2.0",
            "_view_count": null,
            "flex_flow": null,
            "width": null,
            "min_width": null,
            "border": null,
            "align_items": null,
            "bottom": null,
            "_model_module": "@jupyter-widgets/base",
            "top": null,
            "grid_column": null,
            "overflow_y": null,
            "overflow_x": null,
            "grid_auto_flow": null,
            "grid_area": null,
            "grid_template_columns": null,
            "flex": null,
            "_model_name": "LayoutModel",
            "justify_items": null,
            "grid_row": null,
            "max_height": null,
            "align_content": null,
            "visibility": null,
            "align_self": null,
            "height": null,
            "min_height": null,
            "padding": null,
            "grid_auto_rows": null,
            "grid_gap": null,
            "max_width": null,
            "order": null,
            "_view_module_version": "1.2.0",
            "grid_template_areas": null,
            "object_position": null,
            "object_fit": null,
            "grid_auto_columns": null,
            "margin": null,
            "display": null,
            "left": null
          }
        },
        "5be48dc25d1040a78fd9a6a4419581df": {
          "model_module": "@jupyter-widgets/controls",
          "model_name": "HTMLModel",
          "model_module_version": "1.5.0",
          "state": {
            "_view_name": "HTMLView",
            "style": "IPY_MODEL_a1de07bcfe5b4c1798c96a1af4aaaa26",
            "_dom_classes": [],
            "description": "",
            "_model_name": "HTMLModel",
            "placeholder": "​",
            "_view_module": "@jupyter-widgets/controls",
            "_model_module_version": "1.5.0",
            "value": "Downloading: 100%",
            "_view_count": null,
            "_view_module_version": "1.5.0",
            "description_tooltip": null,
            "_model_module": "@jupyter-widgets/controls",
            "layout": "IPY_MODEL_cdf15b44f7204946ac00764f2b48bc0e"
          }
        },
        "a1e014c509d3427e99942435718a1999": {
          "model_module": "@jupyter-widgets/controls",
          "model_name": "FloatProgressModel",
          "model_module_version": "1.5.0",
          "state": {
            "_view_name": "ProgressView",
            "style": "IPY_MODEL_c8f4d5c621044919a595ccfc54879ea4",
            "_dom_classes": [],
            "description": "",
            "_model_name": "FloatProgressModel",
            "bar_style": "success",
            "max": 231508,
            "_view_module": "@jupyter-widgets/controls",
            "_model_module_version": "1.5.0",
            "value": 231508,
            "_view_count": null,
            "_view_module_version": "1.5.0",
            "orientation": "horizontal",
            "min": 0,
            "description_tooltip": null,
            "_model_module": "@jupyter-widgets/controls",
            "layout": "IPY_MODEL_79cd02e7668145aa91cf1ec507efe7f4"
          }
        },
        "6efa8916c122420f86ab1b4004af2d1c": {
          "model_module": "@jupyter-widgets/controls",
          "model_name": "HTMLModel",
          "model_module_version": "1.5.0",
          "state": {
            "_view_name": "HTMLView",
            "style": "IPY_MODEL_4b0debaf179240a5a8af535676e1c87a",
            "_dom_classes": [],
            "description": "",
            "_model_name": "HTMLModel",
            "placeholder": "​",
            "_view_module": "@jupyter-widgets/controls",
            "_model_module_version": "1.5.0",
            "value": " 226k/226k [00:00&lt;00:00, 821kB/s]",
            "_view_count": null,
            "_view_module_version": "1.5.0",
            "description_tooltip": null,
            "_model_module": "@jupyter-widgets/controls",
            "layout": "IPY_MODEL_ff8fd87bf5854ef484c3a9fd10b2030f"
          }
        },
        "a1de07bcfe5b4c1798c96a1af4aaaa26": {
          "model_module": "@jupyter-widgets/controls",
          "model_name": "DescriptionStyleModel",
          "model_module_version": "1.5.0",
          "state": {
            "_view_name": "StyleView",
            "_model_name": "DescriptionStyleModel",
            "description_width": "",
            "_view_module": "@jupyter-widgets/base",
            "_model_module_version": "1.5.0",
            "_view_count": null,
            "_view_module_version": "1.2.0",
            "_model_module": "@jupyter-widgets/controls"
          }
        },
        "cdf15b44f7204946ac00764f2b48bc0e": {
          "model_module": "@jupyter-widgets/base",
          "model_name": "LayoutModel",
          "model_module_version": "1.2.0",
          "state": {
            "_view_name": "LayoutView",
            "grid_template_rows": null,
            "right": null,
            "justify_content": null,
            "_view_module": "@jupyter-widgets/base",
            "overflow": null,
            "_model_module_version": "1.2.0",
            "_view_count": null,
            "flex_flow": null,
            "width": null,
            "min_width": null,
            "border": null,
            "align_items": null,
            "bottom": null,
            "_model_module": "@jupyter-widgets/base",
            "top": null,
            "grid_column": null,
            "overflow_y": null,
            "overflow_x": null,
            "grid_auto_flow": null,
            "grid_area": null,
            "grid_template_columns": null,
            "flex": null,
            "_model_name": "LayoutModel",
            "justify_items": null,
            "grid_row": null,
            "max_height": null,
            "align_content": null,
            "visibility": null,
            "align_self": null,
            "height": null,
            "min_height": null,
            "padding": null,
            "grid_auto_rows": null,
            "grid_gap": null,
            "max_width": null,
            "order": null,
            "_view_module_version": "1.2.0",
            "grid_template_areas": null,
            "object_position": null,
            "object_fit": null,
            "grid_auto_columns": null,
            "margin": null,
            "display": null,
            "left": null
          }
        },
        "c8f4d5c621044919a595ccfc54879ea4": {
          "model_module": "@jupyter-widgets/controls",
          "model_name": "ProgressStyleModel",
          "model_module_version": "1.5.0",
          "state": {
            "_view_name": "StyleView",
            "_model_name": "ProgressStyleModel",
            "description_width": "",
            "_view_module": "@jupyter-widgets/base",
            "_model_module_version": "1.5.0",
            "_view_count": null,
            "_view_module_version": "1.2.0",
            "bar_color": null,
            "_model_module": "@jupyter-widgets/controls"
          }
        },
        "79cd02e7668145aa91cf1ec507efe7f4": {
          "model_module": "@jupyter-widgets/base",
          "model_name": "LayoutModel",
          "model_module_version": "1.2.0",
          "state": {
            "_view_name": "LayoutView",
            "grid_template_rows": null,
            "right": null,
            "justify_content": null,
            "_view_module": "@jupyter-widgets/base",
            "overflow": null,
            "_model_module_version": "1.2.0",
            "_view_count": null,
            "flex_flow": null,
            "width": null,
            "min_width": null,
            "border": null,
            "align_items": null,
            "bottom": null,
            "_model_module": "@jupyter-widgets/base",
            "top": null,
            "grid_column": null,
            "overflow_y": null,
            "overflow_x": null,
            "grid_auto_flow": null,
            "grid_area": null,
            "grid_template_columns": null,
            "flex": null,
            "_model_name": "LayoutModel",
            "justify_items": null,
            "grid_row": null,
            "max_height": null,
            "align_content": null,
            "visibility": null,
            "align_self": null,
            "height": null,
            "min_height": null,
            "padding": null,
            "grid_auto_rows": null,
            "grid_gap": null,
            "max_width": null,
            "order": null,
            "_view_module_version": "1.2.0",
            "grid_template_areas": null,
            "object_position": null,
            "object_fit": null,
            "grid_auto_columns": null,
            "margin": null,
            "display": null,
            "left": null
          }
        },
        "4b0debaf179240a5a8af535676e1c87a": {
          "model_module": "@jupyter-widgets/controls",
          "model_name": "DescriptionStyleModel",
          "model_module_version": "1.5.0",
          "state": {
            "_view_name": "StyleView",
            "_model_name": "DescriptionStyleModel",
            "description_width": "",
            "_view_module": "@jupyter-widgets/base",
            "_model_module_version": "1.5.0",
            "_view_count": null,
            "_view_module_version": "1.2.0",
            "_model_module": "@jupyter-widgets/controls"
          }
        },
        "ff8fd87bf5854ef484c3a9fd10b2030f": {
          "model_module": "@jupyter-widgets/base",
          "model_name": "LayoutModel",
          "model_module_version": "1.2.0",
          "state": {
            "_view_name": "LayoutView",
            "grid_template_rows": null,
            "right": null,
            "justify_content": null,
            "_view_module": "@jupyter-widgets/base",
            "overflow": null,
            "_model_module_version": "1.2.0",
            "_view_count": null,
            "flex_flow": null,
            "width": null,
            "min_width": null,
            "border": null,
            "align_items": null,
            "bottom": null,
            "_model_module": "@jupyter-widgets/base",
            "top": null,
            "grid_column": null,
            "overflow_y": null,
            "overflow_x": null,
            "grid_auto_flow": null,
            "grid_area": null,
            "grid_template_columns": null,
            "flex": null,
            "_model_name": "LayoutModel",
            "justify_items": null,
            "grid_row": null,
            "max_height": null,
            "align_content": null,
            "visibility": null,
            "align_self": null,
            "height": null,
            "min_height": null,
            "padding": null,
            "grid_auto_rows": null,
            "grid_gap": null,
            "max_width": null,
            "order": null,
            "_view_module_version": "1.2.0",
            "grid_template_areas": null,
            "object_position": null,
            "object_fit": null,
            "grid_auto_columns": null,
            "margin": null,
            "display": null,
            "left": null
          }
        },
        "06bf9d5294ed4ce999281bf72cf16f39": {
          "model_module": "@jupyter-widgets/controls",
          "model_name": "HBoxModel",
          "model_module_version": "1.5.0",
          "state": {
            "_view_name": "HBoxView",
            "_dom_classes": [],
            "_model_name": "HBoxModel",
            "_view_module": "@jupyter-widgets/controls",
            "_model_module_version": "1.5.0",
            "_view_count": null,
            "_view_module_version": "1.5.0",
            "box_style": "",
            "layout": "IPY_MODEL_ee5a04c92fc04b3789b39193446d8ff3",
            "_model_module": "@jupyter-widgets/controls",
            "children": [
              "IPY_MODEL_8ad1a3933cc0481abcaaf43d6d0862df",
              "IPY_MODEL_02d860ca327b4ee78b38e344c62c6164",
              "IPY_MODEL_7c43d052d04c4769bbe7ba6d5bd6e8b2"
            ]
          }
        },
        "ee5a04c92fc04b3789b39193446d8ff3": {
          "model_module": "@jupyter-widgets/base",
          "model_name": "LayoutModel",
          "model_module_version": "1.2.0",
          "state": {
            "_view_name": "LayoutView",
            "grid_template_rows": null,
            "right": null,
            "justify_content": null,
            "_view_module": "@jupyter-widgets/base",
            "overflow": null,
            "_model_module_version": "1.2.0",
            "_view_count": null,
            "flex_flow": null,
            "width": null,
            "min_width": null,
            "border": null,
            "align_items": null,
            "bottom": null,
            "_model_module": "@jupyter-widgets/base",
            "top": null,
            "grid_column": null,
            "overflow_y": null,
            "overflow_x": null,
            "grid_auto_flow": null,
            "grid_area": null,
            "grid_template_columns": null,
            "flex": null,
            "_model_name": "LayoutModel",
            "justify_items": null,
            "grid_row": null,
            "max_height": null,
            "align_content": null,
            "visibility": null,
            "align_self": null,
            "height": null,
            "min_height": null,
            "padding": null,
            "grid_auto_rows": null,
            "grid_gap": null,
            "max_width": null,
            "order": null,
            "_view_module_version": "1.2.0",
            "grid_template_areas": null,
            "object_position": null,
            "object_fit": null,
            "grid_auto_columns": null,
            "margin": null,
            "display": null,
            "left": null
          }
        },
        "8ad1a3933cc0481abcaaf43d6d0862df": {
          "model_module": "@jupyter-widgets/controls",
          "model_name": "HTMLModel",
          "model_module_version": "1.5.0",
          "state": {
            "_view_name": "HTMLView",
            "style": "IPY_MODEL_0f64f795245845ad9c7d1223694d7deb",
            "_dom_classes": [],
            "description": "",
            "_model_name": "HTMLModel",
            "placeholder": "​",
            "_view_module": "@jupyter-widgets/controls",
            "_model_module_version": "1.5.0",
            "value": "Downloading: 100%",
            "_view_count": null,
            "_view_module_version": "1.5.0",
            "description_tooltip": null,
            "_model_module": "@jupyter-widgets/controls",
            "layout": "IPY_MODEL_6828bcf17e774fcda96bdb6e5850f474"
          }
        },
        "02d860ca327b4ee78b38e344c62c6164": {
          "model_module": "@jupyter-widgets/controls",
          "model_name": "FloatProgressModel",
          "model_module_version": "1.5.0",
          "state": {
            "_view_name": "ProgressView",
            "style": "IPY_MODEL_946c43b1ca7b4956b5f9e5be4de4fce4",
            "_dom_classes": [],
            "description": "",
            "_model_name": "FloatProgressModel",
            "bar_style": "success",
            "max": 285,
            "_view_module": "@jupyter-widgets/controls",
            "_model_module_version": "1.5.0",
            "value": 285,
            "_view_count": null,
            "_view_module_version": "1.5.0",
            "orientation": "horizontal",
            "min": 0,
            "description_tooltip": null,
            "_model_module": "@jupyter-widgets/controls",
            "layout": "IPY_MODEL_264af716ac4044d18ad770a354d00184"
          }
        },
        "7c43d052d04c4769bbe7ba6d5bd6e8b2": {
          "model_module": "@jupyter-widgets/controls",
          "model_name": "HTMLModel",
          "model_module_version": "1.5.0",
          "state": {
            "_view_name": "HTMLView",
            "style": "IPY_MODEL_a0127b2b9a664a80a39675ddf709cec1",
            "_dom_classes": [],
            "description": "",
            "_model_name": "HTMLModel",
            "placeholder": "​",
            "_view_module": "@jupyter-widgets/controls",
            "_model_module_version": "1.5.0",
            "value": " 285/285 [00:00&lt;00:00, 12.0kB/s]",
            "_view_count": null,
            "_view_module_version": "1.5.0",
            "description_tooltip": null,
            "_model_module": "@jupyter-widgets/controls",
            "layout": "IPY_MODEL_6d5fb0d514d543a9b003fe15dca06837"
          }
        },
        "0f64f795245845ad9c7d1223694d7deb": {
          "model_module": "@jupyter-widgets/controls",
          "model_name": "DescriptionStyleModel",
          "model_module_version": "1.5.0",
          "state": {
            "_view_name": "StyleView",
            "_model_name": "DescriptionStyleModel",
            "description_width": "",
            "_view_module": "@jupyter-widgets/base",
            "_model_module_version": "1.5.0",
            "_view_count": null,
            "_view_module_version": "1.2.0",
            "_model_module": "@jupyter-widgets/controls"
          }
        },
        "6828bcf17e774fcda96bdb6e5850f474": {
          "model_module": "@jupyter-widgets/base",
          "model_name": "LayoutModel",
          "model_module_version": "1.2.0",
          "state": {
            "_view_name": "LayoutView",
            "grid_template_rows": null,
            "right": null,
            "justify_content": null,
            "_view_module": "@jupyter-widgets/base",
            "overflow": null,
            "_model_module_version": "1.2.0",
            "_view_count": null,
            "flex_flow": null,
            "width": null,
            "min_width": null,
            "border": null,
            "align_items": null,
            "bottom": null,
            "_model_module": "@jupyter-widgets/base",
            "top": null,
            "grid_column": null,
            "overflow_y": null,
            "overflow_x": null,
            "grid_auto_flow": null,
            "grid_area": null,
            "grid_template_columns": null,
            "flex": null,
            "_model_name": "LayoutModel",
            "justify_items": null,
            "grid_row": null,
            "max_height": null,
            "align_content": null,
            "visibility": null,
            "align_self": null,
            "height": null,
            "min_height": null,
            "padding": null,
            "grid_auto_rows": null,
            "grid_gap": null,
            "max_width": null,
            "order": null,
            "_view_module_version": "1.2.0",
            "grid_template_areas": null,
            "object_position": null,
            "object_fit": null,
            "grid_auto_columns": null,
            "margin": null,
            "display": null,
            "left": null
          }
        },
        "946c43b1ca7b4956b5f9e5be4de4fce4": {
          "model_module": "@jupyter-widgets/controls",
          "model_name": "ProgressStyleModel",
          "model_module_version": "1.5.0",
          "state": {
            "_view_name": "StyleView",
            "_model_name": "ProgressStyleModel",
            "description_width": "",
            "_view_module": "@jupyter-widgets/base",
            "_model_module_version": "1.5.0",
            "_view_count": null,
            "_view_module_version": "1.2.0",
            "bar_color": null,
            "_model_module": "@jupyter-widgets/controls"
          }
        },
        "264af716ac4044d18ad770a354d00184": {
          "model_module": "@jupyter-widgets/base",
          "model_name": "LayoutModel",
          "model_module_version": "1.2.0",
          "state": {
            "_view_name": "LayoutView",
            "grid_template_rows": null,
            "right": null,
            "justify_content": null,
            "_view_module": "@jupyter-widgets/base",
            "overflow": null,
            "_model_module_version": "1.2.0",
            "_view_count": null,
            "flex_flow": null,
            "width": null,
            "min_width": null,
            "border": null,
            "align_items": null,
            "bottom": null,
            "_model_module": "@jupyter-widgets/base",
            "top": null,
            "grid_column": null,
            "overflow_y": null,
            "overflow_x": null,
            "grid_auto_flow": null,
            "grid_area": null,
            "grid_template_columns": null,
            "flex": null,
            "_model_name": "LayoutModel",
            "justify_items": null,
            "grid_row": null,
            "max_height": null,
            "align_content": null,
            "visibility": null,
            "align_self": null,
            "height": null,
            "min_height": null,
            "padding": null,
            "grid_auto_rows": null,
            "grid_gap": null,
            "max_width": null,
            "order": null,
            "_view_module_version": "1.2.0",
            "grid_template_areas": null,
            "object_position": null,
            "object_fit": null,
            "grid_auto_columns": null,
            "margin": null,
            "display": null,
            "left": null
          }
        },
        "a0127b2b9a664a80a39675ddf709cec1": {
          "model_module": "@jupyter-widgets/controls",
          "model_name": "DescriptionStyleModel",
          "model_module_version": "1.5.0",
          "state": {
            "_view_name": "StyleView",
            "_model_name": "DescriptionStyleModel",
            "description_width": "",
            "_view_module": "@jupyter-widgets/base",
            "_model_module_version": "1.5.0",
            "_view_count": null,
            "_view_module_version": "1.2.0",
            "_model_module": "@jupyter-widgets/controls"
          }
        },
        "6d5fb0d514d543a9b003fe15dca06837": {
          "model_module": "@jupyter-widgets/base",
          "model_name": "LayoutModel",
          "model_module_version": "1.2.0",
          "state": {
            "_view_name": "LayoutView",
            "grid_template_rows": null,
            "right": null,
            "justify_content": null,
            "_view_module": "@jupyter-widgets/base",
            "overflow": null,
            "_model_module_version": "1.2.0",
            "_view_count": null,
            "flex_flow": null,
            "width": null,
            "min_width": null,
            "border": null,
            "align_items": null,
            "bottom": null,
            "_model_module": "@jupyter-widgets/base",
            "top": null,
            "grid_column": null,
            "overflow_y": null,
            "overflow_x": null,
            "grid_auto_flow": null,
            "grid_area": null,
            "grid_template_columns": null,
            "flex": null,
            "_model_name": "LayoutModel",
            "justify_items": null,
            "grid_row": null,
            "max_height": null,
            "align_content": null,
            "visibility": null,
            "align_self": null,
            "height": null,
            "min_height": null,
            "padding": null,
            "grid_auto_rows": null,
            "grid_gap": null,
            "max_width": null,
            "order": null,
            "_view_module_version": "1.2.0",
            "grid_template_areas": null,
            "object_position": null,
            "object_fit": null,
            "grid_auto_columns": null,
            "margin": null,
            "display": null,
            "left": null
          }
        }
      }
    }
  },
  "nbformat": 4,
  "nbformat_minor": 0
}